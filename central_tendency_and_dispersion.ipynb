{
  "cells": [
    {
      "cell_type": "markdown",
      "metadata": {
        "id": "view-in-github",
        "colab_type": "text"
      },
      "source": [
        "<a href=\"https://colab.research.google.com/github/yihaozhong/479_data_management/blob/main/central_tendency_and_dispersion.ipynb\" target=\"_parent\"><img src=\"https://colab.research.google.com/assets/colab-badge.svg\" alt=\"Open In Colab\"/></a>"
      ]
    },
    {
      "cell_type": "markdown",
      "metadata": {
        "id": "y4BV0MwQPSVe"
      },
      "source": [
        "# Central Tendency, Dispersion\n",
        "\n",
        "## Central Tendency\n",
        "\n",
        "Where is the data _centered_?\n",
        "\n",
        "1. mean - sensitive to outliers (for instance, for income)\n",
        "2. median\n",
        "3. mode / frequency\n",
        "4. quantile\n",
        "\n",
        "\n",
        "### Frequency\n",
        "\n",
        "Frequency - number of times a value appears in the dataset\n",
        "\n",
        "Can be done with `dict` or `Counter`"
      ]
    },
    {
      "cell_type": "code",
      "execution_count": null,
      "metadata": {
        "colab": {
          "base_uri": "https://localhost:8080/"
        },
        "id": "6FaaDC28PSVi",
        "outputId": "6e7afff6-3fa6-433f-8db3-ba3949360d7e"
      },
      "outputs": [
        {
          "output_type": "execute_result",
          "data": {
            "text/plain": [
              "array([ 8,  5,  6,  6, 11, 10, 11,  8,  6,  7,  8,  7,  5, 10,  5,  7,  7,\n",
              "        2,  3,  8,  7,  5,  7,  9,  8,  4, 11,  5,  4,  8,  2,  7,  6,  9,\n",
              "        6, 10, 10,  9,  5, 10,  7,  8,  8,  7,  6,  7,  4,  7,  4,  5,  7,\n",
              "        8, 11, 10,  9,  5, 10,  9, 12,  3,  7,  8,  7,  5,  4,  7,  7,  9,\n",
              "        6, 10, 10, 12,  6, 10,  7,  8,  4,  4,  3, 10,  6,  5,  4,  7,  6,\n",
              "        5,  3,  8, 10,  7,  8, 11,  7,  5,  7, 10,  6,  8, 10,  6,  4,  9,\n",
              "        4, 12,  9, 11,  4,  5,  8,  6,  5,  6,  8,  3,  6,  7,  5,  5,  4,\n",
              "        5, 11,  4,  6,  9,  6,  7,  7,  3,  7,  8,  7,  3, 10, 12,  6,  6,\n",
              "       10,  9,  5,  3,  6,  5,  3,  7,  6,  3,  6,  5,  7,  5,  9, 11,  9,\n",
              "        3,  9,  6, 10,  7,  8,  8,  5,  4,  6,  5, 12,  2, 11, 10,  6,  6,\n",
              "        7,  4,  6,  4,  7,  4, 11, 11, 11, 11,  5,  8,  9,  8, 11, 10,  2,\n",
              "        9, 10,  8,  4,  8,  6,  9,  8,  5,  5,  8,  9,  6, 12,  5,  7,  4,\n",
              "        6,  9,  8, 11,  8,  9,  7, 11,  9,  9,  4,  7,  6,  3,  7,  8,  7,\n",
              "        8,  2,  7,  4,  4, 10,  9,  6,  6,  8,  7,  3,  7,  6,  8,  2,  7,\n",
              "        5,  6,  9,  4,  9,  7,  8,  6,  6,  4,  7,  6,  5,  2,  6,  5,  7,\n",
              "        6,  9,  3, 10, 10,  5,  7,  9,  6, 10,  8,  9,  9,  8,  8,  4,  4,\n",
              "        9,  3,  9,  9,  8,  9,  8,  3,  6, 12,  6,  5, 10,  8,  8, 10,  3,\n",
              "       12, 11,  7,  7,  6,  6,  3,  2, 11,  4, 10,  5, 10,  9,  6, 11, 11,\n",
              "        7, 10,  7,  6,  7, 11,  3,  9,  6,  9,  7,  8,  7,  4,  9,  4,  4,\n",
              "        4, 10,  6,  4,  8,  2,  8,  5,  9,  4,  3,  7,  9,  5,  5,  2,  6,\n",
              "        9, 10,  6,  9,  5, 11,  7, 10,  8,  3,  5,  8, 10,  3,  6, 11, 10,\n",
              "       11, 11,  7,  6,  5, 10,  7,  8, 10, 11, 11, 10,  8,  4,  5,  4,  6,\n",
              "        9,  5,  6,  7,  8,  8,  9,  3,  8,  7, 11,  7,  5,  5, 11,  7,  5,\n",
              "        6,  7,  8,  4,  3,  7,  8,  8,  6,  9,  6,  5,  7, 12,  6,  9,  4,\n",
              "        6,  5,  7,  3,  9,  7,  4,  4,  6,  8,  3,  7,  8, 11,  4,  7, 11,\n",
              "        7,  7,  6,  7,  5,  5,  8,  4,  7,  8, 12,  6,  8, 11, 10,  8,  8,\n",
              "        6,  4,  6,  6,  8,  5,  7, 11,  8,  4,  8, 10, 10,  8,  9,  8,  7,\n",
              "        4,  4,  7,  6,  8,  9,  7, 11,  5, 12,  8, 10,  8, 12, 11,  7,  3,\n",
              "       10,  6,  7,  4, 11,  7,  8,  3,  2,  7,  5,  7,  7,  4,  8,  6,  7,\n",
              "        7,  9,  4,  6,  2,  6,  8,  7,  8, 12,  7,  8, 10,  3,  5,  6,  8,\n",
              "        6,  8,  4,  8,  7, 11,  5,  4,  2,  5,  6,  5,  5,  4,  9,  8,  9,\n",
              "        4, 10, 10,  2,  6,  6,  6, 12,  7, 10,  7,  9, 10,  3,  6,  4,  9,\n",
              "        9, 10,  2,  6,  8, 11,  5, 10,  3,  7,  3,  9,  7,  2, 11,  9, 10,\n",
              "        9,  4, 10,  5, 10,  7,  5,  7,  7,  7,  8,  5,  8,  5,  4,  4,  8,\n",
              "        9,  7,  4,  7, 10,  9, 10,  6,  5,  7, 11,  7,  6, 10, 11,  5,  3,\n",
              "       12,  9,  7,  7,  9,  8, 10,  6,  5,  7,  8,  9,  8,  7,  8,  8,  8,\n",
              "       12,  5,  6,  7, 11,  8, 11, 10,  5,  5,  7,  8,  8,  4,  5,  9,  7,\n",
              "        8,  5,  7, 11,  4,  3, 11,  8, 12, 11,  7, 12,  5, 10, 10,  9, 10,\n",
              "        7,  4,  9,  3,  3,  7,  5, 11,  4,  6,  6,  8,  6, 11, 10, 10, 11,\n",
              "        3, 12,  5,  8, 11, 10,  7,  7,  3,  9,  5,  6,  3, 11,  7,  8,  8,\n",
              "        4, 10, 11,  6,  8,  8,  7,  8,  9,  8,  4,  4,  3,  3,  7,  6,  7,\n",
              "       10,  3,  5,  4,  7,  3,  9, 10,  6,  5,  9,  9,  6,  7,  8, 10,  4,\n",
              "       11,  7,  2, 11,  7,  8,  7,  8,  7,  9, 11,  5, 11,  4,  3, 10, 11,\n",
              "        5,  2,  5, 11,  6,  7,  8,  7, 11,  6,  6,  4,  7,  9,  6,  8,  5,\n",
              "        7,  7,  8,  4,  6, 12,  6,  4,  7,  5, 10,  9,  5,  8,  5,  7,  2,\n",
              "       10,  4, 10, 10, 10,  4,  6, 11,  8,  3, 10, 11,  7,  4,  7,  9,  7,\n",
              "       10,  2,  2,  8,  3,  7,  6,  3,  4,  5,  3,  4,  5, 10,  8,  9,  6,\n",
              "        7,  3, 10, 10,  7,  8,  6,  7, 10, 10, 10,  6,  6,  6,  8, 11, 10,\n",
              "        9, 10,  8,  9,  5,  8,  8,  3,  4,  7,  9,  6,  4,  8, 10,  7, 11,\n",
              "        6,  3, 11,  5,  7,  9,  2,  4,  7,  6,  8,  6,  6,  9,  7,  8,  5,\n",
              "       10,  5,  7,  8,  7,  7, 11, 11,  8,  5,  7,  9,  7,  9,  5,  7,  4,\n",
              "        7,  7, 10, 11,  6, 10,  5,  4, 11,  8,  3,  6,  7,  3,  4, 10,  7,\n",
              "        8,  6,  5, 11,  5,  9, 11,  7,  9, 10,  7,  2, 10,  7,  6,  4,  9,\n",
              "        6,  9,  8,  8,  5,  4,  5,  7,  6, 12,  9,  8,  6,  8,  4,  5, 11,\n",
              "        6,  6, 10,  8,  6,  7, 11, 11,  8,  9,  5,  7, 10,  3,  9,  8,  5,\n",
              "       10,  8,  5,  6,  7,  8, 11,  6,  9, 10,  6,  3,  2,  3,  9,  8,  4,\n",
              "        4,  6, 10,  8,  6, 12,  8,  7,  9,  8,  6,  8,  7,  5,  2,  4,  8,\n",
              "        4,  6,  9, 11,  7,  6,  8,  9,  8, 10,  7,  8,  5,  8,  8,  8,  8,\n",
              "        6,  8,  9,  8,  2, 12,  7,  8,  3,  7,  4,  5,  4,  7])"
            ]
          },
          "metadata": {},
          "execution_count": 4
        }
      ],
      "source": [
        "import numpy as np\n",
        "\n",
        "# set up some data...\n",
        "\n",
        "# kind of like rolling two six-sided dice\n",
        "rolls = np.random.randint(1, 7, 1000) + np.random.randint(1, 7, 1000)\n",
        "rolls"
      ]
    },
    {
      "cell_type": "markdown",
      "metadata": {
        "id": "fDo1G71PPSVk"
      },
      "source": [
        "### Counting with a Dictionary"
      ]
    },
    {
      "cell_type": "code",
      "execution_count": null,
      "metadata": {
        "colab": {
          "base_uri": "https://localhost:8080/"
        },
        "id": "4dIUuTYAPSVl",
        "outputId": "20f6efb5-07c8-4191-d78e-8b13876bcd7d"
      },
      "outputs": [
        {
          "output_type": "execute_result",
          "data": {
            "text/plain": [
              "{2: 26,\n",
              " 3: 57,\n",
              " 4: 90,\n",
              " 5: 102,\n",
              " 6: 128,\n",
              " 7: 163,\n",
              " 8: 146,\n",
              " 9: 94,\n",
              " 10: 96,\n",
              " 11: 75,\n",
              " 12: 23}"
            ]
          },
          "metadata": {},
          "execution_count": 5
        }
      ],
      "source": [
        "counts = {}\n",
        "for n in rolls:\n",
        "   counts[n] = counts.get(n, 0)  + 1\n",
        "   \n",
        "counts"
      ]
    },
    {
      "cell_type": "code",
      "source": [
        "d={1:\"hello\", 2:\"goodbye\"}\n",
        "d[1]\n"
      ],
      "metadata": {
        "colab": {
          "base_uri": "https://localhost:8080/",
          "height": 35
        },
        "id": "RzFf665qn3QH",
        "outputId": "6beb33bd-37a8-437b-b1bc-54b8873e4e5e"
      },
      "execution_count": null,
      "outputs": [
        {
          "output_type": "execute_result",
          "data": {
            "application/vnd.google.colaboratory.intrinsic+json": {
              "type": "string"
            },
            "text/plain": [
              "'hello'"
            ]
          },
          "metadata": {},
          "execution_count": 6
        }
      ]
    },
    {
      "cell_type": "code",
      "source": [
        "try:\n",
        "  print(d[3])\n",
        "except KeyError as e:\n",
        "  print(\"KeyError:\", e)  "
      ],
      "metadata": {
        "colab": {
          "base_uri": "https://localhost:8080/"
        },
        "id": "f7tY5q32oBHH",
        "outputId": "526aeaa4-07eb-401f-efec-96e23c849bd8"
      },
      "execution_count": null,
      "outputs": [
        {
          "output_type": "stream",
          "name": "stdout",
          "text": [
            "KeyError: 3\n"
          ]
        }
      ]
    },
    {
      "cell_type": "code",
      "execution_count": null,
      "metadata": {
        "colab": {
          "base_uri": "https://localhost:8080/"
        },
        "id": "pB7LLGNfPSVl",
        "outputId": "7e4949cc-8065-4c4b-bf25-e667ddee0b52"
      },
      "outputs": [
        {
          "output_type": "stream",
          "name": "stdout",
          "text": [
            "{8: 146, 5: 102, 6: 128, 11: 75, 10: 96, 7: 163, 2: 26, 3: 57, 9: 94, 4: 90, 12: 23}\n",
            "{8: 146, 5: 102, 6: 128, 11: 75, 10: 96, 7: 163, 2: 26, 3: 57, 9: 94, 4: 90, 12: 23}\n",
            "{8: 146, 5: 102, 6: 128, 11: 75, 10: 96, 7: 163, 2: 26, 3: 57, 9: 94, 4: 90, 12: 23}\n"
          ]
        }
      ],
      "source": [
        "# also ... with try/except, in, update\n",
        "counts = {}\n",
        "for val in rolls:\n",
        "    try:\n",
        "        counts[val] += 1\n",
        "    except:\n",
        "        counts[val] = 1\n",
        "print(counts)        \n",
        "\n",
        "counts = {}\n",
        "for val in rolls:\n",
        "    if val in counts:\n",
        "        counts[val] += 1\n",
        "    else:\n",
        "        counts[val] = 1\n",
        "print(counts)        \n",
        "        \n",
        "counts = {}\n",
        "for val in rolls:\n",
        "    counts.update({val: counts.get(val, 0) + 1})\n",
        "print(counts)        "
      ]
    },
    {
      "cell_type": "markdown",
      "metadata": {
        "id": "2bBTtDWiPSVl"
      },
      "source": [
        "### Counting with Counter\n",
        "\n",
        "Or, u no... you can just use a `Counter`. It's a sublcass of dictionary; you can pass it a list, and it'll count the items for you. Keys are _things_ you're counting, values are the actual counts."
      ]
    },
    {
      "cell_type": "code",
      "execution_count": null,
      "metadata": {
        "colab": {
          "base_uri": "https://localhost:8080/"
        },
        "id": "NcGNkLRGPSVm",
        "outputId": "857289b1-3821-4554-f4b0-9fe46517d333"
      },
      "outputs": [
        {
          "output_type": "execute_result",
          "data": {
            "text/plain": [
              "Counter({2: 26,\n",
              "         3: 57,\n",
              "         4: 90,\n",
              "         5: 102,\n",
              "         6: 128,\n",
              "         7: 163,\n",
              "         8: 146,\n",
              "         9: 94,\n",
              "         10: 96,\n",
              "         11: 75,\n",
              "         12: 23})"
            ]
          },
          "metadata": {},
          "execution_count": 13
        }
      ],
      "source": [
        "from collections import Counter\n",
        "c = Counter(rolls)\n",
        "c"
      ]
    },
    {
      "cell_type": "code",
      "execution_count": null,
      "metadata": {
        "colab": {
          "base_uri": "https://localhost:8080/"
        },
        "id": "qH9U9z-EPSVm",
        "outputId": "f55902b8-1a76-4a85-ef8b-3046df9e96d1"
      },
      "outputs": [
        {
          "output_type": "execute_result",
          "data": {
            "text/plain": [
              "[(7, 163),\n",
              " (8, 146),\n",
              " (6, 128),\n",
              " (5, 102),\n",
              " (10, 96),\n",
              " (9, 94),\n",
              " (4, 90),\n",
              " (11, 75),\n",
              " (3, 57),\n",
              " (2, 26),\n",
              " (12, 23)]"
            ]
          },
          "metadata": {},
          "execution_count": 15
        }
      ],
      "source": [
        "c.most_common()"
      ]
    },
    {
      "cell_type": "code",
      "execution_count": null,
      "metadata": {
        "colab": {
          "base_uri": "https://localhost:8080/"
        },
        "id": "jyEARIqYPSVn",
        "outputId": "d6ef3600-8916-49e6-89d3-7c32176e251a"
      },
      "outputs": [
        {
          "output_type": "execute_result",
          "data": {
            "text/plain": [
              "[(7, 163), (8, 146)]"
            ]
          },
          "metadata": {},
          "execution_count": 16
        }
      ],
      "source": [
        "c.most_common(2)"
      ]
    },
    {
      "cell_type": "markdown",
      "metadata": {
        "id": "3fTw3bqIPSVn"
      },
      "source": [
        "### Mean, Median, and Mode\n",
        "\n",
        "* mean: _average_ \n",
        "* median: \"middle\" value (half of the values fall under this)\n",
        "* mode: most frequently occurring value"
      ]
    },
    {
      "cell_type": "code",
      "execution_count": null,
      "metadata": {
        "id": "-09snSmyPSVo"
      },
      "outputs": [],
      "source": [
        "mean = lambda data: sum(data) / len(data)"
      ]
    },
    {
      "cell_type": "code",
      "execution_count": null,
      "metadata": {
        "id": "tSroqIETPSVo"
      },
      "outputs": [],
      "source": [
        "def median(data):\n",
        "    d = sorted(data)\n",
        "    i = len(d) // 2\n",
        "    # if even, mean of two middle values\n",
        "    return d[i] if len(d) % 2 == 1 else mean(d[i-1: i+1])"
      ]
    },
    {
      "cell_type": "code",
      "execution_count": null,
      "metadata": {
        "id": "0zbEfNN9PSVo",
        "outputId": "d873dbda-ca70-4f47-dc5f-577a64195cbe",
        "colab": {
          "base_uri": "https://localhost:8080/"
        }
      },
      "outputs": [
        {
          "output_type": "stream",
          "name": "stdout",
          "text": [
            "4.0\n",
            "5\n"
          ]
        }
      ],
      "source": [
        "print(median([1, 2, 3, 5, 6, 7]))\n",
        "print(median([2, 3, 5, 6, 7]))"
      ]
    },
    {
      "cell_type": "code",
      "execution_count": null,
      "metadata": {
        "id": "As9crcMOPSVp"
      },
      "outputs": [],
      "source": [
        "mode = lambda data: Counter(data).most_common(1)[0][0]"
      ]
    },
    {
      "cell_type": "code",
      "execution_count": null,
      "metadata": {
        "colab": {
          "base_uri": "https://localhost:8080/"
        },
        "id": "o7Y7KvHgPSVp",
        "outputId": "5d297308-cdc3-48f1-b2b2-7bf2b53345c7"
      },
      "outputs": [
        {
          "output_type": "execute_result",
          "data": {
            "text/plain": [
              "7"
            ]
          },
          "metadata": {},
          "execution_count": 22
        }
      ],
      "source": [
        "mode(rolls)"
      ]
    },
    {
      "cell_type": "code",
      "execution_count": null,
      "metadata": {
        "colab": {
          "base_uri": "https://localhost:8080/"
        },
        "id": "HzpyM6rCPSVq",
        "outputId": "0586be93-c653-4c52-bf3a-4ba3fba2661e"
      },
      "outputs": [
        {
          "output_type": "execute_result",
          "data": {
            "text/plain": [
              "7.0"
            ]
          },
          "metadata": {},
          "execution_count": 23
        }
      ],
      "source": [
        "median(rolls)"
      ]
    },
    {
      "cell_type": "code",
      "execution_count": null,
      "metadata": {
        "colab": {
          "base_uri": "https://localhost:8080/"
        },
        "id": "GowiFDFUPSVq",
        "outputId": "85a95b38-fe70-475c-8960-348cd77f9d24"
      },
      "outputs": [
        {
          "output_type": "execute_result",
          "data": {
            "text/plain": [
              "6.934"
            ]
          },
          "metadata": {},
          "execution_count": 18
        }
      ],
      "source": [
        "mean(rolls)"
      ]
    },
    {
      "cell_type": "code",
      "execution_count": null,
      "metadata": {
        "colab": {
          "base_uri": "https://localhost:8080/",
          "height": 265
        },
        "id": "5AnMvr0lPSVq",
        "outputId": "5cd2ffdb-6c93-4be3-82ea-c5c1d49a611c"
      },
      "outputs": [
        {
          "output_type": "display_data",
          "data": {
            "image/png": "[encoded data removed]",
            "text/plain": [
              "<Figure size 432x288 with 1 Axes>"
            ]
          },
          "metadata": {
            "needs_background": "light"
          }
        }
      ],
      "source": [
        "# bonus! what does this data set of rolls actually _look_ like???\n",
        "import numpy as np\n",
        "from matplotlib import pyplot as plt\n",
        "plt.hist(rolls, bins=(max(rolls) - min(rolls)+1))\n",
        "plt.ylabel('Roll Result: 1000 rolls');"
      ]
    },
    {
      "cell_type": "code",
      "execution_count": null,
      "metadata": {
        "colab": {
          "base_uri": "https://localhost:8080/",
          "height": 265
        },
        "id": "YVuMriP-PSVr",
        "outputId": "cee18c69-2019-4b4f-db6a-bbdc4363c2d6"
      },
      "outputs": [
        {
          "output_type": "display_data",
          "data": {
            "image/png": "[encoded data removed]",
            "text/plain": [
              "<Figure size 432x288 with 1 Axes>"
            ]
          },
          "metadata": {
            "needs_background": "light"
          }
        }
      ],
      "source": [
        "rolls2 = np.random.randint(1, 7, 100000) + np.random.randint(1, 7, 100000)\n",
        "plt.hist(rolls2, bins=(max(rolls2) - min(rolls2)+1))\n",
        "plt.ylabel('Roll Result: 100,000 rolls');"
      ]
    },
    {
      "cell_type": "code",
      "source": [
        "from google.colab import drive\n",
        "drive.mount('/content/drive')"
      ],
      "metadata": {
        "colab": {
          "base_uri": "https://localhost:8080/"
        },
        "id": "kErNKgDkQiIu",
        "outputId": "f480b7e9-6a4d-46c4-d5d1-aa43c15c1454"
      },
      "execution_count": null,
      "outputs": [
        {
          "output_type": "stream",
          "name": "stdout",
          "text": [
            "Drive already mounted at /content/drive; to attempt to forcibly remount, call drive.mount(\"/content/drive\", force_remount=True).\n"
          ]
        }
      ]
    },
    {
      "cell_type": "code",
      "execution_count": null,
      "metadata": {
        "colab": {
          "base_uri": "https://localhost:8080/",
          "height": 283
        },
        "id": "rhe8rFzcPSVr",
        "outputId": "92fe89e7-8afe-4a08-f4ec-98c6dca94e8a"
      },
      "outputs": [
        {
          "output_type": "execute_result",
          "data": {
            "text/plain": [
              "<matplotlib.axes._subplots.AxesSubplot at 0x7f3721195350>"
            ]
          },
          "metadata": {},
          "execution_count": 29
        },
        {
          "output_type": "display_data",
          "data": {
            "image/png": "[encoded data removed]",
            "text/plain": [
              "<Figure size 432x288 with 1 Axes>"
            ]
          },
          "metadata": {
            "needs_background": "light"
          }
        }
      ],
      "source": [
        "import pandas as pd\n",
        "starbucks=pd.read_csv('/content/drive/MyDrive/starbucks_drinkMenu_expanded.csv')\n",
        "starbucks.Calories.hist()"
      ]
    },
    {
      "cell_type": "code",
      "execution_count": null,
      "metadata": {
        "colab": {
          "base_uri": "https://localhost:8080/"
        },
        "id": "r4KjqPOWPSVr",
        "outputId": "f36aefc1-4e03-4605-85a1-e4eb9ccabf14"
      },
      "outputs": [
        {
          "output_type": "execute_result",
          "data": {
            "text/plain": [
              "count    242.000000\n",
              "mean     193.871901\n",
              "std      102.863303\n",
              "min        0.000000\n",
              "25%      120.000000\n",
              "50%      185.000000\n",
              "75%      260.000000\n",
              "max      510.000000\n",
              "Name: Calories, dtype: float64"
            ]
          },
          "metadata": {},
          "execution_count": 30
        }
      ],
      "source": [
        "starbucks.Calories.describe()"
      ]
    },
    {
      "cell_type": "markdown",
      "metadata": {
        "id": "WFj2FrNFPSVs"
      },
      "source": [
        "### Percentile / 100-Quantile\n",
        "\n",
        "Value under which some given percent of ordered data falls. (Common quantiles in use include percentiles, tertiles, quartiles, etc. ...)"
      ]
    },
    {
      "cell_type": "code",
      "execution_count": null,
      "metadata": {
        "id": "n-YnrmsyPSVs"
      },
      "outputs": [],
      "source": [
        "quantile = lambda p, data: sorted(data)[int(p * len(data))]\n",
        "\n",
        "# we're using definition used in our book here which truncates the index\n",
        "# ...but there are other methods of finding the index / actual value... such \n",
        "# as \"nearest rank\" (round up) and some sort of interpolation (which means\n",
        "# value won't actually be in original set!)"
      ]
    },
    {
      "cell_type": "code",
      "execution_count": null,
      "metadata": {
        "colab": {
          "base_uri": "https://localhost:8080/"
        },
        "id": "Ozqv3nK7PSVs",
        "outputId": "60ad7caf-7f8a-4509-b65b-5cbf81359b8a"
      },
      "outputs": [
        {
          "output_type": "stream",
          "name": "stdout",
          "text": [
            "10\n"
          ]
        },
        {
          "output_type": "execute_result",
          "data": {
            "text/plain": [
              "[1, 2, 3, 5, 6, 8, 12, 12, 20, 22]"
            ]
          },
          "metadata": {},
          "execution_count": 70
        }
      ],
      "source": [
        "nums = [22, 12, 1, 5, 6, 2, 3, 20, 12, 8]\n",
        "print(len(nums))\n",
        "sorted(nums)"
      ]
    },
    {
      "cell_type": "code",
      "execution_count": null,
      "metadata": {
        "colab": {
          "base_uri": "https://localhost:8080/"
        },
        "id": "cs1Ps9QVPSVs",
        "outputId": "f370fbab-fe59-493a-c410-ab32a630c75b"
      },
      "outputs": [
        {
          "output_type": "execute_result",
          "data": {
            "text/plain": [
              "7.0"
            ]
          },
          "metadata": {},
          "execution_count": 71
        }
      ],
      "source": [
        "median(nums)"
      ]
    },
    {
      "cell_type": "code",
      "execution_count": null,
      "metadata": {
        "colab": {
          "base_uri": "https://localhost:8080/"
        },
        "id": "z1CDwsAgPSVs",
        "outputId": "75810056-1ebf-4463-99df-0caf85250e36"
      },
      "outputs": [
        {
          "output_type": "execute_result",
          "data": {
            "text/plain": [
              "8"
            ]
          },
          "metadata": {},
          "execution_count": 72
        }
      ],
      "source": [
        "# typically the 50th percentile is the median, but we truncated ...\n",
        "quantile(0.50, nums)"
      ]
    },
    {
      "cell_type": "code",
      "source": [
        "quantile(0.90, nums)"
      ],
      "metadata": {
        "colab": {
          "base_uri": "https://localhost:8080/"
        },
        "id": "RaoibdYvRg6a",
        "outputId": "9c6b842e-cbac-453b-d68d-4789201cadd3"
      },
      "execution_count": null,
      "outputs": [
        {
          "output_type": "execute_result",
          "data": {
            "text/plain": [
              "22"
            ]
          },
          "metadata": {},
          "execution_count": 73
        }
      ]
    },
    {
      "cell_type": "code",
      "source": [
        "quantile(0.30,nums )"
      ],
      "metadata": {
        "colab": {
          "base_uri": "https://localhost:8080/"
        },
        "id": "akFcB9XORpa7",
        "outputId": "83bd5f99-3092-4f29-b9ee-d88b85c495e0"
      },
      "execution_count": null,
      "outputs": [
        {
          "output_type": "execute_result",
          "data": {
            "text/plain": [
              "5"
            ]
          },
          "metadata": {},
          "execution_count": 74
        }
      ]
    },
    {
      "cell_type": "code",
      "execution_count": null,
      "metadata": {
        "colab": {
          "base_uri": "https://localhost:8080/"
        },
        "id": "jEYaOK6PPSVt",
        "outputId": "ac0ae5b4-cf1d-418b-d151-8e314e3ced08"
      },
      "outputs": [
        {
          "output_type": "execute_result",
          "data": {
            "text/plain": [
              "7.0"
            ]
          },
          "metadata": {},
          "execution_count": 76
        }
      ],
      "source": [
        "# numpy's percentile implementation agrees with our median calculation tho!\n",
        "np.percentile(nums, 50)"
      ]
    },
    {
      "cell_type": "markdown",
      "metadata": {
        "id": "wc_IflF2PSVt"
      },
      "source": [
        "## Dispersion\n",
        "\n",
        "\n",
        "How _spread apart_ is the data?\n",
        "\n",
        "1. variance\n",
        "2. standard deviation - sensitive to outliers\n",
        "    * mean absolute deviation also possible\n",
        "3. middle 50% (interquartile range)\n",
        "\n",
        "\n",
        "### range\n",
        "* range of values... max and min again\n",
        "* range is 0 if max and min are the same (no spread / data not dispersed... all points are the same!)\n",
        "* larger range, obvs means min and max are far apart\n",
        "\n",
        "... but that only describes max and min, what about all the other values?\n",
        "\n",
        "### population variance \n",
        "\n",
        "* variance - describes variability or spread of distribution\n",
        "* kind of like calculating difference from mean for all points, and getting the average of that\n",
        "* but! instead of just the difference, we square the difference\n",
        "* how to calculate variance:\n",
        "  1. it's the average of the squared differences from the Mean\n",
        "  2. calculate mean\n",
        "  3. for every data point... subtract the mean and square the result .\n",
        "  4. average of all differences (divide by number of data points)\n",
        "  \n"
      ]
    },
    {
      "cell_type": "code",
      "execution_count": null,
      "metadata": {
        "id": "CmijkGTgPSVt"
      },
      "outputs": [],
      "source": [
        "# assuming population variance (most libs will allow you to change this)\n",
        "def variance(data):\n",
        "    # for every number, subtract the mean, sq the result\n",
        "    mu = mean(data)\n",
        "    # sum of sq differences\n",
        "    return sum((x - mu) ** 2 for x in data) / len(data)"
      ]
    },
    {
      "cell_type": "code",
      "execution_count": null,
      "metadata": {
        "colab": {
          "base_uri": "https://localhost:8080/"
        },
        "id": "TsQWT1uMPSVt",
        "outputId": "e8f68e1e-0180-4951-8ea5-9da47dde0fdf"
      },
      "outputs": [
        {
          "output_type": "stream",
          "name": "stdout",
          "text": [
            "394.0\n"
          ]
        },
        {
          "output_type": "execute_result",
          "data": {
            "text/plain": [
              "21704.0"
            ]
          },
          "metadata": {},
          "execution_count": 79
        }
      ],
      "source": [
        "data = [600, 470, 170, 430, 300]\n",
        "print(mean(data))\n",
        "variance(data)"
      ]
    },
    {
      "cell_type": "code",
      "execution_count": null,
      "metadata": {
        "colab": {
          "base_uri": "https://localhost:8080/"
        },
        "id": "SXX65QfxPSVt",
        "outputId": "76086c87-2005-4192-a793-cc90dbf6f94c"
      },
      "outputs": [
        {
          "output_type": "execute_result",
          "data": {
            "text/plain": [
              "5.991839000000029"
            ]
          },
          "metadata": {},
          "execution_count": 80
        }
      ],
      "source": [
        "variance(rolls)"
      ]
    },
    {
      "cell_type": "code",
      "execution_count": null,
      "metadata": {
        "colab": {
          "base_uri": "https://localhost:8080/"
        },
        "id": "cKLSXgxnPSVu",
        "outputId": "ca4228b4-5847-4b55-86b4-305ea6c4add6"
      },
      "outputs": [
        {
          "output_type": "execute_result",
          "data": {
            "text/plain": [
              "5.991839000000001"
            ]
          },
          "metadata": {},
          "execution_count": 81
        }
      ],
      "source": [
        "np.var(rolls)"
      ]
    },
    {
      "cell_type": "markdown",
      "metadata": {
        "id": "wwU56EGSPSVu"
      },
      "source": [
        "### population standard deviation  \n",
        "\n",
        "* to get back to original units (rather than squares), use standard deviation.\n",
        "    * calculate: square root of variance\n",
        "    * can help describe how far away a value is from _normal_\n"
      ]
    },
    {
      "cell_type": "code",
      "execution_count": null,
      "metadata": {
        "id": "1Dyu1ng8PSVu"
      },
      "outputs": [],
      "source": [
        "def standard_deviation(data):\n",
        "    return variance(data) ** 0.5"
      ]
    },
    {
      "cell_type": "code",
      "execution_count": null,
      "metadata": {
        "colab": {
          "base_uri": "https://localhost:8080/"
        },
        "id": "LlS7dwXEPSVu",
        "outputId": "f9ce9033-3822-4b64-84c1-8b378a4769ba"
      },
      "outputs": [
        {
          "output_type": "execute_result",
          "data": {
            "text/plain": [
              "147.32277488562318"
            ]
          },
          "metadata": {},
          "execution_count": 83
        }
      ],
      "source": [
        "standard_deviation(data)"
      ]
    },
    {
      "cell_type": "code",
      "execution_count": null,
      "metadata": {
        "colab": {
          "base_uri": "https://localhost:8080/"
        },
        "id": "CjKIJIETPSVu",
        "outputId": "e53bddf0-bd09-4f45-c4a0-8dc76266b897"
      },
      "outputs": [
        {
          "output_type": "execute_result",
          "data": {
            "text/plain": [
              "147.32277488562318"
            ]
          },
          "metadata": {},
          "execution_count": 84
        }
      ],
      "source": [
        "np.std(data)"
      ]
    },
    {
      "cell_type": "markdown",
      "metadata": {
        "id": "AZdtNX_GPSVu"
      },
      "source": [
        "### Variance and Standard Deviation\n",
        "\n",
        "* Why do we square???\n",
        "  * A mix of negative and positive numbers will \"cancel\" out (we want to compare distance; remove sign)\n",
        "  * magnifies extremes, though (good or bad?)\n",
        "  * why not absolute value? yes, this is also a measure of dispersion\n",
        "* population vs sample\n",
        "  * for population, use n\n",
        "  * sample... divide n - 1 rather than n so that we can have larger values \n",
        "  * using n for the sample ends up as an underestimate \n",
        "    * how to make larger? divide by smaller number, n - 1\n",
        "\n",
        "### Interquartile Range \n",
        "\n",
        "Variance and standard deviation sensitive to outliers \n",
        "\n",
        "Another measure of dispersion that is not as sensitive to outliers is interquartile range\n",
        "\n",
        "* use quantile to calculate value at 0.75\n",
        "* use quantile to calculate value at 0.25\n"
      ]
    },
    {
      "cell_type": "code",
      "execution_count": null,
      "metadata": {
        "id": "m9luZV8-PSVv"
      },
      "outputs": [],
      "source": [
        "# igr: Interquartile range\n",
        "def iqr(data):\n",
        "    return quantile(0.75, data) - quantile(0.25, data)"
      ]
    },
    {
      "cell_type": "code",
      "execution_count": null,
      "metadata": {
        "colab": {
          "base_uri": "https://localhost:8080/"
        },
        "id": "RO9nKj6UPSVv",
        "outputId": "38d0c6db-ae06-4e91-d096-58c7b101efe0"
      },
      "outputs": [
        {
          "output_type": "execute_result",
          "data": {
            "text/plain": [
              "array([6, 5, 4, 5, 2, 6, 5, 2, 1, 1, 4, 2, 1, 5, 6, 1, 2, 6, 3, 6, 1, 5,\n",
              "       5, 5, 6, 1, 3, 2, 2, 4, 5, 3, 6, 2, 5, 1, 1, 2, 6, 6, 4, 1, 3, 6,\n",
              "       2, 6, 6, 4, 5, 4, 4, 2, 4, 6, 4, 4, 4, 3, 5, 3, 6, 2, 5, 4, 6, 1,\n",
              "       5, 5, 1, 1, 4, 2, 4, 2, 4, 2, 3, 5, 4, 6, 1, 5, 5, 5, 1, 1, 4, 2,\n",
              "       1, 6, 3, 4, 4, 1, 4, 3, 4, 6, 2, 1])"
            ]
          },
          "metadata": {},
          "execution_count": 86
        }
      ],
      "source": [
        "rolls = np.random.randint(1, 7, 1000)\n",
        "rolls[:100]"
      ]
    },
    {
      "cell_type": "code",
      "execution_count": null,
      "metadata": {
        "colab": {
          "base_uri": "https://localhost:8080/"
        },
        "id": "O0s_gaS2PSVv",
        "outputId": "15dbc456-aa1a-4305-ec6b-1367acfb0208"
      },
      "outputs": [
        {
          "output_type": "execute_result",
          "data": {
            "text/plain": [
              "3.638"
            ]
          },
          "metadata": {},
          "execution_count": 87
        }
      ],
      "source": [
        "mean(rolls)"
      ]
    },
    {
      "cell_type": "code",
      "execution_count": null,
      "metadata": {
        "colab": {
          "base_uri": "https://localhost:8080/"
        },
        "id": "odQVz-GYPSVv",
        "outputId": "c2b4b8bf-20b5-4079-8bec-1b39ac9cdf42"
      },
      "outputs": [
        {
          "output_type": "execute_result",
          "data": {
            "text/plain": [
              "5"
            ]
          },
          "metadata": {},
          "execution_count": 88
        }
      ],
      "source": [
        "mode(rolls)"
      ]
    },
    {
      "cell_type": "code",
      "execution_count": null,
      "metadata": {
        "colab": {
          "base_uri": "https://localhost:8080/"
        },
        "id": "lxGRErekPSVv",
        "outputId": "0c44c743-f238-40cb-e759-109ce05afc0b"
      },
      "outputs": [
        {
          "output_type": "execute_result",
          "data": {
            "text/plain": [
              "2.7769560000000113"
            ]
          },
          "metadata": {},
          "execution_count": 89
        }
      ],
      "source": [
        "variance(rolls)"
      ]
    },
    {
      "cell_type": "code",
      "execution_count": null,
      "metadata": {
        "colab": {
          "base_uri": "https://localhost:8080/"
        },
        "id": "dsHEVCmbPSVv",
        "outputId": "72adf184-60c8-4b98-acbd-a16ff53a4aae"
      },
      "outputs": [
        {
          "output_type": "execute_result",
          "data": {
            "text/plain": [
              "1.6664201150970337"
            ]
          },
          "metadata": {},
          "execution_count": 90
        }
      ],
      "source": [
        "standard_deviation(rolls)"
      ]
    },
    {
      "cell_type": "code",
      "execution_count": null,
      "metadata": {
        "colab": {
          "base_uri": "https://localhost:8080/"
        },
        "id": "gd8yoXCYPSVv",
        "outputId": "c04a28eb-5b70-4806-f91c-31592a7188be"
      },
      "outputs": [
        {
          "output_type": "execute_result",
          "data": {
            "text/plain": [
              "5"
            ]
          },
          "metadata": {},
          "execution_count": 91
        }
      ],
      "source": [
        "quantile(0.75,rolls)"
      ]
    },
    {
      "cell_type": "code",
      "execution_count": null,
      "metadata": {
        "colab": {
          "base_uri": "https://localhost:8080/"
        },
        "id": "5e_sMQsNPSVv",
        "outputId": "e219f994-671e-4a87-90b4-6682926e117c"
      },
      "outputs": [
        {
          "output_type": "execute_result",
          "data": {
            "text/plain": [
              "2"
            ]
          },
          "metadata": {},
          "execution_count": 92
        }
      ],
      "source": [
        "quantile(0.25, rolls)"
      ]
    },
    {
      "cell_type": "code",
      "execution_count": null,
      "metadata": {
        "colab": {
          "base_uri": "https://localhost:8080/"
        },
        "id": "s0On-jcBPSVv",
        "outputId": "337cd57d-8baa-45ba-f710-4146fddbbc99"
      },
      "outputs": [
        {
          "output_type": "execute_result",
          "data": {
            "text/plain": [
              "3"
            ]
          },
          "metadata": {},
          "execution_count": 93
        }
      ],
      "source": [
        "iqr(rolls)"
      ]
    },
    {
      "cell_type": "code",
      "execution_count": null,
      "metadata": {
        "colab": {
          "base_uri": "https://localhost:8080/"
        },
        "id": "lpzy-msFPSVw",
        "outputId": "8f02a77a-6a15-4a29-81d9-ab8b05a21c65"
      },
      "outputs": [
        {
          "output_type": "execute_result",
          "data": {
            "text/plain": [
              "4.0"
            ]
          },
          "metadata": {},
          "execution_count": 94
        }
      ],
      "source": [
        "median(rolls)"
      ]
    },
    {
      "cell_type": "code",
      "execution_count": null,
      "metadata": {
        "colab": {
          "base_uri": "https://localhost:8080/"
        },
        "id": "ysiws1Q8PSVw",
        "outputId": "1ca3b797-11c7-4410-f0ac-b657782fa0f5"
      },
      "outputs": [
        {
          "output_type": "execute_result",
          "data": {
            "text/plain": [
              "4.0"
            ]
          },
          "metadata": {},
          "execution_count": 95
        }
      ],
      "source": [
        "np.median(rolls)"
      ]
    },
    {
      "cell_type": "code",
      "source": [
        "# box plot shows quartiles and extremes\n",
        "import matplotlib.pyplot as plt\n",
        "fig1, ax1 = plt.subplots()\n",
        "ax1.set_title(\"Rolls\")\n",
        "ax1.boxplot(rolls)\n",
        "plt.show()"
      ],
      "metadata": {
        "colab": {
          "base_uri": "https://localhost:8080/",
          "height": 281
        },
        "id": "fWKc7WwbvnhY",
        "outputId": "d3e7f43d-9e3b-4c4b-aee6-55f46466127b"
      },
      "execution_count": null,
      "outputs": [
        {
          "output_type": "display_data",
          "data": {
            "image/png": "[encoded data removed]",
            "text/plain": [
              "<Figure size 432x288 with 1 Axes>"
            ]
          },
          "metadata": {
            "needs_background": "light"
          }
        }
      ]
    },
    {
      "cell_type": "code",
      "source": [
        "rolls = np.random.randint(1, 7, 1000) + np.random.randint(1, 7, 1000)\n",
        "fig1, ax1 = plt.subplots()\n",
        "ax1.set_title(\"Rolls\")\n",
        "ax1.boxplot(rolls)\n",
        "plt.show()\n"
      ],
      "metadata": {
        "colab": {
          "base_uri": "https://localhost:8080/",
          "height": 281
        },
        "id": "fGag3uYQwxdX",
        "outputId": "82320034-d60b-402b-9cc9-7c1500e3cc2d"
      },
      "execution_count": null,
      "outputs": [
        {
          "output_type": "display_data",
          "data": {
            "image/png": "[encoded data removed]",
            "text/plain": [
              "<Figure size 432x288 with 1 Axes>"
            ]
          },
          "metadata": {
            "needs_background": "light"
          }
        }
      ]
    },
    {
      "cell_type": "code",
      "source": [
        "# violinplot adds histogram, doesn't show quantiles, just extremes\n",
        "fig1, ax1 = plt.subplots()\n",
        "ax1.set_title(\"Rolls\")\n",
        "ax1.violinplot(rolls)\n",
        "plt.show()"
      ],
      "metadata": {
        "colab": {
          "base_uri": "https://localhost:8080/",
          "height": 281
        },
        "id": "33beG8edxOpM",
        "outputId": "376a70f5-f0e0-4462-9bcf-7ca9aa656cd1"
      },
      "execution_count": null,
      "outputs": [
        {
          "output_type": "display_data",
          "data": {
            "image/png": "[encoded data removed]",
            "text/plain": [
              "<Figure size 432x288 with 1 Axes>"
            ]
          },
          "metadata": {
            "needs_background": "light"
          }
        }
      ]
    }
  ],
  "metadata": {
    "kernelspec": {
      "display_name": "Python 3",
      "language": "python",
      "name": "python3"
    },
    "language_info": {
      "codemirror_mode": {
        "name": "ipython",
        "version": 3
      },
      "file_extension": ".py",
      "mimetype": "text/x-python",
      "name": "python",
      "nbconvert_exporter": "python",
      "pygments_lexer": "ipython3",
      "version": "3.8.5"
    },
    "colab": {
      "name": "central-tendency-and-dispersion.ipynb",
      "provenance": [],
      "include_colab_link": true
    }
  },
  "nbformat": 4,
  "nbformat_minor": 0
}