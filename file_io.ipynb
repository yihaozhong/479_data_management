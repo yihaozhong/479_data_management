{
  "cells": [
    {
      "cell_type": "markdown",
      "metadata": {
        "id": "view-in-github",
        "colab_type": "text"
      },
      "source": [
        "<a href=\"https://colab.research.google.com/github/yihaozhong/479_data_management/blob/main/file_io.ipynb\" target=\"_parent\"><img src=\"https://colab.research.google.com/assets/colab-badge.svg\" alt=\"Open In Colab\"/></a>"
      ]
    },
    {
      "cell_type": "markdown",
      "metadata": {
        "id": "EfZYAV_HpDXh"
      },
      "source": [
        "## Reading Files, File I/O\n",
        "\n",
        "### Use built-in function open\n",
        "\n",
        "`open` has 2 arguments:\n",
        "\n",
        "* the file_name, which is the absolute or relative path to open\n",
        "* the mode, which a single character: r, w, a\n",
        "    * `r`: file must exist, otherwise FileNotFoundError\n",
        "    * `w`: if exists, overwrite, if it doesn't, create\n",
        "    * `a`: append.... add to existing file\n",
        "\n",
        "returns: a`file` object\n",
        "\n",
        "a file object has following methods:\n",
        "* `close`... closes the file handle, no args\n",
        "* `read`... entire contents and returns as a single string\n",
        "* `readlines`... entire contents and returns as list of strings, one per line\n",
        "* `readline`... one line at a time, location saved\n"
      ]
    },
    {
      "cell_type": "markdown",
      "metadata": {
        "id": "wd3AEembpDXl"
      },
      "source": [
        "### Reading a file\n",
        "\n",
        "File object can be looped over using `for`:"
      ]
    },
    {
      "cell_type": "code",
      "source": [
        "from google.colab import drive\n",
        "drive.mount('/content/drive')"
      ],
      "metadata": {
        "colab": {
          "base_uri": "https://localhost:8080/"
        },
        "id": "whbKDKERpg0M",
        "outputId": "61d41672-6599-4101-c809-8855edaf863c"
      },
      "execution_count": null,
      "outputs": [
        {
          "output_type": "stream",
          "name": "stdout",
          "text": [
            "Drive already mounted at /content/drive; to attempt to forcibly remount, call drive.mount(\"/content/drive\", force_remount=True).\n"
          ]
        }
      ]
    },
    {
      "cell_type": "code",
      "execution_count": null,
      "metadata": {
        "colab": {
          "base_uri": "https://localhost:8080/"
        },
        "id": "TgN92QhcpDXl",
        "outputId": "bda3731a-4c44-4fd0-f9ca-319db5457e82"
      },
      "outputs": [
        {
          "output_type": "stream",
          "name": "stdout",
          "text": [
            "The one-l lama,\n",
            "He's a priest.\n",
            "The two-l llama,\n",
            "He's a beast;\n",
            "And I will bet \n",
            "A silk pajama\n",
            "There isn't any \n",
            "Three-l lllama."
          ]
        }
      ],
      "source": [
        "fn='/content/drive/MyDrive/Colab Notebooks/llama.txt'\n",
        "f = open(fn, 'r')\n",
        "for line in f:\n",
        "    print(line,end='')\n",
        "f.close()"
      ]
    },
    {
      "cell_type": "markdown",
      "metadata": {
        "id": "_Y8ELHMtpDXo"
      },
      "source": [
        "### Using `with` and Using `readlines`\n",
        "\n",
        "Now let's try using `with`... when the block exits, the file object is automatically cleaned up (`close` is called)\n",
        "\n",
        "Additionally, we'll use `readlines` to read the contents of the file as a `list`"
      ]
    },
    {
      "cell_type": "code",
      "execution_count": null,
      "metadata": {
        "colab": {
          "base_uri": "https://localhost:8080/"
        },
        "id": "qkMvefn-pDXo",
        "outputId": "4e061232-0f3c-4792-e60d-2cc1adca780c"
      },
      "outputs": [
        {
          "output_type": "stream",
          "name": "stdout",
          "text": [
            "The one-l lama,\n",
            "\n"
          ]
        }
      ],
      "source": [
        "with open(fn, 'r') as f:\n",
        "    lines = f.readlines()\n",
        "    print(lines[0])"
      ]
    },
    {
      "cell_type": "code",
      "execution_count": null,
      "metadata": {
        "id": "KplvxJbvpDXp",
        "outputId": "9c181e53-a567-402f-f185-a01dbd6fe0e5",
        "colab": {
          "base_uri": "https://localhost:8080/"
        }
      },
      "outputs": [
        {
          "output_type": "execute_result",
          "data": {
            "text/plain": [
              "['The one-l lama,\\n',\n",
              " \"He's a priest.\\n\",\n",
              " 'The two-l llama,\\n',\n",
              " \"He's a beast;\\n\",\n",
              " 'And I will bet \\n',\n",
              " 'A silk pajama\\n',\n",
              " \"There isn't any \\n\",\n",
              " 'Three-l lllama.']"
            ]
          },
          "metadata": {},
          "execution_count": 21
        }
      ],
      "source": [
        "lines"
      ]
    },
    {
      "cell_type": "markdown",
      "metadata": {
        "id": "T8ArK5t6pDXp"
      },
      "source": [
        "Or just as a single string (including the newlines):\n"
      ]
    },
    {
      "cell_type": "code",
      "execution_count": null,
      "metadata": {
        "colab": {
          "base_uri": "https://localhost:8080/"
        },
        "id": "uIE1D1jHpDXq",
        "outputId": "37671e60-d28b-4d0a-94f8-22297bcbc96f"
      },
      "outputs": [
        {
          "output_type": "stream",
          "name": "stdout",
          "text": [
            "The one-l lama,\n",
            "He's a priest.\n",
            "The two-l llama,\n",
            "He's a beast;\n",
            "And I will bet \n",
            "A silk pajama\n",
            "There isn't any \n",
            "Three-l lllama.\n"
          ]
        }
      ],
      "source": [
        "f=open(fn,'r')\n",
        "whole_file=f.read()\n",
        "print(whole_file)"
      ]
    },
    {
      "cell_type": "code",
      "execution_count": null,
      "metadata": {
        "colab": {
          "base_uri": "https://localhost:8080/"
        },
        "id": "CzyRRbh4pDXq",
        "outputId": "780b60f2-4491-4426-ab32-bc3f18a8a406"
      },
      "outputs": [
        {
          "output_type": "stream",
          "name": "stdout",
          "text": [
            "['The one-l lama,', \"He's a priest.\", 'The two-l llama,', \"He's a beast;\", 'And I will bet ', 'A silk pajama', \"There isn't any \", 'Three-l lllama.']\n"
          ]
        }
      ],
      "source": [
        "lines=whole_file.splitlines()\n",
        "print(lines)"
      ]
    },
    {
      "cell_type": "code",
      "execution_count": null,
      "metadata": {
        "colab": {
          "base_uri": "https://localhost:8080/",
          "height": 35
        },
        "id": "c2zG5mTdpDXr",
        "outputId": "e6e5ad6b-e2a7-49db-fd2a-3d629360f22b"
      },
      "outputs": [
        {
          "output_type": "execute_result",
          "data": {
            "application/vnd.google.colaboratory.intrinsic+json": {
              "type": "string"
            },
            "text/plain": [
              "'llama'"
            ]
          },
          "metadata": {},
          "execution_count": 25
        }
      ],
      "source": [
        "lines[2][-6:-1]"
      ]
    },
    {
      "cell_type": "code",
      "execution_count": null,
      "metadata": {
        "id": "a54XhKFwpDXr",
        "outputId": "f640a64a-5fcb-4122-d823-335cdd6f7f11",
        "colab": {
          "base_uri": "https://localhost:8080/"
        }
      },
      "outputs": [
        {
          "output_type": "execute_result",
          "data": {
            "text/plain": [
              "['The', 'two-l', 'llama,']"
            ]
          },
          "metadata": {},
          "execution_count": 26
        }
      ],
      "source": [
        "lines[2].split()"
      ]
    },
    {
      "cell_type": "code",
      "execution_count": null,
      "metadata": {
        "colab": {
          "base_uri": "https://localhost:8080/",
          "height": 35
        },
        "id": "X3p00zL3pDXs",
        "outputId": "42f97557-bbc1-464e-8202-992721c6b8c0"
      },
      "outputs": [
        {
          "output_type": "execute_result",
          "data": {
            "application/vnd.google.colaboratory.intrinsic+json": {
              "type": "string"
            },
            "text/plain": [
              "'will'"
            ]
          },
          "metadata": {},
          "execution_count": 27
        }
      ],
      "source": [
        "lines[4].split()[-2]"
      ]
    },
    {
      "cell_type": "markdown",
      "metadata": {
        "id": "4fTFan-8pDXs"
      },
      "source": [
        "### Handling Exceptions\n",
        "\n",
        "Catch a `FileNotFoundError` to deal with a file that doesn't exist:"
      ]
    },
    {
      "cell_type": "code",
      "execution_count": null,
      "metadata": {
        "colab": {
          "base_uri": "https://localhost:8080/"
        },
        "id": "19kqtGeZpDXs",
        "outputId": "6406b3cd-30fd-4081-f55e-7c024c3a8a08"
      },
      "outputs": [
        {
          "output_type": "stream",
          "name": "stdout",
          "text": [
            "file not found!\n"
          ]
        }
      ],
      "source": [
        "try:\n",
        "    with open('foo.bar', 'r') as f:\n",
        "        print(f.read())\n",
        "except FileNotFoundError:\n",
        "    print('file not found!')"
      ]
    },
    {
      "cell_type": "markdown",
      "source": [
        "Poll Everywhere Question\n",
        "\n",
        "The Python readlines method on a file handle:\n",
        "\n",
        "*   Reads all of the lines in the file into a single string, not including the newlines\n",
        "*   Reads all of the lines in the file into a list of strings, not including the newlines\n",
        "* Reads all of the lines into the file into a list of strings, including the newlines\n",
        "\n"
      ],
      "metadata": {
        "id": "WWC4FK-X1DFM"
      }
    }
  ],
  "metadata": {
    "kernelspec": {
      "display_name": "Python 3",
      "language": "python",
      "name": "python3"
    },
    "language_info": {
      "codemirror_mode": {
        "name": "ipython",
        "version": 3
      },
      "file_extension": ".py",
      "mimetype": "text/x-python",
      "name": "python",
      "nbconvert_exporter": "python",
      "pygments_lexer": "ipython3",
      "version": "3.8.5"
    },
    "colab": {
      "name": "file-io.ipynb",
      "provenance": [],
      "include_colab_link": true
    }
  },
  "nbformat": 4,
  "nbformat_minor": 0
}