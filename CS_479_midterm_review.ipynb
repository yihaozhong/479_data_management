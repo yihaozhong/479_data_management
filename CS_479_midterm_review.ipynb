{
  "nbformat": 4,
  "nbformat_minor": 0,
  "metadata": {
    "colab": {
      "name": "CS 479 midterm review.ipynb",
      "provenance": [],
      "include_colab_link": true
    },
    "kernelspec": {
      "name": "python3",
      "display_name": "Python 3"
    },
    "language_info": {
      "name": "python"
    }
  },
  "cells": [
    {
      "cell_type": "markdown",
      "metadata": {
        "id": "view-in-github",
        "colab_type": "text"
      },
      "source": [
        "<a href=\"https://colab.research.google.com/github/yihaozhong/479_data_management/blob/main/CS_479_midterm_review.ipynb\" target=\"_parent\"><img src=\"https://colab.research.google.com/assets/colab-badge.svg\" alt=\"Open In Colab\"/></a>"
      ]
    },
    {
      "cell_type": "markdown",
      "source": [
        "## Ed Exercise\n",
        "\n",
        "Write a list comprehension that creates a list of all the squares of the numbers from 1 to 20."
      ],
      "metadata": {
        "id": "V4ZgmBK0J4qb"
      }
    },
    {
      "cell_type": "code",
      "execution_count": null,
      "metadata": {
        "colab": {
          "base_uri": "https://localhost:8080/"
        },
        "id": "K4ycIpkhJ4CQ",
        "outputId": "605441f0-0b50-4423-fa5c-a5dbae20abaf"
      },
      "outputs": [
        {
          "output_type": "stream",
          "name": "stdout",
          "text": [
            "[1, 4, 9, 16, 25, 36, 49, 64, 81, 100, 121, 144, 169, 196, 225, 256, 289, 324, 361, 400]\n"
          ]
        }
      ],
      "source": [
        "squares=[x*x for x in range(1,21)]\n",
        "print(squares)"
      ]
    },
    {
      "cell_type": "markdown",
      "source": [
        "## Ed Exercise\n",
        "\n",
        "Write a dictionary comprehension that creates a dictionary with keys from 1 to 20 and values which are the squares of the keys."
      ],
      "metadata": {
        "id": "FwMZM6v7LIkY"
      }
    },
    {
      "cell_type": "code",
      "source": [
        "squaresDict={x:x*x for x in range(1,21)}\n",
        "print(squaresDict)"
      ],
      "metadata": {
        "colab": {
          "base_uri": "https://localhost:8080/"
        },
        "id": "ut4bwhI8KqpT",
        "outputId": "812b8583-3f72-4874-a9d2-3e6aab612fba"
      },
      "execution_count": null,
      "outputs": [
        {
          "output_type": "stream",
          "name": "stdout",
          "text": [
            "{1: 1, 2: 4, 3: 9, 4: 16, 5: 25, 6: 36, 7: 49, 8: 64, 9: 81, 10: 100, 11: 121, 12: 144, 13: 169, 14: 196, 15: 225, 16: 256, 17: 289, 18: 324, 19: 361, 20: 400}\n"
          ]
        }
      ]
    },
    {
      "cell_type": "markdown",
      "source": [
        "## Ed Exercise\n",
        "\n",
        "Use the following appproach to find the first 20 prime numbers. In this approach, you start with a list of primes consisting just of the number 2. You then try subsequent numbers, starting with 3 and see if they are divisible by any of the numbers that are on the current list of primes. If they aren't, you add them to the list of primes. This minimizes the number of integer divisions you need to do."
      ],
      "metadata": {
        "id": "y0E3XnR_L7Tr"
      }
    },
    {
      "cell_type": "code",
      "source": [
        "primes=[2]\n",
        "i=3\n",
        "while (len(primes)<20):\n",
        "  isPrime=True\n",
        "  for divisor in primes:\n",
        "    if (i%divisor)==0:\n",
        "      isPrime=False\n",
        "      break\n",
        "  if isPrime: \n",
        "    primes.append(i)      \n",
        "  i+=1\n",
        "print(primes)  \n"
      ],
      "metadata": {
        "colab": {
          "base_uri": "https://localhost:8080/"
        },
        "id": "9s5A9yCYMm40",
        "outputId": "8a16a9a3-51e8-4000-8c6a-222fe61cec06"
      },
      "execution_count": null,
      "outputs": [
        {
          "output_type": "stream",
          "name": "stdout",
          "text": [
            "[2, 3, 5, 7, 11, 13, 17, 19, 23, 29, 31, 37, 41, 43, 47, 53, 59, 61, 67, 71]\n"
          ]
        }
      ]
    },
    {
      "cell_type": "markdown",
      "source": [
        "##Ed Exercise\n",
        "\n",
        "Write a generator for primes, called genPrime, based on the code you just wrote.The first time the generator is called, it should return 2, the next time, 3, etc.\n",
        "\n",
        "Your function should yield up an unlimited number of primes. Use the next method to print out the first 20."
      ],
      "metadata": {
        "id": "wpt1aNBeO6jT"
      }
    },
    {
      "cell_type": "code",
      "source": [
        "def genPrime():\n",
        "  yield 2\n",
        "  primes=[2]\n",
        "  i=3\n",
        "  while True:\n",
        "    isPrime=True\n",
        "    for divisor in primes:\n",
        "     if (i%divisor)==0:\n",
        "       isPrime=False\n",
        "       break\n",
        "    if isPrime: \n",
        "      primes.append(i)      \n",
        "      yield i\n",
        "    i+=1\n",
        "\n",
        "p=genPrime()\n",
        "for i in range(20):   \n",
        "  print(next(p),\"\",end=\"\")\n",
        "print()  \n"
      ],
      "metadata": {
        "colab": {
          "base_uri": "https://localhost:8080/"
        },
        "id": "VeVlBy4ZPOoE",
        "outputId": "b97212fc-f7cc-4765-f822-73675fa92da2"
      },
      "execution_count": null,
      "outputs": [
        {
          "output_type": "stream",
          "name": "stdout",
          "text": [
            "2 3 5 7 11 13 17 19 23 29 31 37 41 43 47 53 59 61 67 71 \n"
          ]
        }
      ]
    },
    {
      "cell_type": "markdown",
      "source": [
        "## Ed Exercise\n",
        "\n",
        "Use Python to open the countries.csv file which is found here:\n",
        "\n",
        "https://drive.google.com/drive/folders/1-GKCGczNYt_4hBECuNBytOPX7QXBxBVS?usp=sharing\n",
        "\n",
        "Using ordinary Python file operations (no CSV module or Pandas), read the country and population into a dictionary where the country is the key and the population is the value. If the population is blank, put a zero.\n",
        "\n",
        "Then use a dictionary comprehension to create another dictionary with only those countries that have a population over 100 million. How many are there? What is their average population?"
      ],
      "metadata": {
        "id": "mGR6nRHWG8bT"
      }
    },
    {
      "cell_type": "code",
      "source": [
        "f=open(\"/content/drive/MyDrive/0479 Spring 2022/data/countries.csv\",\"r\")\n",
        "next(f)\n",
        "pops={}\n",
        "for line in f:\n",
        "    values=line.split(\",\")\n",
        "    try:\n",
        "        pops[values[0]]=float(values[3])\n",
        "    except:\n",
        "        pops[values[0]]=0\n",
        "#print(pops)\n",
        "highpops={country:population for country,population in pops.items() if population>100000000}\n",
        "print(highpops)\n",
        "print(len(highpops))\n",
        "print(sum(highpops.values())/len(highpops))"
      ],
      "metadata": {
        "colab": {
          "base_uri": "https://localhost:8080/"
        },
        "id": "v4hLbXsoGxuM",
        "outputId": "d308f070-deb5-4e69-a211-b73687fb0879"
      },
      "execution_count": null,
      "outputs": [
        {
          "output_type": "stream",
          "name": "stdout",
          "text": [
            "{'United States': 332566652.0, 'Japan': 125340000.0, 'Russia': 145478097.0, 'Mexico': 126014024.0, 'China': 1412600000.0, 'Brazil': 214389640.0, 'Egypt': 103053315.0, 'Indonesia': 272248500.0, 'Philippines': 111628046.0, 'India': 1374305400.0, 'Pakistan': 225200000.0, 'Bangladesh': 172388884.0, 'Nigeria': 211401000.0, 'Ethiopia': 117876000.0}\n",
            "14\n",
            "353177825.5714286\n"
          ]
        }
      ]
    },
    {
      "cell_type": "markdown",
      "source": [
        "## Ed Exercise\n",
        "\n",
        "Use numpy to create a 10 by 10 array which is all zeroes, and then \"frame\" it with a border of ones."
      ],
      "metadata": {
        "id": "g7P8x2t_SjJX"
      }
    },
    {
      "cell_type": "code",
      "source": [
        "import numpy as np\n",
        "x=np.zeros((10,10))\n",
        "x[0]=1\n",
        "x[9]=1\n",
        "x[:,0]=1\n",
        "x[:,9]=1\n",
        "x\n"
      ],
      "metadata": {
        "colab": {
          "base_uri": "https://localhost:8080/"
        },
        "id": "y_c2vmNeS102",
        "outputId": "abde5d0a-ba04-4fba-9f9b-62fd92b51657"
      },
      "execution_count": null,
      "outputs": [
        {
          "output_type": "execute_result",
          "data": {
            "text/plain": [
              "array([[1., 1., 1., 1., 1., 1., 1., 1., 1., 1.],\n",
              "       [1., 0., 0., 0., 0., 0., 0., 0., 0., 1.],\n",
              "       [1., 0., 0., 0., 0., 0., 0., 0., 0., 1.],\n",
              "       [1., 0., 0., 0., 0., 0., 0., 0., 0., 1.],\n",
              "       [1., 0., 0., 0., 0., 0., 0., 0., 0., 1.],\n",
              "       [1., 0., 0., 0., 0., 0., 0., 0., 0., 1.],\n",
              "       [1., 0., 0., 0., 0., 0., 0., 0., 0., 1.],\n",
              "       [1., 0., 0., 0., 0., 0., 0., 0., 0., 1.],\n",
              "       [1., 0., 0., 0., 0., 0., 0., 0., 0., 1.],\n",
              "       [1., 1., 1., 1., 1., 1., 1., 1., 1., 1.]])"
            ]
          },
          "metadata": {},
          "execution_count": 6
        }
      ]
    },
    {
      "cell_type": "code",
      "source": [
        "x=np.ones((10,10))\n",
        "x[1:9,1:9]=0\n",
        "x\n",
        "\n"
      ],
      "metadata": {
        "colab": {
          "base_uri": "https://localhost:8080/"
        },
        "id": "v-JiKJCkPecZ",
        "outputId": "b1ada100-056c-49fd-83c9-37e1aa75b9a9"
      },
      "execution_count": null,
      "outputs": [
        {
          "output_type": "execute_result",
          "data": {
            "text/plain": [
              "array([[1., 1., 1., 1., 1., 1., 1., 1., 1., 1.],\n",
              "       [1., 0., 0., 0., 0., 0., 0., 0., 0., 1.],\n",
              "       [1., 0., 0., 0., 0., 0., 0., 0., 0., 1.],\n",
              "       [1., 0., 0., 0., 0., 0., 0., 0., 0., 1.],\n",
              "       [1., 0., 0., 0., 0., 0., 0., 0., 0., 1.],\n",
              "       [1., 0., 0., 0., 0., 0., 0., 0., 0., 1.],\n",
              "       [1., 0., 0., 0., 0., 0., 0., 0., 0., 1.],\n",
              "       [1., 0., 0., 0., 0., 0., 0., 0., 0., 1.],\n",
              "       [1., 0., 0., 0., 0., 0., 0., 0., 0., 1.],\n",
              "       [1., 1., 1., 1., 1., 1., 1., 1., 1., 1.]])"
            ]
          },
          "metadata": {},
          "execution_count": 7
        }
      ]
    },
    {
      "cell_type": "markdown",
      "source": [
        "## Ed Exercise\n",
        "\n",
        "Create a 4 by 4 identify matrix with numpy. An identity matrix has zeros everywhere except the diagonal, where it has ones."
      ],
      "metadata": {
        "id": "B7fF8DKdTtyv"
      }
    },
    {
      "cell_type": "code",
      "source": [
        "x=np.zeros((4,4))\n",
        "for i in range(4):\n",
        "  x[i,i]=1\n",
        "x  "
      ],
      "metadata": {
        "colab": {
          "base_uri": "https://localhost:8080/"
        },
        "id": "A_HAKfoyUCQ0",
        "outputId": "d61332a4-1e04-43da-9bf6-21b291bf0a03"
      },
      "execution_count": null,
      "outputs": [
        {
          "output_type": "execute_result",
          "data": {
            "text/plain": [
              "array([[1., 0., 0., 0.],\n",
              "       [0., 1., 0., 0.],\n",
              "       [0., 0., 1., 0.],\n",
              "       [0., 0., 0., 1.]])"
            ]
          },
          "metadata": {},
          "execution_count": 8
        }
      ]
    },
    {
      "cell_type": "code",
      "source": [
        "x=np.identity(4)\n",
        "x\n"
      ],
      "metadata": {
        "colab": {
          "base_uri": "https://localhost:8080/"
        },
        "id": "XUa1YOmeUjTT",
        "outputId": "1682f2f5-25e3-43c9-a232-b868b0b1135f"
      },
      "execution_count": null,
      "outputs": [
        {
          "output_type": "execute_result",
          "data": {
            "text/plain": [
              "array([[1., 0., 0., 0.],\n",
              "       [0., 1., 0., 0.],\n",
              "       [0., 0., 1., 0.],\n",
              "       [0., 0., 0., 1.]])"
            ]
          },
          "metadata": {},
          "execution_count": 9
        }
      ]
    },
    {
      "cell_type": "markdown",
      "source": [
        "## Ed Exercise\n",
        "\n",
        "Create a ndarray from the list [1,2,3,4]. Then matrix multiply that ndarray by the 4 by 4 identity matrix you created. You should get the [1,2,3,4] ndarray back."
      ],
      "metadata": {
        "id": "d5akypOcU4jo"
      }
    },
    {
      "cell_type": "code",
      "source": [
        "y=np.asarray([1,2,3,4])\n",
        "y.dot(x)\n",
        "x.dot(y)"
      ],
      "metadata": {
        "colab": {
          "base_uri": "https://localhost:8080/"
        },
        "id": "sQnGcsqXVY74",
        "outputId": "a49d39c0-5605-4595-edb7-55eb446f0b91"
      },
      "execution_count": null,
      "outputs": [
        {
          "output_type": "execute_result",
          "data": {
            "text/plain": [
              "array([1., 2., 3., 4.])"
            ]
          },
          "metadata": {},
          "execution_count": 13
        }
      ]
    },
    {
      "cell_type": "code",
      "source": [
        "x@y"
      ],
      "metadata": {
        "colab": {
          "base_uri": "https://localhost:8080/"
        },
        "id": "65tyyJKsWvWT",
        "outputId": "58b3e7f4-70d6-45f0-bcc8-badfcb799cd3"
      },
      "execution_count": null,
      "outputs": [
        {
          "output_type": "execute_result",
          "data": {
            "text/plain": [
              "array([1., 2., 3., 4.])"
            ]
          },
          "metadata": {},
          "execution_count": 11
        }
      ]
    },
    {
      "cell_type": "code",
      "source": [
        "y@x"
      ],
      "metadata": {
        "colab": {
          "base_uri": "https://localhost:8080/"
        },
        "id": "GOUTBfcLYfKG",
        "outputId": "01c5e6e1-c93f-45aa-e694-0877839ce347"
      },
      "execution_count": null,
      "outputs": [
        {
          "output_type": "execute_result",
          "data": {
            "text/plain": [
              "array([1., 2., 3., 4.])"
            ]
          },
          "metadata": {},
          "execution_count": 12
        }
      ]
    },
    {
      "cell_type": "markdown",
      "source": [
        "## Ed Exercise\n",
        "\n",
        "The following 5 by 5 array is a [\"magic square\"](https://en.wikipedia.org/wiki/Magic_square) in that all of its rows, columns, and its two longest (main) diagonals all add up to a single number (in this case, 65). \n",
        "\n",
        "Use numpy to verify this. Hint: the numpy methods diag and fliplr will be helpful here.\n",
        "\n",
        "Then reset the \"21\" in the array to \"22\" and verify it is no longer a magic square."
      ],
      "metadata": {
        "id": "XodAPHv3bSsD"
      }
    },
    {
      "cell_type": "code",
      "source": [
        "A=np.array([[17, 24, 1, 8, 15], \n",
        "            [23, 5, 7, 14, 16], \n",
        "            [ 4, 6, 13, 20, 22], \n",
        "            [10, 12, 19, 21, 3],\n",
        "            [11, 18, 25, 2, 9]])"
      ],
      "metadata": {
        "id": "o3gCWg_9Y6PD"
      },
      "execution_count": null,
      "outputs": []
    },
    {
      "cell_type": "code",
      "source": [
        "print(A.sum(axis=0))\n",
        "print(A.sum(axis=1))\n",
        "print(np.diag(A))\n",
        "print(np.diag(A).sum())\n",
        "print(np.diag(np.fliplr(A)))\n",
        "np.diag(np.fliplr(A)).sum()"
      ],
      "metadata": {
        "colab": {
          "base_uri": "https://localhost:8080/"
        },
        "id": "KgcZ03BTZM8r",
        "outputId": "e35b4c47-de69-4f5b-af1a-13ecada0fc1a"
      },
      "execution_count": null,
      "outputs": [
        {
          "output_type": "stream",
          "name": "stdout",
          "text": [
            "[65 65 65 65 65]\n",
            "[65 65 65 65 65]\n",
            "[17  5 13 21  9]\n",
            "65\n",
            "[15 14 13 12 11]\n"
          ]
        },
        {
          "output_type": "execute_result",
          "data": {
            "text/plain": [
              "65"
            ]
          },
          "metadata": {},
          "execution_count": 16
        }
      ]
    },
    {
      "cell_type": "code",
      "source": [
        "A[3,3]=22\n",
        "print(A)"
      ],
      "metadata": {
        "colab": {
          "base_uri": "https://localhost:8080/"
        },
        "id": "xLRx6wEUYNjW",
        "outputId": "bb119277-d2e3-460c-bca1-172f051e7617"
      },
      "execution_count": null,
      "outputs": [
        {
          "output_type": "stream",
          "name": "stdout",
          "text": [
            "[[17 24  1  8 15]\n",
            " [23  5  7 14 16]\n",
            " [ 4  6 13 20 22]\n",
            " [10 12 19 22  3]\n",
            " [11 18 25  2  9]]\n"
          ]
        }
      ]
    },
    {
      "cell_type": "code",
      "source": [
        "print(A.sum(axis=0))\n",
        "print(A.sum(axis=1))"
      ],
      "metadata": {
        "colab": {
          "base_uri": "https://localhost:8080/"
        },
        "id": "jxokpi89YeZO",
        "outputId": "c03a2165-267a-4a0f-f8ea-c65b6782be3f"
      },
      "execution_count": null,
      "outputs": [
        {
          "output_type": "stream",
          "name": "stdout",
          "text": [
            "[65 65 65 66 65]\n",
            "[65 65 65 66 65]\n"
          ]
        }
      ]
    },
    {
      "cell_type": "markdown",
      "source": [
        "## Ed Exercise\n",
        "\n",
        "Turn the following row vector to a column vector."
      ],
      "metadata": {
        "id": "n2L9ymGVYmQQ"
      }
    },
    {
      "cell_type": "code",
      "source": [
        "x=np.array([1,2,3,4,5,6,7,8])\n",
        "print(x)"
      ],
      "metadata": {
        "colab": {
          "base_uri": "https://localhost:8080/"
        },
        "id": "Jubu4F1gYujA",
        "outputId": "dbded56d-fde9-4bd5-af3a-0d2a2f594922"
      },
      "execution_count": null,
      "outputs": [
        {
          "output_type": "stream",
          "name": "stdout",
          "text": [
            "[1 2 3 4 5 6 7 8]\n"
          ]
        }
      ]
    },
    {
      "cell_type": "code",
      "source": [
        "y=x.reshape(8,1)\n",
        "print(y)"
      ],
      "metadata": {
        "colab": {
          "base_uri": "https://localhost:8080/"
        },
        "id": "gFw_8CW-f80o",
        "outputId": "f1ab7156-d8b2-4ba8-a1f6-f10f478d2bc7"
      },
      "execution_count": null,
      "outputs": [
        {
          "output_type": "stream",
          "name": "stdout",
          "text": [
            "[[1]\n",
            " [2]\n",
            " [3]\n",
            " [4]\n",
            " [5]\n",
            " [6]\n",
            " [7]\n",
            " [8]]\n"
          ]
        }
      ]
    },
    {
      "cell_type": "code",
      "source": [
        "y.shape"
      ],
      "metadata": {
        "colab": {
          "base_uri": "https://localhost:8080/"
        },
        "id": "ykotrvsrTzIE",
        "outputId": "51f96b0e-3f63-454b-ddae-f7b9a5cf535d"
      },
      "execution_count": null,
      "outputs": [
        {
          "output_type": "execute_result",
          "data": {
            "text/plain": [
              "(8, 1)"
            ]
          },
          "metadata": {},
          "execution_count": 25
        }
      ]
    },
    {
      "cell_type": "markdown",
      "source": [
        "## Ed Exercise\n",
        "\n",
        "Create a 4x4 numpy array in which each row contains the numbers [1,2,3,4] by using broadcasting."
      ],
      "metadata": {
        "id": "2PdZ9LM4YNvx"
      }
    },
    {
      "cell_type": "code",
      "source": [
        "y=np.zeros((4,4))\n",
        "y=y+np.array([1,2,3,4])\n",
        "y"
      ],
      "metadata": {
        "colab": {
          "base_uri": "https://localhost:8080/"
        },
        "id": "0jfyl3gXXP8e",
        "outputId": "0460c84d-8bff-4500-bfbd-984e9f9c24ff"
      },
      "execution_count": null,
      "outputs": [
        {
          "output_type": "execute_result",
          "data": {
            "text/plain": [
              "array([[1., 2., 3., 4.],\n",
              "       [1., 2., 3., 4.],\n",
              "       [1., 2., 3., 4.],\n",
              "       [1., 2., 3., 4.]])"
            ]
          },
          "metadata": {},
          "execution_count": 27
        }
      ]
    },
    {
      "cell_type": "markdown",
      "source": [
        "## Ed Exercise\n",
        "\n",
        "Create a numpy array of ones. Then set the eighth column to all 2s, the ninth to all 3s, and the tenth to all 4s."
      ],
      "metadata": {
        "id": "Wd93Qsd0Fkzq"
      }
    },
    {
      "cell_type": "code",
      "source": [
        "y=np.ones((10,10))\n",
        "y[:,7:]=[2,3,4]\n",
        "y"
      ],
      "metadata": {
        "colab": {
          "base_uri": "https://localhost:8080/"
        },
        "id": "z-BpMAROEt1w",
        "outputId": "5fcbf680-4e06-42b7-e11d-87234b2a4a6a"
      },
      "execution_count": null,
      "outputs": [
        {
          "output_type": "execute_result",
          "data": {
            "text/plain": [
              "array([[1., 1., 1., 1., 1., 1., 1., 2., 3., 4.],\n",
              "       [1., 1., 1., 1., 1., 1., 1., 2., 3., 4.],\n",
              "       [1., 1., 1., 1., 1., 1., 1., 2., 3., 4.],\n",
              "       [1., 1., 1., 1., 1., 1., 1., 2., 3., 4.],\n",
              "       [1., 1., 1., 1., 1., 1., 1., 2., 3., 4.],\n",
              "       [1., 1., 1., 1., 1., 1., 1., 2., 3., 4.],\n",
              "       [1., 1., 1., 1., 1., 1., 1., 2., 3., 4.],\n",
              "       [1., 1., 1., 1., 1., 1., 1., 2., 3., 4.],\n",
              "       [1., 1., 1., 1., 1., 1., 1., 2., 3., 4.],\n",
              "       [1., 1., 1., 1., 1., 1., 1., 2., 3., 4.]])"
            ]
          },
          "metadata": {},
          "execution_count": 22
        }
      ]
    },
    {
      "cell_type": "markdown",
      "source": [
        "## Ed Exercise\n",
        "\n",
        "Using the countries.csv file in here:\n",
        "\n",
        "https://drive.google.com/drive/folders/1-GKCGczNYt_4hBECuNBytOPX7QXBxBVS?usp=sharing\n",
        "\n",
        "Create a dataframe consisting of two columns, country and population, restricted just to the countries with population over 100,000,000. How many countries are there? What is the average population of these countries?"
      ],
      "metadata": {
        "id": "PiEnrOi6LHoG"
      }
    },
    {
      "cell_type": "code",
      "source": [
        "import pandas as pd\n",
        "countries=pd.read_csv(\"/content/drive/MyDrive/0479 Spring 2022/data/countries.csv\")\n",
        "highpop=countries[countries['population']>100000000][['country','population']]\n",
        "highpop=highpop.sort_values(by='population', ascending=False)\n",
        "print(highpop.describe())\n",
        "highpop.head(30)"
      ],
      "metadata": {
        "colab": {
          "base_uri": "https://localhost:8080/",
          "height": 645
        },
        "id": "DZ7Ho0GzJumJ",
        "outputId": "e684c762-4e54-4d76-efd1-2967a2e2b7eb"
      },
      "execution_count": null,
      "outputs": [
        {
          "output_type": "stream",
          "name": "stdout",
          "text": [
            "         population\n",
            "count  1.400000e+01\n",
            "mean   3.531778e+08\n",
            "std    4.457841e+08\n",
            "min    1.030533e+08\n",
            "25%    1.255085e+08\n",
            "50%    1.918949e+08\n",
            "75%    2.604864e+08\n",
            "max    1.412600e+09\n"
          ]
        },
        {
          "output_type": "execute_result",
          "data": {
            "text/plain": [
              "           country    population\n",
              "74           China  1.412600e+09\n",
              "127          India  1.374305e+09\n",
              "7    United States  3.325667e+08\n",
              "100      Indonesia  2.722485e+08\n",
              "134       Pakistan  2.252000e+08\n",
              "83          Brazil  2.143896e+08\n",
              "143        Nigeria  2.114010e+08\n",
              "136     Bangladesh  1.723889e+08\n",
              "54          Russia  1.454781e+08\n",
              "71          Mexico  1.260140e+08\n",
              "29           Japan  1.253400e+08\n",
              "164       Ethiopia  1.178760e+08\n",
              "120    Philippines  1.116280e+08\n",
              "98           Egypt  1.030533e+08"
            ],
            "text/html": [
              "\n",
              "  <div id=\"df-d4425c7b-7944-441c-91a1-946dcdf7fad7\">\n",
              "    <div class=\"colab-df-container\">\n",
              "      <div>\n",
              "<style scoped>\n",
              "    .dataframe tbody tr th:only-of-type {\n",
              "        vertical-align: middle;\n",
              "    }\n",
              "\n",
              "    .dataframe tbody tr th {\n",
              "        vertical-align: top;\n",
              "    }\n",
              "\n",
              "    .dataframe thead th {\n",
              "        text-align: right;\n",
              "    }\n",
              "</style>\n",
              "<table border=\"1\" class=\"dataframe\">\n",
              "  <thead>\n",
              "    <tr style=\"text-align: right;\">\n",
              "      <th></th>\n",
              "      <th>country</th>\n",
              "      <th>population</th>\n",
              "    </tr>\n",
              "  </thead>\n",
              "  <tbody>\n",
              "    <tr>\n",
              "      <th>74</th>\n",
              "      <td>China</td>\n",
              "      <td>1.412600e+09</td>\n",
              "    </tr>\n",
              "    <tr>\n",
              "      <th>127</th>\n",
              "      <td>India</td>\n",
              "      <td>1.374305e+09</td>\n",
              "    </tr>\n",
              "    <tr>\n",
              "      <th>7</th>\n",
              "      <td>United States</td>\n",
              "      <td>3.325667e+08</td>\n",
              "    </tr>\n",
              "    <tr>\n",
              "      <th>100</th>\n",
              "      <td>Indonesia</td>\n",
              "      <td>2.722485e+08</td>\n",
              "    </tr>\n",
              "    <tr>\n",
              "      <th>134</th>\n",
              "      <td>Pakistan</td>\n",
              "      <td>2.252000e+08</td>\n",
              "    </tr>\n",
              "    <tr>\n",
              "      <th>83</th>\n",
              "      <td>Brazil</td>\n",
              "      <td>2.143896e+08</td>\n",
              "    </tr>\n",
              "    <tr>\n",
              "      <th>143</th>\n",
              "      <td>Nigeria</td>\n",
              "      <td>2.114010e+08</td>\n",
              "    </tr>\n",
              "    <tr>\n",
              "      <th>136</th>\n",
              "      <td>Bangladesh</td>\n",
              "      <td>1.723889e+08</td>\n",
              "    </tr>\n",
              "    <tr>\n",
              "      <th>54</th>\n",
              "      <td>Russia</td>\n",
              "      <td>1.454781e+08</td>\n",
              "    </tr>\n",
              "    <tr>\n",
              "      <th>71</th>\n",
              "      <td>Mexico</td>\n",
              "      <td>1.260140e+08</td>\n",
              "    </tr>\n",
              "    <tr>\n",
              "      <th>29</th>\n",
              "      <td>Japan</td>\n",
              "      <td>1.253400e+08</td>\n",
              "    </tr>\n",
              "    <tr>\n",
              "      <th>164</th>\n",
              "      <td>Ethiopia</td>\n",
              "      <td>1.178760e+08</td>\n",
              "    </tr>\n",
              "    <tr>\n",
              "      <th>120</th>\n",
              "      <td>Philippines</td>\n",
              "      <td>1.116280e+08</td>\n",
              "    </tr>\n",
              "    <tr>\n",
              "      <th>98</th>\n",
              "      <td>Egypt</td>\n",
              "      <td>1.030533e+08</td>\n",
              "    </tr>\n",
              "  </tbody>\n",
              "</table>\n",
              "</div>\n",
              "      <button class=\"colab-df-convert\" onclick=\"convertToInteractive('df-d4425c7b-7944-441c-91a1-946dcdf7fad7')\"\n",
              "              title=\"Convert this dataframe to an interactive table.\"\n",
              "              style=\"display:none;\">\n",
              "        \n",
              "  <svg xmlns=\"http://www.w3.org/2000/svg\" height=\"24px\"viewBox=\"0 0 24 24\"\n",
              "       width=\"24px\">\n",
              "    <path d=\"M0 0h24v24H0V0z\" fill=\"none\"/>\n",
              "    <path d=\"M18.56 5.44l.94 2.06.94-2.06 2.06-.94-2.06-.94-.94-2.06-.94 2.06-2.06.94zm-11 1L8.5 8.5l.94-2.06 2.06-.94-2.06-.94L8.5 2.5l-.94 2.06-2.06.94zm10 10l.94 2.06.94-2.06 2.06-.94-2.06-.94-.94-2.06-.94 2.06-2.06.94z\"/><path d=\"M17.41 7.96l-1.37-1.37c-.4-.4-.92-.59-1.43-.59-.52 0-1.04.2-1.43.59L10.3 9.45l-7.72 7.72c-.78.78-.78 2.05 0 2.83L4 21.41c.39.39.9.59 1.41.59.51 0 1.02-.2 1.41-.59l7.78-7.78 2.81-2.81c.8-.78.8-2.07 0-2.86zM5.41 20L4 18.59l7.72-7.72 1.47 1.35L5.41 20z\"/>\n",
              "  </svg>\n",
              "      </button>\n",
              "      \n",
              "  <style>\n",
              "    .colab-df-container {\n",
              "      display:flex;\n",
              "      flex-wrap:wrap;\n",
              "      gap: 12px;\n",
              "    }\n",
              "\n",
              "    .colab-df-convert {\n",
              "      background-color: #E8F0FE;\n",
              "      border: none;\n",
              "      border-radius: 50%;\n",
              "      cursor: pointer;\n",
              "      display: none;\n",
              "      fill: #1967D2;\n",
              "      height: 32px;\n",
              "      padding: 0 0 0 0;\n",
              "      width: 32px;\n",
              "    }\n",
              "\n",
              "    .colab-df-convert:hover {\n",
              "      background-color: #E2EBFA;\n",
              "      box-shadow: 0px 1px 2px rgba(60, 64, 67, 0.3), 0px 1px 3px 1px rgba(60, 64, 67, 0.15);\n",
              "      fill: #174EA6;\n",
              "    }\n",
              "\n",
              "    [theme=dark] .colab-df-convert {\n",
              "      background-color: #3B4455;\n",
              "      fill: #D2E3FC;\n",
              "    }\n",
              "\n",
              "    [theme=dark] .colab-df-convert:hover {\n",
              "      background-color: #434B5C;\n",
              "      box-shadow: 0px 1px 3px 1px rgba(0, 0, 0, 0.15);\n",
              "      filter: drop-shadow(0px 1px 2px rgba(0, 0, 0, 0.3));\n",
              "      fill: #FFFFFF;\n",
              "    }\n",
              "  </style>\n",
              "\n",
              "      <script>\n",
              "        const buttonEl =\n",
              "          document.querySelector('#df-d4425c7b-7944-441c-91a1-946dcdf7fad7 button.colab-df-convert');\n",
              "        buttonEl.style.display =\n",
              "          google.colab.kernel.accessAllowed ? 'block' : 'none';\n",
              "\n",
              "        async function convertToInteractive(key) {\n",
              "          const element = document.querySelector('#df-d4425c7b-7944-441c-91a1-946dcdf7fad7');\n",
              "          const dataTable =\n",
              "            await google.colab.kernel.invokeFunction('convertToInteractive',\n",
              "                                                     [key], {});\n",
              "          if (!dataTable) return;\n",
              "\n",
              "          const docLinkHtml = 'Like what you see? Visit the ' +\n",
              "            '<a target=\"_blank\" href=https://colab.research.google.com/notebooks/data_table.ipynb>data table notebook</a>'\n",
              "            + ' to learn more about interactive tables.';\n",
              "          element.innerHTML = '';\n",
              "          dataTable['output_type'] = 'display_data';\n",
              "          await google.colab.output.renderOutput(dataTable, element);\n",
              "          const docLink = document.createElement('div');\n",
              "          docLink.innerHTML = docLinkHtml;\n",
              "          element.appendChild(docLink);\n",
              "        }\n",
              "      </script>\n",
              "    </div>\n",
              "  </div>\n",
              "  "
            ]
          },
          "metadata": {},
          "execution_count": 28
        }
      ]
    },
    {
      "cell_type": "markdown",
      "source": [
        "## Ed Exercise\n",
        "\n",
        "The Gini coefficient is a measure of income inequality in a country. It ranges from perfect equality (0) to maximal inequality (100). \n",
        "\n",
        "Use the countries database to find the country with the highest Gini coefficient on each continent. Create a small dataframe consisting of three columns: country, continent, and gini with just one row per continent containing the highest-Gini countries."
      ],
      "metadata": {
        "id": "Ag0-ZJUHNWrO"
      }
    },
    {
      "cell_type": "code",
      "source": [
        "countries=pd.read_csv(\"/content/drive/MyDrive/0479 Spring 2022/data/countries.csv\")\n",
        "g=countries[['country','continent','gini']].dropna()\n",
        "g=g.sort_values(by=['continent','gini'],ascending=False)\n",
        "g=g.drop_duplicates(['continent'])\n",
        "print(g.head(50))"
      ],
      "metadata": {
        "colab": {
          "base_uri": "https://localhost:8080/"
        },
        "id": "GZJhI6TXNiJr",
        "outputId": "3ea0346e-a8a7-4a64-c936-bca2b3327080"
      },
      "execution_count": null,
      "outputs": [
        {
          "output_type": "stream",
          "name": "stdout",
          "text": [
            "             country continent  gini\n",
            "160       Micronesia   Oceania  61.1\n",
            "78   North Macedonia    Europe  43.6\n",
            "9          Hong Kong      Asia  53.9\n",
            "165            Haiti  Americas  60.8\n",
            "167          Lesotho    Africa  63.2\n"
          ]
        }
      ]
    },
    {
      "cell_type": "markdown",
      "source": [
        "## Ed Exercise\n",
        "\n",
        "Put the countries into bins of per-capita GDP with breakpoints at every \\$10,000. So the bins are \\$0-10K, \\$10-20K, all the way up to the range containing the maximum per capita GDP in the table. Output a table of the number of countries in each bin."
      ],
      "metadata": {
        "id": "iqh6SWDRZk-j"
      }
    },
    {
      "cell_type": "code",
      "source": [
        "countries=pd.read_csv(\"/content/drive/MyDrive/0479 Spring 2022/data/countries.csv\")\n",
        "maxGDP=countries['gdpPerCapita2021'].max()\n",
        "print(maxGDP)\n",
        "width=10000\n",
        "bins=list(range(0,int(maxGDP)+width,width))\n",
        "pd.cut(countries['gdpPerCapita2021'],bins).value_counts()"
      ],
      "metadata": {
        "colab": {
          "base_uri": "https://localhost:8080/"
        },
        "id": "8b0AepZzY1qG",
        "outputId": "d53e01cd-5e1c-4944-b126-8a786e5d3634"
      },
      "execution_count": null,
      "outputs": [
        {
          "output_type": "stream",
          "name": "stdout",
          "text": [
            "122740.0\n"
          ]
        },
        {
          "output_type": "execute_result",
          "data": {
            "text/plain": [
              "(0, 10000]          78\n",
              "(10000, 20000]      45\n",
              "(20000, 30000]      19\n",
              "(40000, 50000]      15\n",
              "(30000, 40000]      14\n",
              "(50000, 60000]      11\n",
              "(60000, 70000]       7\n",
              "(90000, 100000]      3\n",
              "(70000, 80000]       1\n",
              "(100000, 110000]     1\n",
              "(120000, 130000]     1\n",
              "(80000, 90000]       0\n",
              "(110000, 120000]     0\n",
              "Name: gdpPerCapita2021, dtype: int64"
            ]
          },
          "metadata": {},
          "execution_count": 30
        }
      ]
    },
    {
      "cell_type": "markdown",
      "source": [
        "## Ed Exercise\n",
        "\n",
        "Estimate the GDP of each country by multiplying the GDP per capita column by the population column to create a new column. Then create a new dataframe consisting of the country names and the GDPs of the countries beginning with an \"S\". Drop the rows containing missing rows from this dataframe. "
      ],
      "metadata": {
        "id": "TBTdVPBTc6RH"
      }
    },
    {
      "cell_type": "code",
      "source": [
        "countries=pd.read_csv(\"/content/drive/MyDrive/0479 Spring 2022/data/countries.csv\")\n",
        "countries['gdp']=countries['gdpPerCapita2021']*countries['population']\n",
        "sCountries=countries[(countries['country'].str[0]==\"S\")][['country','gdp']].sort_values(by='gdp',ascending=False)\n",
        "sCountries=sCountries.dropna()\n",
        "sCountries.head(50)"
      ],
      "metadata": {
        "colab": {
          "base_uri": "https://localhost:8080/",
          "height": 865
        },
        "outputId": "2d447ca0-11c4-47b5-e617-25ae3f0854f1",
        "id": "qyx8BujSc70D"
      },
      "execution_count": null,
      "outputs": [
        {
          "output_type": "execute_result",
          "data": {
            "text/plain": [
              "                              country           gdp\n",
              "27                        South Korea  2.427795e+12\n",
              "35                              Spain  1.966235e+12\n",
              "25                       Saudi Arabia  1.684110e+12\n",
              "103                      South Africa  7.482989e+11\n",
              "5                         Switzerland  6.614539e+11\n",
              "18                             Sweden  5.807939e+11\n",
              "1                           Singapore  5.603138e+11\n",
              "92                          Sri Lanka  3.081678e+11\n",
              "44                           Slovakia  1.898123e+11\n",
              "152                             Sudan  1.807286e+11\n",
              "70                             Serbia  1.411759e+11\n",
              "130                             Syria  1.164729e+11\n",
              "37                           Slovenia  8.608844e+10\n",
              "158                           Senegal  6.243518e+10\n",
              "192                           Somalia  1.539476e+10\n",
              "183                      Sierra Leone  1.469555e+10\n",
              "193                       South Sudan  1.093119e+10\n",
              "88                           Suriname  8.792394e+09\n",
              "57                         Seychelles  2.591057e+09\n",
              "91                        Saint Lucia  2.491380e+09\n",
              "10                         San Marino  2.071897e+09\n",
              "172                   Solomon Islands  1.807726e+09\n",
              "102  Saint Vincent and the Grenadines  1.418126e+09\n",
              "67              Saint Kitts and Nevis  1.119420e+09\n",
              "145                             Samoa  1.051227e+09\n",
              "154             São Tomé and Príncipe  8.425589e+08"
            ],
            "text/html": [
              "\n",
              "  <div id=\"df-992da3ad-7359-453a-8999-2129b0f30db1\">\n",
              "    <div class=\"colab-df-container\">\n",
              "      <div>\n",
              "<style scoped>\n",
              "    .dataframe tbody tr th:only-of-type {\n",
              "        vertical-align: middle;\n",
              "    }\n",
              "\n",
              "    .dataframe tbody tr th {\n",
              "        vertical-align: top;\n",
              "    }\n",
              "\n",
              "    .dataframe thead th {\n",
              "        text-align: right;\n",
              "    }\n",
              "</style>\n",
              "<table border=\"1\" class=\"dataframe\">\n",
              "  <thead>\n",
              "    <tr style=\"text-align: right;\">\n",
              "      <th></th>\n",
              "      <th>country</th>\n",
              "      <th>gdp</th>\n",
              "    </tr>\n",
              "  </thead>\n",
              "  <tbody>\n",
              "    <tr>\n",
              "      <th>27</th>\n",
              "      <td>South Korea</td>\n",
              "      <td>2.427795e+12</td>\n",
              "    </tr>\n",
              "    <tr>\n",
              "      <th>35</th>\n",
              "      <td>Spain</td>\n",
              "      <td>1.966235e+12</td>\n",
              "    </tr>\n",
              "    <tr>\n",
              "      <th>25</th>\n",
              "      <td>Saudi Arabia</td>\n",
              "      <td>1.684110e+12</td>\n",
              "    </tr>\n",
              "    <tr>\n",
              "      <th>103</th>\n",
              "      <td>South Africa</td>\n",
              "      <td>7.482989e+11</td>\n",
              "    </tr>\n",
              "    <tr>\n",
              "      <th>5</th>\n",
              "      <td>Switzerland</td>\n",
              "      <td>6.614539e+11</td>\n",
              "    </tr>\n",
              "    <tr>\n",
              "      <th>18</th>\n",
              "      <td>Sweden</td>\n",
              "      <td>5.807939e+11</td>\n",
              "    </tr>\n",
              "    <tr>\n",
              "      <th>1</th>\n",
              "      <td>Singapore</td>\n",
              "      <td>5.603138e+11</td>\n",
              "    </tr>\n",
              "    <tr>\n",
              "      <th>92</th>\n",
              "      <td>Sri Lanka</td>\n",
              "      <td>3.081678e+11</td>\n",
              "    </tr>\n",
              "    <tr>\n",
              "      <th>44</th>\n",
              "      <td>Slovakia</td>\n",
              "      <td>1.898123e+11</td>\n",
              "    </tr>\n",
              "    <tr>\n",
              "      <th>152</th>\n",
              "      <td>Sudan</td>\n",
              "      <td>1.807286e+11</td>\n",
              "    </tr>\n",
              "    <tr>\n",
              "      <th>70</th>\n",
              "      <td>Serbia</td>\n",
              "      <td>1.411759e+11</td>\n",
              "    </tr>\n",
              "    <tr>\n",
              "      <th>130</th>\n",
              "      <td>Syria</td>\n",
              "      <td>1.164729e+11</td>\n",
              "    </tr>\n",
              "    <tr>\n",
              "      <th>37</th>\n",
              "      <td>Slovenia</td>\n",
              "      <td>8.608844e+10</td>\n",
              "    </tr>\n",
              "    <tr>\n",
              "      <th>158</th>\n",
              "      <td>Senegal</td>\n",
              "      <td>6.243518e+10</td>\n",
              "    </tr>\n",
              "    <tr>\n",
              "      <th>192</th>\n",
              "      <td>Somalia</td>\n",
              "      <td>1.539476e+10</td>\n",
              "    </tr>\n",
              "    <tr>\n",
              "      <th>183</th>\n",
              "      <td>Sierra Leone</td>\n",
              "      <td>1.469555e+10</td>\n",
              "    </tr>\n",
              "    <tr>\n",
              "      <th>193</th>\n",
              "      <td>South Sudan</td>\n",
              "      <td>1.093119e+10</td>\n",
              "    </tr>\n",
              "    <tr>\n",
              "      <th>88</th>\n",
              "      <td>Suriname</td>\n",
              "      <td>8.792394e+09</td>\n",
              "    </tr>\n",
              "    <tr>\n",
              "      <th>57</th>\n",
              "      <td>Seychelles</td>\n",
              "      <td>2.591057e+09</td>\n",
              "    </tr>\n",
              "    <tr>\n",
              "      <th>91</th>\n",
              "      <td>Saint Lucia</td>\n",
              "      <td>2.491380e+09</td>\n",
              "    </tr>\n",
              "    <tr>\n",
              "      <th>10</th>\n",
              "      <td>San Marino</td>\n",
              "      <td>2.071897e+09</td>\n",
              "    </tr>\n",
              "    <tr>\n",
              "      <th>172</th>\n",
              "      <td>Solomon Islands</td>\n",
              "      <td>1.807726e+09</td>\n",
              "    </tr>\n",
              "    <tr>\n",
              "      <th>102</th>\n",
              "      <td>Saint Vincent and the Grenadines</td>\n",
              "      <td>1.418126e+09</td>\n",
              "    </tr>\n",
              "    <tr>\n",
              "      <th>67</th>\n",
              "      <td>Saint Kitts and Nevis</td>\n",
              "      <td>1.119420e+09</td>\n",
              "    </tr>\n",
              "    <tr>\n",
              "      <th>145</th>\n",
              "      <td>Samoa</td>\n",
              "      <td>1.051227e+09</td>\n",
              "    </tr>\n",
              "    <tr>\n",
              "      <th>154</th>\n",
              "      <td>São Tomé and Príncipe</td>\n",
              "      <td>8.425589e+08</td>\n",
              "    </tr>\n",
              "  </tbody>\n",
              "</table>\n",
              "</div>\n",
              "      <button class=\"colab-df-convert\" onclick=\"convertToInteractive('df-992da3ad-7359-453a-8999-2129b0f30db1')\"\n",
              "              title=\"Convert this dataframe to an interactive table.\"\n",
              "              style=\"display:none;\">\n",
              "        \n",
              "  <svg xmlns=\"http://www.w3.org/2000/svg\" height=\"24px\"viewBox=\"0 0 24 24\"\n",
              "       width=\"24px\">\n",
              "    <path d=\"M0 0h24v24H0V0z\" fill=\"none\"/>\n",
              "    <path d=\"M18.56 5.44l.94 2.06.94-2.06 2.06-.94-2.06-.94-.94-2.06-.94 2.06-2.06.94zm-11 1L8.5 8.5l.94-2.06 2.06-.94-2.06-.94L8.5 2.5l-.94 2.06-2.06.94zm10 10l.94 2.06.94-2.06 2.06-.94-2.06-.94-.94-2.06-.94 2.06-2.06.94z\"/><path d=\"M17.41 7.96l-1.37-1.37c-.4-.4-.92-.59-1.43-.59-.52 0-1.04.2-1.43.59L10.3 9.45l-7.72 7.72c-.78.78-.78 2.05 0 2.83L4 21.41c.39.39.9.59 1.41.59.51 0 1.02-.2 1.41-.59l7.78-7.78 2.81-2.81c.8-.78.8-2.07 0-2.86zM5.41 20L4 18.59l7.72-7.72 1.47 1.35L5.41 20z\"/>\n",
              "  </svg>\n",
              "      </button>\n",
              "      \n",
              "  <style>\n",
              "    .colab-df-container {\n",
              "      display:flex;\n",
              "      flex-wrap:wrap;\n",
              "      gap: 12px;\n",
              "    }\n",
              "\n",
              "    .colab-df-convert {\n",
              "      background-color: #E8F0FE;\n",
              "      border: none;\n",
              "      border-radius: 50%;\n",
              "      cursor: pointer;\n",
              "      display: none;\n",
              "      fill: #1967D2;\n",
              "      height: 32px;\n",
              "      padding: 0 0 0 0;\n",
              "      width: 32px;\n",
              "    }\n",
              "\n",
              "    .colab-df-convert:hover {\n",
              "      background-color: #E2EBFA;\n",
              "      box-shadow: 0px 1px 2px rgba(60, 64, 67, 0.3), 0px 1px 3px 1px rgba(60, 64, 67, 0.15);\n",
              "      fill: #174EA6;\n",
              "    }\n",
              "\n",
              "    [theme=dark] .colab-df-convert {\n",
              "      background-color: #3B4455;\n",
              "      fill: #D2E3FC;\n",
              "    }\n",
              "\n",
              "    [theme=dark] .colab-df-convert:hover {\n",
              "      background-color: #434B5C;\n",
              "      box-shadow: 0px 1px 3px 1px rgba(0, 0, 0, 0.15);\n",
              "      filter: drop-shadow(0px 1px 2px rgba(0, 0, 0, 0.3));\n",
              "      fill: #FFFFFF;\n",
              "    }\n",
              "  </style>\n",
              "\n",
              "      <script>\n",
              "        const buttonEl =\n",
              "          document.querySelector('#df-992da3ad-7359-453a-8999-2129b0f30db1 button.colab-df-convert');\n",
              "        buttonEl.style.display =\n",
              "          google.colab.kernel.accessAllowed ? 'block' : 'none';\n",
              "\n",
              "        async function convertToInteractive(key) {\n",
              "          const element = document.querySelector('#df-992da3ad-7359-453a-8999-2129b0f30db1');\n",
              "          const dataTable =\n",
              "            await google.colab.kernel.invokeFunction('convertToInteractive',\n",
              "                                                     [key], {});\n",
              "          if (!dataTable) return;\n",
              "\n",
              "          const docLinkHtml = 'Like what you see? Visit the ' +\n",
              "            '<a target=\"_blank\" href=https://colab.research.google.com/notebooks/data_table.ipynb>data table notebook</a>'\n",
              "            + ' to learn more about interactive tables.';\n",
              "          element.innerHTML = '';\n",
              "          dataTable['output_type'] = 'display_data';\n",
              "          await google.colab.output.renderOutput(dataTable, element);\n",
              "          const docLink = document.createElement('div');\n",
              "          docLink.innerHTML = docLinkHtml;\n",
              "          element.appendChild(docLink);\n",
              "        }\n",
              "      </script>\n",
              "    </div>\n",
              "  </div>\n",
              "  "
            ]
          },
          "metadata": {},
          "execution_count": 66
        }
      ]
    }
  ]
}