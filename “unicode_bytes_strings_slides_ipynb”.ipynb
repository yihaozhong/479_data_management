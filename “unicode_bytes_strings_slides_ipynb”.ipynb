{
  "cells": [
    {
      "cell_type": "markdown",
      "metadata": {
        "id": "view-in-github",
        "colab_type": "text"
      },
      "source": [
        "<a href=\"https://colab.research.google.com/github/yihaozhong/479_data_management/blob/main/%E2%80%9Cunicode_bytes_strings_slides_ipynb%E2%80%9D.ipynb\" target=\"_parent\"><img src=\"https://colab.research.google.com/assets/colab-badge.svg\" alt=\"Open In Colab\"/></a>"
      ]
    },
    {
      "cell_type": "markdown",
      "metadata": {
        "id": "LpE8eZRdq3wt"
      },
      "source": [
        "# Unicode, Encoding, Bytes and Strings\n",
        "\n"
      ]
    },
    {
      "cell_type": "markdown",
      "metadata": {
        "id": "Y1J8LtvXq3ww"
      },
      "source": [
        "## How Does a Computer Store Data?\n",
        "\n",
        "Bits! ... 0's and 1's.\n",
        "\n",
        "How do we encode numbers into 0's and 1's... what about characters?"
      ]
    },
    {
      "cell_type": "markdown",
      "metadata": {
        "id": "qF7ozN2Dq3wx"
      },
      "source": [
        "## Straightforward for Numbers: Binary!"
      ]
    },
    {
      "cell_type": "markdown",
      "metadata": {
        "id": "AdpmJiwDq3wx"
      },
      "source": [
        "* use some set number of bits to represent:\n",
        "* whole numbers... or floating point numbers\n",
        "* maybe some bits can be reserved for:\n",
        "    * where to place decimal point\n",
        "    * positive or negative\n",
        "* need to represent more values? add more bits!"
      ]
    },
    {
      "cell_type": "markdown",
      "metadata": {
        "id": "rq631isIq3wy"
      },
      "source": [
        "## A Refresher\n",
        "\n",
        "__Do you remember how binary numbers work?__ &rarr;"
      ]
    },
    {
      "cell_type": "markdown",
      "metadata": {
        "id": "d5bZE1Wwq3wy"
      },
      "source": [
        "* a __binary number__ is composed of bits\n",
        "* a __bit__ can contain a 0 or 1\n",
        "* a __byte__ is 8 bits\n",
        "* in a byte (assuming a specific architecture), the least significant bit (last bit) is the number of 2^0 or 1's, follwed by 2's, 4's, 8's, 16's, etc.\n",
        "* the most significant bit in a byte is 128's\n",
        "* to calculate the value in based 10, sum the prodcuts of the bits and their places"
      ]
    },
    {
      "cell_type": "markdown",
      "metadata": {
        "id": "maCPhDplq3w0"
      },
      "source": [
        "## An Example\n",
        "\n",
        "__What is `10000011` in decimal__ &rarr;"
      ]
    },
    {
      "cell_type": "markdown",
      "metadata": {
        "id": "wYyHH1yeq3w1"
      },
      "source": [
        "\n",
        "```\n",
        "1   | 0   | 0   | 0   | 0   | 0   | 1   | 1\n",
        "----+-----+-----+-----+-----+-----+-----+-----\n",
        "2^7 | 2^6 | 2^5 | 2^4 | 2^3 | 2^2 | 2^1 | 2^0\n",
        "128 | 64  | 32  | 16  | 8   | 4   | 2   | 1\n",
        "```\n",
        "\n",
        "```\n",
        "(1 * 128) + (1 * 2) + (1 * 1)\n",
        "```\n",
        "\n",
        "```\n",
        "10000011 = 131\n",
        "```"
      ]
    },
    {
      "cell_type": "markdown",
      "metadata": {
        "id": "8GJjC777q3w1"
      },
      "source": [
        "## Some Useful Tools\n",
        "\n",
        "You can use `int` and `format` to convert binary to decimal and decimal to binary:"
      ]
    },
    {
      "cell_type": "code",
      "execution_count": null,
      "metadata": {
        "colab": {
          "base_uri": "https://localhost:8080/"
        },
        "id": "fGKVKUT8q3w2",
        "outputId": "e0e2326d-9e9a-440d-b2e9-db8d4aad92ae"
      },
      "outputs": [
        {
          "output_type": "execute_result",
          "data": {
            "text/plain": [
              "131"
            ]
          },
          "metadata": {},
          "execution_count": 1
        }
      ],
      "source": [
        "int('10000011',2)"
      ]
    },
    {
      "cell_type": "code",
      "execution_count": null,
      "metadata": {
        "id": "qd7bjAK9q3w3",
        "outputId": "dc3d92eb-7dcf-443f-f243-823af55a658c"
      },
      "outputs": [
        {
          "data": {
            "text/plain": [
              "4"
            ]
          },
          "execution_count": 4,
          "metadata": {},
          "output_type": "execute_result"
        }
      ],
      "source": [
        "int('100', 2) "
      ]
    },
    {
      "cell_type": "markdown",
      "metadata": {
        "id": "MS6jNxVMq3w4"
      },
      "source": [
        "format(4, 'b')"
      ]
    },
    {
      "cell_type": "markdown",
      "metadata": {
        "id": "DQ3unAfmq3w7"
      },
      "source": [
        "## Converting to Binary, Octal, and Hexadecimal"
      ]
    },
    {
      "cell_type": "code",
      "execution_count": null,
      "metadata": {
        "colab": {
          "base_uri": "https://localhost:8080/",
          "height": 35
        },
        "id": "hTvvQV4Tq3w7",
        "outputId": "c1b5ae36-6458-41d8-c0f7-59dc79c64a1f"
      },
      "outputs": [
        {
          "output_type": "execute_result",
          "data": {
            "application/vnd.google.colaboratory.intrinsic+json": {
              "type": "string"
            },
            "text/plain": [
              "'0b10000011'"
            ]
          },
          "metadata": {},
          "execution_count": 2
        }
      ],
      "source": [
        "bin(131)"
      ]
    },
    {
      "cell_type": "code",
      "execution_count": null,
      "metadata": {
        "id": "oJiPB2FUq3w8",
        "outputId": "c9355581-1df2-4f1a-9fd4-c765d25f0db8"
      },
      "outputs": [
        {
          "data": {
            "text/plain": [
              "131"
            ]
          },
          "execution_count": 9,
          "metadata": {},
          "output_type": "execute_result"
        }
      ],
      "source": [
        "int('10000011',2)"
      ]
    },
    {
      "cell_type": "code",
      "execution_count": null,
      "metadata": {
        "colab": {
          "base_uri": "https://localhost:8080/",
          "height": 35
        },
        "id": "aawPR0KZq3w8",
        "outputId": "3d746c9c-1084-4f24-bad7-112dbd510daa"
      },
      "outputs": [
        {
          "output_type": "execute_result",
          "data": {
            "application/vnd.google.colaboratory.intrinsic+json": {
              "type": "string"
            },
            "text/plain": [
              "'0o203'"
            ]
          },
          "metadata": {},
          "execution_count": 3
        }
      ],
      "source": [
        "oct(131)"
      ]
    },
    {
      "cell_type": "code",
      "execution_count": null,
      "metadata": {
        "id": "WLbaS1lnq3w8",
        "outputId": "e753da12-e6c3-4faf-a79d-a0c4b698e709"
      },
      "outputs": [
        {
          "data": {
            "text/plain": [
              "131"
            ]
          },
          "execution_count": 11,
          "metadata": {},
          "output_type": "execute_result"
        }
      ],
      "source": [
        "int('203',8)"
      ]
    },
    {
      "cell_type": "code",
      "execution_count": null,
      "metadata": {
        "id": "5-9P2wjNq3w8",
        "outputId": "9d0b9798-ecaf-4b0f-b1a0-6f01909d6877"
      },
      "outputs": [
        {
          "data": {
            "text/plain": [
              "'0x83'"
            ]
          },
          "execution_count": 8,
          "metadata": {},
          "output_type": "execute_result"
        }
      ],
      "source": [
        "hex(131)"
      ]
    },
    {
      "cell_type": "code",
      "execution_count": null,
      "metadata": {
        "colab": {
          "base_uri": "https://localhost:8080/"
        },
        "id": "0nU6pSroq3w9",
        "outputId": "af00d496-5ea7-425f-ef56-70e7580db870"
      },
      "outputs": [
        {
          "output_type": "execute_result",
          "data": {
            "text/plain": [
              "131"
            ]
          },
          "metadata": {},
          "execution_count": 4
        }
      ],
      "source": [
        "int('83',16)"
      ]
    },
    {
      "cell_type": "markdown",
      "source": [
        "Poll Everywhere Question\n",
        "\n",
        "1001 Decimal is what in Hex?\n",
        "\n",
        "* 4a2\n",
        "* 3e7\n",
        "* 3e9\n",
        "* b88"
      ],
      "metadata": {
        "id": "zuDofe-b2ieO"
      }
    },
    {
      "cell_type": "markdown",
      "metadata": {
        "id": "YS3ZML4Mq3w9"
      },
      "source": [
        "## For Text: Map Numbers to Characters"
      ]
    },
    {
      "cell_type": "markdown",
      "metadata": {
        "id": "Y8sPbTFiq3w-"
      },
      "source": [
        "Map numbers respending ASCII codes to corresponding characters...\n",
        "\n",
        "* ASCII: American Standard Code for Information Interchange\n",
        "* for example: 65 -> A\n",
        "* you may have a table of mappings from code points to characters (something like [http://www.asciitable.com](http://www.asciitable.com))\n",
        "* those mappings have to be encoded into (some number of) bits"
      ]
    },
    {
      "cell_type": "markdown",
      "metadata": {
        "id": "e_U2zcrQq3w-"
      },
      "source": [
        "## To convert back and forth, use ord and chr"
      ]
    },
    {
      "cell_type": "code",
      "execution_count": null,
      "metadata": {
        "colab": {
          "base_uri": "https://localhost:8080/"
        },
        "id": "rnN8I7gGq3w-",
        "outputId": "6a6ba86e-e17f-408e-86f3-e51780cd9881"
      },
      "outputs": [
        {
          "output_type": "stream",
          "name": "stdout",
          "text": [
            "65\n",
            "A\n"
          ]
        }
      ],
      "source": [
        "# ord and chr will convert to and from a character and code\n",
        "# point\n",
        "print(ord('A'))\n",
        "print(chr(65))"
      ]
    },
    {
      "cell_type": "markdown",
      "metadata": {
        "id": "DAwzKMLoq3w_"
      },
      "source": [
        "## ASCII"
      ]
    },
    {
      "cell_type": "markdown",
      "metadata": {
        "id": "44rZfUAYq3xA"
      },
      "source": [
        "* ASCII is encoded using 7 bits (or 8 for extended!)\n",
        "    * this is ~ 128 different values\n",
        "    * good for Western languages without diacritical marks: a-z, A-Z, 0-9 etc., e.g. English\n",
        "    * not so good even for French\n",
        "    * not so good for languages that use different character sets\n",
        "    * some languages (e.g. Chinese) contain thousands of different changes\n",
        "    * not so good if you want to send 🤢 or other emoji\n",
        "* ASCII is both the name of the mapping and name of the encoding"
      ]
    },
    {
      "cell_type": "markdown",
      "metadata": {
        "id": "wDFI_h0Oq3xA"
      },
      "source": [
        "## _Other Encodings_\n",
        "\n",
        "* Because ASCII was limited, [many other encodings](https://en.wikipedia.org/wiki/Character_encoding#Common_character_encodings) were developed. \n",
        "* These encodings weren't guaranteed to have common mappings, even if they were meant to represent the same character set! \n",
        "\n",
        "__What to do?__"
      ]
    },
    {
      "cell_type": "markdown",
      "metadata": {
        "id": "2AIVYQb6q3xA"
      },
      "source": [
        "## Code Points\n",
        "\n",
        "A code point is a particular numerical value that is used in a particular encoding. For instance, 7-bit ASCII has 128 points from 0 to 7F (hex). 8-bit (extended) ASCII has 256 from 0 to FF (hex)"
      ]
    },
    {
      "cell_type": "markdown",
      "metadata": {
        "id": "J81zX3pnq3xA"
      },
      "source": [
        "## Unicode\n",
        "\n",
        "Unicode is the name of a mapping of _code points_ only (it does not specify encoding!). It can represent over 1 million characters! Everything from Cyrillic to all of your favorite emoji.\n"
      ]
    },
    {
      "cell_type": "markdown",
      "metadata": {
        "id": "uDjJaJOnq3xA"
      },
      "source": [
        "\n",
        "## More Unicode\n",
        "The links below show some tables. Code points may be represented in binary, decimal, and hexidecimal. Many tables use hexadecimal... but resulting code point is still same value.\n",
        "\n",
        "* unicode.org has all the charts: [https://unicode.org/charts/](https://unicode.org/charts/)\n",
        "* the first 128 characters are backward compatible with ASCII: [https://unicode.org/charts/PDF/U0000.pdf](https://unicode.org/charts/PDF/U0000.pdf)\n",
        "* here are some emoji mappings if want 'em 🙏: [https://unicode.org/emoji/charts/full-emoji-list.html](https://unicode.org/emoji/charts/full-emoji-list.html)\n",
        "\n"
      ]
    },
    {
      "cell_type": "markdown",
      "metadata": {
        "id": "nf7M2GYxq3xB"
      },
      "source": [
        "## Encodings for Unicode\n",
        "\n",
        "Again, unicode is just the name of the mapping from code points to characters. Want to actually _encode_ a character? You have some choices:"
      ]
    },
    {
      "cell_type": "markdown",
      "metadata": {
        "id": "DJ3mCK-8q3xB"
      },
      "source": [
        "* `utf-8`: variable length (1 to 4 bytes)\n",
        "* `utf-16`: (2 bytes or 4 bytes)\n",
        "* `utf-32`: (4 bytes)"
      ]
    },
    {
      "cell_type": "markdown",
      "metadata": {
        "id": "KekkYOguq3xB"
      },
      "source": [
        "## utf-8\n",
        "\n",
        "Can store characters in 1 byte or as many as 4 bytes (variable length encoding)\n",
        "\n",
        "* even though there are only 8 bits in 1 byte, can represent other unicode characters by adding additional bytes \n",
        "* higher bytes (left most) specify whether or not other bytes should be combined \n",
        "* for example, if left-most bit is 0, then character can be represented by a single byte\n",
        "* if first bit is 1, then multiple bytes needed to represent character!"
      ]
    },
    {
      "cell_type": "markdown",
      "metadata": {
        "id": "xbRCB4Teq3xB"
      },
      "source": [
        "## utf-8, Multiple Bytes\n",
        "\n",
        "* starting with 110xxxxx means two bytes needed\n",
        "* starting with 1110xxxx means three bytes needed\n",
        "* __see a pattern?__ &rarr;"
      ]
    },
    {
      "cell_type": "markdown",
      "metadata": {
        "id": "zttc4tM6q3xC"
      },
      "source": [
        "## utf-8, Multiple Bytes\n",
        "\n",
        "* number of 1's specifies number of bytes to represent character\n",
        "* additional / continuation bytes are prefixed with 10\n",
        "* so, take the binary representation of a code point and fill in the x's\n",
        "* for something that needs 4 bytes to represent:\n",
        "    * `11110xxx` `10xxxxxx` `10xxxxxx` `10xxxxx`\n",
        "    * first 4 1's and 0 mean 4 bytes\n",
        "    * remaining 3 bytes are prefixed with 10\n",
        "    * fill in x's with bits from binary representation of code point"
      ]
    },
    {
      "cell_type": "markdown",
      "metadata": {
        "id": "hwjG0Y7hq3xC"
      },
      "source": [
        "## Before We Go On... Strings, chr, ord, Bytes, and Strings vs Bytes"
      ]
    },
    {
      "cell_type": "markdown",
      "metadata": {
        "id": "kcMCViHQq3xC"
      },
      "source": [
        "## Strings\n",
        "\n",
        "From the docs: \"The default encoding for Python source code is UTF-8, so you can simply include a Unicode character in a string literal\"... see below ..."
      ]
    },
    {
      "cell_type": "code",
      "execution_count": null,
      "metadata": {
        "colab": {
          "base_uri": "https://localhost:8080/"
        },
        "id": "vfte3bLGq3xC",
        "outputId": "4fcb90d6-f0a7-4152-fe46-121ca14cc33e"
      },
      "outputs": [
        {
          "output_type": "stream",
          "name": "stdout",
          "text": [
            "also a string ☃\n",
            "<class 'str'>\n"
          ]
        }
      ],
      "source": [
        "s = \"this is clearly a string\"\n",
        "s2 = \"also a string ☃\"\n",
        "print(s2)\n",
        "print(type(s2))"
      ]
    },
    {
      "cell_type": "code",
      "execution_count": null,
      "metadata": {
        "colab": {
          "base_uri": "https://localhost:8080/"
        },
        "id": "tdjIo1iOq3xD",
        "outputId": "0f2f3929-043a-467e-e49b-282ec10e4dcf"
      },
      "outputs": [
        {
          "output_type": "stream",
          "name": "stdout",
          "text": [
            "not sure 🙃\n",
            "<class 'str'>\n"
          ]
        }
      ],
      "source": [
        "s3 = \"not sure 🙃\"\n",
        "print(s3)\n",
        "print(type(s3))"
      ]
    },
    {
      "cell_type": "code",
      "execution_count": null,
      "metadata": {
        "id": "htjMRNJhq3xD",
        "outputId": "a5d875cd-fb8e-4e71-cae0-fba32ceb3e36"
      },
      "outputs": [
        {
          "name": "stdout",
          "output_type": "stream",
          "text": [
            "n 110\n",
            "o 111\n",
            "t 116\n",
            "  32\n",
            "s 115\n",
            "u 117\n",
            "r 114\n",
            "e 101\n",
            "  32\n",
            "🙃 128579\n"
          ]
        },
        {
          "data": {
            "text/plain": [
              "'🙃'"
            ]
          },
          "execution_count": 18,
          "metadata": {},
          "output_type": "execute_result"
        }
      ],
      "source": [
        "for c in s3:\n",
        "    print(c,ord(c))\n",
        "chr(128579)"
      ]
    },
    {
      "cell_type": "markdown",
      "metadata": {
        "id": "vSfDg9K2q3xE"
      },
      "source": [
        "## chr and ord\n",
        "\n",
        "__What do these two built-in functions do again__?"
      ]
    },
    {
      "cell_type": "markdown",
      "metadata": {
        "id": "Ky61Ql-Zq3xE"
      },
      "source": [
        "They map unicode characters to and from unicode code points (numbers):\n",
        "    \n",
        "* `ord` - returns the unicode code point of the character passed in\n",
        "* `chr` - returns the character that the code point passed in maps to\n",
        "\n",
        "```\n",
        "ord('A') # 65\n",
        "chr(65) # B\n",
        "```\n",
        "\n",
        "These two functions handle mapping a number to a character."
      ]
    },
    {
      "cell_type": "markdown",
      "source": [
        "Poll Everywhere Question\n",
        "\n",
        "utf-8 uses \n",
        "\n",
        "* 2 bytes per character\n",
        "* 3 bytes per character\n",
        "* A variable number of bytes per character\n",
        "* 8 bytes per character\n"
      ],
      "metadata": {
        "id": "cuIlJb2r3syh"
      }
    },
    {
      "cell_type": "markdown",
      "metadata": {
        "id": "buSgVcxGq3xE"
      },
      "source": [
        "## bytes Objects\n",
        "\n",
        "__If we want to deal with how character data is actually stored in bits/bytes, we can work with a `bytes` object:__\n",
        "\n",
        "From Python docs: \"Bytes objects are immutable sequences of single bytes.\" ...\n",
        "\n",
        "__one way to do this is with a sequence (for example, a list) of ints `0` - `255`__"
      ]
    },
    {
      "cell_type": "code",
      "execution_count": null,
      "metadata": {
        "id": "H65UkdUUq3xE",
        "outputId": "ce2e9de6-5848-4079-acc8-ce83f7d446db"
      },
      "outputs": [
        {
          "data": {
            "text/plain": [
              "b'CAB'"
            ]
          },
          "execution_count": 20,
          "metadata": {},
          "output_type": "execute_result"
        }
      ],
      "source": [
        "b = bytes([67, 65, 66])\n",
        "b"
      ]
    },
    {
      "cell_type": "code",
      "execution_count": null,
      "metadata": {
        "colab": {
          "base_uri": "https://localhost:8080/"
        },
        "id": "_y-hJ0mJq3xE",
        "outputId": "07c1ebbd-694c-4a10-953f-fab3061992ea"
      },
      "outputs": [
        {
          "output_type": "stream",
          "name": "stdout",
          "text": [
            "67\n",
            "65\n",
            "66\n"
          ]
        }
      ],
      "source": [
        "for c in \"CAB\":\n",
        "    print(ord(c))"
      ]
    },
    {
      "cell_type": "markdown",
      "metadata": {
        "id": "aWLrvzkKq3xE"
      },
      "source": [
        "## bytes Can Also Simply be Created with Strings"
      ]
    },
    {
      "cell_type": "code",
      "execution_count": null,
      "metadata": {
        "colab": {
          "base_uri": "https://localhost:8080/"
        },
        "id": "sfiPhPcVq3xE",
        "outputId": "e3148a2b-aa17-4ac8-8157-e164d7ad246e"
      },
      "outputs": [
        {
          "output_type": "stream",
          "name": "stdout",
          "text": [
            "67\n",
            "65\n",
            "66\n"
          ]
        }
      ],
      "source": [
        "for c in b\"CAB\":\n",
        "    print(c)"
      ]
    },
    {
      "cell_type": "code",
      "execution_count": null,
      "metadata": {
        "id": "3gE_t-cQq3xF"
      },
      "outputs": [],
      "source": [
        "b = b\"hello\""
      ]
    },
    {
      "cell_type": "code",
      "execution_count": null,
      "metadata": {
        "colab": {
          "base_uri": "https://localhost:8080/"
        },
        "id": "bZphx_h8q3xF",
        "outputId": "2dba84fb-c1ea-43a0-fb1a-d5299af319e7"
      },
      "outputs": [
        {
          "output_type": "execute_result",
          "data": {
            "text/plain": [
              "104"
            ]
          },
          "metadata": {},
          "execution_count": 15
        }
      ],
      "source": [
        "b[0]"
      ]
    },
    {
      "cell_type": "code",
      "execution_count": null,
      "metadata": {
        "colab": {
          "base_uri": "https://localhost:8080/"
        },
        "id": "OAuyBk4vq3xF",
        "outputId": "2cf6440f-ca3b-4d64-fc59-0d4703456d7a"
      },
      "outputs": [
        {
          "output_type": "execute_result",
          "data": {
            "text/plain": [
              "104"
            ]
          },
          "metadata": {},
          "execution_count": 16
        }
      ],
      "source": [
        "ord('h')"
      ]
    },
    {
      "cell_type": "markdown",
      "metadata": {
        "id": "HxzTOQxoq3xF"
      },
      "source": [
        "## Wait, Isn't That Just a String?"
      ]
    },
    {
      "cell_type": "code",
      "execution_count": null,
      "metadata": {
        "id": "LSYok9w2q3xF",
        "outputId": "52d297e6-83d4-4399-a806-9a31c445a4df"
      },
      "outputs": [
        {
          "name": "stdout",
          "output_type": "stream",
          "text": [
            "<class 'TypeError'> can't concat str to bytes\n"
          ]
        }
      ],
      "source": [
        "try:\n",
        "    b + '!!!!!'\n",
        "except TypeError as e:\n",
        "    print(type(e), e)"
      ]
    },
    {
      "cell_type": "code",
      "execution_count": null,
      "metadata": {
        "id": "Pzw6nP-Bq3xF",
        "outputId": "4d9695ae-a034-4baa-baec-77f71fc77e6e"
      },
      "outputs": [
        {
          "data": {
            "text/plain": [
              "bytes"
            ]
          },
          "execution_count": 33,
          "metadata": {},
          "output_type": "execute_result"
        }
      ],
      "source": [
        "type(b)"
      ]
    },
    {
      "cell_type": "markdown",
      "metadata": {
        "id": "yrN7J6v7q3xF"
      },
      "source": [
        "## Use `decode` Method to Convert to a String\n",
        "\n",
        "__Interpret a series of bytes as utf-8 using using a `byte` object's `decode` method__ &rarr;\n",
        "\n",
        "* it takes a single argument\n",
        "* the encoding to use when decoding the bytes"
      ]
    },
    {
      "cell_type": "code",
      "execution_count": null,
      "metadata": {
        "colab": {
          "base_uri": "https://localhost:8080/"
        },
        "id": "b3FssLByq3xF",
        "outputId": "c8f3788a-9fb5-4e7d-818b-ea26a712d5f1"
      },
      "outputs": [
        {
          "output_type": "stream",
          "name": "stdout",
          "text": [
            "b'hello!'\n",
            "<class 'bytes'>\n",
            "hello!\n",
            "<class 'str'>\n"
          ]
        }
      ],
      "source": [
        "b = b'hello!'\n",
        "print(b)\n",
        "print(type(b))\n",
        "s=b.decode('utf-8')\n",
        "print(s)\n",
        "print(type(s))\n",
        "# ... works as you expect!"
      ]
    },
    {
      "cell_type": "markdown",
      "metadata": {
        "id": "ri-ZATPEq3xG"
      },
      "source": [
        "## Now Let's Try utf-16\n",
        "\n",
        "__What do you think will happen if we use `utf-16` as the encoding?__\n",
        "\n",
        "```\n",
        "b.decode('utf-16')\n",
        "```"
      ]
    },
    {
      "cell_type": "code",
      "execution_count": null,
      "metadata": {
        "colab": {
          "base_uri": "https://localhost:8080/",
          "height": 35
        },
        "id": "yLz_VdZFq3xG",
        "outputId": "e45f0de8-c218-45f2-fed6-c5064c09b1ad"
      },
      "outputs": [
        {
          "output_type": "execute_result",
          "data": {
            "application/vnd.google.colaboratory.intrinsic+json": {
              "type": "string"
            },
            "text/plain": [
              "'敨汬Ⅿ'"
            ]
          },
          "metadata": {},
          "execution_count": 20
        }
      ],
      "source": [
        "b.decode('utf-16')\n",
        "# ... how about same bytes as utf-16"
      ]
    },
    {
      "cell_type": "markdown",
      "metadata": {
        "id": "Z8iIjyPeq3xG"
      },
      "source": [
        "\n",
        "## What? Here's an actual example of utf8: \n",
        "\n",
        "First, you can find a nice [explanation on stackoverlow](https://stackoverflow.com/a/44568131).\n",
        "\n",
        "__But for now, let's check out (https://www.fileformat.info/info/unicode/char/1f602/index.htm))__ &rarr;\n"
      ]
    },
    {
      "cell_type": "markdown",
      "metadata": {
        "id": "ouQrXKq7q3xG"
      },
      "source": [
        "## ([Tears of Joy](https://www.fileformat.info/info/unicode/char/1f602/index.htm))\n",
        "\n",
        "    \n",
        "* Its unicode code point, in decimal is: `128514`\n",
        "* In binary, `128514` is `000011111011000000010` (21 bits including some 0 padding)\n",
        "* This can't be represented in a single byte or even 3 bytes in utf-8... but we can do it with 4 bytes\n",
        "* Here's the pattern for 4 bytes: `11110xxx 10xxxxxx 10xxxxxx 10xxxxxx`\n",
        "* Breaking up our binary representation of the code point to fit in the x's above, we have: `000 011111 011000 000010`\n",
        "* And, finally: `11110000 10011111 10011000 10000010`\n",
        "    "
      ]
    },
    {
      "cell_type": "markdown",
      "metadata": {
        "id": "ZIlmonPWq3xG"
      },
      "source": [
        "## Let's prove that this works...\n",
        "\n",
        "The following shows that we can encode and decode using utf-8 using the rules above.\n",
        "\n",
        "* we can do it with a little bit of Python.\n",
        "* (it's a bit much; just knowing it's _possible_ is fine)\n",
        "\n",
        "👇"
      ]
    },
    {
      "cell_type": "code",
      "execution_count": null,
      "metadata": {
        "colab": {
          "base_uri": "https://localhost:8080/"
        },
        "id": "SeSxlvmzq3xG",
        "outputId": "6612d967-106c-4dd9-e2c4-79b61bc8a686"
      },
      "outputs": [
        {
          "output_type": "stream",
          "name": "stdout",
          "text": [
            "Tears of joy: 😂\n",
            "============\n"
          ]
        }
      ],
      "source": [
        "# here is tears of joy...\n",
        "ch = '😂'\n",
        "print(f'Tears of joy: {ch}\\n============')"
      ]
    },
    {
      "cell_type": "code",
      "execution_count": null,
      "metadata": {
        "colab": {
          "base_uri": "https://localhost:8080/"
        },
        "id": "4GJtw2Uaq3xH",
        "outputId": "4787d78a-7f3c-411a-9141-9c5c233adcfa"
      },
      "outputs": [
        {
          "output_type": "stream",
          "name": "stdout",
          "text": [
            "Let's see the utf-8 encoding of 😂!\n",
            "----\n",
            "code point for 😂 is: 128514\n"
          ]
        }
      ],
      "source": [
        "# let's see the code point using ord\n",
        "print(f'Let\\'s see the utf-8 encoding of {ch}!\\n----')\n",
        "      \n",
        "code_point = ord(ch)\n",
        "print(f'code point for {ch} is: {code_point}')"
      ]
    },
    {
      "cell_type": "code",
      "execution_count": null,
      "metadata": {
        "colab": {
          "base_uri": "https://localhost:8080/"
        },
        "id": "fX_3TGzNq3xH",
        "outputId": "848baef1-524f-49a0-b2f1-b7a762dacf98"
      },
      "outputs": [
        {
          "output_type": "stream",
          "name": "stdout",
          "text": [
            "128514 is in binary is: 000011111011000000010\n"
          ]
        }
      ],
      "source": [
        "# let's see the binary version of the code point\n",
        "\n",
        "# this format specifier, 021b, means:\n",
        "# * pad with 0's\n",
        "# * there should be 21 total characters (# of x's based on pattern)\n",
        "# * format as binary number\n",
        "format_as_padded_bin = '021b'\n",
        "\n",
        "\n",
        "# use the format specifier as nested variable in \n",
        "# format string after colon\n",
        "padded_bin = f'{code_point:{format_as_padded_bin}}'\n",
        "print(f'{code_point} is in binary is: {padded_bin}')"
      ]
    },
    {
      "cell_type": "markdown",
      "metadata": {
        "id": "wI5YD0wnq3xH"
      },
      "source": [
        "[Python f-strings](https://realpython.com/python-f-strings/)"
      ]
    },
    {
      "cell_type": "code",
      "execution_count": null,
      "metadata": {
        "colab": {
          "base_uri": "https://localhost:8080/"
        },
        "id": "YS_TUI2wq3xH",
        "outputId": "84b0ae33-3b8f-42cf-fa2c-51f251f4a13c"
      },
      "outputs": [
        {
          "output_type": "stream",
          "name": "stdout",
          "text": [
            "encoded as utf-8, in binary: 11110000100111111001100010000010\n"
          ]
        }
      ],
      "source": [
        "# distribute into 4 bytes: UTF-8 FTW!\n",
        "# fill bits into the x's in the pattern below:\n",
        "# 11110xxx 10xxxxxx 10xxxxxx 10xxxxxx\n",
        "a, b, c, d = padded_bin[:3], padded_bin[3:9], padded_bin[9:15], padded_bin[15:]\n",
        "encoded = f'11110{a}10{b}10{c}10{d}'\n",
        "print(f'encoded as utf-8, in binary: {encoded}')"
      ]
    },
    {
      "cell_type": "code",
      "execution_count": null,
      "metadata": {
        "colab": {
          "base_uri": "https://localhost:8080/"
        },
        "id": "k4LWK851q3xH",
        "outputId": "0052168b-c04c-4ac0-a221-071a0f77619a"
      },
      "outputs": [
        {
          "output_type": "stream",
          "name": "stdout",
          "text": [
            "\n",
            "Let's go from utf-8 back to the actual character (decode), 😂\n",
            "----\n",
            "these are our bytes as strings in a list: ['11110000', '10011111', '10011000', '10000010']\n"
          ]
        }
      ],
      "source": [
        "# ok, let's test if this is encoded correctly by decoding it!\n",
        "print(f'\\nLet\\'s go from utf-8 back to the actual character (decode), {ch}\\n----')\n",
        "\n",
        "# let's turn this into a sequence of bytes, with each byte shown in binary (as a string)\n",
        "bytes_as_bin = list(encoded[i: i + 8] for i in range(0, 25, 8))\n",
        "print(f'these are our bytes as strings in a list: {bytes_as_bin}')\n"
      ]
    },
    {
      "cell_type": "code",
      "execution_count": null,
      "metadata": {
        "colab": {
          "base_uri": "https://localhost:8080/"
        },
        "id": "Uvh48drUq3xH",
        "outputId": "b65b75ea-b889-4b21-f6da-fc7e13f6ef13"
      },
      "outputs": [
        {
          "output_type": "stream",
          "name": "stdout",
          "text": [
            "decode those bytes to get the original character: 😂\n"
          ]
        }
      ],
      "source": [
        "# convert each string into an int, and use that to create a bytes object\n",
        "# call decode on bytes object to get back character\n",
        "# decode will decode a series of bytes using utf-8 \n",
        "# (though you can specify an encoding as a keyword arg)\n",
        "b = bytes([int(i, 2) for i in bytes_as_bin])\n",
        "print('decode those bytes to get the original character:', b.decode())"
      ]
    },
    {
      "cell_type": "markdown",
      "metadata": {
        "id": "tbuc5Ypsq3xH"
      },
      "source": [
        "🛑"
      ]
    },
    {
      "cell_type": "markdown",
      "metadata": {
        "id": "ZU1waNJgq3xI"
      },
      "source": [
        "## Addendum\n",
        "\n",
        "* Most of the characters in unicode (character sets from natural languages) are in the first ~65,000 code points (called the _Basic Multilingual Plane_). \n",
        "* Emoji exist above that, and typically require 4 bytes to represent."
      ]
    },
    {
      "cell_type": "markdown",
      "metadata": {
        "id": "o_-ofos-q3xI"
      },
      "source": [
        "## Other Encoding Schemes: utf-16, utf-32\n",
        "\n",
        "* If using mostly ASCII characters, then utf-8 is a great choice. \n",
        "* However, if using many characters that can only be encoded in more than one byte, utf-32 might be a better option. \n",
        "* utf-32 is a fixed width encoding that takes up four bytes per character\n"
      ]
    },
    {
      "cell_type": "markdown",
      "source": [
        "Poll Everywhere Question\n",
        "\n",
        "What encoding does Python often default to?\n",
        "\n",
        "* UTF-16\n",
        "* UTF-32\n",
        "* UTF-8\n",
        "* ASCII"
      ],
      "metadata": {
        "id": "wdeEpS1446eA"
      }
    },
    {
      "cell_type": "markdown",
      "metadata": {
        "id": "uvfwe7uDq3xI"
      },
      "source": [
        "## Why use utf-8 (usually)?"
      ]
    },
    {
      "cell_type": "markdown",
      "metadata": {
        "id": "v7IOJGb-q3xI"
      },
      "source": [
        "* if most of your characters can be encoded in 1 byte; use it! \n",
        "* it saves space... (why use 4 bytes to represent `A` when you can use 1?)"
      ]
    },
    {
      "cell_type": "markdown",
      "metadata": {
        "id": "9kn-fkg4q3xI"
      },
      "source": [
        "## Why use utf-32 instead?"
      ]
    },
    {
      "cell_type": "markdown",
      "metadata": {
        "id": "nGiObphRq3xI"
      },
      "source": [
        "* if using lots of code points that require multiple bytes, it's a bit more complex decoding utf-8, since the number of bytes used per character has to be determined"
      ]
    },
    {
      "cell_type": "markdown",
      "metadata": {
        "id": "EiDTH9Okq3xI"
      },
      "source": [
        "## Why Does This Matter?\n",
        "\n",
        "__Why might knowing about encodings be useful?__ &rarr; \n"
      ]
    },
    {
      "cell_type": "markdown",
      "metadata": {
        "id": "S_mLtGuiq3xI"
      },
      "source": [
        "* ...Sometimes you source a file, but you don’t know what encoding it is!\n",
        "* (but how do you know what encoding it is?)"
      ]
    },
    {
      "cell_type": "markdown",
      "metadata": {
        "id": "Ku_LM9pfq3xJ"
      },
      "source": [
        "## Decoding a File\n",
        "\n",
        "__How might you determine the encoding of a file?__ &rarr;"
      ]
    },
    {
      "cell_type": "markdown",
      "metadata": {
        "id": "l9TGjMzDq3xJ"
      },
      "source": [
        "* If you have a series of bytes, you can decode with a scheme of your choice (utf-8, latin-1, etc.?)\n",
        "* Automatic detection of encoding is tricky! (no standard for embedding encoding a file, usually encoding not specified!)\n",
        "* Editors/viewers will use different strategies, but no guarantee guess will be right! 😮\n",
        "* btw, some tools: file and enca to guess at encoding... sublime, atom, etc. to load in different encoding\n",
        "* and, of course, Python can read files with different encodings (though default is utf-8)"
      ]
    },
    {
      "cell_type": "markdown",
      "metadata": {
        "id": "nD2HNNpJq3xJ"
      },
      "source": [
        "## Example / Mystery!\n",
        "\n",
        "Download this file in the same directory as your notebook:\n",
        "\n",
        "[https://www.gutenberg.org/files/4909/old/olavg10.txt](https://www.gutenberg.org/files/4909/old/olavg10.txt) \n",
        "\n",
        "Try to figure out how to _read_ it correctly. 🕵\n",
        "\n",
        "* open it in a text editor, what do you see?\n",
        "* reopen, but change encoding in your text editor of your choice; does that fix things?\n",
        "* note that most text editors, like sublime and atom, can be set to use a specific encoding\n",
        "* choose CP1251 or Window-1251"
      ]
    },
    {
      "cell_type": "markdown",
      "metadata": {
        "id": "Klu-Eo4yq3xJ"
      },
      "source": [
        "## Examining Our Text with Ptyhon\n",
        "If you're unable to change the encoding, we can look at it with python.\n",
        "\n",
        "1. first as utf-8 (which causes an exception)\n",
        "2. then as cp1251 (which shows us cyrillic)\n"
      ]
    },
    {
      "cell_type": "code",
      "source": [
        "from google.colab import drive\n",
        "drive.mount('/content/drive')"
      ],
      "metadata": {
        "colab": {
          "base_uri": "https://localhost:8080/"
        },
        "id": "_oifD0CIuQvJ",
        "outputId": "baba6cb3-9ff9-477a-b1b9-e5a978bd4e1c"
      },
      "execution_count": null,
      "outputs": [
        {
          "output_type": "stream",
          "name": "stdout",
          "text": [
            "Mounted at /content/drive\n"
          ]
        }
      ]
    },
    {
      "cell_type": "code",
      "execution_count": null,
      "metadata": {
        "colab": {
          "base_uri": "https://localhost:8080/"
        },
        "id": "52r1Jxicq3xJ",
        "outputId": "c2968d7f-3b3a-4213-c940-0d8b71170fc9"
      },
      "outputs": [
        {
          "output_type": "stream",
          "name": "stdout",
          "text": [
            "Cannot decode this file... we are trying utf-8, but it is not that.\n",
            "'utf-8' codec can't decode byte 0xce in position 1494: invalid continuation byte\n"
          ]
        }
      ],
      "source": [
        "# we try to read the file with open\n",
        "# by default, it'll read it as utf-8\n",
        "# there are some invalid continuation characters\n",
        "# ... so we'll get an exception\n",
        "fn='/content/drive/MyDrive/Colab Notebooks/olavg10.txt'\n",
        "try:\n",
        "    with open(fn,'r') as f:\n",
        "        print(f.read())\n",
        "except FileNotFoundError as e:\n",
        "    print('ERROR! please download https://www.gutenberg.org/files/4909/old/olavg10.txt into same directory as this notebook first. k thx bai.')\n",
        "except UnicodeDecodeError as e:\n",
        "    print('Cannot decode this file... we are trying utf-8, but it is not that.')\n",
        "    print(e)"
      ]
    },
    {
      "cell_type": "code",
      "execution_count": null,
      "metadata": {
        "colab": {
          "base_uri": "https://localhost:8080/"
        },
        "id": "B5RRA9WHq3xJ",
        "outputId": "1618f393-5a81-4ce6-df7b-30800f0ea738"
      },
      "outputs": [
        {
          "output_type": "stream",
          "name": "stdout",
          "text": [
            "a line in our text:\n",
            " Той и сам не знае кога е роден, но като го запитат, казва, че сега е на 36 години. Родното му градче\n"
          ]
        }
      ],
      "source": [
        "# now let's use codecs.open so we can read the file with a specific encoding\n",
        "import codecs\n",
        "try:\n",
        "    with codecs.open(fn, encoding='cp1251') as f:\n",
        "        lines = f.readlines()\n",
        "        print('a line in our text:\\n', lines[51][:100])\n",
        "except FileNotFoundError as e:\n",
        "    print('ERROR!!!!!! plz download https://www.gutenberg.org/files/4909/old/olavg10.txt into same directory as this notebook first. k thx bai.')"
      ]
    }
  ],
  "metadata": {
    "kernelspec": {
      "display_name": "Python 3 (ipykernel)",
      "language": "python",
      "name": "python3"
    },
    "language_info": {
      "codemirror_mode": {
        "name": "ipython",
        "version": 3
      },
      "file_extension": ".py",
      "mimetype": "text/x-python",
      "name": "python",
      "nbconvert_exporter": "python",
      "pygments_lexer": "ipython3",
      "version": "3.8.8"
    },
    "colab": {
      "name": "“unicode-bytes-strings-slides.ipynb”",
      "provenance": [],
      "include_colab_link": true
    }
  },
  "nbformat": 4,
  "nbformat_minor": 0
}