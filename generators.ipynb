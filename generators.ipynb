{
  "cells": [
    {
      "cell_type": "markdown",
      "metadata": {
        "id": "view-in-github",
        "colab_type": "text"
      },
      "source": [
        "<a href=\"https://colab.research.google.com/github/yihaozhong/479_data_management/blob/main/generators.ipynb\" target=\"_parent\"><img src=\"https://colab.research.google.com/assets/colab-badge.svg\" alt=\"Open In Colab\"/></a>"
      ]
    },
    {
      "cell_type": "markdown",
      "metadata": {
        "id": "X6EnTl6M3MJX"
      },
      "source": [
        "# Generators\n",
        "\n",
        "A generator is a function that can be paused and resumed while still maintaining state between these stops and starts. You can think of them as \"resumable functions\". See the quick tutorial from the python docs here: https://docs.python.org/3/howto/functional.html#generators\n",
        "\n",
        "Typically, when you call a function, you lose that function's local variables after it reaches the `return` statement. Generators allow you to return a value, *suspend* execution of the function, and then *resume* it later with all of the locals still intact!\n",
        "\n",
        "To create a generator, make a function that has the keyword `yield` in it. `yield` is _like_ `return` in that it gives back the value immediately to the right of it. However, instead of stopping the function completely and discarding the locals, it temporarily suspends the execution of the function so that it can be continued later. Execution is controlled via the iterator protocol. From the docs:\n",
        "\n",
        "> When you call a generator function, it doesn’t return a single value; instead it returns a generator object that supports the iterator protocol.\n",
        "\n",
        "So, when you call a generator function, you immediately get a generator object back, but the function body itself is _not yet_ executed. The generator object returned behaves like an iterator; it has a `__next__` method ...so that means you can pass the generator object into the `next` function, similar to iterable objects returning iterators. Using `next` controls the function's execution; it starts or resumes the function until `yield` is encountered, at which point a value is returned and execution is temporarily suspended.\n",
        "\n",
        "\n"
      ]
    },
    {
      "cell_type": "code",
      "execution_count": null,
      "metadata": {
        "id": "RMbcZHS-3MJh"
      },
      "outputs": [],
      "source": [
        "def f():\n",
        "    print('print 1')\n",
        "    yield 'return 1'\n",
        "    print('print 2')\n",
        "    yield 'return 2'\n",
        "    print('print 3')\n",
        "    yield 'return 3'"
      ]
    },
    {
      "cell_type": "code",
      "execution_count": null,
      "metadata": {
        "id": "ZwcqI3rT3MJh"
      },
      "outputs": [],
      "source": [
        "# note that f is not executed (nothing is printed out yet!)\n",
        "gen_obj = f()"
      ]
    },
    {
      "cell_type": "code",
      "execution_count": null,
      "metadata": {
        "colab": {
          "base_uri": "https://localhost:8080/",
          "height": 53
        },
        "id": "hA2G8oRD3MJi",
        "outputId": "ebc2074a-c442-4f79-c48a-eb3bd0dcaa55"
      },
      "outputs": [
        {
          "output_type": "stream",
          "name": "stdout",
          "text": [
            "print 1\n"
          ]
        },
        {
          "output_type": "execute_result",
          "data": {
            "application/vnd.google.colaboratory.intrinsic+json": {
              "type": "string"
            },
            "text/plain": [
              "'return 1'"
            ]
          },
          "metadata": {},
          "execution_count": 65
        }
      ],
      "source": [
        "# calling next starts/resumes function execution until yield is encountered\n",
        "# note that \n",
        "next(gen_obj)"
      ]
    },
    {
      "cell_type": "code",
      "execution_count": null,
      "metadata": {
        "colab": {
          "base_uri": "https://localhost:8080/",
          "height": 53
        },
        "id": "XyXAGZkD3MJj",
        "outputId": "ced30ec2-634e-414a-ed5d-55c773b9c576"
      },
      "outputs": [
        {
          "output_type": "stream",
          "name": "stdout",
          "text": [
            "print 2\n"
          ]
        },
        {
          "output_type": "execute_result",
          "data": {
            "application/vnd.google.colaboratory.intrinsic+json": {
              "type": "string"
            },
            "text/plain": [
              "'return 2'"
            ]
          },
          "metadata": {},
          "execution_count": 66
        }
      ],
      "source": [
        "next(gen_obj)"
      ]
    },
    {
      "cell_type": "code",
      "execution_count": null,
      "metadata": {
        "colab": {
          "base_uri": "https://localhost:8080/",
          "height": 53
        },
        "id": "T-Es3j1E3MJj",
        "outputId": "d9b36556-b5f5-4739-cd1a-4f5e52aecbf0"
      },
      "outputs": [
        {
          "output_type": "stream",
          "name": "stdout",
          "text": [
            "print 3\n"
          ]
        },
        {
          "output_type": "execute_result",
          "data": {
            "application/vnd.google.colaboratory.intrinsic+json": {
              "type": "string"
            },
            "text/plain": [
              "'return 3'"
            ]
          },
          "metadata": {},
          "execution_count": 67
        }
      ],
      "source": [
        "next(gen_obj)"
      ]
    },
    {
      "cell_type": "code",
      "execution_count": null,
      "metadata": {
        "colab": {
          "base_uri": "https://localhost:8080/"
        },
        "id": "Qd0syY-G3MJk",
        "outputId": "b31385c2-5e98-4488-e770-d57988ae13be"
      },
      "outputs": [
        {
          "output_type": "stream",
          "name": "stdout",
          "text": [
            "No more iterations available.\n"
          ]
        }
      ],
      "source": [
        "try:\n",
        "  next(gen_obj)\n",
        "except StopIteration:\n",
        "  print(\"No more iterations available.\")\n"
      ]
    },
    {
      "cell_type": "markdown",
      "metadata": {
        "id": "_uGufSzE3MJk"
      },
      "source": [
        "This means that generators can be looped over!\n"
      ]
    },
    {
      "cell_type": "code",
      "execution_count": null,
      "metadata": {
        "colab": {
          "base_uri": "https://localhost:8080/"
        },
        "id": "qzx8iu4_3MJl",
        "outputId": "2f8e67cd-53f1-47fc-baef-eede9606b9d1"
      },
      "outputs": [
        {
          "output_type": "stream",
          "name": "stdout",
          "text": [
            "print 1\n",
            "return 1\n",
            "print 2\n",
            "return 2\n",
            "print 3\n",
            "return 3\n"
          ]
        }
      ],
      "source": [
        "for val in f():\n",
        "    print(val)"
      ]
    },
    {
      "cell_type": "markdown",
      "metadata": {
        "id": "JvZtq0so3MJl"
      },
      "source": [
        "This seems similar to creating a class and implementing `__iter__` and `__next__`. And, that's true; generators are a simple way of getting an object back that supports the iterator protocol! No need to define a whole new class and define two methods on that class. Just write a function. Let's write some code that allow us to loop over the letters in the alphabet without creating a string of the entire alphabet beforehand."
      ]
    },
    {
      "cell_type": "code",
      "execution_count": null,
      "metadata": {
        "id": "LEbBV1DS3MJm"
      },
      "outputs": [],
      "source": [
        "class Alphabet:\n",
        "    START, STOP = 65, 91\n",
        "    def __init__(self):\n",
        "        self.i = Alphabet.START\n",
        "        \n",
        "    def __iter__(self):\n",
        "        return self\n",
        "    \n",
        "    def __next__(self):\n",
        "        ch = chr(self.i)\n",
        "        self.i += 1\n",
        "        if self.i > Alphabet.STOP:\n",
        "            raise StopIteration\n",
        "        return ch"
      ]
    },
    {
      "cell_type": "code",
      "execution_count": null,
      "metadata": {
        "colab": {
          "base_uri": "https://localhost:8080/"
        },
        "id": "txL5alAG3MJm",
        "outputId": "9b781a2e-5d03-4cbd-a6ae-1d66b57cd974"
      },
      "outputs": [
        {
          "output_type": "stream",
          "name": "stdout",
          "text": [
            "A  B  C  D  E  F  G  H  I  J  K  L  M  N  O  P  Q  R  S  T  U  V  W  X  Y  Z  \n"
          ]
        }
      ],
      "source": [
        "for letter in Alphabet():\n",
        "    print(letter,\" \",end=\"\")\n",
        "print()    \n"
      ]
    },
    {
      "cell_type": "code",
      "execution_count": null,
      "metadata": {
        "id": "L1zLbSUq3MJm"
      },
      "outputs": [],
      "source": [
        "# less code with a generator\n",
        "def alphabet():\n",
        "    aRange=(65,91)\n",
        "    for i in range(*aRange):  \n",
        "        yield chr(i)"
      ]
    },
    {
      "cell_type": "code",
      "execution_count": null,
      "metadata": {
        "colab": {
          "base_uri": "https://localhost:8080/"
        },
        "id": "_AM6fzxe3MJn",
        "outputId": "f3cbb834-c898-4066-c883-f32f3698776b"
      },
      "outputs": [
        {
          "output_type": "stream",
          "name": "stdout",
          "text": [
            "A  B  C  D  E  F  G  H  I  J  K  L  M  N  O  P  Q  R  S  T  U  V  W  X  Y  Z  \n"
          ]
        }
      ],
      "source": [
        "for letter in alphabet():\n",
        "    print(letter,\" \",end=\"\")\n",
        "print()    "
      ]
    },
    {
      "cell_type": "code",
      "source": [
        "for letter in alphabet():\n",
        "  print(letter)\n",
        "for letter in alphabet():\n",
        "  print(letter)\n"
      ],
      "metadata": {
        "id": "jQk2YoIwYEGx"
      },
      "execution_count": null,
      "outputs": []
    },
    {
      "cell_type": "code",
      "execution_count": null,
      "metadata": {
        "id": "ZbRNBa7d3MJn"
      },
      "outputs": [],
      "source": [
        "def infinite_abc():\n",
        "    START, STOP = 65,67\n",
        "    i = START\n",
        "    while True:\n",
        "        if i > STOP:\n",
        "            i = START\n",
        "        yield chr(i)\n",
        "        i += 1"
      ]
    },
    {
      "cell_type": "code",
      "execution_count": null,
      "metadata": {
        "id": "ASjJWZdN3MJn"
      },
      "outputs": [],
      "source": [
        "myABC = infinite_abc();"
      ]
    },
    {
      "cell_type": "code",
      "source": [
        "i=0\n",
        "for c in myABC:\n",
        "  print(c,\" \",end=\"\")\n",
        "  i+=1\n",
        "  if (i%20==0): print()\n",
        "  if (i==200): break"
      ],
      "metadata": {
        "colab": {
          "base_uri": "https://localhost:8080/"
        },
        "id": "DuOmV09D5q_Y",
        "outputId": "8a848b73-167f-47ee-f917-11f4c9a83d15"
      },
      "execution_count": null,
      "outputs": [
        {
          "output_type": "stream",
          "name": "stdout",
          "text": [
            "A  B  C  A  B  C  A  B  C  A  B  C  A  B  C  A  B  C  A  B  \n",
            "C  A  B  C  A  B  C  A  B  C  A  B  C  A  B  C  A  B  C  A  \n",
            "B  C  A  B  C  A  B  C  A  B  C  A  B  C  A  B  C  A  B  C  \n",
            "A  B  C  A  B  C  A  B  C  A  B  C  A  B  C  A  B  C  A  B  \n",
            "C  A  B  C  A  B  C  A  B  C  A  B  C  A  B  C  A  B  C  A  \n",
            "B  C  A  B  C  A  B  C  A  B  C  A  B  C  A  B  C  A  B  C  \n",
            "A  B  C  A  B  C  A  B  C  A  B  C  A  B  C  A  B  C  A  B  \n",
            "C  A  B  C  A  B  C  A  B  C  A  B  C  A  B  C  A  B  C  A  \n",
            "B  C  A  B  C  A  B  C  A  B  C  A  B  C  A  B  C  A  B  C  \n",
            "A  B  C  A  B  C  A  B  C  A  B  C  A  B  C  A  B  C  A  B  \n"
          ]
        }
      ]
    },
    {
      "cell_type": "markdown",
      "source": [
        "Ed Exercise\n",
        "\n",
        "Write a generator that gives the next fibonacci number the next time it is called. The first two Fibonacci numbers are 0 and 1 and subsequent numbers are the sum of the previous two. The first six calls should give 0, 1, 1, 2, 3, and 5."
      ],
      "metadata": {
        "id": "91Y_y25X6VIp"
      }
    },
    {
      "cell_type": "code",
      "source": [
        "def fib():\n",
        "  x, y = 0, 1\n",
        "  while True:\n",
        "    yield x\n",
        "    x, y = y, x+y\n",
        "  "
      ],
      "metadata": {
        "id": "Fs4sFYXd6fNo"
      },
      "execution_count": null,
      "outputs": []
    },
    {
      "cell_type": "code",
      "source": [
        "import itertools\n",
        "print(list(itertools.islice(fib(),20)))\n"
      ],
      "metadata": {
        "colab": {
          "base_uri": "https://localhost:8080/"
        },
        "id": "5-n4lVGi7nkq",
        "outputId": "63a61bd3-fa1c-43ec-b0ca-87595d9bb97b"
      },
      "execution_count": null,
      "outputs": [
        {
          "output_type": "stream",
          "name": "stdout",
          "text": [
            "[0, 1, 1, 2, 3, 5, 8, 13, 21, 34, 55, 89, 144, 233, 377, 610, 987, 1597, 2584, 4181]\n"
          ]
        }
      ]
    },
    {
      "cell_type": "markdown",
      "metadata": {
        "id": "Pwqwy6k53MJp"
      },
      "source": [
        "You can also create a generator object using a generator expression. How are lists and generator expressions different, though?\n",
        "\n",
        "https://stackoverflow.com/questions/20535342/lazy-evaluation-in-python\n",
        "\n",
        "> A list stores all elements when it is created. A generator generates the next element when it is needed.\n",
        "> A list can be iterated over as much as you need, a generator can only be iterated over exactly once.\n",
        "> A list can get elements by index, a generator cannot -- it only generates values once, from start to end.\n",
        "\n",
        "https://stackoverflow.com/questions/2776829/difference-between-pythons-generators-and-iterators\n",
        "\n",
        "> You can use the Iterator protocol directly when you need to extend a Python object as an object that can be iterated over.\n",
        "> However, in the vast majority of cases, you are best suited to use yield to define a function that returns a Generator Iterator or consider Generator Expressions."
      ]
    },
    {
      "cell_type": "code",
      "execution_count": null,
      "metadata": {
        "colab": {
          "base_uri": "https://localhost:8080/"
        },
        "id": "rTrL-TXE3MJp",
        "outputId": "9d120ba4-cdb7-49f0-98ad-4e6d10d9a23a"
      },
      "outputs": [
        {
          "output_type": "stream",
          "name": "stdout",
          "text": [
            "Help on built-in function getsizeof in module sys:\n",
            "\n",
            "getsizeof(...)\n",
            "    getsizeof(object, default) -> int\n",
            "    \n",
            "    Return the size of object in bytes.\n",
            "\n"
          ]
        }
      ],
      "source": [
        "import sys\n",
        "help(sys.getsizeof)"
      ]
    },
    {
      "cell_type": "code",
      "execution_count": null,
      "metadata": {
        "id": "qQWgNLCF3MJq"
      },
      "outputs": [],
      "source": [
        "lc = [i ** 2 for i in range(10000)]\n",
        "ge = (i ** 2 for i in range(10000))"
      ]
    },
    {
      "cell_type": "code",
      "execution_count": null,
      "metadata": {
        "colab": {
          "base_uri": "https://localhost:8080/"
        },
        "id": "WpcVZax-3MJq",
        "outputId": "29034569-9801-4c51-f3b9-5b7e3f7b5895"
      },
      "outputs": [
        {
          "output_type": "execute_result",
          "data": {
            "text/plain": [
              "87632"
            ]
          },
          "metadata": {},
          "execution_count": 4
        }
      ],
      "source": [
        "sys.getsizeof(lc)"
      ]
    },
    {
      "cell_type": "code",
      "execution_count": null,
      "metadata": {
        "colab": {
          "base_uri": "https://localhost:8080/"
        },
        "id": "WyRcD4cw3MJq",
        "outputId": "79100d73-9732-4bba-d68f-08ff98e8e6c9"
      },
      "outputs": [
        {
          "output_type": "execute_result",
          "data": {
            "text/plain": [
              "128"
            ]
          },
          "metadata": {},
          "execution_count": 5
        }
      ],
      "source": [
        "sys.getsizeof(ge)"
      ]
    },
    {
      "cell_type": "code",
      "execution_count": null,
      "metadata": {
        "colab": {
          "base_uri": "https://localhost:8080/"
        },
        "id": "ACfvXlAu3MJq",
        "outputId": "5772ea7a-8f4c-44d1-c0fd-7dced34d0811"
      },
      "outputs": [
        {
          "output_type": "stream",
          "name": "stdout",
          "text": [
            "    0     1     4     9    16    25    36    49    64    81 \n",
            "  100   121   144   169   196   225   256   289   324   361 \n",
            "  400   441   484   529   576   625   676   729   784   841 \n",
            "  900   961  1024  1089  1156  1225  1296  1369  1444  1521 \n",
            " 1600  1681  1764  1849  1936  2025  2116  2209  2304  2401 \n",
            " 2500  2601  2704  2809  2916  3025  3136  3249  3364  3481 \n",
            " 3600  3721  3844  3969  4096  4225  4356  4489  4624  4761 \n",
            " 4900  5041 "
          ]
        }
      ],
      "source": [
        "ge = (i ** 2 for i in range(10000))\n",
        "i=1\n",
        "for n in ge:\n",
        "    print(f\"{n:5d} \",end=\"\")\n",
        "    if (i%10==0): print()\n",
        "    i+=1\n",
        "    if n > 5000:\n",
        "        break"
      ]
    },
    {
      "cell_type": "code",
      "execution_count": null,
      "metadata": {
        "colab": {
          "base_uri": "https://localhost:8080/"
        },
        "id": "2Qk217TU3MJq",
        "outputId": "b1b262bd-3982-46e8-9d8a-2183bb696624"
      },
      "outputs": [
        {
          "output_type": "execute_result",
          "data": {
            "text/plain": [
              "128"
            ]
          },
          "metadata": {},
          "execution_count": 7
        }
      ],
      "source": [
        "sys.getsizeof(ge)"
      ]
    },
    {
      "cell_type": "markdown",
      "source": [
        "Ed Exercise:\n",
        "\n",
        "Write some code to find all of the squares between 1 and 10000 that end with a 1. Use a generator expression. Do not use a loop except for the loop that is in the generator expression."
      ],
      "metadata": {
        "id": "gcF34E1p-zDV"
      }
    },
    {
      "cell_type": "code",
      "source": [
        "ge=(i**2 for i in range(100))\n",
        "print(list(filter(lambda x:x%10==1,ge)))"
      ],
      "metadata": {
        "colab": {
          "base_uri": "https://localhost:8080/"
        },
        "id": "F0H19fbDfVso",
        "outputId": "dca46941-b29d-42e5-85d7-740243b16c6c"
      },
      "execution_count": null,
      "outputs": [
        {
          "output_type": "stream",
          "name": "stdout",
          "text": [
            "[1, 81, 121, 361, 441, 841, 961, 1521, 1681, 2401, 2601, 3481, 3721, 4761, 5041, 6241, 6561, 7921, 8281, 9801]\n"
          ]
        }
      ]
    },
    {
      "cell_type": "markdown",
      "source": [
        "Ed Exercise:\n",
        "\n",
        "Write a generator that advances the time by one second, keeping track of hours minutes, and seconds. Hours should range from zero to 23. It should return a tuple of hours, minutes, and seconds at each iteration (call to yield)."
      ],
      "metadata": {
        "id": "hGp-ToGWAnu7"
      }
    },
    {
      "cell_type": "code",
      "source": [
        "def militaryTimer():\n",
        "  hours=0\n",
        "  mins=0\n",
        "  secs=0\n",
        "  days=0\n",
        "  while True:\n",
        "    yield days,hours, mins, secs\n",
        "    secs+=1\n",
        "    if secs==60:\n",
        "      mins+=1\n",
        "      secs=0   \n",
        "    if mins==60:\n",
        "      hours+=1\n",
        "      mins=0   \n",
        "    if hours==24:\n",
        "      hours=0      \n",
        "      days+=1\n"
      ],
      "metadata": {
        "id": "gh2UUO0UA4U4"
      },
      "execution_count": null,
      "outputs": []
    },
    {
      "cell_type": "code",
      "source": [
        "myTimer=militaryTimer()\n",
        "for i in range(1000000):\n",
        "  days, hours, mins, secs = next(myTimer)\n",
        "print(days,hours,mins,secs)  "
      ],
      "metadata": {
        "colab": {
          "base_uri": "https://localhost:8080/"
        },
        "id": "1avQACbgBqCt",
        "outputId": "9bc832e3-2829-4c5d-c23b-7cf5efa9397e"
      },
      "execution_count": null,
      "outputs": [
        {
          "output_type": "stream",
          "name": "stdout",
          "text": [
            "11 13 46 39\n"
          ]
        }
      ]
    }
  ],
  "metadata": {
    "kernelspec": {
      "display_name": "Python 3",
      "language": "python",
      "name": "python3"
    },
    "language_info": {
      "codemirror_mode": {
        "name": "ipython",
        "version": 3
      },
      "file_extension": ".py",
      "mimetype": "text/x-python",
      "name": "python",
      "nbconvert_exporter": "python",
      "pygments_lexer": "ipython3",
      "version": "3.9.1"
    },
    "colab": {
      "name": "generators.ipynb",
      "provenance": [],
      "include_colab_link": true
    }
  },
  "nbformat": 4,
  "nbformat_minor": 0
}