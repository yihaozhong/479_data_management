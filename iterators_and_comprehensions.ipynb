{
  "cells": [
    {
      "cell_type": "markdown",
      "metadata": {
        "id": "view-in-github",
        "colab_type": "text"
      },
      "source": [
        "<a href=\"https://colab.research.google.com/github/yihaozhong/479_data_management/blob/main/iterators_and_comprehensions.ipynb\" target=\"_parent\"><img src=\"https://colab.research.google.com/assets/colab-badge.svg\" alt=\"Open In Colab\"/></a>"
      ]
    },
    {
      "cell_type": "markdown",
      "metadata": {
        "id": "AFJpf9em4eHD"
      },
      "source": [
        "## Looping \"Under the Hood\"\n",
        "\n",
        "In Python, if an object can give up one element at a time, you can iterate over that particular object\n",
        "\n",
        "### Types that are Iterable\n",
        "\n",
        "Some examples of iterable objects are:"
      ]
    },
    {
      "cell_type": "code",
      "execution_count": null,
      "metadata": {
        "colab": {
          "base_uri": "https://localhost:8080/"
        },
        "id": "4w8rFwq94eHD",
        "outputId": "e30d5d1b-b799-4088-b536-60159f0bf796"
      },
      "outputs": [
        {
          "output_type": "stream",
          "name": "stdout",
          "text": [
            "O  s  c  a  r  \n"
          ]
        }
      ],
      "source": [
        "# strings\n",
        "for ch in \"Oscar\":\n",
        "    print(ch,\" \",end=\"\")\n",
        "print() "
      ]
    },
    {
      "cell_type": "code",
      "execution_count": null,
      "metadata": {
        "colab": {
          "base_uri": "https://localhost:8080/"
        },
        "id": "cTYi6hTn4eHE",
        "outputId": "f9f43eeb-76f2-4150-b60a-406d1cc70dcb"
      },
      "outputs": [
        {
          "output_type": "stream",
          "name": "stdout",
          "text": [
            "Charlie\n",
            "Brown\n"
          ]
        }
      ],
      "source": [
        "# lists\n",
        "for ele in [\"Charlie\", \"Brown\"]:\n",
        "    print(ele)"
      ]
    },
    {
      "cell_type": "code",
      "execution_count": null,
      "metadata": {
        "colab": {
          "base_uri": "https://localhost:8080/"
        },
        "id": "CmczFEoR4eHE",
        "outputId": "f64987e0-6b47-4345-b8e1-879d562a854c"
      },
      "outputs": [
        {
          "output_type": "stream",
          "name": "stdout",
          "text": [
            "1\n",
            "2\n",
            "3\n"
          ]
        }
      ],
      "source": [
        "# tuples\n",
        "for n in (1, 2, 3):\n",
        "    print(n)"
      ]
    },
    {
      "cell_type": "code",
      "execution_count": null,
      "metadata": {
        "colab": {
          "base_uri": "https://localhost:8080/"
        },
        "id": "zlmJVMan4eHF",
        "outputId": "c4565a96-0d87-4622-fe66-570812f1dd9d"
      },
      "outputs": [
        {
          "output_type": "stream",
          "name": "stdout",
          "text": [
            "Abraham\n",
            "Isaac\n",
            "Jacob\n"
          ]
        }
      ],
      "source": [
        "# sets\n",
        "for ele in {'Abraham', 'Isaac', 'Jacob'}:\n",
        "    print(ele)"
      ]
    },
    {
      "cell_type": "code",
      "execution_count": null,
      "metadata": {
        "colab": {
          "base_uri": "https://localhost:8080/"
        },
        "id": "qDiZVAsK4eHF",
        "outputId": "33c5a878-d707-4e1d-938e-8d5f742e92e7"
      },
      "outputs": [
        {
          "output_type": "stream",
          "name": "stdout",
          "text": [
            "0\n",
            "1\n",
            "2\n",
            "3\n",
            "4\n"
          ]
        }
      ],
      "source": [
        "# range objects\n",
        "for i in range(5):\n",
        "    print(i)"
      ]
    },
    {
      "cell_type": "code",
      "execution_count": null,
      "metadata": {
        "colab": {
          "base_uri": "https://localhost:8080/"
        },
        "id": "oidca-Qm4eHF",
        "outputId": "78727765-cb67-42fb-905a-3b4021e88475"
      },
      "outputs": [
        {
          "output_type": "stream",
          "name": "stdout",
          "text": [
            "x 1\n",
            "y 2\n"
          ]
        }
      ],
      "source": [
        "# dictionaries\n",
        "d = {'x':1, 'y':2}\n",
        "for k, v in d.items():\n",
        "    print(k, v)"
      ]
    },
    {
      "cell_type": "code",
      "source": [
        "from google.colab import drive\n",
        "drive.mount('/content/drive')"
      ],
      "metadata": {
        "colab": {
          "base_uri": "https://localhost:8080/"
        },
        "id": "aBv2FPt3BVNx",
        "outputId": "b531ec82-cd01-4ba7-c96d-2dcef3d5357f"
      },
      "execution_count": null,
      "outputs": [
        {
          "output_type": "stream",
          "name": "stdout",
          "text": [
            "Drive already mounted at /content/drive; to attempt to forcibly remount, call drive.mount(\"/content/drive\", force_remount=True).\n"
          ]
        }
      ]
    },
    {
      "cell_type": "code",
      "execution_count": null,
      "metadata": {
        "colab": {
          "base_uri": "https://localhost:8080/"
        },
        "id": "QfKZ9wEE4eHG",
        "outputId": "9f73f12a-7d80-4ef6-a97c-d534b7bcd594"
      },
      "outputs": [
        {
          "output_type": "stream",
          "name": "stdout",
          "text": [
            "The one-l lama,\n",
            "He's a priest.\n",
            "The two-l llama,\n",
            "He's a beast;\n",
            "And I will bet \n",
            "A silk pajama\n",
            "There isn't any \n",
            "Three-l lllama."
          ]
        }
      ],
      "source": [
        "# a file object\n",
        "with open('/content/drive/MyDrive/Colab Notebooks/llama.txt', 'r') as f:\n",
        "   for line in f:\n",
        "       print(line,end=\"\")"
      ]
    },
    {
      "cell_type": "markdown",
      "metadata": {
        "id": "-xopPwDh4eHG"
      },
      "source": [
        "### But How Does Looping Actually Work? \n",
        "\n",
        "A for loop works like this:\n",
        "\n",
        "1. it calls iter() on the object it's looping over\n",
        "2. we get an iterator back\n",
        "3. the for loop continually calls next on the iterator object\n",
        "4. until a StopIteration exception occurs\n",
        "\n",
        "The looping \"interface\" consists of a couple of methods:\n",
        "\n",
        "1. __iter__ on a container object; it will return an object that implements next\n",
        "2. __next__ on an iterator object; it will give back an element\n",
        "\n",
        "^^^ both container and iterator can be the *same* object (which is why you can return self for body of __iter__)\n",
        "\n",
        "Some definitions:\n",
        "\n",
        "* iterable object is an object that's capable of giving back an iterator\n",
        "* iterator is an object that implements the __next__ method\n",
        "\n",
        "Some built in functions:\n",
        "\n",
        "* `iter(obj)` - will cause `obj`'s `__iter__` method to be called\n",
        "* `next(obj)` - will cause `obj`'s `__next__` method to be called"
      ]
    },
    {
      "cell_type": "markdown",
      "metadata": {
        "id": "7h1_YTSS4eHM"
      },
      "source": [
        "### Repeatedly Calling Next on a List\n",
        "\n",
        "This is _kind_ of how looping works. Let's start off with a list:"
      ]
    },
    {
      "cell_type": "code",
      "execution_count": null,
      "metadata": {
        "id": "T0EJEny-4eHM"
      },
      "outputs": [],
      "source": [
        "artists = [\"Matisse\",\"Picasso\",\"O'Keeffe\", \"Cassatt\",\"Renoir\"]"
      ]
    },
    {
      "cell_type": "code",
      "source": [
        "# can we iterate with next?\n",
        "try:\n",
        "  next(artists)\n",
        "except TypeError as e:\n",
        "  print(\"TypeError:\",e)  "
      ],
      "metadata": {
        "colab": {
          "base_uri": "https://localhost:8080/"
        },
        "id": "F3Ynf6_SCQlA",
        "outputId": "8b133890-e3a3-44f5-e447-3b7222bf3c9d"
      },
      "execution_count": null,
      "outputs": [
        {
          "output_type": "stream",
          "name": "stdout",
          "text": [
            "TypeError: 'list' object is not an iterator\n"
          ]
        }
      ]
    },
    {
      "cell_type": "markdown",
      "metadata": {
        "id": "kiI2Uvp34eHM"
      },
      "source": [
        "So to iterate we need to construct an iterator. "
      ]
    },
    {
      "cell_type": "code",
      "execution_count": null,
      "metadata": {
        "id": "kbfNzAdu4eHN",
        "colab": {
          "base_uri": "https://localhost:8080/"
        },
        "outputId": "ffafa730-f43f-40dd-e004-e6f891faeea2"
      },
      "outputs": [
        {
          "output_type": "stream",
          "name": "stdout",
          "text": [
            "['Matisse', 'Picasso', \"O'Keeffe\", 'Cassatt', 'Renoir']\n",
            "<list_iterator object at 0x7f5e162605d0>\n"
          ]
        }
      ],
      "source": [
        "my_iterator = iter(artists)\n",
        "print(artists)\n",
        "print(my_iterator)\n"
      ]
    },
    {
      "cell_type": "markdown",
      "metadata": {
        "id": "lrw3CaTm4eHN"
      },
      "source": [
        "...repeatedly call next on the iterator to get all elements"
      ]
    },
    {
      "cell_type": "code",
      "execution_count": null,
      "metadata": {
        "colab": {
          "base_uri": "https://localhost:8080/",
          "height": 35
        },
        "id": "dcSFOROU4eHN",
        "outputId": "a215b090-4437-4f8e-deaa-a743ab0010c7"
      },
      "outputs": [
        {
          "output_type": "execute_result",
          "data": {
            "application/vnd.google.colaboratory.intrinsic+json": {
              "type": "string"
            },
            "text/plain": [
              "'Matisse'"
            ]
          },
          "metadata": {},
          "execution_count": 96
        }
      ],
      "source": [
        "next(my_iterator)"
      ]
    },
    {
      "cell_type": "code",
      "execution_count": null,
      "metadata": {
        "colab": {
          "base_uri": "https://localhost:8080/",
          "height": 35
        },
        "id": "8VkZ-t7-4eHN",
        "outputId": "39c83844-ba74-41d6-e53d-44d117ed4d74"
      },
      "outputs": [
        {
          "output_type": "execute_result",
          "data": {
            "application/vnd.google.colaboratory.intrinsic+json": {
              "type": "string"
            },
            "text/plain": [
              "'Picasso'"
            ]
          },
          "metadata": {},
          "execution_count": 97
        }
      ],
      "source": [
        "next(my_iterator)"
      ]
    },
    {
      "cell_type": "code",
      "execution_count": null,
      "metadata": {
        "colab": {
          "base_uri": "https://localhost:8080/",
          "height": 35
        },
        "id": "v1pc757y4eHN",
        "outputId": "59f677f1-d11a-4647-db3e-2a2314bbda0b"
      },
      "outputs": [
        {
          "output_type": "execute_result",
          "data": {
            "application/vnd.google.colaboratory.intrinsic+json": {
              "type": "string"
            },
            "text/plain": [
              "\"O'Keeffe\""
            ]
          },
          "metadata": {},
          "execution_count": 98
        }
      ],
      "source": [
        "next(my_iterator)"
      ]
    },
    {
      "cell_type": "code",
      "execution_count": null,
      "metadata": {
        "colab": {
          "base_uri": "https://localhost:8080/",
          "height": 35
        },
        "id": "y4ISewRM4eHN",
        "outputId": "a6631f90-b984-4c66-a8e5-ac66fa7956c6"
      },
      "outputs": [
        {
          "output_type": "execute_result",
          "data": {
            "application/vnd.google.colaboratory.intrinsic+json": {
              "type": "string"
            },
            "text/plain": [
              "'Cassatt'"
            ]
          },
          "metadata": {},
          "execution_count": 99
        }
      ],
      "source": [
        "next(my_iterator)"
      ]
    },
    {
      "cell_type": "code",
      "execution_count": null,
      "metadata": {
        "colab": {
          "base_uri": "https://localhost:8080/",
          "height": 35
        },
        "id": "umWIb7YC4eHO",
        "outputId": "6904e9a5-f20a-4aed-d02a-de12b41e4351"
      },
      "outputs": [
        {
          "output_type": "execute_result",
          "data": {
            "application/vnd.google.colaboratory.intrinsic+json": {
              "type": "string"
            },
            "text/plain": [
              "'Renoir'"
            ]
          },
          "metadata": {},
          "execution_count": 100
        }
      ],
      "source": [
        "next(my_iterator)"
      ]
    },
    {
      "cell_type": "code",
      "execution_count": null,
      "metadata": {
        "id": "a_dByPqf4eHO",
        "colab": {
          "base_uri": "https://localhost:8080/"
        },
        "outputId": "3f1d8c83-ad6f-4d06-f9fc-22eb02135ade"
      },
      "outputs": [
        {
          "output_type": "stream",
          "name": "stdout",
          "text": [
            "StopIteration\n"
          ]
        }
      ],
      "source": [
        "# last element causes StopIteration to be \"thrown\"\n",
        "try:\n",
        "  next(my_iterator) \n",
        "except StopIteration as e:\n",
        "  print(\"StopIteration\") "
      ]
    },
    {
      "cell_type": "markdown",
      "metadata": {
        "id": "A9itUxL_4eHO"
      },
      "source": [
        "### Our Own Iterable..."
      ]
    },
    {
      "cell_type": "code",
      "execution_count": null,
      "metadata": {
        "id": "aq7sAv4K4eHO"
      },
      "outputs": [],
      "source": [
        "class Countdown:\n",
        "    def __init__(self, start):\n",
        "        self.cur = start\n",
        "    def __iter__(self):\n",
        "        return self\n",
        "    def __next__(self):\n",
        "        ret = self.cur\n",
        "        if self.cur > 0:\n",
        "            self.cur -= 1\n",
        "        else:\n",
        "            raise StopIteration\n",
        "        return ret"
      ]
    },
    {
      "cell_type": "code",
      "execution_count": null,
      "metadata": {
        "id": "Z3DUOhZE4eHO"
      },
      "outputs": [],
      "source": [
        "c = Countdown(5)"
      ]
    },
    {
      "cell_type": "code",
      "execution_count": null,
      "metadata": {
        "colab": {
          "base_uri": "https://localhost:8080/"
        },
        "id": "ybUsZVIJ4eHO",
        "outputId": "40c94608-83df-4c63-ca82-1054b44b22f7"
      },
      "outputs": [
        {
          "output_type": "stream",
          "name": "stdout",
          "text": [
            "5\n",
            "4\n",
            "3\n",
            "2\n",
            "1\n",
            "StopIteration\n"
          ]
        }
      ],
      "source": [
        "for i in c:\n",
        "    print(i)\n",
        "try:\n",
        "  next(c) \n",
        "except StopIteration as e:\n",
        "  print(\"StopIteration\")    "
      ]
    },
    {
      "cell_type": "code",
      "source": [
        "c=Countdown(5)\n",
        "print(next(c))\n",
        "print(next(c))\n",
        "print(next(c))\n",
        "print(next(c))\n",
        "print(next(c))\n",
        "try:\n",
        "  next(c) \n",
        "except StopIteration as e:\n",
        "  print(\"StopIteration\")"
      ],
      "metadata": {
        "colab": {
          "base_uri": "https://localhost:8080/"
        },
        "id": "jyuqWSTjD5B9",
        "outputId": "6ed05483-c42e-4c6f-ff13-7f7c607b592f"
      },
      "execution_count": null,
      "outputs": [
        {
          "output_type": "stream",
          "name": "stdout",
          "text": [
            "5\n",
            "4\n",
            "3\n",
            "2\n",
            "1\n",
            "StopIteration\n"
          ]
        }
      ]
    },
    {
      "cell_type": "markdown",
      "source": [
        "Ed Exercise: \n",
        "\n",
        "Create a \"clock iterator\" which adds one to the hours of a clock. Use times between 0 and 23, where 0 is midnight and 12 is noon. 23+1 equals 0. You can set the initial time to any integer between 0 and 23. (We are not supporting minutes or seconds.) This iterator, since it loops around, should never raise the StopIteration error."
      ],
      "metadata": {
        "id": "kyNsUumjEfBf"
      }
    },
    {
      "cell_type": "code",
      "source": [
        "#@title Clock Iterator { display-mode: \"form\" }\n",
        "class Clock:\n",
        "    def __init__(self, initTime):\n",
        "        self.currentTime = initTime\n",
        "    def __iter__(self):\n",
        "        return self\n",
        "    def __next__(self):\n",
        "        ret = self.currentTime\n",
        "        if self.currentTime < 23:\n",
        "            self.currentTime += 1\n",
        "        elif self.currentTime==23:\n",
        "            self.currentTime=0\n",
        "        return ret"
      ],
      "metadata": {
        "id": "F7yy4Z5JExjO"
      },
      "execution_count": null,
      "outputs": []
    },
    {
      "cell_type": "code",
      "source": [
        "c=Clock(21)\n",
        "print(next(c))\n",
        "print(next(c))\n",
        "print(next(c))\n",
        "print(next(c))\n",
        "print(next(c))\n",
        "print(next(c))\n"
      ],
      "metadata": {
        "colab": {
          "base_uri": "https://localhost:8080/"
        },
        "id": "Ei78-o9LGL7s",
        "outputId": "f27da343-939c-41ea-8958-e67d54b9b716"
      },
      "execution_count": null,
      "outputs": [
        {
          "output_type": "stream",
          "name": "stdout",
          "text": [
            "21\n",
            "22\n",
            "23\n",
            "0\n",
            "1\n",
            "2\n"
          ]
        }
      ]
    },
    {
      "cell_type": "code",
      "source": [
        "# dangerous to use in a loop!\n",
        "# since it is automatically infinite\n",
        "c=Clock(10)\n",
        "i=0\n",
        "for hour in c:\n",
        "  print(hour,\" \",end=\"\")\n",
        "  i+=1\n",
        "  if (i%20==0): print()\n",
        "  if (i==300): break"
      ],
      "metadata": {
        "colab": {
          "base_uri": "https://localhost:8080/"
        },
        "id": "q6LB9x5uGXIt",
        "outputId": "8c6df0b1-03e7-4b95-fb6c-e63e61725e1f"
      },
      "execution_count": null,
      "outputs": [
        {
          "output_type": "stream",
          "name": "stdout",
          "text": [
            "10  11  12  13  14  15  16  17  18  19  20  21  22  23  0  1  2  3  4  5  \n",
            "6  7  8  9  10  11  12  13  14  15  16  17  18  19  20  21  22  23  0  1  \n",
            "2  3  4  5  6  7  8  9  10  11  12  13  14  15  16  17  18  19  20  21  \n",
            "22  23  0  1  2  3  4  5  6  7  8  9  10  11  12  13  14  15  16  17  \n",
            "18  19  20  21  22  23  0  1  2  3  4  5  6  7  8  9  10  11  12  13  \n",
            "14  15  16  17  18  19  20  21  22  23  0  1  2  3  4  5  6  7  8  9  \n",
            "10  11  12  13  14  15  16  17  18  19  20  21  22  23  0  1  2  3  4  5  \n",
            "6  7  8  9  10  11  12  13  14  15  16  17  18  19  20  21  22  23  0  1  \n",
            "2  3  4  5  6  7  8  9  10  11  12  13  14  15  16  17  18  19  20  21  \n",
            "22  23  0  1  2  3  4  5  6  7  8  9  10  11  12  13  14  15  16  17  \n",
            "18  19  20  21  22  23  0  1  2  3  4  5  6  7  8  9  10  11  12  13  \n",
            "14  15  16  17  18  19  20  21  22  23  0  1  2  3  4  5  6  7  8  9  \n",
            "10  11  12  13  14  15  16  17  18  19  20  21  22  23  0  1  2  3  4  5  \n",
            "6  7  8  9  10  11  12  13  14  15  16  17  18  19  20  21  22  23  0  1  \n",
            "2  3  4  5  6  7  8  9  10  11  12  13  14  15  16  17  18  19  20  21  \n"
          ]
        }
      ]
    },
    {
      "cell_type": "markdown",
      "metadata": {
        "id": "i2ZI6Dqi4eHP"
      },
      "source": [
        "## Using Sorted; a Function as an Argument"
      ]
    },
    {
      "cell_type": "code",
      "execution_count": null,
      "metadata": {
        "colab": {
          "base_uri": "https://localhost:8080/"
        },
        "id": "uXtoaxre4eHP",
        "outputId": "717003b5-e61c-46b8-fcc9-862eedd6dd37"
      },
      "outputs": [
        {
          "output_type": "execute_result",
          "data": {
            "text/plain": [
              "['Cassatt', 'Matisse', \"O'Keeffe\", 'Picasso', 'Renoir']"
            ]
          },
          "metadata": {},
          "execution_count": 112
        }
      ],
      "source": [
        "sorted(artists)"
      ]
    },
    {
      "cell_type": "code",
      "source": [
        "artists"
      ],
      "metadata": {
        "colab": {
          "base_uri": "https://localhost:8080/"
        },
        "id": "kqYdZy6FcloS",
        "outputId": "2e49809a-7970-44fc-ca28-dc800b400104"
      },
      "execution_count": null,
      "outputs": [
        {
          "output_type": "execute_result",
          "data": {
            "text/plain": [
              "['Matisse', 'Picasso', \"O'Keeffe\", 'Cassatt', 'Renoir']"
            ]
          },
          "metadata": {},
          "execution_count": 113
        }
      ]
    },
    {
      "cell_type": "code",
      "execution_count": null,
      "metadata": {
        "colab": {
          "base_uri": "https://localhost:8080/"
        },
        "id": "232eX0TR4eHP",
        "outputId": "58192d27-2c2f-496e-a60e-83cc841f4def"
      },
      "outputs": [
        {
          "output_type": "execute_result",
          "data": {
            "text/plain": [
              "['Renoir', 'Matisse', 'Picasso', 'Cassatt', \"O'Keeffe\"]"
            ]
          },
          "metadata": {},
          "execution_count": 114
        }
      ],
      "source": [
        "# sort by length of word (note that len, a function, is passed in as keyword argument!)\n",
        "sorted(artists, key=len)"
      ]
    },
    {
      "cell_type": "code",
      "source": [
        "# sort by the last character in each name\n",
        "sorted(artists, key=lambda s:s[-1])\n"
      ],
      "metadata": {
        "colab": {
          "base_uri": "https://localhost:8080/"
        },
        "id": "NgLZyCHB9LQO",
        "outputId": "0af0816f-37a2-4b7d-c454-f733231063be"
      },
      "execution_count": null,
      "outputs": [
        {
          "output_type": "execute_result",
          "data": {
            "text/plain": [
              "['Matisse', \"O'Keeffe\", 'Picasso', 'Renoir', 'Cassatt']"
            ]
          },
          "metadata": {},
          "execution_count": 115
        }
      ]
    },
    {
      "cell_type": "markdown",
      "metadata": {
        "id": "ygr61jjp4eHP"
      },
      "source": [
        "## List, Set, Dictionary Comprehensions"
      ]
    },
    {
      "cell_type": "code",
      "execution_count": null,
      "metadata": {
        "colab": {
          "base_uri": "https://localhost:8080/"
        },
        "id": "S4s34AMp4eHQ",
        "outputId": "1d74aa54-a929-4eaf-e6f3-f970f4d516b3"
      },
      "outputs": [
        {
          "output_type": "execute_result",
          "data": {
            "text/plain": [
              "[\"O'KEEFFE\", 'RENOIR']"
            ]
          },
          "metadata": {},
          "execution_count": 116
        }
      ],
      "source": [
        "# a list comprehension\n",
        "sFreeArtists=[name.upper() for name in artists if 's' not in name ]\n",
        "sFreeArtists"
      ]
    },
    {
      "cell_type": "code",
      "execution_count": null,
      "metadata": {
        "id": "IVsY9rFW4eHQ"
      },
      "outputs": [],
      "source": [
        "numbers = [1, 2, 2, 3, 3, 3]"
      ]
    },
    {
      "cell_type": "code",
      "execution_count": null,
      "metadata": {
        "colab": {
          "base_uri": "https://localhost:8080/"
        },
        "id": "Ynjma-iN4eHQ",
        "outputId": "998b4663-28fe-4230-cae7-8521537383d0"
      },
      "outputs": [
        {
          "output_type": "stream",
          "name": "stdout",
          "text": [
            "{1, 4, 9}\n",
            "<class 'set'>\n"
          ]
        }
      ],
      "source": [
        "# set comprehension\n",
        "number_set={n * n for n in numbers}\n",
        "print(number_set)\n",
        "print(type(number_set))"
      ]
    },
    {
      "cell_type": "code",
      "source": [
        "print(list(enumerate(\"banana\")))"
      ],
      "metadata": {
        "colab": {
          "base_uri": "https://localhost:8080/"
        },
        "id": "V2k0eackIAgA",
        "outputId": "c097774e-7893-4201-f5dc-e5bfc0de697a"
      },
      "execution_count": null,
      "outputs": [
        {
          "output_type": "stream",
          "name": "stdout",
          "text": [
            "[(0, 'b'), (1, 'a'), (2, 'n'), (3, 'a'), (4, 'n'), (5, 'a')]\n"
          ]
        }
      ]
    },
    {
      "cell_type": "code",
      "execution_count": null,
      "metadata": {
        "colab": {
          "base_uri": "https://localhost:8080/"
        },
        "id": "r2hUrecm4eHQ",
        "outputId": "111e1cd3-fae7-40f9-b84f-ae1c776994b7"
      },
      "outputs": [
        {
          "output_type": "stream",
          "name": "stdout",
          "text": [
            "<class 'dict'>\n",
            "{'b': 0, 'a': 5, 'n': 4}\n"
          ]
        }
      ],
      "source": [
        "# dictionary comprehension\n",
        "# note that keys can be overwritten\n",
        "d={ch: i for i, ch in enumerate('banana')}\n",
        "print(type(d))\n",
        "print(d)"
      ]
    },
    {
      "cell_type": "markdown",
      "source": [
        "Ed exercise: write a list comprehension that returns a list of all the vowels in the string \"The rain in Spain is mainly on the plain.\" (duplicates are OK). Then write a set comprehension for the same thing, but without the duplicates."
      ],
      "metadata": {
        "id": "AJuiwTv-IOg8"
      }
    },
    {
      "cell_type": "code",
      "source": [
        "[c for c in \"The rain in Spain is mainly on the plain\" if c.lower() in \"aeiou\"]"
      ],
      "metadata": {
        "colab": {
          "base_uri": "https://localhost:8080/"
        },
        "id": "2b5fizIVIuQ4",
        "outputId": "4179a78e-f3a2-4568-f722-f9dd9bcfe1d0"
      },
      "execution_count": null,
      "outputs": [
        {
          "output_type": "execute_result",
          "data": {
            "text/plain": [
              "['e', 'a', 'i', 'i', 'a', 'i', 'i', 'a', 'i', 'o', 'e', 'a', 'i']"
            ]
          },
          "metadata": {},
          "execution_count": 120
        }
      ]
    },
    {
      "cell_type": "code",
      "source": [
        "{c for c in \"The rain in Spain is mainly on the plain\" if c.lower() in \"aeiou\"}"
      ],
      "metadata": {
        "colab": {
          "base_uri": "https://localhost:8080/"
        },
        "id": "six5hDEHJOAE",
        "outputId": "95840692-6af0-4e06-a202-0b8042fe667b"
      },
      "execution_count": null,
      "outputs": [
        {
          "output_type": "execute_result",
          "data": {
            "text/plain": [
              "{'a', 'e', 'i', 'o'}"
            ]
          },
          "metadata": {},
          "execution_count": 121
        }
      ]
    }
  ],
  "metadata": {
    "kernelspec": {
      "display_name": "Python 3",
      "language": "python",
      "name": "python3"
    },
    "language_info": {
      "codemirror_mode": {
        "name": "ipython",
        "version": 3
      },
      "file_extension": ".py",
      "mimetype": "text/x-python",
      "name": "python",
      "nbconvert_exporter": "python",
      "pygments_lexer": "ipython3",
      "version": "3.8.10"
    },
    "colab": {
      "name": "iterators and comprehensions.ipynb",
      "provenance": [],
      "include_colab_link": true
    }
  },
  "nbformat": 4,
  "nbformat_minor": 0
}