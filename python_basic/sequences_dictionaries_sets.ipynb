{
  "cells": [
    {
      "cell_type": "markdown",
      "metadata": {
        "id": "view-in-github",
        "colab_type": "text"
      },
      "source": [
        "<a href=\"https://colab.research.google.com/github/yihaozhong/479_data_management/blob/main/sequences_dictionaries_sets.ipynb\" target=\"_parent\"><img src=\"https://colab.research.google.com/assets/colab-badge.svg\" alt=\"Open In Colab\"/></a>"
      ]
    },
    {
      "cell_type": "markdown",
      "metadata": {
        "id": "tIpU7pLUv71b"
      },
      "source": [
        "## Compound Types\n",
        "\n",
        "In Python, there are many types that contain of a collection of values. Some examples are:"
      ]
    },
    {
      "cell_type": "markdown",
      "metadata": {
        "id": "HUPaTqOyv71f"
      },
      "source": [
        "* sequences\n",
        "    - lists (ordered collection of mutable values)\n",
        "    - tuples (ordered collection of immutable values)\n",
        "    - range objects (which represent an arithmetic sequarence)\n",
        "    - strings (ordered collection of characters)\n",
        "* dictionaries: based on hashed key/value pairs\n",
        "* sets "
      ]
    },
    {
      "cell_type": "markdown",
      "metadata": {
        "id": "QEpgWNtzv71g"
      },
      "source": [
        "## Sequence Operations\n",
        "\n",
        "__What are some operations that are common among sequence types?__ "
      ]
    },
    {
      "cell_type": "markdown",
      "metadata": {
        "id": "R-7Hsk1Av71g"
      },
      "source": [
        "* iterate (`for` loop) or mapping\n",
        "* index (`[]`)\n",
        "* built-in functions: `len`\n",
        "* concatenation and repetition `+` and `*`\n",
        "* `in` and `not in`\n",
        "* slicing `[start:stop:step]`"
      ]
    },
    {
      "cell_type": "markdown",
      "metadata": {
        "id": "BEUKKW2Yv71h"
      },
      "source": [
        "## Indexing\n",
        "\n",
        "__How does indexing work? What happens if an index doesn't exist?__ &rarr;"
      ]
    },
    {
      "cell_type": "markdown",
      "metadata": {
        "id": "B8ZUbkBIv71h"
      },
      "source": [
        "* each element in a sequence has a position\n",
        "* the position is called an __index__\n",
        "* indexes start at 0\n",
        "* trying to index at a position that doesn't exist causes a runtime error, an exception: `IndexError`"
      ]
    },
    {
      "cell_type": "code",
      "execution_count": null,
      "metadata": {
        "colab": {
          "background_save": true,
          "base_uri": "https://localhost:8080/"
        },
        "id": "vLixstSpv71h",
        "outputId": "2d8bacec-1eae-4be7-8bb7-61b2fb5a097c"
      },
      "outputs": [
        {
          "name": "stdout",
          "output_type": "stream",
          "text": [
            "58\n"
          ]
        }
      ],
      "source": [
        "line_one=\"Let me not to the marriage of true minds admit impediments\"\n",
        "print(len(line_one))"
      ]
    },
    {
      "cell_type": "code",
      "execution_count": null,
      "metadata": {
        "colab": {
          "base_uri": "https://localhost:8080/"
        },
        "id": "xmY4_Utsv71j",
        "outputId": "cbd7cfd7-56f8-4e1d-c5de-2fc1b4dff7a4"
      },
      "outputs": [
        {
          "name": "stdout",
          "output_type": "stream",
          "text": [
            "s\n"
          ]
        }
      ],
      "source": [
        "print(line_one[57])"
      ]
    },
    {
      "cell_type": "code",
      "execution_count": null,
      "metadata": {
        "id": "CH3kJLmIv71k"
      },
      "outputs": [],
      "source": [
        "#generates error\n",
        "print(line_one[58])"
      ]
    },
    {
      "cell_type": "markdown",
      "metadata": {
        "id": "I2ZOqsQ26TYt"
      },
      "source": [
        "Poll Everywhere Question\n",
        "\n",
        "Which of these is not a Python sequence?\n",
        "\n",
        "* a range\n",
        "* a list\n",
        "* a dictionary\n",
        "* a tuple"
      ]
    },
    {
      "cell_type": "markdown",
      "metadata": {
        "id": "gxMxcYM8v71l"
      },
      "source": [
        "## Slicing"
      ]
    },
    {
      "cell_type": "code",
      "execution_count": null,
      "metadata": {
        "id": "i4U2Okx7v71l"
      },
      "outputs": [],
      "source": [
        "fruits = ['rambutan', 'jackfruit', 'lychee', 'apple', 'orange']"
      ]
    },
    {
      "cell_type": "code",
      "execution_count": null,
      "metadata": {
        "colab": {
          "base_uri": "https://localhost:8080/"
        },
        "id": "Bv78Ys5iv71m",
        "outputId": "023a367d-d677-4c5b-ed26-86d0d0e5ec74"
      },
      "outputs": [
        {
          "data": {
            "text/plain": [
              "['jackfruit', 'lychee']"
            ]
          },
          "execution_count": 5,
          "metadata": {},
          "output_type": "execute_result"
        }
      ],
      "source": [
        "fruits[1:3] # start (inclusive) to end (exclusive)"
      ]
    },
    {
      "cell_type": "code",
      "execution_count": null,
      "metadata": {
        "colab": {
          "base_uri": "https://localhost:8080/"
        },
        "id": "39_DPGkqv71m",
        "outputId": "38b4decd-ce71-4dc8-c0c1-eae81b72b448"
      },
      "outputs": [
        {
          "data": {
            "text/plain": [
              "['lychee', 'apple', 'orange']"
            ]
          },
          "execution_count": 6,
          "metadata": {},
          "output_type": "execute_result"
        }
      ],
      "source": [
        "fruits[2:] # start (inclusive) to end"
      ]
    },
    {
      "cell_type": "code",
      "execution_count": null,
      "metadata": {
        "colab": {
          "base_uri": "https://localhost:8080/"
        },
        "id": "ixlq_fFAv71m",
        "outputId": "73eb92ef-fe70-45bb-b5fa-b15a045361dd"
      },
      "outputs": [
        {
          "data": {
            "text/plain": [
              "['rambutan', 'jackfruit', 'lychee']"
            ]
          },
          "execution_count": 7,
          "metadata": {},
          "output_type": "execute_result"
        }
      ],
      "source": [
        "fruits[:3] # beginning to end (exclusive)"
      ]
    },
    {
      "cell_type": "code",
      "execution_count": null,
      "metadata": {
        "colab": {
          "base_uri": "https://localhost:8080/"
        },
        "id": "uObzRe0Jv71m",
        "outputId": "636a7eb6-8b10-4d89-ee11-d2a75a8b0089"
      },
      "outputs": [
        {
          "data": {
            "text/plain": [
              "['rambutan', 'jackfruit', 'lychee']"
            ]
          },
          "execution_count": 8,
          "metadata": {},
          "output_type": "execute_result"
        }
      ],
      "source": [
        "fruits[-5:-2] # counting from the end; -1 is the last item"
      ]
    },
    {
      "cell_type": "code",
      "execution_count": null,
      "metadata": {
        "colab": {
          "base_uri": "https://localhost:8080/"
        },
        "id": "PevnBfqGv71n",
        "outputId": "2a6e2094-cad1-4858-dc2c-1f4d18741f8a"
      },
      "outputs": [
        {
          "data": {
            "text/plain": [
              "['jackfruit', 'lychee']"
            ]
          },
          "execution_count": 9,
          "metadata": {},
          "output_type": "execute_result"
        }
      ],
      "source": [
        "fruits[-4:3] # can mix negative and positive indeces"
      ]
    },
    {
      "cell_type": "code",
      "execution_count": null,
      "metadata": {
        "colab": {
          "base_uri": "https://localhost:8080/"
        },
        "id": "vA7tP4Y2v71n",
        "outputId": "386d677a-de73-4d55-f99d-f364840290c2"
      },
      "outputs": [
        {
          "data": {
            "text/plain": [
              "[]"
            ]
          },
          "execution_count": 10,
          "metadata": {},
          "output_type": "execute_result"
        }
      ],
      "source": [
        "fruits[-4:0] # get empty list if second index is before the first"
      ]
    },
    {
      "cell_type": "code",
      "execution_count": null,
      "metadata": {
        "colab": {
          "base_uri": "https://localhost:8080/"
        },
        "id": "6Fz9aN9Cv71n",
        "outputId": "3bc10a86-59dd-4a31-ae1d-2dd119aebf1d"
      },
      "outputs": [
        {
          "data": {
            "text/plain": [
              "[]"
            ]
          },
          "execution_count": 11,
          "metadata": {},
          "output_type": "execute_result"
        }
      ],
      "source": [
        "fruits[3:2] # ditto"
      ]
    },
    {
      "cell_type": "code",
      "execution_count": null,
      "metadata": {
        "id": "K5DSsm1Rv71n"
      },
      "outputs": [],
      "source": [
        "# works with other sequence types, like strings\n",
        "s = 'is this a fruit?'"
      ]
    },
    {
      "cell_type": "code",
      "execution_count": null,
      "metadata": {
        "colab": {
          "base_uri": "https://localhost:8080/",
          "height": 35
        },
        "id": "AbGi1QDov71o",
        "outputId": "972fa484-cf2e-4288-9c11-155f8ddb2789"
      },
      "outputs": [
        {
          "data": {
            "application/vnd.google.colaboratory.intrinsic+json": {
              "type": "string"
            },
            "text/plain": [
              "'fruit?'"
            ]
          },
          "execution_count": 14,
          "metadata": {},
          "output_type": "execute_result"
        }
      ],
      "source": [
        "# leave off beginning or end to start from beginning or go through end\n",
        "s[-6:]"
      ]
    },
    {
      "cell_type": "code",
      "execution_count": null,
      "metadata": {
        "colab": {
          "base_uri": "https://localhost:8080/",
          "height": 35
        },
        "id": "Crh5l7eiv71o",
        "outputId": "4c4ed610-5a10-441b-cec4-af0c33016301"
      },
      "outputs": [
        {
          "data": {
            "application/vnd.google.colaboratory.intrinsic+json": {
              "type": "string"
            },
            "text/plain": [
              "'is'"
            ]
          },
          "execution_count": 15,
          "metadata": {},
          "output_type": "execute_result"
        }
      ],
      "source": [
        "s[:2]"
      ]
    },
    {
      "cell_type": "code",
      "execution_count": null,
      "metadata": {
        "colab": {
          "base_uri": "https://localhost:8080/",
          "height": 35
        },
        "id": "t4VgYE0Pv71o",
        "outputId": "aa3f1942-0ece-4463-867a-05428577fc6d"
      },
      "outputs": [
        {
          "data": {
            "application/vnd.google.colaboratory.intrinsic+json": {
              "type": "string"
            },
            "text/plain": [
              "'this'"
            ]
          },
          "execution_count": 16,
          "metadata": {},
          "output_type": "execute_result"
        }
      ],
      "source": [
        "s[3:7] # substring"
      ]
    },
    {
      "cell_type": "markdown",
      "metadata": {
        "id": "jleRi_l3v71o"
      },
      "source": [
        "## Chaining Slices and Indexes"
      ]
    },
    {
      "cell_type": "code",
      "execution_count": null,
      "metadata": {
        "colab": {
          "base_uri": "https://localhost:8080/"
        },
        "id": "72AJqcGzv71p",
        "outputId": "e6d8a74f-ae19-4058-8a80-ae806b8ee955"
      },
      "outputs": [
        {
          "data": {
            "text/plain": [
              "['lychee', 'apple', 'orange']"
            ]
          },
          "execution_count": 17,
          "metadata": {},
          "output_type": "execute_result"
        }
      ],
      "source": [
        "fruits = ['rambutan', 'jackfruit', 'lychee', 'apple', 'orange']\n",
        "fruits[-3:] # we get a list back"
      ]
    },
    {
      "cell_type": "code",
      "execution_count": null,
      "metadata": {
        "colab": {
          "base_uri": "https://localhost:8080/",
          "height": 35
        },
        "id": "KA5FfF0Iv71p",
        "outputId": "0d49eba3-dc50-43db-a60d-133e024cf135"
      },
      "outputs": [
        {
          "data": {
            "application/vnd.google.colaboratory.intrinsic+json": {
              "type": "string"
            },
            "text/plain": [
              "'orange'"
            ]
          },
          "execution_count": 18,
          "metadata": {},
          "output_type": "execute_result"
        }
      ],
      "source": [
        "fruits[-3:][-1] # we get a string back"
      ]
    },
    {
      "cell_type": "code",
      "execution_count": null,
      "metadata": {
        "colab": {
          "base_uri": "https://localhost:8080/"
        },
        "id": "v6EWsQasv71p",
        "outputId": "5b6777c3-c4d1-4ba1-a4b9-4176521fd88e"
      },
      "outputs": [
        {
          "data": {
            "text/plain": [
              "['jackfruit', 'lychee', 'apple', 'orange']"
            ]
          },
          "execution_count": 19,
          "metadata": {},
          "output_type": "execute_result"
        }
      ],
      "source": [
        "fruits[1:] # another sublist"
      ]
    },
    {
      "cell_type": "code",
      "execution_count": null,
      "metadata": {
        "colab": {
          "base_uri": "https://localhost:8080/",
          "height": 35
        },
        "id": "A4TDRKl-v71p",
        "outputId": "556d096e-bb92-4423-e50b-8c912a005078"
      },
      "outputs": [
        {
          "data": {
            "application/vnd.google.colaboratory.intrinsic+json": {
              "type": "string"
            },
            "text/plain": [
              "'orange'"
            ]
          },
          "execution_count": 20,
          "metadata": {},
          "output_type": "execute_result"
        }
      ],
      "source": [
        "fruits[1:][3] # another way"
      ]
    },
    {
      "cell_type": "code",
      "execution_count": null,
      "metadata": {
        "colab": {
          "base_uri": "https://localhost:8080/",
          "height": 35
        },
        "id": "UyJBiIkIv71q",
        "outputId": "f7db0d9d-10c3-406c-f733-43140ebfcb29"
      },
      "outputs": [
        {
          "data": {
            "application/vnd.google.colaboratory.intrinsic+json": {
              "type": "string"
            },
            "text/plain": [
              "'or'"
            ]
          },
          "execution_count": 21,
          "metadata": {},
          "output_type": "execute_result"
        }
      ],
      "source": [
        "fruits[-3:][-1][:2] # we can slice into that string!"
      ]
    },
    {
      "cell_type": "code",
      "execution_count": null,
      "metadata": {
        "colab": {
          "base_uri": "https://localhost:8080/",
          "height": 35
        },
        "id": "i8w2-ywWv71q",
        "outputId": "4decde8a-0ff6-4ff6-dc5e-9e29cd6e3d51"
      },
      "outputs": [
        {
          "data": {
            "application/vnd.google.colaboratory.intrinsic+json": {
              "type": "string"
            },
            "text/plain": [
              "'or'"
            ]
          },
          "execution_count": 22,
          "metadata": {},
          "output_type": "execute_result"
        }
      ],
      "source": [
        "fruits[1:][3][:-4] # another way"
      ]
    },
    {
      "cell_type": "markdown",
      "metadata": {
        "id": "fGEJYIxyLcdT"
      },
      "source": [
        "Problem\n",
        "\n",
        "Given the list of fruits above, extract those fruits beginning with a vowel into a second list."
      ]
    },
    {
      "cell_type": "code",
      "execution_count": null,
      "metadata": {
        "colab": {
          "base_uri": "https://localhost:8080/"
        },
        "id": "OxN0mGJYXsvJ",
        "outputId": "08021efe-5e33-4c33-ac69-50289544f603"
      },
      "outputs": [
        {
          "name": "stdout",
          "output_type": "stream",
          "text": [
            "['apple', 'orange']\n"
          ]
        }
      ],
      "source": [
        "fruits = ['rambutan', 'jackfruit', 'lychee', 'apple', 'orange']\n",
        "f2=[]\n",
        "for f in fruits:\n",
        "    if f[0].lower() in 'aeiou':\n",
        "        f2.append(f)\n",
        "print(f2)"
      ]
    },
    {
      "cell_type": "markdown",
      "metadata": {
        "id": "kR_SPZq9v71q"
      },
      "source": [
        "## Membership "
      ]
    },
    {
      "cell_type": "code",
      "execution_count": null,
      "metadata": {
        "colab": {
          "base_uri": "https://localhost:8080/"
        },
        "id": "kYXYSFShv71r",
        "outputId": "1213dad9-2af0-4835-ad58-ea878fd7dc06"
      },
      "outputs": [
        {
          "data": {
            "text/plain": [
              "True"
            ]
          },
          "execution_count": 25,
          "metadata": {},
          "output_type": "execute_result"
        }
      ],
      "source": [
        "s = 'hello'\n",
        "greetings = ['hola', 'hello', 'howdy']\n",
        "s in greetings"
      ]
    },
    {
      "cell_type": "code",
      "execution_count": null,
      "metadata": {
        "colab": {
          "base_uri": "https://localhost:8080/"
        },
        "id": "eiREH1jQv71r",
        "outputId": "162c3cb4-c878-4df0-a218-bd944b0c1027"
      },
      "outputs": [
        {
          "data": {
            "text/plain": [
              "True"
            ]
          },
          "execution_count": 26,
          "metadata": {},
          "output_type": "execute_result"
        }
      ],
      "source": [
        "'lo' in 'hello'"
      ]
    },
    {
      "cell_type": "code",
      "execution_count": null,
      "metadata": {
        "colab": {
          "base_uri": "https://localhost:8080/"
        },
        "id": "xJmfqT95v71r",
        "outputId": "658d4b7c-374c-4e92-8b19-887003d89baa"
      },
      "outputs": [
        {
          "data": {
            "text/plain": [
              "False"
            ]
          },
          "execution_count": 27,
          "metadata": {},
          "output_type": "execute_result"
        }
      ],
      "source": [
        "'la' in 'hello'"
      ]
    },
    {
      "cell_type": "code",
      "execution_count": null,
      "metadata": {
        "colab": {
          "base_uri": "https://localhost:8080/"
        },
        "id": "lZoQEQHKv71s",
        "outputId": "affc29d3-cdf5-40f8-e62f-9adaeb293373"
      },
      "outputs": [
        {
          "data": {
            "text/plain": [
              "False"
            ]
          },
          "execution_count": 28,
          "metadata": {},
          "output_type": "execute_result"
        }
      ],
      "source": [
        "'bye' in greetings"
      ]
    },
    {
      "cell_type": "code",
      "execution_count": null,
      "metadata": {
        "colab": {
          "base_uri": "https://localhost:8080/"
        },
        "id": "GrpOl61Uv71s",
        "outputId": "1513d93d-a9db-4427-db24-06c686195c86"
      },
      "outputs": [
        {
          "data": {
            "text/plain": [
              "True"
            ]
          },
          "execution_count": 29,
          "metadata": {},
          "output_type": "execute_result"
        }
      ],
      "source": [
        "'howdy' in greetings"
      ]
    },
    {
      "cell_type": "markdown",
      "metadata": {
        "id": "H7SocrQMv71s"
      },
      "source": [
        "## Concatenation, Repetition"
      ]
    },
    {
      "cell_type": "code",
      "execution_count": null,
      "metadata": {
        "colab": {
          "base_uri": "https://localhost:8080/",
          "height": 35
        },
        "id": "9xaZc87Gv71s",
        "outputId": "c4dee50f-5f4a-4bef-ca6d-c7989484bbec"
      },
      "outputs": [
        {
          "data": {
            "application/vnd.google.colaboratory.intrinsic+json": {
              "type": "string"
            },
            "text/plain": [
              "'yaddayaddayadda'"
            ]
          },
          "execution_count": 30,
          "metadata": {},
          "output_type": "execute_result"
        }
      ],
      "source": [
        "# repetition with strings\n",
        "'yadda' * 3"
      ]
    },
    {
      "cell_type": "code",
      "execution_count": null,
      "metadata": {
        "colab": {
          "base_uri": "https://localhost:8080/",
          "height": 35
        },
        "id": "5lRK85pzv71s",
        "outputId": "9180251f-9150-4559-9323-f8089ecb2d40"
      },
      "outputs": [
        {
          "data": {
            "application/vnd.google.colaboratory.intrinsic+json": {
              "type": "string"
            },
            "text/plain": [
              "'yadda yadda yadda'"
            ]
          },
          "execution_count": 31,
          "metadata": {},
          "output_type": "execute_result"
        }
      ],
      "source": [
        "('yadda ' * 3).rstrip()"
      ]
    },
    {
      "cell_type": "markdown",
      "metadata": {
        "id": "8CKlOpZaLw5R"
      },
      "source": [
        "Problem\n",
        "\n",
        "Generate a list containing the numbers from 1 to 100. Then extract from it those numbers divisible by 3 and put them in a second list. Use indexing into the first list. Print the second list."
      ]
    },
    {
      "cell_type": "code",
      "execution_count": null,
      "metadata": {
        "colab": {
          "base_uri": "https://localhost:8080/"
        },
        "id": "q5ZUfkr6Z6-P",
        "outputId": "146f8ca2-0bb5-4746-fddb-5095936ce269"
      },
      "outputs": [
        {
          "data": {
            "text/plain": [
              "[3,\n",
              " 6,\n",
              " 9,\n",
              " 12,\n",
              " 15,\n",
              " 18,\n",
              " 21,\n",
              " 24,\n",
              " 27,\n",
              " 30,\n",
              " 33,\n",
              " 36,\n",
              " 39,\n",
              " 42,\n",
              " 45,\n",
              " 48,\n",
              " 51,\n",
              " 54,\n",
              " 57,\n",
              " 60,\n",
              " 63,\n",
              " 66,\n",
              " 69,\n",
              " 72,\n",
              " 75,\n",
              " 78,\n",
              " 81,\n",
              " 84,\n",
              " 87,\n",
              " 90,\n",
              " 93,\n",
              " 96,\n",
              " 99]"
            ]
          },
          "execution_count": 40,
          "metadata": {},
          "output_type": "execute_result"
        }
      ],
      "source": [
        "[x for x in range(1,101) if x%3==0]\n"
      ]
    },
    {
      "cell_type": "code",
      "execution_count": null,
      "metadata": {
        "id": "9R85Jj3iv71s"
      },
      "outputs": [],
      "source": [
        "# repetition with lists\n",
        "greetings * 2"
      ]
    },
    {
      "cell_type": "code",
      "execution_count": null,
      "metadata": {
        "id": "dXcCsxsqv71t"
      },
      "outputs": [],
      "source": [
        "# repetition with lists\n",
        "['hey', 'hej'] * 2"
      ]
    },
    {
      "cell_type": "code",
      "execution_count": null,
      "metadata": {
        "id": "lY4C06awv71t"
      },
      "outputs": [],
      "source": [
        "# concatenation and lists\n",
        "greetings + ['hey', 'hej']"
      ]
    },
    {
      "cell_type": "markdown",
      "metadata": {
        "id": "dhSmcO33v71t"
      },
      "source": [
        "## Adding Elements to a List?\n",
        "\n",
        "__Will this work?__ \n",
        "\n",
        "```\n",
        "nums = [1, 2]\n",
        "nums += 3\n",
        "```"
      ]
    },
    {
      "cell_type": "code",
      "execution_count": null,
      "metadata": {
        "colab": {
          "base_uri": "https://localhost:8080/"
        },
        "id": "KzfyqWHCv71t",
        "outputId": "1cf827ee-cf34-4459-db32-506924361735"
      },
      "outputs": [
        {
          "name": "stdout",
          "output_type": "stream",
          "text": [
            "error\n"
          ]
        }
      ],
      "source": [
        "nums = [1, 2]\n",
        "try:\n",
        "    nums +=3 \n",
        "except TypeError:\n",
        "    print('error')\n"
      ]
    },
    {
      "cell_type": "code",
      "execution_count": null,
      "metadata": {
        "colab": {
          "base_uri": "https://localhost:8080/"
        },
        "id": "Ya3SfZHIv71t",
        "outputId": "03a8093c-c687-491f-aed4-2cb3d65058a3"
      },
      "outputs": [
        {
          "data": {
            "text/plain": [
              "[1, 2, 3]"
            ]
          },
          "execution_count": 46,
          "metadata": {},
          "output_type": "execute_result"
        }
      ],
      "source": [
        "nums += [3] # concatenation works if both operands are same type\n",
        "nums"
      ]
    },
    {
      "cell_type": "markdown",
      "metadata": {
        "id": "IP0YtLaUv71t"
      },
      "source": [
        "## List Methods for Adding Elements"
      ]
    },
    {
      "cell_type": "code",
      "execution_count": null,
      "metadata": {
        "id": "LXgcJKjuv71t"
      },
      "outputs": [],
      "source": [
        "nums = [5, 6]"
      ]
    },
    {
      "cell_type": "code",
      "execution_count": null,
      "metadata": {
        "colab": {
          "base_uri": "https://localhost:8080/"
        },
        "id": "uUbMOaNWv71u",
        "outputId": "555958f1-f568-49d3-c75b-73d1f3f315b0"
      },
      "outputs": [
        {
          "data": {
            "text/plain": [
              "[5, 6, 7]"
            ]
          },
          "execution_count": 57,
          "metadata": {},
          "output_type": "execute_result"
        }
      ],
      "source": [
        "nums.append(7) # add single value to end\n",
        "nums"
      ]
    },
    {
      "cell_type": "code",
      "execution_count": null,
      "metadata": {
        "colab": {
          "base_uri": "https://localhost:8080/"
        },
        "id": "JwNE1AaAv71u",
        "outputId": "ba267dca-310b-4dd1-ed6f-7e6bc19ca141"
      },
      "outputs": [
        {
          "data": {
            "text/plain": [
              "[5, 6, 7, 8, 9]"
            ]
          },
          "execution_count": 49,
          "metadata": {},
          "output_type": "execute_result"
        }
      ],
      "source": [
        "nums.extend([8, 9]) # add all values as individual, separate, values to end\n",
        "nums"
      ]
    },
    {
      "cell_type": "code",
      "execution_count": null,
      "metadata": {
        "colab": {
          "base_uri": "https://localhost:8080/"
        },
        "id": "Ac1sSNo1v71u",
        "outputId": "27183daa-4e34-4077-d9ee-8b34b22b1690"
      },
      "outputs": [
        {
          "data": {
            "text/plain": [
              "[5, 6, 7, 3]"
            ]
          },
          "execution_count": 58,
          "metadata": {},
          "output_type": "execute_result"
        }
      ],
      "source": [
        "nums.insert(4, 3) # insert value before index\n",
        "nums"
      ]
    },
    {
      "cell_type": "markdown",
      "metadata": {
        "id": "2gAV5H0Zv71u"
      },
      "source": [
        "## List Methods\n",
        "\n",
        "Note that most list methods alter the list, but otherwise do not return a value unless otherwise specified\n",
        "\n",
        "* for example, calling some_list.append('some value')\n",
        "* ... returns `None`\n",
        "\n",
        "```\n",
        "result = some_list.append('some value')\n",
        "print(result) # None \n",
        "```\n"
      ]
    },
    {
      "cell_type": "markdown",
      "metadata": {
        "id": "6K7KAqmNv71u"
      },
      "source": [
        "## Other List Methods"
      ]
    },
    {
      "cell_type": "markdown",
      "metadata": {
        "id": "NGfa03IUv71u"
      },
      "source": [
        "Getting rid of elements\n",
        "\n",
        "* `remove('value')` - removes first element with value `value`\n",
        "* `pop()` - return and remove last element\n",
        "\n",
        "Misc\n",
        "\n",
        "* `index('value')` - returns index of element with value `value`\n",
        "* `count('value')` - count number of times `value` occurs in list"
      ]
    },
    {
      "cell_type": "code",
      "execution_count": null,
      "metadata": {
        "colab": {
          "base_uri": "https://localhost:8080/"
        },
        "id": "AeuT6hVnv71u",
        "outputId": "0d9b49d5-c158-4552-855e-ed55cd08c04b"
      },
      "outputs": [
        {
          "data": {
            "text/plain": [
              "[5, 6, 7, 3]"
            ]
          },
          "execution_count": 59,
          "metadata": {},
          "output_type": "execute_result"
        }
      ],
      "source": [
        "nums"
      ]
    },
    {
      "cell_type": "code",
      "execution_count": null,
      "metadata": {
        "colab": {
          "base_uri": "https://localhost:8080/"
        },
        "id": "wUkm8oJCv71v",
        "outputId": "44e7db6b-1c89-48b0-fffb-fabd0594d39d"
      },
      "outputs": [
        {
          "data": {
            "text/plain": [
              "[5, 6, 3]"
            ]
          },
          "execution_count": 60,
          "metadata": {},
          "output_type": "execute_result"
        }
      ],
      "source": [
        "nums.remove(7)\n",
        "nums"
      ]
    },
    {
      "cell_type": "code",
      "execution_count": null,
      "metadata": {
        "colab": {
          "base_uri": "https://localhost:8080/"
        },
        "id": "IqhqkYs4v71v",
        "outputId": "eae1bd15-e690-44f3-d4f1-116d06c355d9"
      },
      "outputs": [
        {
          "data": {
            "text/plain": [
              "3"
            ]
          },
          "execution_count": 61,
          "metadata": {},
          "output_type": "execute_result"
        }
      ],
      "source": [
        "nums.pop()"
      ]
    },
    {
      "cell_type": "code",
      "execution_count": null,
      "metadata": {
        "colab": {
          "base_uri": "https://localhost:8080/"
        },
        "id": "TIaSFmNZv71v",
        "outputId": "dcfa2480-f1a4-4a15-f286-01eb98a91abc"
      },
      "outputs": [
        {
          "data": {
            "text/plain": [
              "[5, 6]"
            ]
          },
          "execution_count": 62,
          "metadata": {},
          "output_type": "execute_result"
        }
      ],
      "source": [
        "nums"
      ]
    },
    {
      "cell_type": "code",
      "execution_count": null,
      "metadata": {
        "id": "rMtvf7f8cUpE"
      },
      "outputs": [],
      "source": [
        "nums.append(6)"
      ]
    },
    {
      "cell_type": "code",
      "execution_count": null,
      "metadata": {
        "colab": {
          "base_uri": "https://localhost:8080/"
        },
        "id": "3IRqJA0IcZNK",
        "outputId": "110e397e-ae2c-49f5-f81a-a0dc717fded7"
      },
      "outputs": [
        {
          "data": {
            "text/plain": [
              "[5, 6, 6]"
            ]
          },
          "execution_count": 65,
          "metadata": {},
          "output_type": "execute_result"
        }
      ],
      "source": [
        "nums"
      ]
    },
    {
      "cell_type": "code",
      "execution_count": null,
      "metadata": {
        "colab": {
          "base_uri": "https://localhost:8080/"
        },
        "id": "bDXARFGpv71v",
        "outputId": "3d50e6ba-1e98-4844-c522-bf676fcc0e62"
      },
      "outputs": [
        {
          "data": {
            "text/plain": [
              "1"
            ]
          },
          "execution_count": 66,
          "metadata": {},
          "output_type": "execute_result"
        }
      ],
      "source": [
        "nums.index(6)"
      ]
    },
    {
      "cell_type": "code",
      "execution_count": null,
      "metadata": {
        "colab": {
          "base_uri": "https://localhost:8080/"
        },
        "id": "RKrQn8p1v71v",
        "outputId": "6f17ee8e-9301-4b8f-bcef-8a242087f44e"
      },
      "outputs": [
        {
          "data": {
            "text/plain": [
              "4"
            ]
          },
          "execution_count": 67,
          "metadata": {},
          "output_type": "execute_result"
        }
      ],
      "source": [
        "nlist=[2,2,3,3,3,4,4,4,4,5,5,5,5,5]\n",
        "nlist.count(4)"
      ]
    },
    {
      "cell_type": "code",
      "execution_count": null,
      "metadata": {
        "colab": {
          "base_uri": "https://localhost:8080/"
        },
        "id": "1yDJ0M69v71v",
        "outputId": "0554773b-2a1e-48c0-d69b-c10241ea73e8"
      },
      "outputs": [
        {
          "data": {
            "text/plain": [
              "5"
            ]
          },
          "execution_count": 68,
          "metadata": {},
          "output_type": "execute_result"
        }
      ],
      "source": [
        "nlist.count(5)"
      ]
    },
    {
      "cell_type": "code",
      "execution_count": null,
      "metadata": {
        "colab": {
          "base_uri": "https://localhost:8080/"
        },
        "id": "QM7VzorLv71v",
        "outputId": "1ec0d0a4-6151-446a-dde0-7e7edffa5eb8"
      },
      "outputs": [
        {
          "data": {
            "text/plain": [
              "[2, 2, 3, 3, 4, 4, 4, 4, 5, 5, 5, 5, 5]"
            ]
          },
          "execution_count": 69,
          "metadata": {},
          "output_type": "execute_result"
        }
      ],
      "source": [
        "nlist.remove(3)\n",
        "nlist"
      ]
    },
    {
      "cell_type": "code",
      "execution_count": null,
      "metadata": {
        "colab": {
          "base_uri": "https://localhost:8080/"
        },
        "id": "fH0jJAvCv71v",
        "outputId": "c3496c61-905d-47c8-c4f0-0c9cefa381ac"
      },
      "outputs": [
        {
          "data": {
            "text/plain": [
              "2"
            ]
          },
          "execution_count": 70,
          "metadata": {},
          "output_type": "execute_result"
        }
      ],
      "source": [
        "nlist.count(3)"
      ]
    },
    {
      "cell_type": "code",
      "execution_count": null,
      "metadata": {
        "colab": {
          "base_uri": "https://localhost:8080/"
        },
        "id": "QTkzRyqPv71w",
        "outputId": "8e6a0d4e-dd0e-45f1-ffdc-ffccd9c989d0"
      },
      "outputs": [
        {
          "name": "stdout",
          "output_type": "stream",
          "text": [
            "<class 'ValueError'> list.remove(x): x not in list\n"
          ]
        }
      ],
      "source": [
        "try:\n",
        "    nlist.remove(1)\n",
        "except ValueError as e:\n",
        "    print(type(e), e)"
      ]
    },
    {
      "cell_type": "markdown",
      "metadata": {
        "id": "O0BFQ3mcv71w"
      },
      "source": [
        "## Inserting"
      ]
    },
    {
      "cell_type": "code",
      "execution_count": null,
      "metadata": {
        "colab": {
          "base_uri": "https://localhost:8080/"
        },
        "id": "gjRka5cLv71w",
        "outputId": "d0e48ce6-36b4-44e3-f7ce-9f9f7c9979e9"
      },
      "outputs": [
        {
          "data": {
            "text/plain": [
              "['a', 'e', 'i', 'o', 'u']"
            ]
          },
          "execution_count": 72,
          "metadata": {},
          "output_type": "execute_result"
        }
      ],
      "source": [
        "v=list('aeiou')\n",
        "v"
      ]
    },
    {
      "cell_type": "code",
      "execution_count": null,
      "metadata": {
        "colab": {
          "base_uri": "https://localhost:8080/"
        },
        "id": "wFlR4NEpv71w",
        "outputId": "0e88ef96-33f6-46a1-9aae-771700465dec"
      },
      "outputs": [
        {
          "data": {
            "text/plain": [
              "['a', 'e', 'i', 'y', 'o', 'u']"
            ]
          },
          "execution_count": 73,
          "metadata": {},
          "output_type": "execute_result"
        }
      ],
      "source": [
        "v.insert(3,'y')\n",
        "v"
      ]
    },
    {
      "cell_type": "markdown",
      "metadata": {
        "id": "4s1rdQuRv71w"
      },
      "source": [
        "## Sorting"
      ]
    },
    {
      "cell_type": "code",
      "execution_count": null,
      "metadata": {
        "colab": {
          "base_uri": "https://localhost:8080/"
        },
        "id": "1ZZzNqX3v71w",
        "outputId": "1c933a2d-89b9-4246-d2e0-070a209551c6"
      },
      "outputs": [
        {
          "data": {
            "text/plain": [
              "[1, 2, 3, 4, 5]"
            ]
          },
          "execution_count": 75,
          "metadata": {},
          "output_type": "execute_result"
        }
      ],
      "source": [
        "l=[5,4,3,2,1]\n",
        "l.sort()\n",
        "l"
      ]
    },
    {
      "cell_type": "markdown",
      "metadata": {
        "id": "nxJ_tvQ-v71w"
      },
      "source": [
        "## Maximum and Minimum"
      ]
    },
    {
      "cell_type": "code",
      "execution_count": null,
      "metadata": {
        "colab": {
          "base_uri": "https://localhost:8080/"
        },
        "id": "01MZcYrTv71w",
        "outputId": "327ae77a-5c70-4b05-e055-9e26e4059079"
      },
      "outputs": [
        {
          "data": {
            "text/plain": [
              "5"
            ]
          },
          "execution_count": 76,
          "metadata": {},
          "output_type": "execute_result"
        }
      ],
      "source": [
        "max(l)"
      ]
    },
    {
      "cell_type": "code",
      "execution_count": null,
      "metadata": {
        "colab": {
          "base_uri": "https://localhost:8080/"
        },
        "id": "tdyybZo1v71x",
        "outputId": "51c45c9c-6282-490d-fa32-81736f031070"
      },
      "outputs": [
        {
          "data": {
            "text/plain": [
              "1"
            ]
          },
          "execution_count": 77,
          "metadata": {},
          "output_type": "execute_result"
        }
      ],
      "source": [
        "min(l)"
      ]
    },
    {
      "cell_type": "markdown",
      "metadata": {
        "id": "xBhFpfPrv71x"
      },
      "source": [
        "## Any and All"
      ]
    },
    {
      "cell_type": "markdown",
      "metadata": {
        "id": "VrknieoMv71x"
      },
      "source": [
        "Sees whether any or all of the objects in a list are true, based on the truth value of the objects. From the Python manual, here are \"most of the built-in objects considered false:\n",
        "\n",
        "* constants defined to be false: `None` and `False`\n",
        "* zero of any numeric type: 0, 0.0, 0j, Decimal(0), Fraction(0,1)\n",
        "* empty sequences and collections: '',(),[],{},set(), range(0)\n",
        "\n",
        "Most other objects are considered `True`"
      ]
    },
    {
      "cell_type": "code",
      "execution_count": null,
      "metadata": {
        "colab": {
          "base_uri": "https://localhost:8080/"
        },
        "id": "Z44Nmf3Lv71x",
        "outputId": "4eab68dc-f096-46e0-e0d8-4131ddeb6072"
      },
      "outputs": [
        {
          "data": {
            "text/plain": [
              "True"
            ]
          },
          "execution_count": 78,
          "metadata": {},
          "output_type": "execute_result"
        }
      ],
      "source": [
        "l=[5,4,True,100,1,[0]]\n",
        "all(l)"
      ]
    },
    {
      "cell_type": "code",
      "execution_count": null,
      "metadata": {
        "colab": {
          "base_uri": "https://localhost:8080/"
        },
        "id": "QAoayvpAv71x",
        "outputId": "21f540e2-d50b-438b-f4ae-2a841891eeec"
      },
      "outputs": [
        {
          "data": {
            "text/plain": [
              "[5, 4, True, 100, 1, [0], 0]"
            ]
          },
          "execution_count": 79,
          "metadata": {},
          "output_type": "execute_result"
        }
      ],
      "source": [
        "l.append(0)\n",
        "l"
      ]
    },
    {
      "cell_type": "code",
      "execution_count": null,
      "metadata": {
        "colab": {
          "base_uri": "https://localhost:8080/"
        },
        "id": "VD8YiASxv71x",
        "outputId": "bb1b42e2-162e-4ee7-fb1d-a41f9c3bf822"
      },
      "outputs": [
        {
          "data": {
            "text/plain": [
              "False"
            ]
          },
          "execution_count": 80,
          "metadata": {},
          "output_type": "execute_result"
        }
      ],
      "source": [
        "all(l)"
      ]
    },
    {
      "cell_type": "code",
      "execution_count": null,
      "metadata": {
        "colab": {
          "base_uri": "https://localhost:8080/"
        },
        "id": "t2-iN6fFv71x",
        "outputId": "88f18233-d9b6-4b3d-d2d6-81bbedfdece4"
      },
      "outputs": [
        {
          "data": {
            "text/plain": [
              "True"
            ]
          },
          "execution_count": 81,
          "metadata": {},
          "output_type": "execute_result"
        }
      ],
      "source": [
        "any(l)"
      ]
    },
    {
      "cell_type": "code",
      "execution_count": null,
      "metadata": {
        "colab": {
          "base_uri": "https://localhost:8080/"
        },
        "id": "zhaJMLhhv71x",
        "outputId": "6cb0483b-e988-43a0-aa8a-61ce06dd5a55"
      },
      "outputs": [
        {
          "data": {
            "text/plain": [
              "False"
            ]
          },
          "execution_count": 82,
          "metadata": {},
          "output_type": "execute_result"
        }
      ],
      "source": [
        "l=[False,0,0,False,[]]\n",
        "any(l)"
      ]
    },
    {
      "cell_type": "code",
      "execution_count": null,
      "metadata": {
        "colab": {
          "base_uri": "https://localhost:8080/"
        },
        "id": "wIg3-ipnv71y",
        "outputId": "f9f8d14f-2d6e-4f96-dc7b-b1e88c65676f"
      },
      "outputs": [
        {
          "data": {
            "text/plain": [
              "[False, 0, 0, False, [], 5]"
            ]
          },
          "execution_count": 83,
          "metadata": {},
          "output_type": "execute_result"
        }
      ],
      "source": [
        "l.append(5)\n",
        "l"
      ]
    },
    {
      "cell_type": "code",
      "execution_count": null,
      "metadata": {
        "colab": {
          "base_uri": "https://localhost:8080/"
        },
        "id": "N3nI8hvlv71y",
        "outputId": "f2399fc7-502d-41f2-a00c-e04b10039184"
      },
      "outputs": [
        {
          "data": {
            "text/plain": [
              "True"
            ]
          },
          "execution_count": 84,
          "metadata": {},
          "output_type": "execute_result"
        }
      ],
      "source": [
        "any(l)"
      ]
    },
    {
      "cell_type": "code",
      "execution_count": null,
      "metadata": {
        "colab": {
          "base_uri": "https://localhost:8080/"
        },
        "id": "B-SL-Y51v71y",
        "outputId": "2cbcff7c-1a5a-485f-cc7c-4c7041f4e305"
      },
      "outputs": [
        {
          "data": {
            "text/plain": [
              "False"
            ]
          },
          "execution_count": 85,
          "metadata": {},
          "output_type": "execute_result"
        }
      ],
      "source": [
        "all(l)"
      ]
    },
    {
      "cell_type": "markdown",
      "metadata": {
        "id": "uLpcW4z-v71y"
      },
      "source": [
        "## Reversing"
      ]
    },
    {
      "cell_type": "code",
      "execution_count": null,
      "metadata": {
        "colab": {
          "base_uri": "https://localhost:8080/"
        },
        "id": "MRAHKpxCv71y",
        "outputId": "fab02612-f64f-49db-aa6e-b9c69e6660ea"
      },
      "outputs": [
        {
          "data": {
            "text/plain": [
              "['The', 'rain', 'in', 'Spain', 'is', 'mainly', 'on', 'the', 'plain']"
            ]
          },
          "execution_count": 86,
          "metadata": {},
          "output_type": "execute_result"
        }
      ],
      "source": [
        "lyric=\"The rain in Spain is mainly on the plain\"\n",
        "l=lyric.split()\n",
        "l"
      ]
    },
    {
      "cell_type": "code",
      "execution_count": null,
      "metadata": {
        "colab": {
          "base_uri": "https://localhost:8080/"
        },
        "id": "oQ7AzkOEv71y",
        "outputId": "2a08606c-c56e-4476-d7d0-bc3930129d27"
      },
      "outputs": [
        {
          "data": {
            "text/plain": [
              "['plain', 'the', 'on', 'mainly', 'is', 'Spain', 'in', 'rain', 'The']"
            ]
          },
          "execution_count": 87,
          "metadata": {},
          "output_type": "execute_result"
        }
      ],
      "source": [
        "l.reverse()\n",
        "l"
      ]
    },
    {
      "cell_type": "markdown",
      "metadata": {
        "id": "8NB_jkpuv71y"
      },
      "source": [
        "## Lists vs Strings\n",
        "\n",
        "__What are some differences between lists and strings?__ &rarr;"
      ]
    },
    {
      "cell_type": "markdown",
      "metadata": {
        "id": "ETUcoPkIv71y"
      },
      "source": [
        "* strings are __immutable, strings cannot be changed\n",
        "* string methods return a new value, while list methods often change the original list (and don't return a value)\n",
        "* (and obviously, they are different types of objects that contain different things) "
      ]
    },
    {
      "cell_type": "code",
      "execution_count": null,
      "metadata": {
        "colab": {
          "base_uri": "https://localhost:8080/"
        },
        "id": "W5E1aPwZv71y",
        "outputId": "98a3c4af-9f6e-401a-89ca-95bc793ed7dd"
      },
      "outputs": [
        {
          "name": "stdout",
          "output_type": "stream",
          "text": [
            "can't do this\n"
          ]
        }
      ],
      "source": [
        "greeting=\"hello\"\n",
        "try:\n",
        "    greeting[0]=\"m\"\n",
        "except:\n",
        "    print(\"can't do this\")"
      ]
    },
    {
      "cell_type": "code",
      "execution_count": null,
      "metadata": {
        "id": "rQcxENfTv71z"
      },
      "outputs": [],
      "source": [
        "g2=greeting.upper()"
      ]
    },
    {
      "cell_type": "code",
      "execution_count": null,
      "metadata": {
        "colab": {
          "base_uri": "https://localhost:8080/",
          "height": 35
        },
        "id": "HyqZxKwUv71z",
        "outputId": "ff1a5722-a93c-4777-ed63-091878c90ce1"
      },
      "outputs": [
        {
          "data": {
            "application/vnd.google.colaboratory.intrinsic+json": {
              "type": "string"
            },
            "text/plain": [
              "'hello'"
            ]
          },
          "execution_count": 90,
          "metadata": {},
          "output_type": "execute_result"
        }
      ],
      "source": [
        "greeting"
      ]
    },
    {
      "cell_type": "code",
      "execution_count": null,
      "metadata": {
        "colab": {
          "base_uri": "https://localhost:8080/",
          "height": 35
        },
        "id": "cCC_q_pMd2gw",
        "outputId": "3f57f1a3-a86c-400e-cd7f-451dbf9a22ef"
      },
      "outputs": [
        {
          "data": {
            "application/vnd.google.colaboratory.intrinsic+json": {
              "type": "string"
            },
            "text/plain": [
              "'HELLO'"
            ]
          },
          "execution_count": 92,
          "metadata": {},
          "output_type": "execute_result"
        }
      ],
      "source": [
        "g2"
      ]
    },
    {
      "cell_type": "markdown",
      "metadata": {
        "id": "nuCT2DlDv71z"
      },
      "source": [
        "## Converting Strings to Lists and Back Again"
      ]
    },
    {
      "cell_type": "code",
      "execution_count": null,
      "metadata": {
        "colab": {
          "base_uri": "https://localhost:8080/"
        },
        "id": "4-C3_y4gv71z",
        "outputId": "4df49ff5-5bd7-410c-c7fe-ebbf3f6444fd"
      },
      "outputs": [
        {
          "name": "stdout",
          "output_type": "stream",
          "text": [
            "['09', '02', '2020']\n",
            "<class 'list'>\n"
          ]
        }
      ],
      "source": [
        "# split string to list\n",
        "created_date = \"09/02/2020\"\n",
        "created_date_parts = created_date.split('/')\n",
        "print(created_date_parts)\n",
        "print(type(created_date_parts))"
      ]
    },
    {
      "cell_type": "code",
      "execution_count": null,
      "metadata": {
        "colab": {
          "base_uri": "https://localhost:8080/"
        },
        "id": "O8RbFrxpv71z",
        "outputId": "4c95fe1d-a24f-444c-c8fb-303b1e245793"
      },
      "outputs": [
        {
          "name": "stdout",
          "output_type": "stream",
          "text": [
            "month and year are: 09 2020\n",
            "<class 'str'>\n",
            "<class 'str'>\n"
          ]
        }
      ],
      "source": [
        "# extract individual strings\n",
        "month, day, year = created_date_parts\n",
        "print('month and year are:', month, year)\n",
        "print(type(month))\n",
        "print(type(year))"
      ]
    },
    {
      "cell_type": "code",
      "execution_count": null,
      "metadata": {
        "colab": {
          "base_uri": "https://localhost:8080/"
        },
        "id": "m9umdL3Ev71z",
        "outputId": "4de7ba8e-a301-40af-8fd7-5a6f017f6b5c"
      },
      "outputs": [
        {
          "name": "stdout",
          "output_type": "stream",
          "text": [
            "2020-09-02\n",
            "<class 'str'>\n"
          ]
        }
      ],
      "source": [
        "# reassemble\n",
        "ymd='-'.join([year, month, day])\n",
        "print(ymd)\n",
        "print(type(ymd))"
      ]
    },
    {
      "cell_type": "markdown",
      "metadata": {
        "id": "k06wU74vv712"
      },
      "source": [
        "## A Little About Range\n",
        "\n",
        "__A `range` is an immutable sequence type!__\n",
        "\n",
        "* you can loop over it\n",
        "* as well as index\n",
        "* ...but you can't assign to it"
      ]
    },
    {
      "cell_type": "code",
      "execution_count": null,
      "metadata": {
        "colab": {
          "base_uri": "https://localhost:8080/"
        },
        "id": "6JFUYWt-v713",
        "outputId": "238fe82c-32f8-4933-cbc0-0a271ae8b2e6"
      },
      "outputs": [
        {
          "name": "stdout",
          "output_type": "stream",
          "text": [
            "range(0, 5)\n",
            "[0, 1, 2, 3, 4]\n",
            "<class 'range'>\n",
            "2\n"
          ]
        }
      ],
      "source": [
        "r = range(5)\n",
        "print(r)\n",
        "print(list(r))\n",
        "print(type(r))\n",
        "print(r[2])"
      ]
    },
    {
      "cell_type": "code",
      "execution_count": null,
      "metadata": {
        "colab": {
          "base_uri": "https://localhost:8080/"
        },
        "id": "aSHsrEqQv713",
        "outputId": "926e7a09-02b1-4529-97f7-be2f48092526"
      },
      "outputs": [
        {
          "data": {
            "text/plain": [
              "range(0, 5)"
            ]
          },
          "execution_count": 35,
          "metadata": {},
          "output_type": "execute_result"
        }
      ],
      "source": [
        "r"
      ]
    },
    {
      "cell_type": "code",
      "execution_count": null,
      "metadata": {
        "colab": {
          "base_uri": "https://localhost:8080/"
        },
        "id": "SLYQU4zWv713",
        "outputId": "980afd6f-75e2-4dfe-b3d0-0a563c80a0f9"
      },
      "outputs": [
        {
          "name": "stdout",
          "output_type": "stream",
          "text": [
            "0 1 2 3 4 "
          ]
        }
      ],
      "source": [
        "for i in r:\n",
        "    print(i, end=' ')"
      ]
    },
    {
      "cell_type": "markdown",
      "metadata": {
        "id": "vY4UX0eBv713"
      },
      "source": [
        "## Assignment Will Raise a TypeError"
      ]
    },
    {
      "cell_type": "code",
      "execution_count": null,
      "metadata": {
        "colab": {
          "base_uri": "https://localhost:8080/"
        },
        "id": "jNd3V4afv713",
        "outputId": "9425cd9a-7b8f-4087-c36f-4a097e534500"
      },
      "outputs": [
        {
          "name": "stdout",
          "output_type": "stream",
          "text": [
            "<class 'TypeError'> 'range' object does not support item assignment\n"
          ]
        }
      ],
      "source": [
        "try:\n",
        "    r[0] = 21\n",
        "except TypeError as e:\n",
        "    print(type(e), e)"
      ]
    },
    {
      "cell_type": "code",
      "execution_count": null,
      "metadata": {
        "colab": {
          "base_uri": "https://localhost:8080/"
        },
        "id": "OFQ_xw-ov713",
        "outputId": "551a2ed8-7b3f-4889-af34-c0d97ee7f923"
      },
      "outputs": [
        {
          "name": "stdout",
          "output_type": "stream",
          "text": [
            "[0, 1, 2, 3, 4]\n"
          ]
        },
        {
          "data": {
            "text/plain": [
              "[0, 1, 100, 3, 4]"
            ]
          },
          "execution_count": 39,
          "metadata": {},
          "output_type": "execute_result"
        }
      ],
      "source": [
        "# to assign, need to transform to list\n",
        "l_from_r=list(r)\n",
        "print(l_from_r)\n",
        "l_from_r[2]=100\n",
        "l_from_r"
      ]
    },
    {
      "cell_type": "code",
      "execution_count": null,
      "metadata": {
        "colab": {
          "base_uri": "https://localhost:8080/"
        },
        "id": "8DWAhzn-e0ci",
        "outputId": "e69e88ca-414f-4491-8e69-fd78e4f321dd"
      },
      "outputs": [
        {
          "data": {
            "text/plain": [
              "range(3, 100, 3)"
            ]
          },
          "execution_count": 97,
          "metadata": {},
          "output_type": "execute_result"
        }
      ],
      "source": [
        "range(3,100,3)"
      ]
    },
    {
      "cell_type": "markdown",
      "metadata": {
        "id": "mS19nR99v713"
      },
      "source": [
        "## Tuples are Also an Immutable Sequence Type\n",
        "\n",
        "Think of a tuple as: __a list that can't be changed__\n",
        "\n",
        "Tuples take less memory than lists, perform better. Good for data that won't change over the course of your problem."
      ]
    },
    {
      "cell_type": "markdown",
      "metadata": {
        "id": "p_sGsZCCv714"
      },
      "source": [
        "## Tuples Can be Created with Commas (and Just Commas)\n"
      ]
    },
    {
      "cell_type": "code",
      "execution_count": null,
      "metadata": {
        "colab": {
          "base_uri": "https://localhost:8080/"
        },
        "id": "6kwRGXTbv714",
        "outputId": "ff664999-0578-4319-b200-3baecdfa9a94"
      },
      "outputs": [
        {
          "name": "stdout",
          "output_type": "stream",
          "text": [
            "(1, 2, 3)\n",
            "<class 'tuple'>\n",
            "(2,)\n",
            "<class 'tuple'>\n"
          ]
        }
      ],
      "source": [
        "# only commas!\n",
        "t = 1, 2, 3\n",
        "\n",
        "# with one element, element and comma\n",
        "one_element = 2,\n",
        "\n",
        "print(t)\n",
        "print(type(t))\n",
        "print(one_element)\n",
        "print(type(one_element))"
      ]
    },
    {
      "cell_type": "markdown",
      "metadata": {
        "id": "4OD_ohfvv714"
      },
      "source": [
        "## There are Some Instances Where You Need Parentheses"
      ]
    },
    {
      "cell_type": "code",
      "execution_count": null,
      "metadata": {
        "colab": {
          "base_uri": "https://localhost:8080/"
        },
        "id": "-pF0svzyv714",
        "outputId": "b8edbc47-d0d5-4b24-bdd4-f33e371c2325"
      },
      "outputs": [
        {
          "name": "stdout",
          "output_type": "stream",
          "text": [
            "(1, 2, 3) 4\n"
          ]
        }
      ],
      "source": [
        "# note that if you want a tuple literal as an argument\n",
        "# ...it has to be wrapped in parentheses\n",
        "print((1, 2, 3), 4)"
      ]
    },
    {
      "cell_type": "markdown",
      "metadata": {
        "id": "wgZIBZ96v714"
      },
      "source": [
        "## Immutable"
      ]
    },
    {
      "cell_type": "code",
      "execution_count": null,
      "metadata": {
        "colab": {
          "base_uri": "https://localhost:8080/"
        },
        "id": "jfNobWAWv714",
        "outputId": "0a087c1c-c2ab-4e76-ba85-aa611ea1513a"
      },
      "outputs": [
        {
          "name": "stdout",
          "output_type": "stream",
          "text": [
            "<class 'TypeError'> 'tuple' object does not support item assignment\n"
          ]
        }
      ],
      "source": [
        "try:\n",
        "    t[0] = 'please change!'\n",
        "except TypeError as e:\n",
        "    print(type(e), e)"
      ]
    },
    {
      "cell_type": "markdown",
      "metadata": {
        "id": "mLtQBjTbv714"
      },
      "source": [
        "## Unpacking..."
      ]
    },
    {
      "cell_type": "code",
      "execution_count": null,
      "metadata": {
        "colab": {
          "base_uri": "https://localhost:8080/"
        },
        "id": "WCCbpnFKv714",
        "outputId": "a8bd2931-d14b-4481-a5a4-34f4775c7976"
      },
      "outputs": [
        {
          "name": "stdout",
          "output_type": "stream",
          "text": [
            "foo\n",
            "bar\n"
          ]
        }
      ],
      "source": [
        "word1, word2 = 'foo', 'bar'\n",
        "print(word1)\n",
        "print(word2)"
      ]
    },
    {
      "cell_type": "code",
      "execution_count": null,
      "metadata": {
        "colab": {
          "base_uri": "https://localhost:8080/"
        },
        "id": "I_iMNEOJv715",
        "outputId": "9ae8a899-2072-4087-bc6e-0c94f7b7c613"
      },
      "outputs": [
        {
          "name": "stdout",
          "output_type": "stream",
          "text": [
            "foo\n",
            "bar\n"
          ]
        }
      ],
      "source": [
        "t2 = 'foo', 'bar'\n",
        "word1, word2 = t2\n",
        "print(word1)\n",
        "print(word2)"
      ]
    },
    {
      "cell_type": "markdown",
      "metadata": {
        "id": "gV-V-ToUv715"
      },
      "source": [
        "## Tuples in a List"
      ]
    },
    {
      "cell_type": "code",
      "execution_count": null,
      "metadata": {
        "colab": {
          "base_uri": "https://localhost:8080/"
        },
        "id": "8H_waPHsv715",
        "outputId": "961ab0cd-ce72-4c66-905d-932cfc4ec4b9"
      },
      "outputs": [
        {
          "name": "stdout",
          "output_type": "stream",
          "text": [
            "<class 'tuple'>\n",
            "(1, 2)\n",
            "<class 'tuple'>\n",
            "(3, 4)\n",
            "<class 'tuple'>\n",
            "(5, 6)\n"
          ]
        }
      ],
      "source": [
        "points = [(1, 2), (3, 4), (5, 6)]\n",
        "for p in points:\n",
        "    # type is tuple on each iteration...\n",
        "    print(type(p))\n",
        "    print(p)"
      ]
    },
    {
      "cell_type": "markdown",
      "metadata": {
        "id": "azgPoGzzv715"
      },
      "source": [
        "## Accessing Each Tuple Element"
      ]
    },
    {
      "cell_type": "code",
      "execution_count": null,
      "metadata": {
        "colab": {
          "base_uri": "https://localhost:8080/"
        },
        "id": "_lV7CoKev715",
        "outputId": "624dc5bf-01bc-4a2c-84b5-327f71fda327"
      },
      "outputs": [
        {
          "name": "stdout",
          "output_type": "stream",
          "text": [
            "x 1\n",
            "y 2\n",
            "x 3\n",
            "y 4\n",
            "x 5\n",
            "y 6\n"
          ]
        }
      ],
      "source": [
        "# printing out both the x and y components\n",
        "for p in points:\n",
        "    # this requires indexing...\n",
        "    print('x', p[0])\n",
        "    print('y', p[1])"
      ]
    },
    {
      "cell_type": "markdown",
      "metadata": {
        "id": "r-YGWqrPv715"
      },
      "source": [
        "## Unpacking Directly in Loop Variable"
      ]
    },
    {
      "cell_type": "code",
      "execution_count": null,
      "metadata": {
        "colab": {
          "base_uri": "https://localhost:8080/"
        },
        "id": "iWJc1dEmv715",
        "outputId": "1f334bd5-2c3c-44b9-ab56-ba706c2db6f1"
      },
      "outputs": [
        {
          "name": "stdout",
          "output_type": "stream",
          "text": [
            "x 1\n",
            "y 2\n",
            "x 3\n",
            "y 4\n",
            "x 5\n",
            "y 6\n"
          ]
        }
      ],
      "source": [
        "for x, y in points:\n",
        "    print('x', x)\n",
        "    print('y', y)"
      ]
    },
    {
      "cell_type": "markdown",
      "metadata": {
        "id": "ZqIFGWTNv716"
      },
      "source": [
        "## Index (Position) and Element\n",
        "\n",
        "__Sometimes it's useful to have both the element and element's position__ &rarr;"
      ]
    },
    {
      "cell_type": "code",
      "execution_count": null,
      "metadata": {
        "colab": {
          "base_uri": "https://localhost:8080/"
        },
        "id": "uirmuPYKv716",
        "outputId": "b2f50fbc-b8fb-46b1-f054-47900f1a2568"
      },
      "outputs": [
        {
          "name": "stdout",
          "output_type": "stream",
          "text": [
            "0 yes\n",
            "1 no\n",
            "2 maybe\n"
          ]
        }
      ],
      "source": [
        "# Using Range\n",
        "options = ['yes', 'no', 'maybe']\n",
        "for i in range(len(options)):\n",
        "    print(i, options[i])"
      ]
    },
    {
      "cell_type": "markdown",
      "metadata": {
        "id": "Iil-Jxg2v716"
      },
      "source": [
        "## Index and Element with `enumerate`\n",
        "\n",
        "counts off the elements"
      ]
    },
    {
      "cell_type": "code",
      "execution_count": null,
      "metadata": {
        "id": "TKmW8ewKv716"
      },
      "outputs": [],
      "source": [
        "result = enumerate(options)"
      ]
    },
    {
      "cell_type": "code",
      "execution_count": null,
      "metadata": {
        "colab": {
          "base_uri": "https://localhost:8080/"
        },
        "id": "tWVPmFfuv716",
        "outputId": "6cf78320-64dd-45e3-9fe9-23f31ebc62c2"
      },
      "outputs": [
        {
          "data": {
            "text/plain": [
              "<enumerate at 0x7fd4409835f0>"
            ]
          },
          "execution_count": 114,
          "metadata": {},
          "output_type": "execute_result"
        }
      ],
      "source": [
        "result"
      ]
    },
    {
      "cell_type": "code",
      "execution_count": null,
      "metadata": {
        "colab": {
          "base_uri": "https://localhost:8080/"
        },
        "id": "nVt99WRtv716",
        "outputId": "1ff25776-00a7-41ed-c6b9-9fe8fa1abdd7"
      },
      "outputs": [
        {
          "data": {
            "text/plain": [
              "[(0, 'yes'), (1, 'no'), (2, 'maybe')]"
            ]
          },
          "execution_count": 115,
          "metadata": {},
          "output_type": "execute_result"
        }
      ],
      "source": [
        "l=list(result)\n",
        "l"
      ]
    },
    {
      "cell_type": "code",
      "execution_count": null,
      "metadata": {
        "colab": {
          "base_uri": "https://localhost:8080/"
        },
        "id": "8Q90lW5gv716",
        "outputId": "f7ad9600-7856-4c3b-80ec-cbd8f5e889ac"
      },
      "outputs": [
        {
          "data": {
            "text/plain": [
              "tuple"
            ]
          },
          "execution_count": 111,
          "metadata": {},
          "output_type": "execute_result"
        }
      ],
      "source": [
        "type(l[1])"
      ]
    },
    {
      "cell_type": "code",
      "execution_count": null,
      "metadata": {
        "colab": {
          "base_uri": "https://localhost:8080/"
        },
        "id": "xLli7tn1v716",
        "outputId": "71e22e85-c005-4154-8207-807be78b0afb"
      },
      "outputs": [
        {
          "name": "stdout",
          "output_type": "stream",
          "text": [
            "0 yes\n",
            "1 no\n",
            "2 maybe\n"
          ]
        }
      ],
      "source": [
        "# unpacking by enumerating\n",
        "for i, option_label in enumerate(options):\n",
        "    print(i, option_label)"
      ]
    },
    {
      "cell_type": "markdown",
      "metadata": {
        "id": "ikyNr9Xov717"
      },
      "source": [
        "## Dictionaries\n",
        "\n",
        "In some other languages called hashes or associative arrays"
      ]
    },
    {
      "cell_type": "markdown",
      "metadata": {
        "id": "qn7KzW17v717"
      },
      "source": [
        "* type / _constructor_ is `dict`\n",
        "* it's a collection of pairs of keys and their associated values\n",
        "* empty dictionary is `{}`\n",
        "* values can be looked up with keys into using `[]`: `d[k]`\n",
        "* new key / val pair can be added with `[]` and assignment: `d[new_k] = 'new value'`\n",
        "* `KeyError` if key doesn't exist\n",
        "* built using hash tables: close to constant time assignment and lookup, so typically very fast"
      ]
    },
    {
      "cell_type": "markdown",
      "metadata": {
        "id": "Wh8mgTfKv717"
      },
      "source": [
        "## Quick Dictionary Example"
      ]
    },
    {
      "cell_type": "code",
      "execution_count": null,
      "metadata": {
        "colab": {
          "base_uri": "https://localhost:8080/"
        },
        "id": "npJ-21pev717",
        "outputId": "09dd06d9-b423-4fc1-9d74-5c5bfb029116"
      },
      "outputs": [
        {
          "name": "stdout",
          "output_type": "stream",
          "text": [
            "1770\n",
            "{'Beethoven': 1770, 'Bach': 1685}\n"
          ]
        }
      ],
      "source": [
        "birth_years = {}\n",
        "birth_years['Beethoven'] = 1770\n",
        "birth_years['Bach']=1685\n",
        "print(birth_years['Beethoven'])\n",
        "print(birth_years)"
      ]
    },
    {
      "cell_type": "code",
      "execution_count": null,
      "metadata": {
        "colab": {
          "base_uri": "https://localhost:8080/"
        },
        "id": "h4F7SdZgv718",
        "outputId": "652bdb12-f7b9-435a-bdd3-9e225cc88b78"
      },
      "outputs": [
        {
          "name": "stdout",
          "output_type": "stream",
          "text": [
            "error: that key does not exist\n"
          ]
        }
      ],
      "source": [
        "try:\n",
        "    print(birth_years['Mozart'])\n",
        "except KeyError:\n",
        "    print('error: that key does not exist')"
      ]
    },
    {
      "cell_type": "markdown",
      "metadata": {
        "id": "BeUn9EiQv718"
      },
      "source": [
        "## Dictionaries and Printing \n",
        "\n",
        "__Let's try to print the following dictionary's keys AND values__ &rarr;"
      ]
    },
    {
      "cell_type": "code",
      "execution_count": null,
      "metadata": {
        "id": "qpim7A7ev718"
      },
      "outputs": [],
      "source": [
        "person = {\"first\":\"james\", \"last\":\"jones\", \"middle\": \"earl\"}"
      ]
    },
    {
      "cell_type": "code",
      "execution_count": null,
      "metadata": {
        "colab": {
          "base_uri": "https://localhost:8080/"
        },
        "id": "CeJB8ZK5v718",
        "outputId": "d8a9d2fd-9445-4578-f9db-98367c77b889"
      },
      "outputs": [
        {
          "name": "stdout",
          "output_type": "stream",
          "text": [
            "first\n",
            "last\n",
            "middle\n"
          ]
        }
      ],
      "source": [
        "for name_part in person:\n",
        "    print(name_part)"
      ]
    },
    {
      "cell_type": "code",
      "execution_count": null,
      "metadata": {
        "colab": {
          "base_uri": "https://localhost:8080/"
        },
        "id": "1op-EoWov718",
        "outputId": "8d5336c9-5cef-4f7b-8831-239bb2823b73"
      },
      "outputs": [
        {
          "name": "stdout",
          "output_type": "stream",
          "text": [
            "james\n",
            "jones\n",
            "earl\n"
          ]
        }
      ],
      "source": [
        "for name_part in person:\n",
        "    print(person[name_part])"
      ]
    },
    {
      "cell_type": "markdown",
      "metadata": {
        "id": "2uHio6kev718"
      },
      "source": [
        "## Let's Do the Same Thing with `.items`\n",
        "\n",
        "Calling `.items()` on a `dict` will give back a list-like object (of type dict_items) of 2-element tuples, each composed of a the key as the first element and the value as the second. We can coerce the result to a list"
      ]
    },
    {
      "cell_type": "code",
      "execution_count": null,
      "metadata": {
        "colab": {
          "base_uri": "https://localhost:8080/"
        },
        "id": "JxLD_OFvv718",
        "outputId": "7012a1be-7557-4ce2-8012-d61f48b06506"
      },
      "outputs": [
        {
          "name": "stdout",
          "output_type": "stream",
          "text": [
            "[('first', 'james'), ('last', 'jones'), ('middle', 'earl')]\n"
          ]
        },
        {
          "data": {
            "text/plain": [
              "dict_items"
            ]
          },
          "execution_count": 123,
          "metadata": {},
          "output_type": "execute_result"
        }
      ],
      "source": [
        "print(list(person.items()))\n",
        "type(person.items())"
      ]
    },
    {
      "cell_type": "code",
      "execution_count": null,
      "metadata": {
        "colab": {
          "base_uri": "https://localhost:8080/"
        },
        "id": "9GE-UiF-v718",
        "outputId": "c3509639-372b-4897-feb9-e1d03044e555"
      },
      "outputs": [
        {
          "name": "stdout",
          "output_type": "stream",
          "text": [
            "first james\n",
            "last jones\n",
            "middle earl\n"
          ]
        }
      ],
      "source": [
        "for k, v in person.items():\n",
        "    print(k, v)"
      ]
    },
    {
      "cell_type": "markdown",
      "metadata": {
        "id": "dvILY036v719"
      },
      "source": [
        "## `.values()` and `.keys()`\n",
        "\n",
        "__To retrieve a collection of only values or keys, use the corresponding methods, `.values` and `.keys`__"
      ]
    },
    {
      "cell_type": "code",
      "execution_count": null,
      "metadata": {
        "id": "-bpbyJ_Hv719"
      },
      "outputs": [],
      "source": [
        "vals = list(person.values())\n",
        "keys = list(person.keys())"
      ]
    },
    {
      "cell_type": "code",
      "execution_count": null,
      "metadata": {
        "colab": {
          "base_uri": "https://localhost:8080/"
        },
        "id": "m6YsZzy7v719",
        "outputId": "0427a62c-331a-48c1-970b-0dd8d3172e16"
      },
      "outputs": [
        {
          "data": {
            "text/plain": [
              "['james', 'jones', 'earl']"
            ]
          },
          "execution_count": 129,
          "metadata": {},
          "output_type": "execute_result"
        }
      ],
      "source": [
        "vals"
      ]
    },
    {
      "cell_type": "code",
      "execution_count": null,
      "metadata": {
        "colab": {
          "base_uri": "https://localhost:8080/"
        },
        "id": "5SPeBmEbv719",
        "outputId": "32443f6d-aa04-457e-df74-f5e86e23afc8"
      },
      "outputs": [
        {
          "data": {
            "text/plain": [
              "['first', 'last', 'middle']"
            ]
          },
          "execution_count": 130,
          "metadata": {},
          "output_type": "execute_result"
        }
      ],
      "source": [
        "keys"
      ]
    },
    {
      "cell_type": "markdown",
      "metadata": {
        "id": "qv2HQoKYMF5u"
      },
      "source": [
        "Problem\n",
        "\n",
        "Generate a list of 20 random integers between 1 and 4 (there will be repeats). Then create a dictionary where the keys are the numbers between 1 and 4 and the values are the counts. Print the list and the dictionary."
      ]
    },
    {
      "cell_type": "code",
      "execution_count": null,
      "metadata": {
        "colab": {
          "base_uri": "https://localhost:8080/"
        },
        "id": "q3IxAofFiWN4",
        "outputId": "89fe12f7-fc85-4c89-bc3b-62529e1470cb"
      },
      "outputs": [
        {
          "output_type": "stream",
          "name": "stdout",
          "text": [
            "[4, 3, 3, 1, 3, 1, 1, 2, 2, 2, 2, 3, 4, 3, 1, 4, 1, 1, 3, 4]\n",
            "{1: 6, 2: 4, 3: 6, 4: 4}\n"
          ]
        }
      ],
      "source": [
        "import random\n",
        "l=[]\n",
        "d={}\n",
        "for i in range(1,5):\n",
        "  d[i]=0\n",
        "for i in range(20):\n",
        "  v=random.randint(1,4)\n",
        "  l.append(v)\n",
        "  d[v]+=1\n",
        "print(l)\n",
        "print(d)\n"
      ]
    },
    {
      "cell_type": "markdown",
      "metadata": {
        "id": "qsvoDXstv719"
      },
      "source": [
        "## Sets\n",
        "\n",
        "__Sets are an unordered collection of distinct elements__ &rarr;"
      ]
    },
    {
      "cell_type": "code",
      "execution_count": null,
      "metadata": {
        "id": "VrCT5T0lv719"
      },
      "outputs": [],
      "source": [
        "# use curly braces\n",
        "words = {'foo', 'bar', 'baz', 'foo'}\n",
        "print(words)\n",
        "print(type(words))\n"
      ]
    },
    {
      "cell_type": "code",
      "execution_count": null,
      "metadata": {
        "id": "a3wwQ7q2v719",
        "colab": {
          "base_uri": "https://localhost:8080/"
        },
        "outputId": "a99c36db-bfca-41e2-e6de-528d57658542"
      },
      "outputs": [
        {
          "output_type": "stream",
          "name": "stdout",
          "text": [
            "{1, 2, 3, 4, 5, 6, 7, 8, 9, 10, 11, 12, 13, 14, 15, 16, 17, 18, 19, 20, 21, 22, 23, 24, 25, 26, 27, 28, 29, 30, 31, 32, 33, 34, 35, 36, 37, 38, 39, 40, 41, 42, 43, 44, 45, 46, 47, 48, 49, 50, 51, 52, 53, 54, 55, 56, 57, 58, 59, 60, 61, 62, 63, 64, 65, 66, 67, 68, 69, 70, 71, 72, 73, 74, 75, 76, 77, 78, 79, 80, 81, 82, 83, 84, 85, 86, 87, 88, 89, 90, 91, 92, 93, 94, 95, 96, 97, 98, 99, 100}\n"
          ]
        }
      ],
      "source": [
        "# creating an empty set ({} is an empty dictionary, not a n empty set)\n",
        "empty = set()\n",
        "numbers=set(range(1, 101))\n",
        "print(numbers)"
      ]
    },
    {
      "cell_type": "code",
      "execution_count": null,
      "metadata": {
        "id": "PKpDu0o5v719"
      },
      "outputs": [],
      "source": [
        "words2 = {'qux','corge'}"
      ]
    },
    {
      "cell_type": "markdown",
      "metadata": {
        "id": "bGWcViRUv719"
      },
      "source": [
        "## Set Operators and Methods"
      ]
    },
    {
      "cell_type": "code",
      "execution_count": null,
      "metadata": {
        "id": "KCFQ77gfv71-",
        "colab": {
          "base_uri": "https://localhost:8080/"
        },
        "outputId": "a1a94bec-23e3-4750-f2fd-f51b14b978d3"
      },
      "outputs": [
        {
          "output_type": "stream",
          "name": "stdout",
          "text": [
            "{'bar', 'baz', 'foo'}\n",
            "{'corge', 'qux'}\n"
          ]
        }
      ],
      "source": [
        "print(words)\n",
        "print(words2)"
      ]
    },
    {
      "cell_type": "code",
      "execution_count": null,
      "metadata": {
        "id": "JtXRAuXIv71-",
        "colab": {
          "base_uri": "https://localhost:8080/"
        },
        "outputId": "321d14b8-76e5-4316-b061-d7a557cabc33"
      },
      "outputs": [
        {
          "output_type": "execute_result",
          "data": {
            "text/plain": [
              "{'bar', 'baz', 'corge', 'foo', 'qux'}"
            ]
          },
          "metadata": {},
          "execution_count": 11
        }
      ],
      "source": [
        "words.union(words2)"
      ]
    },
    {
      "cell_type": "code",
      "execution_count": null,
      "metadata": {
        "id": "XJyk7-8nv71-",
        "colab": {
          "base_uri": "https://localhost:8080/"
        },
        "outputId": "9907c292-2940-4ea8-b858-20adcb1759a7"
      },
      "outputs": [
        {
          "output_type": "execute_result",
          "data": {
            "text/plain": [
              "{'bar', 'baz', 'corge', 'foo', 'qux'}"
            ]
          },
          "metadata": {},
          "execution_count": 12
        }
      ],
      "source": [
        "words2.union(words)"
      ]
    },
    {
      "cell_type": "code",
      "execution_count": null,
      "metadata": {
        "id": "-MqgzGP9v71-",
        "colab": {
          "base_uri": "https://localhost:8080/"
        },
        "outputId": "be416f86-9cc0-422c-ce89-b54a40120042"
      },
      "outputs": [
        {
          "output_type": "execute_result",
          "data": {
            "text/plain": [
              "{'bar', 'baz', 'corge', 'foo', 'qux'}"
            ]
          },
          "metadata": {},
          "execution_count": 13
        }
      ],
      "source": [
        "# the \"|\" operator also means union in the context of sets\n",
        "words | words2"
      ]
    },
    {
      "cell_type": "code",
      "execution_count": null,
      "metadata": {
        "id": "6Q28RjZVv71-",
        "colab": {
          "base_uri": "https://localhost:8080/"
        },
        "outputId": "e5c2b82d-d434-406c-b431-79802941d674"
      },
      "outputs": [
        {
          "output_type": "stream",
          "name": "stdout",
          "text": [
            "{'corge', 'qux'}\n",
            "{'bar', 'baz', 'foo'}\n"
          ]
        },
        {
          "output_type": "execute_result",
          "data": {
            "text/plain": [
              "{'bar', 'baz', 'corge', 'foo', 'idk', 'qux'}"
            ]
          },
          "metadata": {},
          "execution_count": 17
        }
      ],
      "source": [
        "print(words2)\n",
        "print(words)\n",
        "words.union(words2, {'qux', 'idk'})"
      ]
    },
    {
      "cell_type": "code",
      "execution_count": null,
      "metadata": {
        "id": "pbE_xW04v71-",
        "colab": {
          "base_uri": "https://localhost:8080/"
        },
        "outputId": "4b2d1420-ec59-4d71-f57e-1f0228d43d5a"
      },
      "outputs": [
        {
          "output_type": "stream",
          "name": "stdout",
          "text": [
            "{'bar', 'baz', 'foo'}\n"
          ]
        },
        {
          "output_type": "execute_result",
          "data": {
            "text/plain": [
              "{'bar', 'baz'}"
            ]
          },
          "metadata": {},
          "execution_count": 18
        }
      ],
      "source": [
        "# intersection using \"&\"\n",
        "print(words)\n",
        "words3={'bar', 'baz', 'qux'}\n",
        "words & words3"
      ]
    },
    {
      "cell_type": "code",
      "execution_count": null,
      "metadata": {
        "id": "hvF3W89iv71_",
        "colab": {
          "base_uri": "https://localhost:8080/"
        },
        "outputId": "48ad949d-96f1-49dd-df55-02a883e4d93f"
      },
      "outputs": [
        {
          "output_type": "execute_result",
          "data": {
            "text/plain": [
              "{'bar', 'baz'}"
            ]
          },
          "metadata": {},
          "execution_count": 19
        }
      ],
      "source": [
        "# intersection using a method\n",
        "words.intersection(words3)"
      ]
    },
    {
      "cell_type": "code",
      "execution_count": null,
      "metadata": {
        "id": "nHpk9Bd6v71_",
        "colab": {
          "base_uri": "https://localhost:8080/"
        },
        "outputId": "e0433a5b-8842-41b7-a5b6-1ca1a61b9de6"
      },
      "outputs": [
        {
          "output_type": "execute_result",
          "data": {
            "text/plain": [
              "{'bar', 'baz'}"
            ]
          },
          "metadata": {},
          "execution_count": 20
        }
      ],
      "source": [
        "# commutative\n",
        "words3.intersection(words)"
      ]
    },
    {
      "cell_type": "markdown",
      "metadata": {
        "id": "74o7o11Pv71_"
      },
      "source": [
        "## Set Elements\n",
        "\n",
        "* Set elements must be immutable\n",
        "* Set elements are distinct"
      ]
    },
    {
      "cell_type": "code",
      "execution_count": null,
      "metadata": {
        "colab": {
          "base_uri": "https://localhost:8080/"
        },
        "id": "VbVBCTGYv71_",
        "outputId": "cf359f60-ca9c-4ac0-877a-0db30fdcbe70"
      },
      "outputs": [
        {
          "output_type": "stream",
          "name": "stdout",
          "text": [
            "<class 'TypeError'> unhashable type: 'list'\n"
          ]
        }
      ],
      "source": [
        "try:\n",
        "    # set elements cannot be mutable!\n",
        "    {'foo', [1, 2, 3]}\n",
        "except TypeError as e:\n",
        "    print(type(e), e)"
      ]
    },
    {
      "cell_type": "code",
      "execution_count": null,
      "metadata": {
        "colab": {
          "base_uri": "https://localhost:8080/"
        },
        "id": "1TzjR-cnv71_",
        "outputId": "dc478afa-baaf-450a-de1d-a89afebbe5f3"
      },
      "outputs": [
        {
          "output_type": "execute_result",
          "data": {
            "text/plain": [
              "{1, 2, 3}"
            ]
          },
          "metadata": {},
          "execution_count": 24
        }
      ],
      "source": [
        "set([1, 2, 2, 2, 3])"
      ]
    },
    {
      "cell_type": "markdown",
      "metadata": {
        "id": "skCfb_04ccpW"
      },
      "source": [
        "## Poll Everywhere Question\n",
        "\n",
        "Which of the following are all immutable in Python?\n",
        "\n",
        "* Lists and dictionary values\n",
        "* Tuples and lists\n",
        "* Set elements, tuples, and dictionary keys\n",
        "* Lists and strings"
      ]
    },
    {
      "cell_type": "markdown",
      "metadata": {
        "id": "saMlf5Tfv71_"
      },
      "source": [
        "## Sets and Interaction with Other Types"
      ]
    },
    {
      "cell_type": "code",
      "execution_count": null,
      "metadata": {
        "id": "xjNQoL42v72A"
      },
      "outputs": [],
      "source": [
        "words = {'foo', 'bar', 'baz', 'foo'}"
      ]
    },
    {
      "cell_type": "code",
      "execution_count": null,
      "metadata": {
        "id": "bJlKz4Dyv72A",
        "colab": {
          "base_uri": "https://localhost:8080/"
        },
        "outputId": "a2ebc5a5-527a-47f6-8b5f-ad646a48cf12"
      },
      "outputs": [
        {
          "output_type": "stream",
          "name": "stdout",
          "text": [
            "{1, 2, 3, 'foo', 'baz', 'bar'}\n",
            "{5, 6, 'foo', 'baz', 'bar'}\n"
          ]
        }
      ],
      "source": [
        "# methods may take iterables like lists and tuples, and methods like union will work\n",
        "print(words.union([1, 2, 3]))\n",
        "print(words.union((5,6,6)))"
      ]
    },
    {
      "cell_type": "code",
      "execution_count": null,
      "metadata": {
        "id": "wG3gXY_qv72A",
        "colab": {
          "base_uri": "https://localhost:8080/"
        },
        "outputId": "c7544291-090a-4ead-dfd0-b89c9b514d61"
      },
      "outputs": [
        {
          "output_type": "stream",
          "name": "stdout",
          "text": [
            "<class 'TypeError'> unsupported operand type(s) for |: 'set' and 'list'\n"
          ]
        }
      ],
      "source": [
        "try:\n",
        "    # set operators will raise exception if the operands are of different types\n",
        "    words | [1, 2, 2]\n",
        "except TypeError as e:\n",
        "    print(type(e), e)"
      ]
    },
    {
      "cell_type": "code",
      "execution_count": null,
      "metadata": {
        "id": "QYOKSd30v72A",
        "colab": {
          "base_uri": "https://localhost:8080/"
        },
        "outputId": "165a4790-9aca-442f-9e9f-4b6551dc5c8f"
      },
      "outputs": [
        {
          "output_type": "execute_result",
          "data": {
            "text/plain": [
              "{1, 2, 'bar', 'baz', 'foo'}"
            ]
          },
          "metadata": {},
          "execution_count": 28
        }
      ],
      "source": [
        "# fix by casting\n",
        "words | set([1,2,2])"
      ]
    },
    {
      "cell_type": "markdown",
      "metadata": {
        "id": "by2yp7h0v72A"
      },
      "source": [
        "Lists and tuples are ordered ... sets are not"
      ]
    },
    {
      "cell_type": "code",
      "execution_count": null,
      "metadata": {
        "id": "ynllHaDBv72A",
        "colab": {
          "base_uri": "https://localhost:8080/"
        },
        "outputId": "c03ddf37-9a76-49a1-8fb8-6fd111fd61c2"
      },
      "outputs": [
        {
          "output_type": "execute_result",
          "data": {
            "text/plain": [
              "False"
            ]
          },
          "metadata": {},
          "execution_count": 29
        }
      ],
      "source": [
        "[1,2,3]==[3,2,1]"
      ]
    },
    {
      "cell_type": "code",
      "execution_count": null,
      "metadata": {
        "id": "2gUvdFz9v72A",
        "colab": {
          "base_uri": "https://localhost:8080/"
        },
        "outputId": "71cc7461-18ae-4509-ee1d-ecfae29f32be"
      },
      "outputs": [
        {
          "output_type": "execute_result",
          "data": {
            "text/plain": [
              "False"
            ]
          },
          "metadata": {},
          "execution_count": 30
        }
      ],
      "source": [
        "(4,5,6)==(6,5,4)"
      ]
    },
    {
      "cell_type": "code",
      "execution_count": null,
      "metadata": {
        "id": "W9xbvk9-v72B",
        "colab": {
          "base_uri": "https://localhost:8080/"
        },
        "outputId": "179feaef-f393-4950-e8d4-b6e5d3cc0a21"
      },
      "outputs": [
        {
          "output_type": "execute_result",
          "data": {
            "text/plain": [
              "True"
            ]
          },
          "metadata": {},
          "execution_count": 31
        }
      ],
      "source": [
        "set([1,2,3])==set([3,2,1])"
      ]
    },
    {
      "cell_type": "markdown",
      "metadata": {
        "id": "EsYEC_NZv72B"
      },
      "source": [
        "A tuple does not equal an equivalent list"
      ]
    },
    {
      "cell_type": "code",
      "execution_count": null,
      "metadata": {
        "id": "YQxFeIcSv72B",
        "colab": {
          "base_uri": "https://localhost:8080/"
        },
        "outputId": "85641b0e-ca71-483b-f232-d8eae1c92297"
      },
      "outputs": [
        {
          "output_type": "execute_result",
          "data": {
            "text/plain": [
              "False"
            ]
          },
          "metadata": {},
          "execution_count": 32
        }
      ],
      "source": [
        "[1,2,3]==(1,2,3)"
      ]
    },
    {
      "cell_type": "code",
      "execution_count": null,
      "metadata": {
        "id": "SILvfRXOv72B",
        "colab": {
          "base_uri": "https://localhost:8080/"
        },
        "outputId": "37459487-23f4-48aa-ca58-6c9b330ff90e"
      },
      "outputs": [
        {
          "output_type": "execute_result",
          "data": {
            "text/plain": [
              "list"
            ]
          },
          "metadata": {},
          "execution_count": 33
        }
      ],
      "source": [
        "type([1,2,3])"
      ]
    },
    {
      "cell_type": "code",
      "execution_count": null,
      "metadata": {
        "id": "Hap0qZ6nv72B",
        "colab": {
          "base_uri": "https://localhost:8080/"
        },
        "outputId": "77cf522f-d550-4a6c-dfec-894a2f5752f9"
      },
      "outputs": [
        {
          "output_type": "execute_result",
          "data": {
            "text/plain": [
              "tuple"
            ]
          },
          "metadata": {},
          "execution_count": 34
        }
      ],
      "source": [
        "type((1,2,3))"
      ]
    },
    {
      "cell_type": "markdown",
      "metadata": {
        "id": "7zDoC1-rv72B"
      },
      "source": [
        "Fix by converting"
      ]
    },
    {
      "cell_type": "code",
      "execution_count": null,
      "metadata": {
        "id": "ozGqF4T7v72B",
        "colab": {
          "base_uri": "https://localhost:8080/"
        },
        "outputId": "7f5ad796-a129-4bc9-f4ed-0200bc556729"
      },
      "outputs": [
        {
          "output_type": "execute_result",
          "data": {
            "text/plain": [
              "True"
            ]
          },
          "metadata": {},
          "execution_count": 35
        }
      ],
      "source": [
        "tuple([1,2,3])==(1,2,3)"
      ]
    },
    {
      "cell_type": "markdown",
      "metadata": {
        "id": "UwavAu3Ov72B"
      },
      "source": [
        "Equivalent if converted to sets"
      ]
    },
    {
      "cell_type": "code",
      "execution_count": null,
      "metadata": {
        "id": "Zf4fUOYDv72C",
        "colab": {
          "base_uri": "https://localhost:8080/"
        },
        "outputId": "04a94f25-cb4f-41dc-aeff-e20d003d76f2"
      },
      "outputs": [
        {
          "output_type": "execute_result",
          "data": {
            "text/plain": [
              "True"
            ]
          },
          "metadata": {},
          "execution_count": 36
        }
      ],
      "source": [
        "set([1,2,3])==set((1,2,3))"
      ]
    },
    {
      "cell_type": "markdown",
      "metadata": {
        "id": "kkm4APAoMcnH"
      },
      "source": [
        "Problem (Ed)\n",
        "\n",
        "Generate a list of 20 numbers that are integers between 1 and 10. Then create a second list that is the first list with no duplicates. Don't use the set() type coercion function to do that. Then check that your second list gives the same collection as if you had used the set() coercion function. "
      ]
    },
    {
      "cell_type": "code",
      "source": [
        ""
      ],
      "metadata": {
        "id": "qKyv-hmdGW17"
      },
      "execution_count": null,
      "outputs": []
    },
    {
      "cell_type": "code",
      "source": [
        "from random import randint\n",
        "\n",
        "nums = [randint(1,10) for i in range(20)]\n",
        "print(nums)\n",
        "\n",
        "uniqueNums = []\n",
        "for num in nums:\n",
        "  if num not in uniqueNums:\n",
        "    uniqueNums.append(num)\n",
        "\n",
        "print(sorted(uniqueNums))\n",
        "print(set(nums))"
      ],
      "metadata": {
        "colab": {
          "base_uri": "https://localhost:8080/"
        },
        "id": "uJ99EyHhGW4D",
        "outputId": "3c9b26cd-87df-4735-f6ce-7e1b9686e48e"
      },
      "execution_count": null,
      "outputs": [
        {
          "output_type": "stream",
          "name": "stdout",
          "text": [
            "[4, 10, 7, 7, 7, 8, 9, 4, 2, 5, 7, 3, 5, 8, 10, 7, 6, 9, 9, 1]\n",
            "[1, 2, 3, 4, 5, 6, 7, 8, 9, 10]\n",
            "{1, 2, 3, 4, 5, 6, 7, 8, 9, 10}\n"
          ]
        }
      ]
    }
  ],
  "metadata": {
    "colab": {
      "name": "sequences-dictionaries-sets.ipynb",
      "provenance": [],
      "include_colab_link": true
    },
    "kernelspec": {
      "display_name": "Python 3",
      "language": "python",
      "name": "python3"
    },
    "language_info": {
      "codemirror_mode": {
        "name": "ipython",
        "version": 3
      },
      "file_extension": ".py",
      "mimetype": "text/x-python",
      "name": "python",
      "nbconvert_exporter": "python",
      "pygments_lexer": "ipython3",
      "version": "3.8.5"
    }
  },
  "nbformat": 4,
  "nbformat_minor": 0
}
