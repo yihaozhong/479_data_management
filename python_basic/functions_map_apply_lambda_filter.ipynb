{
  "cells": [
    {
      "cell_type": "markdown",
      "metadata": {
        "id": "view-in-github",
        "colab_type": "text"
      },
      "source": [
        "<a href=\"https://colab.research.google.com/github/yihaozhong/479_data_management/blob/main/functions_map_apply_lambda_filter.ipynb\" target=\"_parent\"><img src=\"https://colab.research.google.com/assets/colab-badge.svg\" alt=\"Open In Colab\"/></a>"
      ]
    },
    {
      "cell_type": "markdown",
      "metadata": {
        "id": "3fdtd34XwTpG"
      },
      "source": [
        "# Functions"
      ]
    },
    {
      "cell_type": "markdown",
      "metadata": {
        "id": "tEr-iScXwTpL"
      },
      "source": [
        "## Basic Syntax for Defining Them\n"
      ]
    },
    {
      "cell_type": "code",
      "execution_count": null,
      "metadata": {
        "id": "i5Hcis-EwTpM"
      },
      "outputs": [],
      "source": [
        "def f():\n",
        "    print('hello')"
      ]
    },
    {
      "cell_type": "markdown",
      "metadata": {
        "id": "-nAc-S2-wTpN"
      },
      "source": [
        "Result is `none` because there is nothing returned (the `print` is a side-effect)"
      ]
    },
    {
      "cell_type": "code",
      "execution_count": null,
      "metadata": {
        "colab": {
          "base_uri": "https://localhost:8080/"
        },
        "id": "EROBjXFfwTpN",
        "outputId": "a1368a20-38d9-48ea-819d-39b686e1016f"
      },
      "outputs": [
        {
          "output_type": "stream",
          "name": "stdout",
          "text": [
            "hello\n",
            "None\n"
          ]
        }
      ],
      "source": [
        "result = f()\n",
        "print(result)"
      ]
    },
    {
      "cell_type": "markdown",
      "metadata": {
        "id": "hktA--BrwTpO"
      },
      "source": [
        "## Return\n",
        "\n",
        "__`return` does two things__ \n",
        "\n",
        "* stops function execution as soon it is called (like `break` from a loop)\n",
        "* gives back value\n",
        "\n",
        "👀If there's no value returned, a function gives back `None`"
      ]
    },
    {
      "cell_type": "code",
      "execution_count": null,
      "metadata": {
        "colab": {
          "base_uri": "https://localhost:8080/"
        },
        "id": "NMFxaTdKwTpP",
        "outputId": "0d657f20-ad44-481d-f0b1-1c4b084b2876"
      },
      "outputs": [
        {
          "output_type": "stream",
          "name": "stdout",
          "text": [
            "100\n"
          ]
        }
      ],
      "source": [
        "def f():\n",
        "    return 100\n",
        "    print(\"hello\")\n",
        "print(f())\n"
      ]
    },
    {
      "cell_type": "markdown",
      "metadata": {
        "id": "hPLtNaXjwTpQ"
      },
      "source": [
        "## Return Continued"
      ]
    },
    {
      "cell_type": "code",
      "execution_count": null,
      "metadata": {
        "id": "RMbaI0uTwTpQ",
        "colab": {
          "base_uri": "https://localhost:8080/"
        },
        "outputId": "10560f28-013c-4bf0-db9a-5d1bddc99990"
      },
      "outputs": [
        {
          "output_type": "stream",
          "name": "stdout",
          "text": [
            "None\n"
          ]
        }
      ],
      "source": [
        "def f(a, b):\n",
        "    result = a * b\n",
        "\n",
        "print(f(2, 3))"
      ]
    },
    {
      "cell_type": "code",
      "execution_count": null,
      "metadata": {
        "id": "oSVALH5qwTpR",
        "colab": {
          "base_uri": "https://localhost:8080/"
        },
        "outputId": "d836facb-599c-437f-c4aa-4eac50b0d3ce"
      },
      "outputs": [
        {
          "output_type": "stream",
          "name": "stdout",
          "text": [
            "6\n"
          ]
        }
      ],
      "source": [
        "def f(a, b):\n",
        "    return a * b\n",
        "\n",
        "print(f(2, 3))"
      ]
    },
    {
      "cell_type": "markdown",
      "metadata": {
        "id": "WDun-vuIwTpR"
      },
      "source": [
        "\n",
        "# Function Parameters"
      ]
    },
    {
      "cell_type": "markdown",
      "metadata": {
        "id": "dk7slpGDwTpS"
      },
      "source": [
        "## Positional Arguments\n",
        "\n",
        "__Work as you expect__ "
      ]
    },
    {
      "cell_type": "code",
      "execution_count": null,
      "metadata": {
        "id": "O6DmP2PEwTpS"
      },
      "outputs": [],
      "source": [
        "def add_two(a, b):\n",
        "    return a + b"
      ]
    },
    {
      "cell_type": "markdown",
      "metadata": {
        "id": "ZNqKzB57wTpS"
      },
      "source": [
        "Calling add_two(3, 7) results in the parameter `a` being set to `3`, and the parameter `b` set to `7`"
      ]
    },
    {
      "cell_type": "code",
      "execution_count": null,
      "metadata": {
        "id": "L1CP2uLCwTpT",
        "colab": {
          "base_uri": "https://localhost:8080/"
        },
        "outputId": "805cc762-870f-4967-e4f6-0a3ac5189ad7"
      },
      "outputs": [
        {
          "output_type": "execute_result",
          "data": {
            "text/plain": [
              "20"
            ]
          },
          "metadata": {},
          "execution_count": 8
        }
      ],
      "source": [
        "add_two(8,12)"
      ]
    },
    {
      "cell_type": "markdown",
      "source": [
        "Problem (Ed)\n",
        "\n",
        "Write a function to return the nth value in the Fibonnaci sequence, given n as an input. It starts with 0,1 and each subsequent value is the sum of the previous two.\n",
        "\n",
        "If your first name begins with A through M, write an iterative version of the function. If it begins with N through Z, write a recursive version of the function."
      ],
      "metadata": {
        "id": "m-Nvfx3QNF1i"
      }
    },
    {
      "cell_type": "code",
      "source": [
        "def fi(n):\n",
        "  if (n==1): return 0\n",
        "  x = 0\n",
        "  y = 1\n",
        "  for i in range(3, n+1):\n",
        "   x, y = y, x+y\n",
        "  return y\n",
        "\n",
        "[fi(n) for n in range(1,11)]  \n",
        "\n"
      ],
      "metadata": {
        "colab": {
          "base_uri": "https://localhost:8080/"
        },
        "id": "DOxQLbsCJKmW",
        "outputId": "4e70949f-7368-4d05-cf6d-31f9334d652e"
      },
      "execution_count": null,
      "outputs": [
        {
          "output_type": "execute_result",
          "data": {
            "text/plain": [
              "[0, 1, 1, 2, 3, 5, 8, 13, 21, 34]"
            ]
          },
          "metadata": {},
          "execution_count": 12
        }
      ]
    },
    {
      "cell_type": "markdown",
      "metadata": {
        "id": "S0QZOrriwTpU"
      },
      "source": [
        "## \"Variadic\" functions (Variable Number of Arguments)\n",
        "\n",
        "Use * before an argument name to collect all positional arguments into single parameter:\n",
        "\n",
        "* parameter name can be whatever you want, but `args` is a commonly used name \n",
        "* resulting value of that parameter is a `tuple` containing all arguments\n",
        "* if there are additional positional, required arguments, then `*args` must go last\n",
        "* inspired by other, older Unix tools like the C shell which have a similar mechanism\n"
      ]
    },
    {
      "cell_type": "markdown",
      "metadata": {
        "id": "3KycABarwTpU"
      },
      "source": [
        "## An Example of Arbitrary Number of Arguments"
      ]
    },
    {
      "cell_type": "code",
      "execution_count": null,
      "metadata": {
        "id": "9ba5jFg3wTpU"
      },
      "outputs": [],
      "source": [
        "def sum_all(*args):\n",
        "    print(args)\n",
        "    print(type(args))\n",
        "    total = 0\n",
        "    for arg in args:\n",
        "        total += arg\n",
        "    return total"
      ]
    },
    {
      "cell_type": "code",
      "execution_count": null,
      "metadata": {
        "colab": {
          "base_uri": "https://localhost:8080/"
        },
        "id": "aImC0QLUwTpU",
        "outputId": "15a6ac78-bec8-43ce-d76b-396fe1670e53"
      },
      "outputs": [
        {
          "output_type": "stream",
          "name": "stdout",
          "text": [
            "(1, 2, 3, 4)\n",
            "<class 'tuple'>\n",
            "10\n"
          ]
        }
      ],
      "source": [
        "result = sum_all(1, 2, 3, 4)\n",
        "print(result)"
      ]
    },
    {
      "cell_type": "markdown",
      "metadata": {
        "id": "gh0bQgbrwTpV"
      },
      "source": [
        "## *args\n",
        "\n",
        "* note that the parameter's type is a tuple\n",
        "* it holds all values passed in as a tuple\n",
        "* (even if no arguments are passed in)"
      ]
    },
    {
      "cell_type": "code",
      "execution_count": null,
      "metadata": {
        "id": "SZkZhCh0wTpV",
        "colab": {
          "base_uri": "https://localhost:8080/"
        },
        "outputId": "8ca61176-b513-4cd1-86ec-409fa95eca75"
      },
      "outputs": [
        {
          "output_type": "stream",
          "name": "stdout",
          "text": [
            "(1, 2, 3, 4, 5)\n",
            "<class 'tuple'>\n"
          ]
        },
        {
          "output_type": "execute_result",
          "data": {
            "text/plain": [
              "15"
            ]
          },
          "metadata": {},
          "execution_count": 19
        }
      ],
      "source": [
        "sum_all(1, 2, 3, 4, 5)"
      ]
    },
    {
      "cell_type": "code",
      "execution_count": null,
      "metadata": {
        "id": "E-QhRNjIwTpV",
        "colab": {
          "base_uri": "https://localhost:8080/"
        },
        "outputId": "162a9f05-b5b6-4a3d-8923-749953737eac"
      },
      "outputs": [
        {
          "output_type": "stream",
          "name": "stdout",
          "text": [
            "()\n",
            "<class 'tuple'>\n"
          ]
        },
        {
          "output_type": "execute_result",
          "data": {
            "text/plain": [
              "0"
            ]
          },
          "metadata": {},
          "execution_count": 20
        }
      ],
      "source": [
        "sum_all()"
      ]
    },
    {
      "cell_type": "markdown",
      "source": [
        "## Problem (Ed)\n",
        "\n",
        "Write a function that takes an arbitrary number of strings as arguments and joins them into a single string with spaces as delimiters.\n"
      ],
      "metadata": {
        "id": "3k-jT_21Bkf3"
      }
    },
    {
      "cell_type": "code",
      "source": [
        "def joinStr(*args):\n",
        "  return \" \".join(args)\n",
        "\n",
        "joinStr(\"apple\",\"orange\",\"peach\")  "
      ],
      "metadata": {
        "colab": {
          "base_uri": "https://localhost:8080/",
          "height": 35
        },
        "id": "VD4GAJvULYz4",
        "outputId": "e31d287e-96e6-46ce-fd3c-0dcfb64add1a"
      },
      "execution_count": null,
      "outputs": [
        {
          "output_type": "execute_result",
          "data": {
            "application/vnd.google.colaboratory.intrinsic+json": {
              "type": "string"
            },
            "text/plain": [
              "'apple orange peach'"
            ]
          },
          "metadata": {},
          "execution_count": 22
        }
      ]
    },
    {
      "cell_type": "markdown",
      "metadata": {
        "id": "ued9eUM9wTpV"
      },
      "source": [
        "## Required Positional Arguments, Then Arbitrary Arguments"
      ]
    },
    {
      "cell_type": "code",
      "execution_count": null,
      "metadata": {
        "id": "adtkRCSzwTpW"
      },
      "outputs": [],
      "source": [
        "def sum_all(a, b, *args):\n",
        "    print(args)\n",
        "    print(type(args))\n",
        "    total = a + b\n",
        "    for arg in args:\n",
        "        total += arg\n",
        "    return total"
      ]
    },
    {
      "cell_type": "code",
      "execution_count": null,
      "metadata": {
        "id": "ihSNUR8dwTpW",
        "colab": {
          "base_uri": "https://localhost:8080/"
        },
        "outputId": "dda3cfcd-712f-4028-ef57-d0443c2ad480"
      },
      "outputs": [
        {
          "output_type": "stream",
          "name": "stdout",
          "text": [
            "(3, 4, 5)\n",
            "<class 'tuple'>\n"
          ]
        },
        {
          "output_type": "execute_result",
          "data": {
            "text/plain": [
              "15"
            ]
          },
          "metadata": {},
          "execution_count": 27
        }
      ],
      "source": [
        "sum_all(1, 2, 3, 4, 5)"
      ]
    },
    {
      "cell_type": "markdown",
      "metadata": {
        "id": "D9PHw1H4wTpW"
      },
      "source": [
        "## If They're Required...\n",
        "\n",
        "What happens if no arguments are passed in? "
      ]
    },
    {
      "cell_type": "code",
      "execution_count": null,
      "metadata": {
        "id": "EDQQZcUmwTpW",
        "colab": {
          "base_uri": "https://localhost:8080/"
        },
        "outputId": "67cf492e-1c83-47c9-f799-2760194d4a0c"
      },
      "outputs": [
        {
          "output_type": "stream",
          "name": "stdout",
          "text": [
            "error: sum_all() missing 2 required positional arguments: 'a' and 'b'\n"
          ]
        }
      ],
      "source": [
        "try:\n",
        "    sum_all()\n",
        "except TypeError as e:\n",
        "    print('error:', e)"
      ]
    },
    {
      "cell_type": "markdown",
      "metadata": {
        "id": "Nt7G2r9-wTpW"
      },
      "source": [
        "## Unpacking Iterable into Arguments\n",
        "\n",
        "In the context of a function call, `*` breaks up an iterable object, like a list or tuple, into separate arguments."
      ]
    },
    {
      "cell_type": "code",
      "execution_count": null,
      "metadata": {
        "id": "JEPcYFNkwTpW",
        "colab": {
          "base_uri": "https://localhost:8080/"
        },
        "outputId": "3180bee9-9b26-49de-b89d-e0a91ff1cb31"
      },
      "outputs": [
        {
          "output_type": "stream",
          "name": "stdout",
          "text": [
            "['foo', 'bar', 'baz']\n",
            "foo bar baz\n"
          ]
        }
      ],
      "source": [
        "words = ['foo', 'bar', 'baz']\n",
        "print(words)\n",
        "print(*words)"
      ]
    },
    {
      "cell_type": "code",
      "execution_count": null,
      "metadata": {
        "id": "MoKNihEkwTpX",
        "colab": {
          "base_uri": "https://localhost:8080/"
        },
        "outputId": "ef792bfc-b1c1-42e5-9555-8934cc98a7a8"
      },
      "outputs": [
        {
          "output_type": "stream",
          "name": "stdout",
          "text": [
            "(9, 9, 9)\n",
            "<class 'tuple'>\n"
          ]
        },
        {
          "output_type": "execute_result",
          "data": {
            "text/plain": [
              "30"
            ]
          },
          "metadata": {},
          "execution_count": 31
        }
      ],
      "source": [
        "nines=[9,9,9]\n",
        "sum_all(1,2,*nines)"
      ]
    },
    {
      "cell_type": "code",
      "execution_count": null,
      "metadata": {
        "id": "T65CnNWpwTpX",
        "colab": {
          "base_uri": "https://localhost:8080/"
        },
        "outputId": "741e2bae-3519-4b49-b679-006b45bed401"
      },
      "outputs": [
        {
          "output_type": "stream",
          "name": "stdout",
          "text": [
            "([9, 9, 9],)\n",
            "<class 'tuple'>\n",
            "error: unsupported operand type(s) for +=: 'int' and 'list'\n"
          ]
        }
      ],
      "source": [
        "try:\n",
        "    sum_all(1,2,nines)\n",
        "except TypeError as e:\n",
        "    print('error:', e)"
      ]
    },
    {
      "cell_type": "markdown",
      "metadata": {
        "id": "mvy1X7vgwTpX"
      },
      "source": [
        "## Default Values / Keyword Arguments\n",
        "\n",
        "Keyword arguments can be given in any order"
      ]
    },
    {
      "cell_type": "code",
      "execution_count": null,
      "metadata": {
        "id": "z4U-_kYIwTpX"
      },
      "outputs": [],
      "source": [
        "# n is the default value, but can be set to something else \n",
        "def shout(n=3):\n",
        "    return 'hello' + n * '!'"
      ]
    },
    {
      "cell_type": "code",
      "execution_count": null,
      "metadata": {
        "id": "O8g2RtANwTpX",
        "colab": {
          "base_uri": "https://localhost:8080/"
        },
        "outputId": "b0d12451-eb49-4a45-8613-fe59408ad8eb"
      },
      "outputs": [
        {
          "output_type": "stream",
          "name": "stdout",
          "text": [
            "hello!!!\n"
          ]
        }
      ],
      "source": [
        "print(shout())"
      ]
    },
    {
      "cell_type": "code",
      "execution_count": null,
      "metadata": {
        "id": "E_BGCeBhwTpX",
        "colab": {
          "base_uri": "https://localhost:8080/",
          "height": 35
        },
        "outputId": "0c915cb7-2e1c-4c20-c8f7-2caa5cade7de"
      },
      "outputs": [
        {
          "output_type": "execute_result",
          "data": {
            "application/vnd.google.colaboratory.intrinsic+json": {
              "type": "string"
            },
            "text/plain": [
              "'hello!!!!!!!!!!!!!!!!!!!!!!!!!!!!!!'"
            ]
          },
          "metadata": {},
          "execution_count": 35
        }
      ],
      "source": [
        "shout(n=30)"
      ]
    },
    {
      "cell_type": "code",
      "execution_count": null,
      "metadata": {
        "id": "KsSNQPTrwTpY"
      },
      "outputs": [],
      "source": [
        "def greet(fn=\"John\",mn=\"Quincy\",ln=\"Adams\"):\n",
        "    print(\"Hello\", fn)\n",
        "    print(\"Your middle name is\", mn)\n",
        "    print(\"Your full name is\",fn,mn,ln)\n",
        "    return"
      ]
    },
    {
      "cell_type": "code",
      "execution_count": null,
      "metadata": {
        "id": "CY8fWfFvwTpY",
        "colab": {
          "base_uri": "https://localhost:8080/"
        },
        "outputId": "95cc580d-bffb-484c-9503-fad83e760afd"
      },
      "outputs": [
        {
          "output_type": "stream",
          "name": "stdout",
          "text": [
            "Hello John\n",
            "Your middle name is Quincy\n",
            "Your full name is John Quincy Adams\n"
          ]
        }
      ],
      "source": [
        "greet()"
      ]
    },
    {
      "cell_type": "code",
      "execution_count": null,
      "metadata": {
        "id": "bgwJaW4VwTpY",
        "colab": {
          "base_uri": "https://localhost:8080/"
        },
        "outputId": "b303deb5-7be0-493a-973a-fb5cc2173ba7"
      },
      "outputs": [
        {
          "output_type": "stream",
          "name": "stdout",
          "text": [
            "Hello James\n",
            "Your middle name is Earl\n",
            "Your full name is James Earl Jones\n"
          ]
        }
      ],
      "source": [
        "greet(ln=\"Jones\",fn=\"James\",mn=\"Earl\")"
      ]
    },
    {
      "cell_type": "code",
      "execution_count": null,
      "metadata": {
        "id": "kiTbdYebwTpY",
        "colab": {
          "base_uri": "https://localhost:8080/"
        },
        "outputId": "5e7d7426-159b-457a-f8ee-7cd2ab1305e0"
      },
      "outputs": [
        {
          "output_type": "stream",
          "name": "stdout",
          "text": [
            "Hello James\n",
            "Your middle name is Earl\n",
            "Your full name is James Earl Jones\n"
          ]
        }
      ],
      "source": [
        "# if names aren't specified uses order\n",
        "greet(\"James\",\"Earl\",\"Jones\")"
      ]
    },
    {
      "cell_type": "markdown",
      "metadata": {
        "id": "UeOjm1WkwTpY"
      },
      "source": [
        "## An Arbitrary Number of Keyword Arguments\n",
        "\n",
        "__...Are collected into a dictionary__"
      ]
    },
    {
      "cell_type": "code",
      "execution_count": null,
      "metadata": {
        "id": "K6X0TqSswTpY"
      },
      "outputs": [],
      "source": [
        "def g(**kwargs):\n",
        "    print(kwargs)"
      ]
    },
    {
      "cell_type": "code",
      "execution_count": null,
      "metadata": {
        "id": "nKpHt_aJwTpZ",
        "colab": {
          "base_uri": "https://localhost:8080/"
        },
        "outputId": "001063ac-2ff4-4b6d-947a-993c8537d386"
      },
      "outputs": [
        {
          "output_type": "stream",
          "name": "stdout",
          "text": [
            "{'a': 1, 'b': 2, 'c': 3}\n"
          ]
        }
      ],
      "source": [
        "g(a=1, b=2, c=3)"
      ]
    },
    {
      "cell_type": "markdown",
      "metadata": {
        "id": "yqVMR-t0wTpZ"
      },
      "source": [
        "## Everything Together"
      ]
    },
    {
      "cell_type": "code",
      "execution_count": null,
      "metadata": {
        "id": "QMzrU3DrwTpZ"
      },
      "outputs": [],
      "source": [
        "def crazy(a, b, *args, **kwargs):\n",
        "    print(a, b, args, kwargs)"
      ]
    },
    {
      "cell_type": "code",
      "execution_count": null,
      "metadata": {
        "id": "0NKVPwQxwTpZ",
        "colab": {
          "base_uri": "https://localhost:8080/"
        },
        "outputId": "e367e4ff-1eea-445b-d2c7-b9f977680ecd"
      },
      "outputs": [
        {
          "output_type": "stream",
          "name": "stdout",
          "text": [
            "1 2 (3, 4) {'y': 2, 'z': 1}\n"
          ]
        }
      ],
      "source": [
        "crazy(1, 2, 3, 4, y=2, z=1)"
      ]
    },
    {
      "cell_type": "code",
      "execution_count": null,
      "metadata": {
        "id": "jnCast2NwTpZ"
      },
      "outputs": [],
      "source": [
        "def greet2(**kwargs):\n",
        "    print(\"Hello\", kwargs[\"fn\"])\n",
        "    print(\"Your middle name is\", kwargs[\"mn\"])\n",
        "    print(\"Your full name is\",kwargs[\"fn\"],kwargs[\"mn\"],kwargs[\"ln\"])\n",
        "    return"
      ]
    },
    {
      "cell_type": "code",
      "execution_count": null,
      "metadata": {
        "id": "xDpLPHU0wTpZ",
        "colab": {
          "base_uri": "https://localhost:8080/"
        },
        "outputId": "9c0cd741-e596-4620-e3eb-d2091bb0b5e0"
      },
      "outputs": [
        {
          "output_type": "stream",
          "name": "stdout",
          "text": [
            "Hello James\n",
            "Your middle name is Earl\n",
            "Your full name is James Earl Jones\n"
          ]
        }
      ],
      "source": [
        "greet2(fn=\"James\",mn=\"Earl\",ln=\"Jones\")"
      ]
    },
    {
      "cell_type": "code",
      "execution_count": null,
      "metadata": {
        "id": "srPve9HKwTpZ",
        "colab": {
          "base_uri": "https://localhost:8080/"
        },
        "outputId": "b5e505f5-2a1b-41be-942c-5f14a9602976"
      },
      "outputs": [
        {
          "output_type": "stream",
          "name": "stdout",
          "text": [
            "Hello James\n",
            "Your middle name is Earl\n",
            "Your full name is James Earl Jones\n"
          ]
        }
      ],
      "source": [
        "greet2(mn=\"Earl\",ln=\"Jones\",misc=\"Foo\",fn=\"James\")"
      ]
    },
    {
      "cell_type": "markdown",
      "metadata": {
        "id": "RzOmAaV7wTpZ"
      },
      "source": [
        "## Functions as Arguments"
      ]
    },
    {
      "cell_type": "code",
      "execution_count": null,
      "metadata": {
        "id": "r23tJokxwTpa"
      },
      "outputs": [],
      "source": [
        "def addone(x):\n",
        "    return x+1"
      ]
    },
    {
      "cell_type": "code",
      "execution_count": null,
      "metadata": {
        "id": "bT4Gu8axwTpa",
        "colab": {
          "base_uri": "https://localhost:8080/"
        },
        "outputId": "3875f1c0-9f87-4d0d-bfaf-d31e183739c0"
      },
      "outputs": [
        {
          "output_type": "execute_result",
          "data": {
            "text/plain": [
              "6"
            ]
          },
          "metadata": {},
          "execution_count": 17
        }
      ],
      "source": [
        "addone(5)"
      ]
    },
    {
      "cell_type": "code",
      "execution_count": null,
      "metadata": {
        "id": "wrQkHp1EwTpa"
      },
      "outputs": [],
      "source": [
        "l=(1,2,3,4,5,6)"
      ]
    },
    {
      "cell_type": "markdown",
      "metadata": {
        "id": "57gRW2ISwTpa"
      },
      "source": [
        "map: apply function to every item of a list and return list of returned values"
      ]
    },
    {
      "cell_type": "code",
      "execution_count": null,
      "metadata": {
        "id": "vI3mp_SXwTpa",
        "colab": {
          "base_uri": "https://localhost:8080/"
        },
        "outputId": "1a4899b4-63f7-40c4-d364-850d54b05a26"
      },
      "outputs": [
        {
          "output_type": "execute_result",
          "data": {
            "text/plain": [
              "<map at 0x7f5303d233d0>"
            ]
          },
          "metadata": {},
          "execution_count": 52
        }
      ],
      "source": [
        "map(addone,l)"
      ]
    },
    {
      "cell_type": "code",
      "execution_count": null,
      "metadata": {
        "id": "03Ykh-EswTpa",
        "colab": {
          "base_uri": "https://localhost:8080/"
        },
        "outputId": "5c5709b7-09a6-4e0a-fc90-8402f12e50c6"
      },
      "outputs": [
        {
          "output_type": "execute_result",
          "data": {
            "text/plain": [
              "[2, 3, 4, 5, 6, 7]"
            ]
          },
          "metadata": {},
          "execution_count": 53
        }
      ],
      "source": [
        "list(map(addone,l))"
      ]
    },
    {
      "cell_type": "markdown",
      "source": [
        "Problem (on Ed)\n",
        "\n",
        "Write a function that takes an arbitrary number of strings as arguments and returns their total length. Do not use a loop; rather, use map."
      ],
      "metadata": {
        "id": "ahKxk4vcQu4V"
      }
    },
    {
      "cell_type": "code",
      "source": [
        "def totLen(*args):\n",
        "  return sum(map(len, args))\n",
        "  \n",
        "totLen(\"the\",\"rain\",\"in\",\"Spain\")  "
      ],
      "metadata": {
        "colab": {
          "base_uri": "https://localhost:8080/"
        },
        "id": "_hSaz8MVPMFi",
        "outputId": "b1ac2231-a434-4f72-ae32-4df44849d399"
      },
      "execution_count": null,
      "outputs": [
        {
          "output_type": "execute_result",
          "data": {
            "text/plain": [
              "14"
            ]
          },
          "metadata": {},
          "execution_count": 56
        }
      ]
    },
    {
      "cell_type": "markdown",
      "metadata": {
        "id": "F_LUMzmxwTpb"
      },
      "source": [
        "## Lambdas: Anonymous (Unnamed) Functions, Usually Short\n",
        "### Originally implemented by Lisp"
      ]
    },
    {
      "cell_type": "code",
      "execution_count": null,
      "metadata": {
        "id": "qMSC8qs6wTpb"
      },
      "outputs": [],
      "source": [
        "addone_v2=lambda x: x+1"
      ]
    },
    {
      "cell_type": "code",
      "execution_count": null,
      "metadata": {
        "id": "grDL6XOzwTpb",
        "colab": {
          "base_uri": "https://localhost:8080/"
        },
        "outputId": "8de3c62f-981a-4333-c941-e7756a01b2d2"
      },
      "outputs": [
        {
          "output_type": "execute_result",
          "data": {
            "text/plain": [
              "6"
            ]
          },
          "metadata": {},
          "execution_count": 60
        }
      ],
      "source": [
        "addone_v2(5)"
      ]
    },
    {
      "cell_type": "code",
      "execution_count": null,
      "metadata": {
        "id": "JJfvtvrpwTpb",
        "colab": {
          "base_uri": "https://localhost:8080/"
        },
        "outputId": "a07d4dea-9e30-4181-ae9a-336e2bc47f02"
      },
      "outputs": [
        {
          "output_type": "execute_result",
          "data": {
            "text/plain": [
              "[2, 3, 4, 5, 6, 7]"
            ]
          },
          "metadata": {},
          "execution_count": 61
        }
      ],
      "source": [
        "list(map(addone_v2,l))"
      ]
    },
    {
      "cell_type": "code",
      "execution_count": null,
      "metadata": {
        "id": "hDo3dW-0wTpb",
        "colab": {
          "base_uri": "https://localhost:8080/"
        },
        "outputId": "693e9a75-e2cf-40ba-e3c8-8d2d6a94462e"
      },
      "outputs": [
        {
          "output_type": "execute_result",
          "data": {
            "text/plain": [
              "[2, 3, 4, 5, 6, 7]"
            ]
          },
          "metadata": {},
          "execution_count": 62
        }
      ],
      "source": [
        "list(map(lambda x:x+1,l))"
      ]
    },
    {
      "cell_type": "markdown",
      "source": [
        "Ed problem: write a function that takes a variable number of strings as parameters and returns a single string with all the strings capitalized and concatenated, with spaces as delimiters. For instance, if the function is cap_and_join and it is called as follows:\n",
        "\n",
        "```\n",
        "cap_and_join(\"hello\",\"there\",\"everyone\")\n",
        "```\n",
        "\n",
        "it should return \"Hello There Everyone\". Use lambda, map, and join; do not use a loop.\n",
        "\n",
        "\n"
      ],
      "metadata": {
        "id": "hl9DJz3IVte6"
      }
    },
    {
      "cell_type": "code",
      "source": [
        "def cap_and_join(*args):\n",
        " return \" \".join(map(lambda s: s[0].upper()+s[1:],args))\n",
        "\n",
        "cap_and_join(\"hello\",\"there\",\"everyone\") "
      ],
      "metadata": {
        "colab": {
          "base_uri": "https://localhost:8080/",
          "height": 35
        },
        "id": "JgcD6tjuUnmw",
        "outputId": "53e06b2b-c4b4-4d97-e42b-506b3a67c9a9"
      },
      "execution_count": null,
      "outputs": [
        {
          "output_type": "execute_result",
          "data": {
            "application/vnd.google.colaboratory.intrinsic+json": {
              "type": "string"
            },
            "text/plain": [
              "'Hello There Everyone'"
            ]
          },
          "metadata": {},
          "execution_count": 65
        }
      ]
    },
    {
      "cell_type": "markdown",
      "metadata": {
        "id": "chGPEH17wTpb"
      },
      "source": [
        "## Filter: Apply a Boolean Filter to a Sequence"
      ]
    },
    {
      "cell_type": "code",
      "execution_count": null,
      "metadata": {
        "id": "ZaHX1baQwTpc",
        "colab": {
          "base_uri": "https://localhost:8080/"
        },
        "outputId": "140dc0a5-3836-4849-fdbf-17f141a9bf27"
      },
      "outputs": [
        {
          "output_type": "stream",
          "name": "stdout",
          "text": [
            "(1, 2, 3, 4, 5, 6)\n"
          ]
        },
        {
          "output_type": "execute_result",
          "data": {
            "text/plain": [
              "[2, 4, 6]"
            ]
          },
          "metadata": {},
          "execution_count": 66
        }
      ],
      "source": [
        "print(l)\n",
        "even=filter(lambda n: n%2 == 0, l)\n",
        "list(even)"
      ]
    },
    {
      "cell_type": "code",
      "execution_count": null,
      "metadata": {
        "id": "9ZxzXR6dwTpc",
        "colab": {
          "base_uri": "https://localhost:8080/"
        },
        "outputId": "37c70808-09c2-4231-cd0b-949d7dea577b"
      },
      "outputs": [
        {
          "output_type": "execute_result",
          "data": {
            "text/plain": [
              "[1, 3, 5]"
            ]
          },
          "metadata": {},
          "execution_count": 67
        }
      ],
      "source": [
        "odd=filter(lambda n: n%2 == 1, l)\n",
        "list(odd)"
      ]
    },
    {
      "cell_type": "markdown",
      "metadata": {
        "id": "Mk8XlSBJwTpc"
      },
      "source": [
        "## Reduce: Repeatedly Apply a Function to a Sequence"
      ]
    },
    {
      "cell_type": "code",
      "execution_count": null,
      "metadata": {
        "id": "Vn3a7D7twTpc"
      },
      "outputs": [],
      "source": [
        "from functools import reduce"
      ]
    },
    {
      "cell_type": "code",
      "execution_count": null,
      "metadata": {
        "id": "X8eULvFCwTpc",
        "colab": {
          "base_uri": "https://localhost:8080/",
          "height": 200
        },
        "outputId": "e35e2d6c-f7eb-42c6-dbc8-fb4d3fced0f9"
      },
      "outputs": [
        {
          "output_type": "error",
          "ename": "NameError",
          "evalue": "ignored",
          "traceback": [
            "\u001b[0;31m---------------------------------------------------------------------------\u001b[0m",
            "\u001b[0;31mNameError\u001b[0m                                 Traceback (most recent call last)",
            "\u001b[0;32m<ipython-input-1-db259c7e247d>\u001b[0m in \u001b[0;36m<module>\u001b[0;34m()\u001b[0m\n\u001b[0;32m----> 1\u001b[0;31m \u001b[0mprint\u001b[0m\u001b[0;34m(\u001b[0m\u001b[0ml\u001b[0m\u001b[0;34m)\u001b[0m\u001b[0;34m\u001b[0m\u001b[0;34m\u001b[0m\u001b[0m\n\u001b[0m\u001b[1;32m      2\u001b[0m \u001b[0msum\u001b[0m \u001b[0;34m=\u001b[0m \u001b[0mreduce\u001b[0m\u001b[0;34m(\u001b[0m\u001b[0;32mlambda\u001b[0m \u001b[0mx\u001b[0m\u001b[0;34m,\u001b[0m\u001b[0my\u001b[0m\u001b[0;34m:\u001b[0m \u001b[0mx\u001b[0m\u001b[0;34m+\u001b[0m\u001b[0my\u001b[0m\u001b[0;34m,\u001b[0m \u001b[0ml\u001b[0m\u001b[0;34m)\u001b[0m\u001b[0;34m\u001b[0m\u001b[0;34m\u001b[0m\u001b[0m\n\u001b[1;32m      3\u001b[0m \u001b[0msum\u001b[0m\u001b[0;34m\u001b[0m\u001b[0;34m\u001b[0m\u001b[0m\n",
            "\u001b[0;31mNameError\u001b[0m: name 'l' is not defined"
          ]
        }
      ],
      "source": [
        "print(l)\n",
        "sum = reduce(lambda x,y: x+y, l)\n",
        "sum"
      ]
    },
    {
      "cell_type": "code",
      "execution_count": null,
      "metadata": {
        "id": "LTGjGANSwTpc",
        "colab": {
          "base_uri": "https://localhost:8080/"
        },
        "outputId": "6130eeea-37dd-4b35-f95c-2a3b145e616a"
      },
      "outputs": [
        {
          "output_type": "execute_result",
          "data": {
            "text/plain": [
              "21"
            ]
          },
          "metadata": {},
          "execution_count": 71
        }
      ],
      "source": [
        "# works on other iterables\n",
        "sum = reduce(lambda x,y: x+y, tuple(l))\n",
        "sum"
      ]
    },
    {
      "cell_type": "code",
      "execution_count": null,
      "metadata": {
        "id": "RsMPTR9LwTpc",
        "colab": {
          "base_uri": "https://localhost:8080/"
        },
        "outputId": "44d5d54a-2c6f-4456-bdb4-646e14c681ba"
      },
      "outputs": [
        {
          "output_type": "execute_result",
          "data": {
            "text/plain": [
              "6"
            ]
          },
          "metadata": {},
          "execution_count": 72
        }
      ],
      "source": [
        "reduce(lambda x,y: x+y, range(4))"
      ]
    },
    {
      "cell_type": "code",
      "execution_count": null,
      "metadata": {
        "id": "5aac8pauwTpc"
      },
      "outputs": [],
      "source": [
        ""
      ]
    }
  ],
  "metadata": {
    "kernelspec": {
      "display_name": "Python 3",
      "language": "python",
      "name": "python3"
    },
    "language_info": {
      "codemirror_mode": {
        "name": "ipython",
        "version": 3
      },
      "file_extension": ".py",
      "mimetype": "text/x-python",
      "name": "python",
      "nbconvert_exporter": "python",
      "pygments_lexer": "ipython3",
      "version": "3.8.5"
    },
    "colab": {
      "name": "functions_map_apply_lambda_filter.ipynb",
      "provenance": [],
      "include_colab_link": true
    }
  },
  "nbformat": 4,
  "nbformat_minor": 0
}
