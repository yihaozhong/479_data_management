{
  "nbformat": 4,
  "nbformat_minor": 0,
  "metadata": {
    "colab": {
      "name": "Decorators.ipynb",
      "provenance": [],
      "include_colab_link": true
    },
    "kernelspec": {
      "name": "python3",
      "display_name": "Python 3"
    },
    "language_info": {
      "name": "python"
    }
  },
  "cells": [
    {
      "cell_type": "markdown",
      "metadata": {
        "id": "view-in-github",
        "colab_type": "text"
      },
      "source": [
        "<a href=\"https://colab.research.google.com/github/yihaozhong/479_data_management/blob/main/Decorators.ipynb\" target=\"_parent\"><img src=\"https://colab.research.google.com/assets/colab-badge.svg\" alt=\"Open In Colab\"/></a>"
      ]
    },
    {
      "cell_type": "markdown",
      "source": [
        "## Decorators: Used to add extra features to a function"
      ],
      "metadata": {
        "id": "Yg3iR1GttdXT"
      }
    },
    {
      "cell_type": "markdown",
      "source": [
        "## *args\n",
        "\n",
        "* we used *args in a function definition to specify that a function can take an arbitrary number of arguments represented as a tuple\n",
        "* *args goes in the parameter list\n",
        "* args goes in the function body to represent the tuple of arguments\n"
      ],
      "metadata": {
        "id": "0QX2RfxNsrZl"
      }
    },
    {
      "cell_type": "markdown",
      "source": [
        "## An example of *args"
      ],
      "metadata": {
        "id": "SBJhLveyt8Sq"
      }
    },
    {
      "cell_type": "code",
      "source": [
        "def my_func(*args):\n",
        "  return (max(args),min(args))\n",
        "\n",
        "print(my_func(1,2,3))\n",
        "print(my_func(1,2,3,4,-2))"
      ],
      "metadata": {
        "colab": {
          "base_uri": "https://localhost:8080/"
        },
        "id": "6lbF0PI3t_2k",
        "outputId": "be0026b1-d92b-43c2-87d3-fc1367ecb000"
      },
      "execution_count": null,
      "outputs": [
        {
          "output_type": "stream",
          "name": "stdout",
          "text": [
            "(3, 1)\n",
            "(4, -2)\n"
          ]
        }
      ]
    },
    {
      "cell_type": "markdown",
      "source": [
        "This can be used more generally. * will unpack a tuple so it can be used in a function call, for example:"
      ],
      "metadata": {
        "id": "SEeCQdiNudoX"
      }
    },
    {
      "cell_type": "code",
      "source": [
        "t=(10,0,-2)\n",
        "for i in range(*t):\n",
        " print(i)"
      ],
      "metadata": {
        "colab": {
          "base_uri": "https://localhost:8080/"
        },
        "id": "qZqGqK1wut01",
        "outputId": "025b496b-79dd-4e07-8164-80dfb4511108"
      },
      "execution_count": null,
      "outputs": [
        {
          "output_type": "stream",
          "name": "stdout",
          "text": [
            "10\n",
            "8\n",
            "6\n",
            "4\n",
            "2\n"
          ]
        }
      ]
    },
    {
      "cell_type": "markdown",
      "source": [
        "Will the following work?"
      ],
      "metadata": {
        "id": "chRRrdEAuETh"
      }
    },
    {
      "cell_type": "code",
      "source": [
        "#t=(10,0,-2)\n",
        "#for i in range(t):\n",
        "# print(i)"
      ],
      "metadata": {
        "id": "bjfGKpuYuJUd"
      },
      "execution_count": null,
      "outputs": []
    },
    {
      "cell_type": "markdown",
      "source": [
        "What is the difference between the following two function calls?"
      ],
      "metadata": {
        "id": "kjgKn6Xws3CB"
      }
    },
    {
      "cell_type": "code",
      "source": [
        "def f(*args):\n",
        "  print(args)\n",
        "\n",
        "def g(*args):\n",
        "  print(*args)\n",
        "  \n",
        "f(1,2)\n",
        "g(1,2)"
      ],
      "metadata": {
        "colab": {
          "base_uri": "https://localhost:8080/"
        },
        "id": "WUSXKDl7ubyb",
        "outputId": "1455a78f-4dfa-4864-9670-1192dffc42c4"
      },
      "execution_count": null,
      "outputs": [
        {
          "output_type": "stream",
          "name": "stdout",
          "text": [
            "(1, 2)\n",
            "1 2\n"
          ]
        }
      ]
    },
    {
      "cell_type": "markdown",
      "source": [
        "In Python, functions are first-class objects, which means they can be passed as arguments, returned as results from other functions, stored in data structures, etc. Decorators rely on this fact."
      ],
      "metadata": {
        "id": "GD2yAB1Cuy8u"
      }
    },
    {
      "cell_type": "markdown",
      "source": [
        "Here's an example where we pass a function name as a parameter to another function and the function passed in is then executed."
      ],
      "metadata": {
        "id": "XKzRiiA40TJk"
      }
    },
    {
      "cell_type": "code",
      "source": [
        "def double(n):\n",
        "  return n*2\n",
        "def square(n):\n",
        "  return n*n\n",
        "def do_something(func,n):\n",
        "  return func(n)\n",
        "print(do_something(double,3))\n",
        "print(do_something(square,3))"
      ],
      "metadata": {
        "colab": {
          "base_uri": "https://localhost:8080/"
        },
        "id": "uvX0vsUX5MAs",
        "outputId": "321b20a5-7c79-4433-bbbe-4d966506250f"
      },
      "execution_count": null,
      "outputs": [
        {
          "output_type": "stream",
          "name": "stdout",
          "text": [
            "6\n",
            "9\n"
          ]
        }
      ]
    },
    {
      "cell_type": "markdown",
      "source": [
        "Ed exercise:\n",
        "\n",
        "Define the two functions above, double, and square, using lambda instead of def."
      ],
      "metadata": {
        "id": "eaHCzJrhkz4w"
      }
    },
    {
      "cell_type": "markdown",
      "source": [
        "An aside: you can even use \"eval\" to convert a string into something that can be evaluated. But this is dangerous to use with user input because it sometimes can be used to run arbitrary operating system commands."
      ],
      "metadata": {
        "id": "c3q94ymVcOMm"
      }
    },
    {
      "cell_type": "code",
      "source": [
        "s2=eval(\"square\")\n",
        "print(s2(5))\n",
        "print(eval(\"double(14)\"))\n"
      ],
      "metadata": {
        "colab": {
          "base_uri": "https://localhost:8080/"
        },
        "id": "uIC0rq1sb_30",
        "outputId": "4f011f9f-9e3f-4e0c-9376-2edae9ae3d5a"
      },
      "execution_count": null,
      "outputs": [
        {
          "output_type": "stream",
          "name": "stdout",
          "text": [
            "25\n",
            "28\n"
          ]
        }
      ]
    },
    {
      "cell_type": "markdown",
      "source": [
        "Here's an example where we store function names as values in a dictionary and then call the functions by referencing the values."
      ],
      "metadata": {
        "id": "YNrCtaln1sYA"
      }
    },
    {
      "cell_type": "code",
      "source": [
        "def add(*args):\n",
        "  r=0\n",
        "  for x in args:\n",
        "    r+=x\n",
        "  return r\n",
        "\n",
        "def product(*args):\n",
        "  r=1\n",
        "  for x in args:\n",
        "    r*=x\n",
        "  return r\n",
        "\n",
        "print(add(1,2,3,4))\n",
        "print(product(1,2,3,4))\n",
        "d={1:add, 2:product}\n",
        "print(d[1](1,2,3,4,5))\n",
        "print(d[2](1,2,3,4,5))"
      ],
      "metadata": {
        "colab": {
          "base_uri": "https://localhost:8080/"
        },
        "id": "Kr3mcCBWxwzK",
        "outputId": "39056660-8df5-48f1-af6b-b173e2df322a"
      },
      "execution_count": null,
      "outputs": [
        {
          "output_type": "stream",
          "name": "stdout",
          "text": [
            "10\n",
            "24\n",
            "15\n",
            "120\n"
          ]
        }
      ]
    },
    {
      "cell_type": "markdown",
      "source": [
        "Ed exercise:\n",
        "\n",
        "Rewrite the function product above using lambda and reduce. (Note reduce needs to be imported from the functools module)."
      ],
      "metadata": {
        "id": "_YZPCfLDoGvr"
      }
    },
    {
      "cell_type": "code",
      "source": [
        "from functools import reduce\n",
        "product = lambda *args: reduce(lambda x,y: x*y, args)\n",
        "product(2,3,4,5) # example"
      ],
      "metadata": {
        "colab": {
          "base_uri": "https://localhost:8080/"
        },
        "id": "L7RQv3q7p4bG",
        "outputId": "cb0e0443-75bb-4d49-f4d3-f6b9ed4a168e"
      },
      "execution_count": null,
      "outputs": [
        {
          "output_type": "execute_result",
          "data": {
            "text/plain": [
              "120"
            ]
          },
          "metadata": {},
          "execution_count": 60
        }
      ]
    },
    {
      "cell_type": "markdown",
      "source": [
        ""
      ],
      "metadata": {
        "id": "XAztw_OYZvo1"
      }
    },
    {
      "cell_type": "code",
      "source": [
        "from functools import reduce\n",
        "product = reduce(lambda x,y:x*y,lst)\n",
        "product(1,2,3,4,5)"
      ],
      "metadata": {
        "id": "gAh5BcidZtG4"
      },
      "execution_count": null,
      "outputs": []
    },
    {
      "cell_type": "markdown",
      "source": [
        "Poll Everywhere Exercise:\n",
        "\n",
        "Sum is a built-in Python function. What does sum(*args) output if args is set to [1, 3, 5, 7]?"
      ],
      "metadata": {
        "id": "ODnIBuc1idBx"
      }
    },
    {
      "cell_type": "code",
      "source": [
        "args=(1,3,5,7)\n",
        "try:\n",
        "  sum(*args)\n",
        "except TypeError as e:\n",
        "  print(e)\n"
      ],
      "metadata": {
        "colab": {
          "base_uri": "https://localhost:8080/"
        },
        "id": "hV-vUC1MKXB3",
        "outputId": "2bab5378-f863-4887-f149-b883d2d15a82"
      },
      "execution_count": null,
      "outputs": [
        {
          "output_type": "stream",
          "name": "stdout",
          "text": [
            "sum expected at most 2 arguments, got 4\n"
          ]
        }
      ]
    },
    {
      "cell_type": "markdown",
      "source": [
        "Python also supports \"inner functions\" which are local to the function in which they are defined. They cannot be called from outside that function, like a local variable cannot be referenced outside the function it is defined in."
      ],
      "metadata": {
        "id": "jtHhg1ku0lbp"
      }
    },
    {
      "cell_type": "code",
      "source": [
        "def greeter():\n",
        "  # these functions are local to the function\n",
        "  # they are wrapped in\n",
        "  def hi():\n",
        "    print(\"hi\")\n",
        "  def hello():\n",
        "    print(\"hello\")\n",
        "  hello()\n",
        "  hi()\n",
        "\n",
        "greeter()"
      ],
      "metadata": {
        "colab": {
          "base_uri": "https://localhost:8080/"
        },
        "id": "yJNatDlJ63nD",
        "outputId": "a48b229d-dedf-4e7d-b54e-788c2f54b596"
      },
      "execution_count": null,
      "outputs": [
        {
          "output_type": "stream",
          "name": "stdout",
          "text": [
            "hello\n",
            "hi\n"
          ]
        }
      ]
    },
    {
      "cell_type": "markdown",
      "source": [
        "Can we do the following?"
      ],
      "metadata": {
        "id": "cUcG_BIg03rp"
      }
    },
    {
      "cell_type": "code",
      "source": [
        "#hi()"
      ],
      "metadata": {
        "id": "Kk80LMvb7MKB"
      },
      "execution_count": null,
      "outputs": []
    },
    {
      "cell_type": "markdown",
      "source": [
        "The following function runMany returns the function new_func as its result. The function new_func is itself defined as an inner function in terms of the arguments to runMany and takes one argument of its own."
      ],
      "metadata": {
        "id": "aJzow8512pV0"
      }
    },
    {
      "cell_type": "code",
      "source": [
        "def runMany(func,n):\n",
        "  # what is x? the argument to the function returned\n",
        "  def new_func(x):\n",
        "    for i in range(n):\n",
        "      x=func(x)\n",
        "    return(x)\n",
        "  return new_func\n"
      ],
      "metadata": {
        "id": "_hDfptytv2el"
      },
      "execution_count": null,
      "outputs": []
    },
    {
      "cell_type": "markdown",
      "source": [
        "When runMany is called with the arguments double (which is a function) and 3, it returns a new function which doubles its argument 3 times, or octuples it (that is, makes it eight times as large). Thus we can use functions to create new functions that are based on them. This is the idea behind decorators."
      ],
      "metadata": {
        "id": "9BsBCORM3ElO"
      }
    },
    {
      "cell_type": "code",
      "source": [
        "octuple=runMany(double,3)\n",
        "print(octuple(5))"
      ],
      "metadata": {
        "colab": {
          "base_uri": "https://localhost:8080/"
        },
        "id": "61dSFQ0bwPWp",
        "outputId": "d02b616c-e1be-46e6-a684-21d776d3dd7b"
      },
      "execution_count": null,
      "outputs": [
        {
          "output_type": "stream",
          "name": "stdout",
          "text": [
            "40\n"
          ]
        }
      ]
    },
    {
      "cell_type": "markdown",
      "source": [
        "In what follows, we have a cake, or rather a function called cake which returns the word cake."
      ],
      "metadata": {
        "id": "8AvUzhPW6nnW"
      }
    },
    {
      "cell_type": "code",
      "source": [
        "def cake():\n",
        "  return \"cake\"\n",
        "\n",
        "print(cake())"
      ],
      "metadata": {
        "colab": {
          "base_uri": "https://localhost:8080/"
        },
        "id": "d4ri2mY95dwg",
        "outputId": "93f78940-6536-45d9-9674-fc352e6c091c"
      },
      "execution_count": null,
      "outputs": [
        {
          "output_type": "stream",
          "name": "stdout",
          "text": [
            "cake\n"
          ]
        }
      ]
    },
    {
      "cell_type": "markdown",
      "source": [
        "Let's decorate it. The new cake contains icing."
      ],
      "metadata": {
        "id": "_3qvzQea6rgk"
      }
    },
    {
      "cell_type": "code",
      "source": [
        "def icing(old_func):\n",
        "  def new_func():\n",
        "    return old_func()+' with icing'\n",
        "  return new_func\n",
        "\n",
        "cake=icing(cake)\n",
        "print(cake())"
      ],
      "metadata": {
        "colab": {
          "base_uri": "https://localhost:8080/"
        },
        "id": "Nahfr0gi59zi",
        "outputId": "feda8341-06cf-474a-881c-23c61de0cb9c"
      },
      "execution_count": null,
      "outputs": [
        {
          "output_type": "stream",
          "name": "stdout",
          "text": [
            "cake with icing\n"
          ]
        }
      ]
    },
    {
      "cell_type": "markdown",
      "source": [
        "The following is another, equivalent way to add the decorator. It is a form of syntactic sugar."
      ],
      "metadata": {
        "id": "stRGboCZ7ToV"
      }
    },
    {
      "cell_type": "code",
      "source": [
        "@icing\n",
        "def cake():\n",
        "  return \"cake\"\n",
        "print(cake())"
      ],
      "metadata": {
        "colab": {
          "base_uri": "https://localhost:8080/"
        },
        "id": "Lr1b3FPt64Mp",
        "outputId": "a37ba45e-2d33-4988-b853-fb464cb6b502"
      },
      "execution_count": null,
      "outputs": [
        {
          "output_type": "stream",
          "name": "stdout",
          "text": [
            "cake with icing\n"
          ]
        }
      ]
    },
    {
      "cell_type": "markdown",
      "source": [
        "We could decorate a different function."
      ],
      "metadata": {
        "id": "gKSMMg7F80Z6"
      }
    },
    {
      "cell_type": "code",
      "source": [
        "@icing\n",
        "def cupcake():\n",
        "  return \"cupcake\"\n",
        "print(cupcake())"
      ],
      "metadata": {
        "colab": {
          "base_uri": "https://localhost:8080/"
        },
        "id": "ktqLNHZU8hFU",
        "outputId": "17ed71b5-f215-493e-bfa2-0c688f3c594c"
      },
      "execution_count": null,
      "outputs": [
        {
          "output_type": "stream",
          "name": "stdout",
          "text": [
            "cupcake with icing\n"
          ]
        }
      ]
    },
    {
      "cell_type": "markdown",
      "source": [
        "Poll Everywhere Question:\n",
        "\n",
        "The function that is returned by a decorator is a type of function that is called:\n",
        "\n",
        "* An embedded function\n",
        "* An inner or nested function\n",
        "* A local function\n",
        "* A private function\n"
      ],
      "metadata": {
        "id": "JJXcILyGf0-T"
      }
    },
    {
      "cell_type": "markdown",
      "source": [
        "Let's make a decorator that adds exclamation points. (Note what happens if we run the following cell multiple times.)"
      ],
      "metadata": {
        "id": "LgGR_cYR_QXO"
      }
    },
    {
      "cell_type": "code",
      "source": [
        "def shout(old_f):\n",
        "  def new_f(s):\n",
        "    return old_f(s)+'!!!!!'\n",
        "  return new_f     \n",
        "\n",
        "# decorate the str function\n",
        "str=shout(str)  \n",
        "print(str(12))"
      ],
      "metadata": {
        "colab": {
          "base_uri": "https://localhost:8080/"
        },
        "id": "SwtykM27_Wor",
        "outputId": "8e30ee37-d37c-460e-b971-4cfdf9dafb69"
      },
      "execution_count": null,
      "outputs": [
        {
          "output_type": "stream",
          "name": "stdout",
          "text": [
            "12!!!!!!!!!!!!!!!!!!!!!!!!!!!!!!!!!!!!!!!!\n"
          ]
        }
      ]
    },
    {
      "cell_type": "markdown",
      "source": [
        "Does this work?"
      ],
      "metadata": {
        "id": "3hi1DBd-BI4v"
      }
    },
    {
      "cell_type": "code",
      "source": [
        "@shout\n",
        "def full_name(first,last):\n",
        "  return f\"{first} {last}\"\n",
        "\n",
        "person=full_name('Alice','Alvarez')  \n",
        "print(person)"
      ],
      "metadata": {
        "colab": {
          "base_uri": "https://localhost:8080/",
          "height": 218
        },
        "id": "mtoKKS8DAxyY",
        "outputId": "4296d53b-ab6d-4f43-c59a-247df8c85c3e"
      },
      "execution_count": null,
      "outputs": [
        {
          "output_type": "error",
          "ename": "TypeError",
          "evalue": "ignored",
          "traceback": [
            "\u001b[0;31m---------------------------------------------------------------------------\u001b[0m",
            "\u001b[0;31mTypeError\u001b[0m                                 Traceback (most recent call last)",
            "\u001b[0;32m<ipython-input-47-f005c5ea961e>\u001b[0m in \u001b[0;36m<module>\u001b[0;34m()\u001b[0m\n\u001b[1;32m      3\u001b[0m   \u001b[0;32mreturn\u001b[0m \u001b[0;34mf\"{first} {last}\"\u001b[0m\u001b[0;34m\u001b[0m\u001b[0;34m\u001b[0m\u001b[0m\n\u001b[1;32m      4\u001b[0m \u001b[0;34m\u001b[0m\u001b[0m\n\u001b[0;32m----> 5\u001b[0;31m \u001b[0mperson\u001b[0m\u001b[0;34m=\u001b[0m\u001b[0mfull_name\u001b[0m\u001b[0;34m(\u001b[0m\u001b[0;34m'Alice'\u001b[0m\u001b[0;34m,\u001b[0m\u001b[0;34m'Alvarez'\u001b[0m\u001b[0;34m)\u001b[0m\u001b[0;34m\u001b[0m\u001b[0;34m\u001b[0m\u001b[0m\n\u001b[0m\u001b[1;32m      6\u001b[0m \u001b[0mprint\u001b[0m\u001b[0;34m(\u001b[0m\u001b[0mperson\u001b[0m\u001b[0;34m)\u001b[0m\u001b[0;34m\u001b[0m\u001b[0;34m\u001b[0m\u001b[0m\n",
            "\u001b[0;31mTypeError\u001b[0m: new_f() takes 1 positional argument but 2 were given"
          ]
        }
      ]
    },
    {
      "cell_type": "markdown",
      "source": [
        "We can fix this by allowing for a variable amount of arguments in the decorator."
      ],
      "metadata": {
        "id": "JxSSVePPCtt6"
      }
    },
    {
      "cell_type": "code",
      "source": [
        "def shout(old_f):\n",
        "    def new_f(*args):\n",
        "        res = old_f(*args)\n",
        "        return res + '!!!!!'\n",
        "    return new_f"
      ],
      "metadata": {
        "id": "QK39VhNMCRSX"
      },
      "execution_count": null,
      "outputs": []
    },
    {
      "cell_type": "code",
      "source": [
        "@shout\n",
        "def full_name(first,last):\n",
        "  return f\"{first} {last}\"\n",
        "\n",
        "person=full_name('Alice','Alvarez')  \n",
        "print(person)"
      ],
      "metadata": {
        "colab": {
          "base_uri": "https://localhost:8080/"
        },
        "id": "FDMgCjpmC_kc",
        "outputId": "b3090cd7-fdec-4416-d145-9845f211e4f5"
      },
      "execution_count": null,
      "outputs": [
        {
          "output_type": "stream",
          "name": "stdout",
          "text": [
            "Alice Alvarez!!!!!\n"
          ]
        }
      ]
    },
    {
      "cell_type": "markdown",
      "source": [
        "## Uses of Decorators\n",
        "* Modify arguments going into a function, or modify the function's output\n",
        "* Do some things before or after we call a function\n",
        "* Some examples\n",
        "    - timing a function\n",
        "    - caching results to speed up a function"
      ],
      "metadata": {
        "id": "TY9mg7gKE8nO"
      }
    },
    {
      "cell_type": "code",
      "source": [
        "import time\n",
        "def time_ns(func):\n",
        "  def wrapper(*arg):\n",
        "      t = time.process_time_ns()\n",
        "      res = func(*arg)\n",
        "      print(f\"The function {func.__name__} took {time.process_time_ns()-t} nanoseconds to run.\")\n",
        "      return res\n",
        "  return wrapper\n",
        "\n",
        "# series starts with 0,1,1,2,3,5 ...\n",
        "@time_ns\n",
        "def fibonnaci(n):\n",
        "  l=[0,1]\n",
        "  for i in range(2,n):\n",
        "    l.append(l[i-1]+l[i-2])\n",
        "  return l[n-1]\n",
        "\n",
        "print(fibonnaci(6))\n",
        "print(fibonnaci(20)) \n",
        "print(fibonnaci(100)) \n"
      ],
      "metadata": {
        "colab": {
          "base_uri": "https://localhost:8080/"
        },
        "id": "yEJ1F0puIBG3",
        "outputId": "1dbce60d-df3d-4947-ab99-779d47326628"
      },
      "execution_count": null,
      "outputs": [
        {
          "output_type": "stream",
          "name": "stdout",
          "text": [
            "The function fibonnaci took 10650 nanoseconds to run.\n",
            "5\n",
            "The function fibonnaci took 15254 nanoseconds to run.\n",
            "4181\n",
            "The function fibonnaci took 48954 nanoseconds to run.\n",
            "218922995834555169026\n"
          ]
        }
      ]
    },
    {
      "cell_type": "markdown",
      "source": [
        "Decorators can be used for caching. Here the lru_cache decorator saves up to the last maxsize values returned from calls to the function decorated. "
      ],
      "metadata": {
        "id": "oKNWCyi5ThZ-"
      }
    },
    {
      "cell_type": "code",
      "source": [
        "from functools import lru_cache\n",
        "\n",
        "@lru_cache(maxsize=None)\n",
        "def fib(n):\n",
        "    if n < 2:\n",
        "        return n\n",
        "    return fib(n-1) + fib(n-2)\n",
        "\n",
        "print([fib(n) for n in range(30)])\n",
        "\n",
        "print(fib.cache_info())"
      ],
      "metadata": {
        "colab": {
          "base_uri": "https://localhost:8080/"
        },
        "id": "OnklY_acMkus",
        "outputId": "5ac02b87-ed1d-46a7-b6b1-178c7f6d7533"
      },
      "execution_count": null,
      "outputs": [
        {
          "output_type": "stream",
          "name": "stdout",
          "text": [
            "[0, 1, 1, 2, 3, 5, 8, 13, 21, 34, 55, 89, 144, 233, 377, 610, 987, 1597, 2584, 4181, 6765, 10946, 17711, 28657, 46368, 75025, 121393, 196418, 317811, 514229]\n",
            "CacheInfo(hits=56, misses=30, maxsize=None, currsize=30)\n"
          ]
        }
      ]
    },
    {
      "cell_type": "markdown",
      "source": [
        "Usually we don't write our own decorators, but use pre-written ones (like in the two examples above.) For instance:\n",
        "\n",
        "* Python uses a decorator to define a method as [static](https://docs.python.org/3/howto/descriptor.html?highlight=static%20method#static-methods).\n",
        "* The flask web framework, which we will cover later, uses decorators for http request handling.\n"
      ],
      "metadata": {
        "id": "zTEOVnSIU5wl"
      }
    }
  ]
}
