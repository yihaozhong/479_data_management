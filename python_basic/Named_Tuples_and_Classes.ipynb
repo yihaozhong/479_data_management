{
  "nbformat": 4,
  "nbformat_minor": 0,
  "metadata": {
    "colab": {
      "name": "Named Tuples and Classes.ipynb",
      "provenance": [],
      "include_colab_link": true
    },
    "kernelspec": {
      "name": "python3",
      "display_name": "Python 3"
    },
    "language_info": {
      "name": "python"
    }
  },
  "cells": [
    {
      "cell_type": "markdown",
      "metadata": {
        "id": "view-in-github",
        "colab_type": "text"
      },
      "source": [
        "<a href=\"https://colab.research.google.com/github/yihaozhong/479_data_management/blob/main/Named_Tuples_and_Classes.ipynb\" target=\"_parent\"><img src=\"https://colab.research.google.com/assets/colab-badge.svg\" alt=\"Open In Colab\"/></a>"
      ]
    },
    {
      "cell_type": "markdown",
      "source": [
        "## Python Named Tuples and Classes"
      ],
      "metadata": {
        "id": "te2Djy4aISSn"
      }
    },
    {
      "cell_type": "markdown",
      "source": [
        "## How could we store a point in two dimensions?\n",
        "\n",
        "We could store it as two separate floats:"
      ],
      "metadata": {
        "id": "2gJM1KW5Zxd2"
      }
    },
    {
      "cell_type": "code",
      "execution_count": null,
      "metadata": {
        "colab": {
          "base_uri": "https://localhost:8080/"
        },
        "id": "Bg29y2ZyZsr-",
        "outputId": "2f2494e3-ecd9-48eb-92cd-0df6fa7feaa4"
      },
      "outputs": [
        {
          "output_type": "stream",
          "name": "stdout",
          "text": [
            "4.1 5.2\n"
          ]
        }
      ],
      "source": [
        "x,y=4.1,5.2\n",
        "print(x,y)"
      ]
    },
    {
      "cell_type": "markdown",
      "source": [
        "As a two element list or 2-element tuple:"
      ],
      "metadata": {
        "id": "Xmf7nG7eaSAm"
      }
    },
    {
      "cell_type": "code",
      "source": [
        "p=[4.1,5.2]\n",
        "print(p)\n",
        "p=(4.1,5.2)\n",
        "print(p)"
      ],
      "metadata": {
        "colab": {
          "base_uri": "https://localhost:8080/"
        },
        "id": "I_6b3K1-aZrV",
        "outputId": "884a746b-7a86-4c1e-a6b2-3a03bc59e1a0"
      },
      "execution_count": null,
      "outputs": [
        {
          "output_type": "stream",
          "name": "stdout",
          "text": [
            "[4.1, 5.2]\n",
            "(4.1, 5.2)\n"
          ]
        }
      ]
    },
    {
      "cell_type": "markdown",
      "source": [
        "As a dictionary:"
      ],
      "metadata": {
        "id": "n3-V6kv1ak1o"
      }
    },
    {
      "cell_type": "code",
      "source": [
        "p={'x':4.1, 'y':42}\n",
        "p['x']"
      ],
      "metadata": {
        "id": "Qyb_ZGpyapdb",
        "colab": {
          "base_uri": "https://localhost:8080/"
        },
        "outputId": "ca38eac3-c3c5-4cfa-cb13-a41879c77b3a"
      },
      "execution_count": null,
      "outputs": [
        {
          "output_type": "execute_result",
          "data": {
            "text/plain": [
              "4.1"
            ]
          },
          "metadata": {},
          "execution_count": 74
        }
      ]
    },
    {
      "cell_type": "markdown",
      "source": [
        "Another way to create a point is using a [named tuple](https://docs.python.org/3/library/collections.html#collections.namedtuple) from Python's collections \n",
        "module which allows you to access the elements of the tuple by index or by name (the latter as an attribute). Each position in the tuple gets a name.\n",
        "\n",
        "To define a named tuple, you call \"namedtuple\" with the name of the type of object and the names of the fields in the object (as a list), as follows."
      ],
      "metadata": {
        "id": "kTnix_rXa1vE"
      }
    },
    {
      "cell_type": "code",
      "source": [
        "from collections import namedtuple\n",
        "Point=namedtuple('Point',['x','y'])"
      ],
      "metadata": {
        "id": "PvY6kwdyb-KN"
      },
      "execution_count": null,
      "outputs": []
    },
    {
      "cell_type": "markdown",
      "source": [
        "Now we can use Point to create named tuples with x and y values."
      ],
      "metadata": {
        "id": "W9kZiWP_cH1M"
      }
    },
    {
      "cell_type": "code",
      "source": [
        "p=Point(x=4.1,y=5.2)\n",
        "print(p.x)\n",
        "print(p.y)"
      ],
      "metadata": {
        "colab": {
          "base_uri": "https://localhost:8080/"
        },
        "id": "b-VqMehqcRUM",
        "outputId": "ace095d4-3924-431f-c067-81e052ff82bf"
      },
      "execution_count": null,
      "outputs": [
        {
          "output_type": "stream",
          "name": "stdout",
          "text": [
            "4.1\n",
            "5.2\n"
          ]
        }
      ]
    },
    {
      "cell_type": "markdown",
      "source": [
        "You can also create Points with positional arguments and access them with indeces."
      ],
      "metadata": {
        "id": "jkBVf9ckchWq"
      }
    },
    {
      "cell_type": "code",
      "source": [
        "q=Point(7.1,-4.3)\n",
        "print(q)\n",
        "print(q[0])\n",
        "print(q.x)\n",
        "print(q[1])\n",
        "print(q.y)"
      ],
      "metadata": {
        "colab": {
          "base_uri": "https://localhost:8080/"
        },
        "id": "NS7fAPDPdO9y",
        "outputId": "bd4aa877-cb19-4c41-ab76-a57b6d0a9a58"
      },
      "execution_count": null,
      "outputs": [
        {
          "output_type": "stream",
          "name": "stdout",
          "text": [
            "Point(x=7.1, y=-4.3)\n",
            "7.1\n",
            "7.1\n",
            "-4.3\n",
            "-4.3\n"
          ]
        }
      ]
    },
    {
      "cell_type": "markdown",
      "source": [
        "We can unpack the named tuple like an ordinary tuple."
      ],
      "metadata": {
        "id": "IOCRBeLpdltE"
      }
    },
    {
      "cell_type": "code",
      "source": [
        "x, y = (1.1, 2.3)\n",
        "print(x, y)\n",
        "x, y = q\n",
        "print(x, y)"
      ],
      "metadata": {
        "colab": {
          "base_uri": "https://localhost:8080/"
        },
        "id": "HQLIfrh7djjr",
        "outputId": "56687e60-44df-4704-ea1d-b68baebc3a05"
      },
      "execution_count": null,
      "outputs": [
        {
          "output_type": "stream",
          "name": "stdout",
          "text": [
            "1.1 2.3\n",
            "7.1 -4.3\n"
          ]
        }
      ]
    },
    {
      "cell_type": "markdown",
      "source": [
        "Like ordinary tuples, named tuples are immutable."
      ],
      "metadata": {
        "id": "BVLccwMLd2e3"
      }
    },
    {
      "cell_type": "code",
      "source": [
        "t=(1.1,3.5)\n",
        "try:\n",
        "  t[0]=1.2\n",
        "except:\n",
        "  print(\"Can't reassign elements in an ordinary tuple.\")  \n",
        "try:\n",
        "  q[0]=1.5\n",
        "except:\n",
        "  print(\"Can't reassign elements in a named tuple.\")  \n",
        "l=[1.1,3.5]  \n",
        "l[0]=1.2 # not a problem with a list\n",
        "print(l)\n",
        "  "
      ],
      "metadata": {
        "colab": {
          "base_uri": "https://localhost:8080/"
        },
        "id": "ri6WccCqd9mm",
        "outputId": "07ebee40-fd79-4b69-a623-2a3e889bccab"
      },
      "execution_count": null,
      "outputs": [
        {
          "output_type": "stream",
          "name": "stdout",
          "text": [
            "Can't reassign elements in an ordinary tuple.\n",
            "Can't reassign elements in a named tuple.\n",
            "[1.2, 3.5]\n"
          ]
        }
      ]
    },
    {
      "cell_type": "markdown",
      "source": [
        "What are the types of these objects?"
      ],
      "metadata": {
        "id": "y9ELba42e0Wu"
      }
    },
    {
      "cell_type": "code",
      "source": [
        "print(type(Point))\n",
        "print(type(p))"
      ],
      "metadata": {
        "colab": {
          "base_uri": "https://localhost:8080/"
        },
        "id": "Ep6NQNrYe6Jn",
        "outputId": "545706c6-617d-46c8-9b82-b864d0f907d5"
      },
      "execution_count": null,
      "outputs": [
        {
          "output_type": "stream",
          "name": "stdout",
          "text": [
            "<class 'type'>\n",
            "<class '__main__.Point'>\n"
          ]
        }
      ]
    },
    {
      "cell_type": "markdown",
      "source": [
        "So we have created our own type."
      ],
      "metadata": {
        "id": "oSN7vmQWfAEJ"
      }
    },
    {
      "cell_type": "code",
      "source": [
        "Point=namedtuple('Point',['x','y']) # creates a new type called Point\n"
      ],
      "metadata": {
        "id": "kZVwclz0fNrC"
      },
      "execution_count": null,
      "outputs": []
    },
    {
      "cell_type": "code",
      "source": [
        "BabyCarriage=namedtuple('Point',['x','y']) # name of the type doesn't matter\n",
        "r=BabyCarriage(8.3,7.1)\n",
        "print(type(r)) # type is still named point"
      ],
      "metadata": {
        "colab": {
          "base_uri": "https://localhost:8080/"
        },
        "id": "ZYfB986FfdIL",
        "outputId": "69c4d008-45f2-4b46-eddf-f6ea27a2cf2c"
      },
      "execution_count": null,
      "outputs": [
        {
          "output_type": "stream",
          "name": "stdout",
          "text": [
            "<class '__main__.Point'>\n"
          ]
        }
      ]
    },
    {
      "cell_type": "markdown",
      "source": [
        "Named tuples can be useful, but they are limited. They are immutable, which is limiting in many cases, and they have only the methods associated with tuples, as well as the ability to address elements by name. "
      ],
      "metadata": {
        "id": "XJ6nZym0f6U0"
      }
    },
    {
      "cell_type": "markdown",
      "source": [
        "## Classes\n",
        "\n",
        "Classes are much more powerful and flexible\n",
        "\n",
        "* A way to define a new type of objects and instantiate them\n",
        "* Can define methods, which are class-specific functions \n",
        "* Can represent arbitrary data structures\n",
        "* Like in other object-oriented languages such as Java, support inheritance, encapsulation, and polymorphism\n"
      ],
      "metadata": {
        "id": "QNNH4aK8gPzI"
      }
    },
    {
      "cell_type": "markdown",
      "source": [
        "## Python Programmer-Defined Objects and Classes\n",
        "\n",
        "## Terminology\n",
        "\n",
        "*   A class defines a type of object\n",
        "*   An object is an instance of a class\n",
        "*   When defining a class, we define attributes and methods of that class\n",
        "*   An attribute is a variable associated with a class and its objects\n",
        "*   A method is a function associated with a class and its objects\n",
        "\n",
        "## We can define our own classes and then create objects using them"
      ],
      "metadata": {
        "id": "14Dj-RG0AD1U"
      }
    },
    {
      "cell_type": "markdown",
      "source": [
        "## Syntax of Programmer-Defined Classes\n",
        "\n",
        "*   \"Class\" keyword defines a class giving the class name\n",
        "*   Methods are defined as functions indented under the class\n",
        "*   \"Self\" refers to the object itself\n",
        "*   All methods (except for static methods) refer to self and optionally some other arguments\n",
        "*   Special \"dunder\" methods begin and end with double underscore\n"
      ],
      "metadata": {
        "id": "85zxOGCfAVRk"
      }
    },
    {
      "cell_type": "markdown",
      "source": [
        "## Class methods\n",
        "\n",
        "*   \\_\\_init\\_\\_ method is used to create an object\n",
        "*   \\_\\_str\\_\\_ method is used to tell the print function how to print an object\n",
        "*   \\_\\_eq\\_\\_ tells the = operator when two objects are equal\n",
        "*   Methods are called with dot notation\n",
        "*   Objects are created with the class name and the arguments to \\_\\_init\\_\\_\n",
        "\n",
        "A class for dogs with three methods:"
      ],
      "metadata": {
        "id": "eD_YyaD9Ak8m"
      }
    },
    {
      "cell_type": "code",
      "source": [
        "# define a class \n",
        "class Dog:\n",
        "  def __init__(self,name,weight,age,got_rabies_shot):\n",
        "    self.name=name\n",
        "    self.weight=weight\n",
        "    if age<=29: # validate\n",
        "      self.age=age\n",
        "    else:\n",
        "      raise ValueError(\"That is too old.\")\n",
        "    self.got_rabies_shot=got_rabies_shot\n",
        "  def __str__(self):\n",
        "    s=self.name+\" is a dog that weighs \"\n",
        "    s+=str(self.weight)+\" pounds and is \"\n",
        "    s+=str(self.age)+\" years old;\"\n",
        "    if self.got_rabies_shot:\n",
        "      s+=\" vaccinated for Rabies.\"\n",
        "    else:\n",
        "      s+=\" not vaccinated for Rabies.\"\n",
        "    return s\n",
        "  def have_birthday(self):\n",
        "    self.age+=1\n",
        "  def got_vaccine(self):\n",
        "    self.got_rabies_shot=True"
      ],
      "metadata": {
        "id": "nt521eVnA2sM"
      },
      "execution_count": null,
      "outputs": []
    },
    {
      "cell_type": "code",
      "source": [
        "# create an instance (calls __init__)\n",
        "dog1=Dog(\"Fido\",25,1,False)\n",
        "# print out the attributes\n",
        "print(dog1.name)\n",
        "print(dog1.weight)\n",
        "print(dog1.age)\n",
        "print(dog1.got_rabies_shot)\n",
        "dog1.name=\"Rover\"\n",
        "print(dog1.name)\n",
        "# print the object (calls the __str__ method)\n",
        "print(dog1)\n",
        "dog1.have_birthday()\n",
        "print(dog1)\n",
        "dog1.got_vaccine()\n",
        "print(dog1)"
      ],
      "metadata": {
        "colab": {
          "base_uri": "https://localhost:8080/"
        },
        "id": "hNeJqlu-BP7e",
        "outputId": "dd3c9740-1587-4b8c-8646-86702dfcbd54"
      },
      "execution_count": null,
      "outputs": [
        {
          "output_type": "stream",
          "name": "stdout",
          "text": [
            "Fido\n",
            "25\n",
            "1\n",
            "False\n",
            "Rover\n",
            "Rover is a dog that weighs 25 pounds and is 1 years old; not vaccinated for Rabies.\n",
            "Rover is a dog that weighs 25 pounds and is 2 years old; not vaccinated for Rabies.\n",
            "Rover is a dog that weighs 25 pounds and is 2 years old; vaccinated for Rabies.\n"
          ]
        }
      ]
    },
    {
      "cell_type": "code",
      "source": [
        "try:\n",
        "  d=Dog(\"Spike\",50,30,True)\n",
        "except ValueError as e:\n",
        "  print(e)\n",
        "try:  \n",
        "  print(d)\n",
        "except NameError as e:\n",
        "  print(e)"
      ],
      "metadata": {
        "colab": {
          "base_uri": "https://localhost:8080/"
        },
        "id": "d4W1GmNDI7d8",
        "outputId": "1e271bbe-c4d8-4a0d-b36b-413d751261d7"
      },
      "execution_count": null,
      "outputs": [
        {
          "output_type": "stream",
          "name": "stdout",
          "text": [
            "That is too old.\n",
            "name 'd' is not defined\n"
          ]
        }
      ]
    },
    {
      "cell_type": "markdown",
      "source": [
        "Ed Exercise: add a method to the class called \"got_vaccine\" which sets the got_rabies_shot attribute of a dog object to True."
      ],
      "metadata": {
        "id": "RY-2umnXBxqG"
      }
    },
    {
      "cell_type": "markdown",
      "source": [
        "Ed Exercise: add a method that compares the ages of two dogs (say Rover and Fido) and prints out either, for example, \"Rover is older than Fido\" or \"Fido and Rover are the same age.\""
      ],
      "metadata": {
        "id": "Q8GveP53CNlU"
      }
    },
    {
      "cell_type": "code",
      "source": [
        "import math\n",
        "class Point: # class definition, starts with keyword \"class\"\n",
        "    '''Creates a point on a coordinate plane with values x and y.'''\n",
        "\n",
        "    def __init__(self, x, y): # method called when an object is created\n",
        "        '''Defines x and y variables'''\n",
        "        self.x = x\n",
        "        self.y = y\n",
        "\n",
        "    def __str__(self): # method called when an object is printed\n",
        "        return \"Point(%s,%s)\"%(self.x, self.y) \n",
        "\n",
        "    def distance(self, other):\n",
        "        dx = self.x - other.x\n",
        "        dy = self.y - other.y\n",
        "        return math.hypot(dx, dy)\n",
        "    def manhattan_distance(self,other):\n",
        "        dx = abs(self.x - other.x)\n",
        "        dy = abs(self.y - other.y)\n",
        "        return dx+dy \n",
        "        \n",
        "\n",
        "p=Point(0,0)\n",
        "q=Point(3,4)\n",
        "print(p.x)\n",
        "print(p.y)\n",
        "print(p)\n",
        "print(p.distance(q)) # you can think of this as a shorthand for the call below\n",
        "print(q.distance(p)) # you can think of this as a shorthand for the call below\n",
        "print(p.manhattan_distance(q))\n",
        "print(Point.distance(p,q))"
      ],
      "metadata": {
        "colab": {
          "base_uri": "https://localhost:8080/"
        },
        "id": "Xjy2AXXPh4xq",
        "outputId": "9e3f77d7-d461-4796-ff2e-6a690b527656"
      },
      "execution_count": null,
      "outputs": [
        {
          "output_type": "stream",
          "name": "stdout",
          "text": [
            "0\n",
            "0\n",
            "Point(0,0)\n",
            "5.0\n",
            "5.0\n",
            "7\n",
            "5.0\n"
          ]
        }
      ]
    },
    {
      "cell_type": "markdown",
      "source": [
        "Ed Exercise: Given the class definition of a point as shown, write a method that computes the Manhattan distance between two points. For instance, the Manhattan distance between 14th St. and 5th Ave. and 23rd St. and 8th Ave. is (23-14)+(8-5) or 12. (Here we treat avenue blocks and street blocks as the same, although avenue blocks are over [twice as long](https://streeteasy.com/blog/how-many-nyc-blocks-are-in-one-mile/).)\n"
      ],
      "metadata": {
        "id": "fmcaSOogjw1G"
      }
    },
    {
      "cell_type": "markdown",
      "source": [
        "Ed Exercise: Using the Point class we have just defined, create a circle class that is instantiated  with three values: the x,y point representing the center, and the radius. Add attributes for the area and perimeter of the circle when you instantiate it. Then write a class method which given two circles indicates whether they intersect."
      ],
      "metadata": {
        "id": "bNVOGg4vCoNf"
      }
    },
    {
      "cell_type": "code",
      "source": [
        "import math\n",
        "class Circle: # class definition, starts with keyword \"class\"\n",
        "    '''Creates a point on a coordinate plane with values x and y.'''\n",
        "\n",
        "    def __init__(self, x, y, r): # method called when an object is created\n",
        "        '''Defines x and y variables'''\n",
        "        self.center = Point(x,y)\n",
        "        self.radius = r\n",
        "        self.area= math.pi*(r**2)\n",
        "        self.perimeter= math.pi*2*r\n",
        "\n",
        "    def __str__(self): # method called when an object is printed\n",
        "        return f\"Circle centered at ({self.center.x},{self.center.y}) with radius {self.radius}\"\n",
        "\n",
        "    def intersect(self,other):        \n",
        "        return self.center.distance(other.center)<=(self.radius+other.radius)\n",
        "\n",
        "\n",
        "c=Circle(0,0,1)\n",
        "print(c)\n",
        "print(c.area)\n",
        "print(c.perimeter)\n",
        "c1=Circle(2,2,2)\n",
        "c2=Circle(4,4,2)\n",
        "print(c2.intersect(c1))\n",
        "c3=Circle(6,6,2)\n",
        "print(c1.intersect(c3))"
      ],
      "metadata": {
        "colab": {
          "base_uri": "https://localhost:8080/"
        },
        "id": "mpkFaC2c8MnT",
        "outputId": "61f3092a-c166-4046-b453-07ff5e96607a"
      },
      "execution_count": null,
      "outputs": [
        {
          "output_type": "stream",
          "name": "stdout",
          "text": [
            "Circle centered at (0,0) with radius 1\n",
            "3.141592653589793\n",
            "6.283185307179586\n",
            "True\n",
            "False\n"
          ]
        }
      ]
    },
    {
      "cell_type": "markdown",
      "source": [
        "Here is a class that deals random cards from a deck."
      ],
      "metadata": {
        "id": "E6naMeIVHz75"
      }
    },
    {
      "cell_type": "code",
      "source": [
        "import random\n",
        "\n",
        "class RandomCard:\n",
        "    '''\n",
        "    Class that creates objects that are random cards drawn from a deck\n",
        "    with replacement\n",
        "    '''\n",
        "    def __init__(self):\n",
        "        '''draw a card by pulling a random suit and value in that suit'''\n",
        "        suits = (\"Hearts\",\"Diamonds\",\"Spades\",\"Clubs\")\n",
        "        values = (\"Ace\",\"2\",\"3\",\"4\",\"5\",\"6\",\"7\",\"8\",\"9\",\"10\",\"Jack\",\"Queen\",\"King\")\n",
        "        self.suit = random.choice(suits)\n",
        "        self.value = random.choice(values)\n",
        "\n",
        "    def __str__(self):\n",
        "        '''printing method'''\n",
        "        return self.value+\" of \"+self.suit\n",
        "\n",
        "    def same_suit(self,other):\n",
        "        '''checks if two cards have the same suit'''\n",
        "        return self.suit == other.suit\n",
        "\n",
        "    def __eq__(self,other):\n",
        "        '''checks if two cards are the same'''\n",
        "        return (self.suit==other.suit) and (self.value==other.value)"
      ],
      "metadata": {
        "id": "GCOIpzQ30zLK"
      },
      "execution_count": null,
      "outputs": []
    },
    {
      "cell_type": "code",
      "source": [
        "card1=RandomCard()\n",
        "print(card1)\n",
        "card2=RandomCard()\n",
        "print(card2)\n",
        "print(card2.same_suit(card1))\n",
        "print(card1.same_suit(card2))\n",
        "print(RandomCard.same_suit(card1,card2))"
      ],
      "metadata": {
        "colab": {
          "base_uri": "https://localhost:8080/"
        },
        "id": "9X9744k7F7fX",
        "outputId": "6bec439c-b0f5-4c01-da4c-248aca587ff4"
      },
      "execution_count": null,
      "outputs": [
        {
          "output_type": "stream",
          "name": "stdout",
          "text": [
            "4 of Hearts\n",
            "2 of Spades\n",
            "False\n",
            "False\n",
            "False\n"
          ]
        }
      ]
    },
    {
      "cell_type": "markdown",
      "source": [
        "Here is a class that creates hands of n distinct cards."
      ],
      "metadata": {
        "id": "NYpVsoFHH-Yg"
      }
    },
    {
      "cell_type": "code",
      "source": [
        "class Hand:\n",
        "    '''deal a hand of n cards'''\n",
        "    def __init__(self,n):\n",
        "        '''pull n cards at random'''\n",
        "        self.cards = []\n",
        "        i = 1\n",
        "        while i <= n:\n",
        "            card = RandomCard()\n",
        "            # make sure you don't add the same card twice\n",
        "            if card not in self.cards:\n",
        "                self.cards.append(card)\n",
        "                i += 1\n",
        "\n",
        "    def __str__(self):    \n",
        "        '''print a hand; relies on str method from random_card class'''\n",
        "        s = \"(\"\n",
        "        for i in range(len(self.cards)):\n",
        "            s += self.cards[i].__str__()\n",
        "            if i < len(self.cards)-1:\n",
        "                s += ', '\n",
        "            else:\n",
        "                s += \")\"\n",
        "        return s\n",
        "    def flush(self):\n",
        "        check = True\n",
        "        for card in self.cards[1:]:\n",
        "            if not(RandomCard.same_suit(self.cards[0],card)):\n",
        "                check = False\n",
        "        return check \n"
      ],
      "metadata": {
        "id": "usEkz9xe1Fhk"
      },
      "execution_count": null,
      "outputs": []
    },
    {
      "cell_type": "code",
      "source": [
        "h=Hand(5)\n",
        "print(h)"
      ],
      "metadata": {
        "colab": {
          "base_uri": "https://localhost:8080/"
        },
        "id": "3d2KiwIjGVmG",
        "outputId": "0b32a650-07c0-4c56-ef83-fbf62a41748a"
      },
      "execution_count": null,
      "outputs": [
        {
          "output_type": "stream",
          "name": "stdout",
          "text": [
            "(Jack of Hearts, 5 of Spades, 9 of Diamonds, 9 of Spades, 2 of Hearts)\n"
          ]
        }
      ]
    },
    {
      "cell_type": "markdown",
      "source": [
        "Above is a method for the hand class that uses the card's same_suit method to determine whether a hand is a flush (that is, all of the cards in the hand have the same suit).\n",
        "\n",
        "We can deal 100,000 five-card hands and estimate the frequency of flushes. (The actual frequency is 0.00198079.)"
      ],
      "metadata": {
        "id": "iOVK3-FzGnSa"
      }
    },
    {
      "cell_type": "code",
      "source": [
        "# count the number of flushes in 100,000 hands\n",
        "num_flush = 0\n",
        "for i in range(100000):\n",
        "    h = Hand(5)\n",
        "    if h.flush(): num_flush += 1\n",
        "\n",
        "print(\"Frequency of flushes:\",num_flush / 100000)"
      ],
      "metadata": {
        "colab": {
          "base_uri": "https://localhost:8080/"
        },
        "id": "GmQUwDB81gyN",
        "outputId": "a8322966-60ba-4514-ae75-e34bb23e606f"
      },
      "execution_count": null,
      "outputs": [
        {
          "output_type": "stream",
          "name": "stdout",
          "text": [
            "Frequency of flushes: 0.00196\n"
          ]
        }
      ]
    }
  ]
}
