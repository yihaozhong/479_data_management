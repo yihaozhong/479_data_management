{
  "cells": [
    {
      "cell_type": "markdown",
      "metadata": {
        "id": "view-in-github",
        "colab_type": "text"
      },
      "source": [
        "<a href=\"https://colab.research.google.com/github/yihaozhong/479_data_management/blob/main/descriptive_statistics_central.ipynb\" target=\"_parent\"><img src=\"https://colab.research.google.com/assets/colab-badge.svg\" alt=\"Open In Colab\"/></a>"
      ]
    },
    {
      "cell_type": "markdown",
      "metadata": {
        "id": "xgTwz80L-TaW"
      },
      "source": [
        "# Descriptive Statistics\n",
        "\n",
        "## An Example of a Generator\n",
        "\n",
        "Generators generate values as needed (using the yield statement).\n",
        "\n",
        "Calling the following function does not require entire contents of file (or even entire column) to be read into memory; instead, calorie value is read as needed."
      ]
    },
    {
      "cell_type": "code",
      "source": [
        "from google.colab import drive\n",
        "drive.mount('/content/drive')"
      ],
      "metadata": {
        "colab": {
          "base_uri": "https://localhost:8080/"
        },
        "id": "6KIiGsW2NepP",
        "outputId": "9cc3749e-bba4-4480-90fc-f2810cb78039"
      },
      "execution_count": null,
      "outputs": [
        {
          "output_type": "stream",
          "name": "stdout",
          "text": [
            "Mounted at /content/drive\n"
          ]
        }
      ]
    },
    {
      "cell_type": "code",
      "execution_count": null,
      "metadata": {
        "id": "UIxFrlSK-Taa"
      },
      "outputs": [],
      "source": [
        "# create generator function to read in \n",
        "# calorie column\n",
        "def get_calories():\n",
        "    with open('/content/drive/MyDrive/starbucks_drinkMenu_expanded.csv', 'r') as f:\n",
        "        next(f)\n",
        "        for line in f:\n",
        "            line_parts = line.split(',')\n",
        "            yield int(line_parts[3])\n"
      ]
    },
    {
      "cell_type": "markdown",
      "metadata": {
        "id": "eWUMfkFn-Tab"
      },
      "source": [
        "## Descriptive Statistics\n",
        "\n",
        "### Max, Min, and Len\n",
        "\n",
        "It may be useful to describe a data set by:\n",
        "\n",
        "* the number of data points\n",
        "* the highest and lowest value\n",
        "\n",
        "There are built in functions in Python to do this, like `max`, `min`, and `len`"
      ]
    },
    {
      "cell_type": "code",
      "execution_count": null,
      "metadata": {
        "colab": {
          "base_uri": "https://localhost:8080/"
        },
        "id": "tsdhBdN4-Tac",
        "outputId": "17d86d1d-e03e-43ca-cf9e-6bb9ff42ec20"
      },
      "outputs": [
        {
          "output_type": "execute_result",
          "data": {
            "text/plain": [
              "510"
            ]
          },
          "metadata": {},
          "execution_count": 3
        }
      ],
      "source": [
        "# max and min can actually take a generator \n",
        "max(get_calories())"
      ]
    },
    {
      "cell_type": "code",
      "execution_count": null,
      "metadata": {
        "colab": {
          "base_uri": "https://localhost:8080/"
        },
        "id": "t980voYh-Tad",
        "outputId": "23c9d7eb-50e3-4058-a3b0-f9d8b9134adf"
      },
      "outputs": [
        {
          "output_type": "execute_result",
          "data": {
            "text/plain": [
              "0"
            ]
          },
          "metadata": {},
          "execution_count": 4
        }
      ],
      "source": [
        "min(get_calories())"
      ]
    },
    {
      "cell_type": "markdown",
      "metadata": {
        "id": "qzj-jAcr-Tad"
      },
      "source": [
        "A generator is not actually a _collection_ of elements, so you can't use `len` on it. Instead, you'll have to turn your generator into a collection..."
      ]
    },
    {
      "cell_type": "code",
      "execution_count": null,
      "metadata": {
        "id": "KsicpBov-Tae"
      },
      "outputs": [],
      "source": [
        "# if we want to work with all values from our generator, we can convert to a list \n",
        "# (that means all values are in memory, tho)\n",
        "calories = list(get_calories())"
      ]
    },
    {
      "cell_type": "code",
      "execution_count": null,
      "metadata": {
        "id": "wHrsv9j5-Tae",
        "outputId": "b5a2091d-7850-4ea7-830c-3aa607d098d1",
        "colab": {
          "base_uri": "https://localhost:8080/"
        }
      },
      "outputs": [
        {
          "output_type": "execute_result",
          "data": {
            "text/plain": [
              "242"
            ]
          },
          "metadata": {},
          "execution_count": 7
        }
      ],
      "source": [
        "# now it's possible to get the length of our data set\n",
        "len(calories)"
      ]
    },
    {
      "cell_type": "code",
      "execution_count": null,
      "metadata": {
        "colab": {
          "base_uri": "https://localhost:8080/"
        },
        "id": "Y-ACBDSb-Taf",
        "outputId": "a309cd34-b6c8-4393-adaf-644a4a994c90"
      },
      "outputs": [
        {
          "output_type": "execute_result",
          "data": {
            "text/plain": [
              "[3, 4, 5, 5, 70, 100, 70, 100, 150, 110]"
            ]
          },
          "metadata": {},
          "execution_count": 8
        }
      ],
      "source": [
        "# because it's a list we can view the first 10 values with slicing\n",
        "calories[:10]"
      ]
    },
    {
      "cell_type": "code",
      "execution_count": null,
      "metadata": {
        "colab": {
          "base_uri": "https://localhost:8080/"
        },
        "id": "rm1YO1iG-Tag",
        "outputId": "5b4ae5d4-8a8f-4a45-fdb9-122d860faea6"
      },
      "outputs": [
        {
          "output_type": "execute_result",
          "data": {
            "text/plain": [
              "[230, 260, 240, 310, 350, 320, 170, 200, 180, 240]"
            ]
          },
          "metadata": {},
          "execution_count": 9
        }
      ],
      "source": [
        "# ...and the last 10 values\n",
        "calories[-10:]"
      ]
    },
    {
      "cell_type": "markdown",
      "metadata": {
        "id": "4DR-atKt-Tag"
      },
      "source": [
        "### Central Tendency\n",
        "\n",
        "Two methods of determining where our data set is centered are:\n",
        "\n",
        "1. mean\n",
        "2. median"
      ]
    },
    {
      "cell_type": "code",
      "execution_count": null,
      "metadata": {
        "colab": {
          "base_uri": "https://localhost:8080/"
        },
        "id": "ZqcAXtfK-Tag",
        "outputId": "f00fa7c6-af6a-454f-f29b-74efed0fc779"
      },
      "outputs": [
        {
          "output_type": "execute_result",
          "data": {
            "text/plain": [
              "193.87190082644628"
            ]
          },
          "metadata": {},
          "execution_count": 10
        }
      ],
      "source": [
        "# calculating the mean\n",
        "sum(calories) / len(calories)"
      ]
    },
    {
      "cell_type": "code",
      "execution_count": null,
      "metadata": {
        "id": "6mGB40HY-Tah"
      },
      "outputs": [],
      "source": [
        "# if we need the median, we'll have to sort first\n",
        "sorted_calories = sorted(calories)"
      ]
    },
    {
      "cell_type": "code",
      "execution_count": null,
      "metadata": {
        "id": "wU-d0q9m-Tah"
      },
      "outputs": [],
      "source": [
        "# calculating the median\n",
        "# if there is an even number of elements, we'll have to take average of middle two\n",
        "\n",
        "def median(d):\n",
        "    middle_index = len(d) // 2\n",
        "    if len(d) % 2 == 0:\n",
        "        return (d[middle_index] + d[middle_index + 1]) / 2\n",
        "    else: \n",
        "        return d[middle_index]\n"
      ]
    },
    {
      "cell_type": "code",
      "execution_count": null,
      "metadata": {
        "colab": {
          "base_uri": "https://localhost:8080/"
        },
        "id": "DDf4TMI2-Tah",
        "outputId": "d616484f-7f8e-42a1-8f57-c78d7d36c68b"
      },
      "outputs": [
        {
          "output_type": "execute_result",
          "data": {
            "text/plain": [
              "190.0"
            ]
          },
          "metadata": {},
          "execution_count": 13
        }
      ],
      "source": [
        "median(sorted_calories)"
      ]
    },
    {
      "cell_type": "code",
      "execution_count": null,
      "metadata": {
        "id": "uo1d2pmX-Tah"
      },
      "outputs": [],
      "source": [
        "# note that outliers may not affect the median, whereas they can throw off the mean!\n",
        "\n",
        "copy_sorted_calories = sorted_calories[:]\n",
        "\n",
        "# change the last value...\n",
        "copy_sorted_calories[-1] = 200000"
      ]
    },
    {
      "cell_type": "code",
      "execution_count": null,
      "metadata": {
        "colab": {
          "base_uri": "https://localhost:8080/"
        },
        "id": "fbEer5xX-Tai",
        "outputId": "defcc925-a71c-4a17-f649-e5e708eca377"
      },
      "outputs": [
        {
          "output_type": "execute_result",
          "data": {
            "text/plain": [
              "1018.2107438016529"
            ]
          },
          "metadata": {},
          "execution_count": 15
        }
      ],
      "source": [
        "sum(copy_sorted_calories) / len(copy_sorted_calories)"
      ]
    },
    {
      "cell_type": "code",
      "execution_count": null,
      "metadata": {
        "colab": {
          "base_uri": "https://localhost:8080/"
        },
        "id": "pEHpi8pW-Tai",
        "outputId": "df7282ed-228f-4d23-cbd3-a696448ea18c"
      },
      "outputs": [
        {
          "output_type": "execute_result",
          "data": {
            "text/plain": [
              "190.0"
            ]
          },
          "metadata": {},
          "execution_count": 16
        }
      ],
      "source": [
        "median(copy_sorted_calories)"
      ]
    },
    {
      "cell_type": "code",
      "execution_count": null,
      "metadata": {
        "id": "VnuUkhOV-Tai"
      },
      "outputs": [],
      "source": [
        "# dding / removing several values that aren't outliers may make the median jump, \n",
        "# whereas the mean may only change slightly"
      ]
    },
    {
      "cell_type": "code",
      "execution_count": null,
      "metadata": {
        "id": "RSiJUh1B-Tai"
      },
      "outputs": [],
      "source": [
        "copy_sorted_calories = [150] * 20 + sorted_calories[:]"
      ]
    },
    {
      "cell_type": "code",
      "execution_count": null,
      "metadata": {
        "colab": {
          "base_uri": "https://localhost:8080/"
        },
        "id": "TKm1EpeL-Taj",
        "outputId": "39f3e2dc-6067-4b3a-a061-79353b8a7f1d"
      },
      "outputs": [
        {
          "output_type": "execute_result",
          "data": {
            "text/plain": [
              "190.5229007633588"
            ]
          },
          "metadata": {},
          "execution_count": 18
        }
      ],
      "source": [
        "sum(copy_sorted_calories) / len(copy_sorted_calories)"
      ]
    },
    {
      "cell_type": "code",
      "execution_count": null,
      "metadata": {
        "colab": {
          "base_uri": "https://localhost:8080/"
        },
        "id": "VOeL2J4x-Taj",
        "outputId": "019682bd-858f-4dca-893a-523fc6bcc876"
      },
      "outputs": [
        {
          "output_type": "execute_result",
          "data": {
            "text/plain": [
              "180.0"
            ]
          },
          "metadata": {},
          "execution_count": 19
        }
      ],
      "source": [
        "median(copy_sorted_calories)"
      ]
    },
    {
      "cell_type": "code",
      "execution_count": null,
      "metadata": {
        "colab": {
          "base_uri": "https://localhost:8080/"
        },
        "id": "-yAnSYHR-Taj",
        "outputId": "66e04562-a388-419f-aba9-3a5133cbe597"
      },
      "outputs": [
        {
          "output_type": "execute_result",
          "data": {
            "text/plain": [
              "11"
            ]
          },
          "metadata": {},
          "execution_count": 20
        }
      ],
      "source": [
        "# note that there are so many values that are 190 above that it's tough to change\n",
        "# that without adding several values like we did above\n",
        "sorted_calories.count(190)"
      ]
    },
    {
      "cell_type": "code",
      "execution_count": null,
      "metadata": {
        "colab": {
          "base_uri": "https://localhost:8080/"
        },
        "id": "MZT6Olft-Tak",
        "outputId": "bd967154-96fc-4b7d-8fd9-47cff4332a99"
      },
      "outputs": [
        {
          "output_type": "execute_result",
          "data": {
            "text/plain": [
              "Counter({0: 4,\n",
              "         3: 1,\n",
              "         4: 1,\n",
              "         5: 4,\n",
              "         10: 2,\n",
              "         15: 1,\n",
              "         25: 1,\n",
              "         50: 2,\n",
              "         60: 4,\n",
              "         70: 3,\n",
              "         80: 9,\n",
              "         90: 6,\n",
              "         100: 10,\n",
              "         110: 9,\n",
              "         120: 10,\n",
              "         130: 10,\n",
              "         140: 5,\n",
              "         150: 11,\n",
              "         160: 8,\n",
              "         170: 9,\n",
              "         180: 11,\n",
              "         190: 11,\n",
              "         200: 10,\n",
              "         210: 7,\n",
              "         220: 7,\n",
              "         230: 6,\n",
              "         240: 9,\n",
              "         250: 4,\n",
              "         260: 8,\n",
              "         270: 4,\n",
              "         280: 7,\n",
              "         290: 9,\n",
              "         300: 2,\n",
              "         310: 8,\n",
              "         320: 3,\n",
              "         330: 2,\n",
              "         340: 4,\n",
              "         350: 5,\n",
              "         360: 1,\n",
              "         370: 3,\n",
              "         380: 1,\n",
              "         390: 2,\n",
              "         400: 1,\n",
              "         420: 1,\n",
              "         430: 1,\n",
              "         450: 2,\n",
              "         460: 2,\n",
              "         510: 1})"
            ]
          },
          "metadata": {},
          "execution_count": 21
        }
      ],
      "source": [
        "from collections import Counter\n",
        "Counter(calories)"
      ]
    },
    {
      "cell_type": "code",
      "execution_count": null,
      "metadata": {
        "id": "6y_S0A4T-Tak"
      },
      "outputs": [],
      "source": [
        "import pandas as pd\n",
        "starbucks=pd.read_csv('/content/drive/MyDrive/starbucks_drinkMenu_expanded.csv')"
      ]
    },
    {
      "cell_type": "code",
      "execution_count": null,
      "metadata": {
        "colab": {
          "base_uri": "https://localhost:8080/"
        },
        "id": "w8ZVIjYt-Tal",
        "outputId": "2da96cd7-fb12-4f18-d7cb-1b1c00ce0f48"
      },
      "outputs": [
        {
          "output_type": "stream",
          "name": "stdout",
          "text": [
            "<class 'pandas.core.frame.DataFrame'>\n"
          ]
        }
      ],
      "source": [
        "descriptives=starbucks.describe()\n",
        "print(type(descriptives))\n",
        "descriptives.to_csv(\"starbucks_descriptives.csv\")"
      ]
    },
    {
      "cell_type": "code",
      "execution_count": null,
      "metadata": {
        "colab": {
          "base_uri": "https://localhost:8080/",
          "height": 399
        },
        "id": "z0Y8kpVe-Tal",
        "outputId": "1771f20b-b8b8-48ae-9b96-4cd10982e832"
      },
      "outputs": [
        {
          "output_type": "execute_result",
          "data": {
            "text/html": [
              "\n",
              "  <div id=\"df-8519461e-beff-42f6-a47b-a767795fad3a\">\n",
              "    <div class=\"colab-df-container\">\n",
              "      <div>\n",
              "<style scoped>\n",
              "    .dataframe tbody tr th:only-of-type {\n",
              "        vertical-align: middle;\n",
              "    }\n",
              "\n",
              "    .dataframe tbody tr th {\n",
              "        vertical-align: top;\n",
              "    }\n",
              "\n",
              "    .dataframe thead th {\n",
              "        text-align: right;\n",
              "    }\n",
              "</style>\n",
              "<table border=\"1\" class=\"dataframe\">\n",
              "  <thead>\n",
              "    <tr style=\"text-align: right;\">\n",
              "      <th></th>\n",
              "      <th>Calories</th>\n",
              "      <th>Trans Fat (g)</th>\n",
              "      <th>Saturated Fat (g)</th>\n",
              "      <th>Sodium (mg)</th>\n",
              "      <th>Total Carbohydrates (g)</th>\n",
              "      <th>Cholesterol (mg)</th>\n",
              "      <th>Dietary Fibre (g)</th>\n",
              "      <th>Sugars (g)</th>\n",
              "      <th>Protein (g)</th>\n",
              "    </tr>\n",
              "  </thead>\n",
              "  <tbody>\n",
              "    <tr>\n",
              "      <th>count</th>\n",
              "      <td>242.000000</td>\n",
              "      <td>242.000000</td>\n",
              "      <td>242.000000</td>\n",
              "      <td>242.000000</td>\n",
              "      <td>242.000000</td>\n",
              "      <td>242.000000</td>\n",
              "      <td>242.000000</td>\n",
              "      <td>242.000000</td>\n",
              "      <td>242.000000</td>\n",
              "    </tr>\n",
              "    <tr>\n",
              "      <th>mean</th>\n",
              "      <td>193.871901</td>\n",
              "      <td>1.307025</td>\n",
              "      <td>0.037603</td>\n",
              "      <td>6.363636</td>\n",
              "      <td>128.884298</td>\n",
              "      <td>35.991736</td>\n",
              "      <td>0.805785</td>\n",
              "      <td>32.962810</td>\n",
              "      <td>6.978512</td>\n",
              "    </tr>\n",
              "    <tr>\n",
              "      <th>std</th>\n",
              "      <td>102.863303</td>\n",
              "      <td>1.640259</td>\n",
              "      <td>0.071377</td>\n",
              "      <td>8.630257</td>\n",
              "      <td>82.303223</td>\n",
              "      <td>20.795186</td>\n",
              "      <td>1.445944</td>\n",
              "      <td>19.730199</td>\n",
              "      <td>4.871659</td>\n",
              "    </tr>\n",
              "    <tr>\n",
              "      <th>min</th>\n",
              "      <td>0.000000</td>\n",
              "      <td>0.000000</td>\n",
              "      <td>0.000000</td>\n",
              "      <td>0.000000</td>\n",
              "      <td>0.000000</td>\n",
              "      <td>0.000000</td>\n",
              "      <td>0.000000</td>\n",
              "      <td>0.000000</td>\n",
              "      <td>0.000000</td>\n",
              "    </tr>\n",
              "    <tr>\n",
              "      <th>25%</th>\n",
              "      <td>120.000000</td>\n",
              "      <td>0.100000</td>\n",
              "      <td>0.000000</td>\n",
              "      <td>0.000000</td>\n",
              "      <td>70.000000</td>\n",
              "      <td>21.000000</td>\n",
              "      <td>0.000000</td>\n",
              "      <td>18.000000</td>\n",
              "      <td>3.000000</td>\n",
              "    </tr>\n",
              "    <tr>\n",
              "      <th>50%</th>\n",
              "      <td>185.000000</td>\n",
              "      <td>0.500000</td>\n",
              "      <td>0.000000</td>\n",
              "      <td>5.000000</td>\n",
              "      <td>125.000000</td>\n",
              "      <td>34.000000</td>\n",
              "      <td>0.000000</td>\n",
              "      <td>32.000000</td>\n",
              "      <td>6.000000</td>\n",
              "    </tr>\n",
              "    <tr>\n",
              "      <th>75%</th>\n",
              "      <td>260.000000</td>\n",
              "      <td>2.000000</td>\n",
              "      <td>0.100000</td>\n",
              "      <td>10.000000</td>\n",
              "      <td>170.000000</td>\n",
              "      <td>50.750000</td>\n",
              "      <td>1.000000</td>\n",
              "      <td>43.750000</td>\n",
              "      <td>10.000000</td>\n",
              "    </tr>\n",
              "    <tr>\n",
              "      <th>max</th>\n",
              "      <td>510.000000</td>\n",
              "      <td>9.000000</td>\n",
              "      <td>0.300000</td>\n",
              "      <td>40.000000</td>\n",
              "      <td>340.000000</td>\n",
              "      <td>90.000000</td>\n",
              "      <td>8.000000</td>\n",
              "      <td>84.000000</td>\n",
              "      <td>20.000000</td>\n",
              "    </tr>\n",
              "  </tbody>\n",
              "</table>\n",
              "</div>\n",
              "      <button class=\"colab-df-convert\" onclick=\"convertToInteractive('df-8519461e-beff-42f6-a47b-a767795fad3a')\"\n",
              "              title=\"Convert this dataframe to an interactive table.\"\n",
              "              style=\"display:none;\">\n",
              "        \n",
              "  <svg xmlns=\"http://www.w3.org/2000/svg\" height=\"24px\"viewBox=\"0 0 24 24\"\n",
              "       width=\"24px\">\n",
              "    <path d=\"M0 0h24v24H0V0z\" fill=\"none\"/>\n",
              "    <path d=\"M18.56 5.44l.94 2.06.94-2.06 2.06-.94-2.06-.94-.94-2.06-.94 2.06-2.06.94zm-11 1L8.5 8.5l.94-2.06 2.06-.94-2.06-.94L8.5 2.5l-.94 2.06-2.06.94zm10 10l.94 2.06.94-2.06 2.06-.94-2.06-.94-.94-2.06-.94 2.06-2.06.94z\"/><path d=\"M17.41 7.96l-1.37-1.37c-.4-.4-.92-.59-1.43-.59-.52 0-1.04.2-1.43.59L10.3 9.45l-7.72 7.72c-.78.78-.78 2.05 0 2.83L4 21.41c.39.39.9.59 1.41.59.51 0 1.02-.2 1.41-.59l7.78-7.78 2.81-2.81c.8-.78.8-2.07 0-2.86zM5.41 20L4 18.59l7.72-7.72 1.47 1.35L5.41 20z\"/>\n",
              "  </svg>\n",
              "      </button>\n",
              "      \n",
              "  <style>\n",
              "    .colab-df-container {\n",
              "      display:flex;\n",
              "      flex-wrap:wrap;\n",
              "      gap: 12px;\n",
              "    }\n",
              "\n",
              "    .colab-df-convert {\n",
              "      background-color: #E8F0FE;\n",
              "      border: none;\n",
              "      border-radius: 50%;\n",
              "      cursor: pointer;\n",
              "      display: none;\n",
              "      fill: #1967D2;\n",
              "      height: 32px;\n",
              "      padding: 0 0 0 0;\n",
              "      width: 32px;\n",
              "    }\n",
              "\n",
              "    .colab-df-convert:hover {\n",
              "      background-color: #E2EBFA;\n",
              "      box-shadow: 0px 1px 2px rgba(60, 64, 67, 0.3), 0px 1px 3px 1px rgba(60, 64, 67, 0.15);\n",
              "      fill: #174EA6;\n",
              "    }\n",
              "\n",
              "    [theme=dark] .colab-df-convert {\n",
              "      background-color: #3B4455;\n",
              "      fill: #D2E3FC;\n",
              "    }\n",
              "\n",
              "    [theme=dark] .colab-df-convert:hover {\n",
              "      background-color: #434B5C;\n",
              "      box-shadow: 0px 1px 3px 1px rgba(0, 0, 0, 0.15);\n",
              "      filter: drop-shadow(0px 1px 2px rgba(0, 0, 0, 0.3));\n",
              "      fill: #FFFFFF;\n",
              "    }\n",
              "  </style>\n",
              "\n",
              "      <script>\n",
              "        const buttonEl =\n",
              "          document.querySelector('#df-8519461e-beff-42f6-a47b-a767795fad3a button.colab-df-convert');\n",
              "        buttonEl.style.display =\n",
              "          google.colab.kernel.accessAllowed ? 'block' : 'none';\n",
              "\n",
              "        async function convertToInteractive(key) {\n",
              "          const element = document.querySelector('#df-8519461e-beff-42f6-a47b-a767795fad3a');\n",
              "          const dataTable =\n",
              "            await google.colab.kernel.invokeFunction('convertToInteractive',\n",
              "                                                     [key], {});\n",
              "          if (!dataTable) return;\n",
              "\n",
              "          const docLinkHtml = 'Like what you see? Visit the ' +\n",
              "            '<a target=\"_blank\" href=https://colab.research.google.com/notebooks/data_table.ipynb>data table notebook</a>'\n",
              "            + ' to learn more about interactive tables.';\n",
              "          element.innerHTML = '';\n",
              "          dataTable['output_type'] = 'display_data';\n",
              "          await google.colab.output.renderOutput(dataTable, element);\n",
              "          const docLink = document.createElement('div');\n",
              "          docLink.innerHTML = docLinkHtml;\n",
              "          element.appendChild(docLink);\n",
              "        }\n",
              "      </script>\n",
              "    </div>\n",
              "  </div>\n",
              "  "
            ],
            "text/plain": [
              "         Calories  Trans Fat (g)   ...   Sugars (g)   Protein (g) \n",
              "count  242.000000      242.000000  ...   242.000000     242.000000\n",
              "mean   193.871901        1.307025  ...    32.962810       6.978512\n",
              "std    102.863303        1.640259  ...    19.730199       4.871659\n",
              "min      0.000000        0.000000  ...     0.000000       0.000000\n",
              "25%    120.000000        0.100000  ...    18.000000       3.000000\n",
              "50%    185.000000        0.500000  ...    32.000000       6.000000\n",
              "75%    260.000000        2.000000  ...    43.750000      10.000000\n",
              "max    510.000000        9.000000  ...    84.000000      20.000000\n",
              "\n",
              "[8 rows x 9 columns]"
            ]
          },
          "metadata": {},
          "execution_count": 34
        }
      ],
      "source": [
        "descriptives"
      ]
    },
    {
      "cell_type": "code",
      "execution_count": null,
      "metadata": {
        "colab": {
          "base_uri": "https://localhost:8080/"
        },
        "id": "MV2yRzb--Tal",
        "outputId": "abaae5a1-8384-4582-db91-64af201c68ac"
      },
      "outputs": [
        {
          "output_type": "execute_result",
          "data": {
            "text/plain": [
              "count    242.000000\n",
              "mean     193.871901\n",
              "std      102.863303\n",
              "min        0.000000\n",
              "25%      120.000000\n",
              "50%      185.000000\n",
              "75%      260.000000\n",
              "max      510.000000\n",
              "Name: Calories, dtype: float64"
            ]
          },
          "metadata": {},
          "execution_count": 35
        }
      ],
      "source": [
        "descriptives['Calories']"
      ]
    },
    {
      "cell_type": "code",
      "execution_count": null,
      "metadata": {
        "colab": {
          "base_uri": "https://localhost:8080/"
        },
        "id": "DD7S5Te8-Tal",
        "outputId": "b1fc3b6b-cc08-4a0f-9044-e2b8ae9b6e92"
      },
      "outputs": [
        {
          "output_type": "execute_result",
          "data": {
            "text/plain": [
              "0        3\n",
              "1        4\n",
              "2        5\n",
              "3        5\n",
              "4       70\n",
              "      ... \n",
              "237    320\n",
              "238    170\n",
              "239    200\n",
              "240    180\n",
              "241    240\n",
              "Name: Calories, Length: 242, dtype: int64"
            ]
          },
          "metadata": {},
          "execution_count": 36
        }
      ],
      "source": [
        "starbucks['Calories']"
      ]
    },
    {
      "cell_type": "code",
      "execution_count": null,
      "metadata": {
        "id": "6ULxfSdu-Tal"
      },
      "outputs": [],
      "source": [
        ""
      ]
    }
  ],
  "metadata": {
    "kernelspec": {
      "display_name": "Python 3",
      "language": "python",
      "name": "python3"
    },
    "language_info": {
      "codemirror_mode": {
        "name": "ipython",
        "version": 3
      },
      "file_extension": ".py",
      "mimetype": "text/x-python",
      "name": "python",
      "nbconvert_exporter": "python",
      "pygments_lexer": "ipython3",
      "version": "3.8.5"
    },
    "colab": {
      "name": "descriptive-statistics-central.ipynb",
      "provenance": [],
      "include_colab_link": true
    }
  },
  "nbformat": 4,
  "nbformat_minor": 0
}