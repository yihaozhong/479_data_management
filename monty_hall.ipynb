{
  "cells": [
    {
      "cell_type": "markdown",
      "metadata": {
        "id": "view-in-github",
        "colab_type": "text"
      },
      "source": [
        "<a href=\"https://colab.research.google.com/github/yihaozhong/479_data_management/blob/main/monty_hall.ipynb\" target=\"_parent\"><img src=\"https://colab.research.google.com/assets/colab-badge.svg\" alt=\"Open In Colab\"/></a>"
      ]
    },
    {
      "cell_type": "markdown",
      "source": [
        "## The Monty Hall Problem\n",
        "\n",
        "The Monty Hall problem was made famous by Marilyn Vos Savant, \"the smartest person alive,\" which was originally featured in Vos Savant's column in Parade Magazine on Sept 9, 1990.\n",
        "\n",
        "We're going to go over the problem as an example of programming in Python to solve a problem.\n",
        "\n",
        "<br>\n",
        "\n",
        "Here’s the original question posed in the column.\n",
        "\n",
        "Suppose you’re on a game show, and you’re given the choice of three doors. Behind one door is a car, behind the others, goats. You pick a door, say #1, and the host, who knows what’s behind the doors, opens another door, say #3, which has a goat. He says to you, “Do you want to pick door #2?” Is it to your advantage to switch your choice of doors?\n",
        "\n",
        "\n",
        "Craig F. Whitaker, Columbia, Maryland\n",
        "\n"
      ],
      "metadata": {
        "id": "9fMD71_mh6L3"
      }
    },
    {
      "cell_type": "markdown",
      "source": [
        "Here's Vos Savant's answer:\n",
        "<br>\n",
        "<br>\n",
        "<br>\n",
        "<br>\n",
        "<br>\n",
        "<br>\n",
        "<br>\n",
        "<br>\n",
        "<br>\n",
        "<br>\n",
        "<br>\n",
        "<br>\n",
        "\n",
        "\n",
        "Yes; you should switch. The first door has a 1/3 chance of winning, but the second door has a 2/3 chance. Here’s a good way to visualize what happened. Suppose there are a million doors, and you pick door #1. Then the host, who knows what’s behind the doors and will always avoid the one with the prize, opens them all except door #777,777. You’d switch to that door pretty fast, wouldn’t you?"
      ],
      "metadata": {
        "id": "e2iqe2wgiz7K"
      }
    },
    {
      "cell_type": "code",
      "execution_count": null,
      "metadata": {
        "colab": {
          "base_uri": "https://localhost:8080/"
        },
        "id": "9vb08zo4Toeo",
        "outputId": "7cfe0fa4-5d25-403f-bdd0-5445c4328bd0"
      },
      "outputs": [
        {
          "output_type": "stream",
          "name": "stdout",
          "text": [
            "Monty Hall Problem with 1000000 trials\n",
            "Proportion of wins without switching: 0.3337\n",
            "Proportion of wins with switching: 0.6666\n"
          ]
        }
      ],
      "source": [
        "import random\n",
        "\n",
        "# Monty Hall Problem with Three Doors\n",
        "# code adapted from\n",
        "# https://scipython.com/book/chapter-4-the-core-python-language-ii/examples/the-monty-hall-problem/\n",
        "# prior \n",
        "def run_trial(switch_doors):\n",
        "    \"\"\"\n",
        "    Run a single trial of the Monty Hall problem, with or without switching\n",
        "    after the gameshow host reveals a goat behind one of the unchosen doors.\n",
        "    (switch_doors is True or False). The car is behind door number 1 and the\n",
        "    gameshow host knows that. Goats are beyind doors 2 and 3.\n",
        "\n",
        "    \"\"\"\n",
        "\n",
        "    # Pick a random door out of the n doors available\n",
        "    chosen_door = random.randint(1, 3)\n",
        "    # assume car is at door 1 and goats at doors 2 and 3\n",
        "    # assume host shows a goat at door 3 if doors 1 or 2 are chosen\n",
        "    # and he shows a goot at door 2 if door 3 is chosen\n",
        "    # all other assumptions are equivalent\n",
        "    if switch_doors:\n",
        "        # if they chose door one then a goat is shown at door three and they\n",
        "        # switch to door two (bad switch)\n",
        "        if chosen_door == 1:\n",
        "            chosen_door = 2\n",
        "        # if they chose door two then a goat is shown at door three and they\n",
        "        # switch to door 1 (good switch)\n",
        "        elif chosen_door == 2:\n",
        "            chosen_door = 1\n",
        "        # if they chose door three then a goat is shown at door two and they\n",
        "        # switch to door one (good switch)\n",
        "        elif chosen_door == 3:\n",
        "            chosen_door = 1\n",
        "\n",
        "    # You win if you picked door number 1\n",
        "    return chosen_door == 1\n",
        "\n",
        "def run_trials(ntrials, switch_doors):\n",
        "    \"\"\"\n",
        "    Run ntrials iterations of the Monty Hall problem with ndoors doors, with\n",
        "    and without switching (switch_doors = True or False). Returns the number\n",
        "    of trials which resulted in winning the car by picking door number 1.\n",
        "\n",
        "    \"\"\"\n",
        "\n",
        "    nwins = 0\n",
        "    for i in range(ntrials):\n",
        "        if run_trial(switch_doors):\n",
        "            nwins += 1\n",
        "    return nwins\n",
        "\n",
        "ntrials = 1000000\n",
        "nwins_without_switch = run_trials(ntrials, False)\n",
        "nwins_with_switch = run_trials(ntrials, True)\n",
        "\n",
        "print('Monty Hall Problem with {:6.0f} trials'.format(ntrials))\n",
        "print('Proportion of wins without switching: {:.4f}'\n",
        "            .format(nwins_without_switch/ntrials))\n",
        "print('Proportion of wins with switching: {:.4f}'\n",
        "            .format(nwins_with_switch/ntrials))"
      ]
    },
    {
      "cell_type": "code",
      "execution_count": null,
      "metadata": {
        "id": "Oy9sWm-8Toes"
      },
      "outputs": [],
      "source": [
        ""
      ]
    }
  ],
  "metadata": {
    "kernelspec": {
      "display_name": "Python 3",
      "language": "python",
      "name": "python3"
    },
    "language_info": {
      "codemirror_mode": {
        "name": "ipython",
        "version": 3
      },
      "file_extension": ".py",
      "mimetype": "text/x-python",
      "name": "python",
      "nbconvert_exporter": "python",
      "pygments_lexer": "ipython3",
      "version": "3.8.8"
    },
    "colab": {
      "name": "monty_hall.ipynb",
      "provenance": [],
      "include_colab_link": true
    }
  },
  "nbformat": 4,
  "nbformat_minor": 0
}